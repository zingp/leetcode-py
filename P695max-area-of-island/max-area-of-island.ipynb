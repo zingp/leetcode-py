{
 "cells": [
  {
   "cell_type": "markdown",
   "metadata": {},
   "source": [
    "## 695. 岛屿的最大面积\n",
    "- https://leetcode-cn.com/problems/max-area-of-island/\n",
    "- 给定一个包含了一些 0 和 1 的非空二维数组 grid 。一个 岛屿 是由一些相邻的 1 (代表土地) 构成的组合，这里的「相邻」要求两个 1 必须在水平或者竖直方向上相邻。你可以假设 grid 的四个边缘都被 0（代表水）包围着。找到给定的二维数组中最大的岛屿面积。(如果没有岛屿，则返回面积为 0 。)\n",
    "\n",
    "- 示例 1:\n",
    "```\n",
    "[[0,0,1,0,0,0,0,1,0,0,0,0,0],\n",
    " [0,0,0,0,0,0,0,1,1,1,0,0,0],\n",
    " [0,1,1,0,1,0,0,0,0,0,0,0,0],\n",
    " [0,1,0,0,1,1,0,0,1,0,1,0,0],\n",
    " [0,1,0,0,1,1,0,0,1,1,1,0,0],\n",
    " [0,0,0,0,0,0,0,0,0,0,1,0,0],\n",
    " [0,0,0,0,0,0,0,1,1,1,0,0,0],\n",
    " [0,0,0,0,0,0,0,1,1,0,0,0,0]]\n",
    "```\n",
    "- 对于上面这个给定矩阵应返回 6。注意答案不应该是 11 ，因为岛屿只能包含水平或垂直的四个方向的 1 。\n",
    "\n",
    "- 示例 2:\n",
    "- [[0,0,0,0,0,0,0,0]]\n",
    "- 对于上面这个给定的矩阵, 返回 0。\n",
    "\n",
    "## 解题思路\n",
    "- https://www.yuque.com/zingp/xe14m0/hkudm6"
   ]
  },
  {
   "cell_type": "code",
   "execution_count": 1,
   "metadata": {},
   "outputs": [],
   "source": [
    "from typing import List"
   ]
  },
  {
   "cell_type": "code",
   "execution_count": 2,
   "metadata": {},
   "outputs": [],
   "source": [
    "class Solutuon:\n",
    "    def maxAreaOfIsland(self, grid: List[List[int]]) -> int:\n",
    "        if not grid:\n",
    "            return 0\n",
    "        r = len(grid)\n",
    "        c = len(grid[0])\n",
    "        res = 0\n",
    "        for i in range(r):\n",
    "            for j in range(c):\n",
    "                if grid[i][j] == 1:\n",
    "                    res = max(res, self.dfs(grid, i, j))\n",
    "        return res\n",
    "    \n",
    "    def dfs(self, grid, r, c):\n",
    "        if not self.in_area(grid, r, c):\n",
    "            return 0\n",
    "        if grid[r][c] != 1:\n",
    "            return 0\n",
    "        \n",
    "        grid[r][c] = 2\n",
    "        return 1 + self.dfs(grid, r-1, c) \\\n",
    "                 + self.dfs(grid, r+1, c) \\\n",
    "                 + self.dfs(grid, r, c-1) \\\n",
    "                 + self.dfs(grid, r, c+1)\n",
    "    \n",
    "    \n",
    "    def in_area(self, gird, r, c):\n",
    "        return r >= 0 and r < len(grid) \\\n",
    "               and c >= 0 and c < len(grid[0])"
   ]
  },
  {
   "cell_type": "code",
   "execution_count": 3,
   "metadata": {},
   "outputs": [],
   "source": [
    "grid = [[0,0,1,0,0,0,0,1,0,0,0,0,0],\n",
    "[0,0,0,0,0,0,0,1,1,1,0,0,0],\n",
    "[0,1,1,0,1,0,0,0,0,0,0,0,0],\n",
    "[0,1,0,0,1,1,0,0,1,0,1,0,0],\n",
    "[0,1,0,0,1,1,0,0,1,1,1,0,0],\n",
    "[0,0,0,0,0,0,0,0,0,0,1,0,0],\n",
    "[0,0,0,0,0,0,0,1,1,1,0,0,0],\n",
    "[0,0,0,0,0,0,0,1,1,0,0,0,0]]"
   ]
  },
  {
   "cell_type": "code",
   "execution_count": 4,
   "metadata": {},
   "outputs": [
    {
     "data": {
      "text/plain": [
       "6"
      ]
     },
     "execution_count": 4,
     "metadata": {},
     "output_type": "execute_result"
    }
   ],
   "source": [
    "Solutuon().maxAreaOfIsland(grid)"
   ]
  },
  {
   "cell_type": "code",
   "execution_count": null,
   "metadata": {},
   "outputs": [],
   "source": []
  }
 ],
 "metadata": {
  "kernelspec": {
   "display_name": "Python 3",
   "language": "python",
   "name": "python3"
  },
  "language_info": {
   "codemirror_mode": {
    "name": "ipython",
    "version": 3
   },
   "file_extension": ".py",
   "mimetype": "text/x-python",
   "name": "python",
   "nbconvert_exporter": "python",
   "pygments_lexer": "ipython3",
   "version": "3.6.10"
  }
 },
 "nbformat": 4,
 "nbformat_minor": 4
}
