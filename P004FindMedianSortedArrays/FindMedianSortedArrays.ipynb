{
 "cells": [
  {
   "cell_type": "markdown",
   "metadata": {},
   "source": [
    "## 寻找两个有序数组的中位数\n",
    "```\n",
    "给定两个大小为 m 和 n 的有序数组 nums1 和 nums2。\n",
    "\n",
    "请你找出这两个有序数组的中位数，并且要求算法的时间复杂度为 O(log(m + n))。\n",
    "\n",
    "你可以假设 nums1 和 nums2 不会同时为空。\n",
    "\n",
    "示例 1:\n",
    "\n",
    "nums1 = [1, 3]\n",
    "nums2 = [2]\n",
    "\n",
    "则中位数是 2.0\n",
    "示例 2:\n",
    "\n",
    "nums1 = [1, 2]\n",
    "nums2 = [3, 4]\n",
    "\n",
    "则中位数是 (2 + 3)/2 = 2.5\n",
    "```"
   ]
  },
  {
   "cell_type": "markdown",
   "metadata": {},
   "source": [
    "## 思路：\n",
    "------\n",
    "\n",
    "- 一个排好序的列表，长度为m+n。\n",
    "- 如果m+n是奇数，则中位数是第(m+n+1)/2个数；如果m+n是偶数，则中位数是(m+n)/2 和 (m+n)/2 + 1这两个数的平均数。\n",
    "\n",
    "对于两个排好序的列表，我们只需要把中位数找出来即可。设leng=m+n，如果leng是奇数，我们每次找最小的数，按顺序需要找(leng+1)//2次,找到的这个数就是中位数。如果leng是偶数，我们需要找到leng//2， eng//2 +1 这两个数。也就是需要要找leng//2 +1次。\n",
    "    "
   ]
  },
  {
   "cell_type": "code",
   "execution_count": 1,
   "metadata": {},
   "outputs": [],
   "source": [
    "# O(m+n)\n",
    "class Solution:\n",
    "    def findMedianSortedArrays(self, nums1, nums2) -> float:\n",
    "        m = len(nums1)\n",
    "        n = len(nums2)\n",
    "        leng = m + n\n",
    "        left = right = 0  # left保存上次循环找到的数，right保存本次循环找到的数\n",
    "        aStart = bStart = 0\n",
    "        for i in range(leng//2 + 1):\n",
    "            left = right\n",
    "            if (aStart < m) and (bStart >= n or nums1[aStart] < nums2[bStart]):\n",
    "                right = nums1[aStart]\n",
    "                aStart += 1\n",
    "            else:\n",
    "                right = nums2[bStart]\n",
    "                bStart += 1\n",
    "        if leng & 1 == 0:\n",
    "            return (left + right)/2\n",
    "        else:\n",
    "            return right"
   ]
  },
  {
   "cell_type": "markdown",
   "metadata": {},
   "source": [
    "## 解法二\n",
    "链接：https://leetcode-cn.com/problems/median-of-two-sorted-arrays/solution/xiang-xi-tong-su-de-si-lu-fen-xi-duo-jie-fa-by-w-2/"
   ]
  },
  {
   "cell_type": "code",
   "execution_count": 2,
   "metadata": {},
   "outputs": [],
   "source": [
    "# O(log(m+n))\n",
    "def findMedianSortedArrays(nums1, nums2):\n",
    "    m = len(nums1)\n",
    "    n = len(nums2)\n",
    "    left = (m + n + 1)//2\n",
    "    right = (m + n + 2)//2\n",
    "    return (getKth(nums1, 0, m - 1, nums2, 0, n - 1, left) + getKth(nums1, 0, m - 1, nums2, 0, n - 1, right)) * 0.5\n",
    "\n",
    "def getKth(nums1, start1, end1, nums2, start2, end2, k):\n",
    "    len1 = end1 - start1 + 1\n",
    "    len2 = end2 - start2 + 1\n",
    "    if len1 > len2:\n",
    "        return getKth(nums2, start2, end2, nums1, start1, end1, k)\n",
    "    if len1 == 0:\n",
    "        return nums2[start2 + k - 1]\n",
    "    if k == 1:\n",
    "        return min(nums1[start1], nums2[start2])\n",
    "    \n",
    "    i = start1 + min(len1, k//2) - 1\n",
    "    j = start2 + min(len2, k//2) - 1\n",
    "    if nums1[i] > nums2[j]:\n",
    "        return getKth(nums1, start1, end1, nums2, j+1, end2, k-(j-start2+1))\n",
    "    else:\n",
    "        return getKth(nums1, i+1, end1, nums2, start2, end2, k-(i-start1+1))"
   ]
  },
  {
   "cell_type": "code",
   "execution_count": 3,
   "metadata": {},
   "outputs": [
    {
     "data": {
      "text/plain": [
       "1.0"
      ]
     },
     "execution_count": 3,
     "metadata": {},
     "output_type": "execute_result"
    }
   ],
   "source": [
    "findMedianSortedArrays([], [1])"
   ]
  },
  {
   "cell_type": "code",
   "execution_count": null,
   "metadata": {},
   "outputs": [],
   "source": []
  }
 ],
 "metadata": {
  "kernelspec": {
   "display_name": "Python 3",
   "language": "python",
   "name": "python3"
  },
  "language_info": {
   "codemirror_mode": {
    "name": "ipython",
    "version": 3
   },
   "file_extension": ".py",
   "mimetype": "text/x-python",
   "name": "python",
   "nbconvert_exporter": "python",
   "pygments_lexer": "ipython3",
   "version": "3.6.8"
  }
 },
 "nbformat": 4,
 "nbformat_minor": 2
}
