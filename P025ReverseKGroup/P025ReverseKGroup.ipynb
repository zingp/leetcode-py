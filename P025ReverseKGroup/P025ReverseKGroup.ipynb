{
 "cells": [
  {
   "cell_type": "markdown",
   "metadata": {},
   "source": [
    "## P035 K 个一组翻转链表\n",
    "- 给你一个链表，每 k 个节点一组进行翻转，请你返回翻转后的链表。\n",
    "- k 是一个正整数，它的值小于或等于链表的长度。\n",
    "- 如果节点总数不是 k 的整数倍，那么请将最后剩余的节点保持原有顺序。\n",
    "- 示例 :\n",
    "\n",
    "    - 给定这个链表：1->2->3->4->5\n",
    "    - 当 k = 2 时，应当返回: 2->1->4->3->5\n",
    "    - 当 k = 3 时，应当返回: 3->2->1->4->5\n",
    "\n",
    "- 说明 :\n",
    "    - 你的算法只能使用常数的额外空间。\n",
    "    - 你不能只是单纯的改变节点内部的值，而是需要实际的进行节点交换。\n",
    "\n",
    "- 来源：力扣（LeetCode）\n",
    "- 链接：https://leetcode-cn.com/problems/reverse-nodes-in-k-group\n",
    "\n",
    "## 思路\n",
    "1 把前k个结点看成是一个链表，采用链表反转的方法进行反转，把反转后的子链表接到头结点后面；\n",
    "2 然后把接下来的k个结点看成另外一个单链表进行反转，并把反转后的子链表接到已经完成反转的子链表后面。具体实现如下："
   ]
  },
  {
   "cell_type": "code",
   "execution_count": 1,
   "metadata": {},
   "outputs": [],
   "source": [
    "class ListNode(object):\n",
    "    def __init__(self, x):\n",
    "        self.val = x\n",
    "        self.next = None"
   ]
  },
  {
   "cell_type": "code",
   "execution_count": 4,
   "metadata": {},
   "outputs": [],
   "source": [
    "class Solution:\n",
    "    def reverseKGroup(self, head, k):\n",
    "        if head == None or head.next == None:\n",
    "            return head\n",
    "        i = 1\n",
    "        h = ListNode(None)\n",
    "        pre = h\n",
    "        pre.next = head\n",
    "        begin = head\n",
    "        end = None\n",
    "        pNext = None\n",
    "        while begin != None:\n",
    "            end = begin\n",
    "            while i < k:\n",
    "                if end.next != None:\n",
    "                    end = end.next\n",
    "                    i += 1\n",
    "                else:\n",
    "                    return h.next\n",
    "                \n",
    "            pNext = end.next\n",
    "            end.next = None\n",
    "            pre.next = self.reverse(begin)\n",
    "            begin.next = pNext\n",
    "            pre = begin\n",
    "            begin = pNext\n",
    "            i = 1\n",
    "        return h.next\n",
    "    \n",
    "    def reverse(self, head):\n",
    "        if head == None:\n",
    "            return head\n",
    "        pre = head\n",
    "        while head != None:\n",
    "            nex = head.next\n",
    "            head.next = pre\n",
    "            pre = head\n",
    "            head = nex\n",
    "        return pre"
   ]
  },
  {
   "cell_type": "code",
   "execution_count": 5,
   "metadata": {},
   "outputs": [
    {
     "name": "stdout",
     "output_type": "stream",
     "text": [
      "顺序输出：\n",
      "1\n",
      "2\n",
      "3\n",
      "4\n",
      "5\n",
      "6\n",
      "7\n",
      "8\n",
      "k个节点反转：\n",
      "3\n",
      "2\n",
      "1\n",
      "6\n",
      "5\n",
      "4\n",
      "7\n",
      "8\n"
     ]
    }
   ],
   "source": [
    "i = 1\n",
    "cur = head = ListNode(None)\n",
    "while i < 9:\n",
    "    cur.val = i\n",
    "    if i == 8:\n",
    "        cur.next == None\n",
    "    else:\n",
    "        cur.next = ListNode(None)\n",
    "        cur = cur.next\n",
    "    i +=1\n",
    "print(\"顺序输出：\")\n",
    "cur = head\n",
    "while cur != None:\n",
    "    print(cur.val)\n",
    "    cur = cur.next\n",
    "\n",
    "print(\"k个节点反转：\")\n",
    "\n",
    "cur = Solution().reverseKGroup(head, 3)\n",
    "# cur = head.next\n",
    "while cur != None:\n",
    "    print(cur.val)\n",
    "    cur = cur.next"
   ]
  },
  {
   "cell_type": "code",
   "execution_count": 29,
   "metadata": {},
   "outputs": [],
   "source": [
    "# 存在问题呢"
   ]
  },
  {
   "cell_type": "code",
   "execution_count": null,
   "metadata": {},
   "outputs": [],
   "source": []
  }
 ],
 "metadata": {
  "kernelspec": {
   "display_name": "Python 3",
   "language": "python",
   "name": "python3"
  },
  "language_info": {
   "codemirror_mode": {
    "name": "ipython",
    "version": 3
   },
   "file_extension": ".py",
   "mimetype": "text/x-python",
   "name": "python",
   "nbconvert_exporter": "python",
   "pygments_lexer": "ipython3",
   "version": "3.6.8"
  }
 },
 "nbformat": 4,
 "nbformat_minor": 2
}
