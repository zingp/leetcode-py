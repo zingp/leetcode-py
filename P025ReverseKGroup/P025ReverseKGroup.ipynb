{
 "cells": [
  {
   "cell_type": "markdown",
   "metadata": {},
   "source": [
    "## P025 K 个一组翻转链表\n",
    "- 给你一个链表，每 k 个节点一组进行翻转，请你返回翻转后的链表。\n",
    "- k 是一个正整数，它的值小于或等于链表的长度。\n",
    "- 如果节点总数不是 k 的整数倍，那么请将最后剩余的节点保持原有顺序。\n",
    "- 示例 :\n",
    "\n",
    "    - 给定这个链表：1->2->3->4->5\n",
    "    - 当 k = 2 时，应当返回: 2->1->4->3->5\n",
    "    - 当 k = 3 时，应当返回: 3->2->1->4->5\n",
    "\n",
    "- 说明 :\n",
    "    - 你的算法只能使用常数的额外空间。\n",
    "    - 你不能只是单纯的改变节点内部的值，而是需要实际的进行节点交换。\n",
    "\n",
    "- 来源：力扣（LeetCode）\n",
    "- 链接：https://leetcode-cn.com/problems/reverse-nodes-in-k-group\n",
    "\n",
    "## 思路\n",
    "1 把前k个结点看成是一个链表，采用链表反转的方法进行反转，把反转后的子链表接到头结点后面；\n",
    "2 然后把接下来的k个结点看成另外一个单链表进行反转，并把反转后的子链表接到已经完成反转的子链表后面。具体实现如下："
   ]
  },
  {
   "cell_type": "code",
   "execution_count": 1,
   "metadata": {},
   "outputs": [],
   "source": [
    "class ListNode(object):\n",
    "    def __init__(self, x):\n",
    "        self.val = x\n",
    "        self.next = None\n",
    "\n",
    "# 构建单链表\n",
    "def build_linklist(lis):\n",
    "    pre = ListNode(None)\n",
    "    if len(lis) > 0:\n",
    "        head = ListNode(lis[0])\n",
    "    pre.next = head\n",
    "    for i in range(1, len(lis)):\n",
    "        head.next = ListNode(lis[i])\n",
    "        head = head.next\n",
    "    return pre.next\n",
    "\n",
    "\n",
    "# 单链表遍历\n",
    "def range_linklist(head):\n",
    "    stack = []\n",
    "    while head:\n",
    "        stack.append(head.val)\n",
    "        head = head.next\n",
    "    print(stack) "
   ]
  },
  {
   "cell_type": "code",
   "execution_count": 2,
   "metadata": {},
   "outputs": [],
   "source": [
    "class Solution:\n",
    "    def reverseKGroup(self, head, k):\n",
    "        if head == None or head.next == None:\n",
    "            return head\n",
    "        i = 1\n",
    "        h = ListNode(None)\n",
    "        pre = h\n",
    "        pre.next = head\n",
    "        begin = head\n",
    "        end = None\n",
    "        pNext = None\n",
    "        while begin != None:\n",
    "            end = begin\n",
    "            while i < k:\n",
    "                if end.next != None:\n",
    "                    end = end.next\n",
    "                    i += 1\n",
    "                else:\n",
    "                    return h.next\n",
    "                \n",
    "            pNext = end.next\n",
    "            end.next = None\n",
    "            pre.next = self.reverse(begin)\n",
    "            begin.next = pNext\n",
    "            pre = begin\n",
    "            begin = pNext\n",
    "            i = 1\n",
    "        return h.next\n",
    "    \n",
    "    def reverse(self, head):\n",
    "        if head == None:\n",
    "            return head\n",
    "        pre = head\n",
    "        while head != None:\n",
    "            nex = head.next\n",
    "            head.next = pre\n",
    "            pre = head\n",
    "            head = nex\n",
    "        return pre"
   ]
  },
  {
   "cell_type": "code",
   "execution_count": 4,
   "metadata": {},
   "outputs": [
    {
     "name": "stdout",
     "output_type": "stream",
     "text": [
      "[0, 1, 2, 3, 4, 5, 6, 7, 8, 9]\n"
     ]
    }
   ],
   "source": [
    "head = build_linklist(list(range(10)))\n",
    "range_linklist(head)"
   ]
  },
  {
   "cell_type": "code",
   "execution_count": 5,
   "metadata": {},
   "outputs": [],
   "source": [
    "r = Solution().reverseKGroup(head, 3)"
   ]
  },
  {
   "cell_type": "code",
   "execution_count": 6,
   "metadata": {},
   "outputs": [
    {
     "name": "stdout",
     "output_type": "stream",
     "text": [
      "[2, 1, 0, 5, 4, 3, 8, 7, 6, 9]\n"
     ]
    }
   ],
   "source": [
    "range_linklist(r)"
   ]
  },
  {
   "cell_type": "code",
   "execution_count": null,
   "metadata": {},
   "outputs": [],
   "source": []
  }
 ],
 "metadata": {
  "kernelspec": {
   "display_name": "Python 3",
   "language": "python",
   "name": "python3"
  },
  "language_info": {
   "codemirror_mode": {
    "name": "ipython",
    "version": 3
   },
   "file_extension": ".py",
   "mimetype": "text/x-python",
   "name": "python",
   "nbconvert_exporter": "python",
   "pygments_lexer": "ipython3",
   "version": "3.6.9"
  }
 },
 "nbformat": 4,
 "nbformat_minor": 2
}
