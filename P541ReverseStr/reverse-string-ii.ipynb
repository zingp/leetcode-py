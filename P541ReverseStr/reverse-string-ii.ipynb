{
 "cells": [
  {
   "cell_type": "markdown",
   "metadata": {},
   "source": [
    "## 541 反转字符串2\n",
    "```\n",
    "给定一个字符串和一个整数 k，你需要对从字符串开头算起的每个 2k 个字符的前k个字符进行反转。如果剩余少于 k 个字符，则将剩余的所有全部反转。如果有小于 2k 但大于或等于 k 个字符，则反转前 k 个字符，并将剩余的字符保持原样。\n",
    "\n",
    "示例:\n",
    "\n",
    "输入: s = \"abcdefg\", k = 2\n",
    "输出: \"bacdfeg\"\n",
    "\n",
    "来源：力扣（LeetCode）\n",
    "链接：https://leetcode-cn.com/problems/reverse-string-ii\n",
    "```"
   ]
  },
  {
   "cell_type": "code",
   "execution_count": 1,
   "metadata": {},
   "outputs": [],
   "source": [
    "class Solution:\n",
    "    def reverseStr(self, s: str, k: int) -> str:\n",
    "        n = len(s)\n",
    "        ret = \"\"\n",
    "        for i in range(0, n, 2*k):\n",
    "            if i+2*k <= n:\n",
    "                ret += s[i:i+k][::-1]\n",
    "                ret += s[i+k:i+2*k]\n",
    "            else:\n",
    "                if i+k > n:\n",
    "                    ret += s[i:][::-1]\n",
    "                else:\n",
    "                    ret += s[i:i+k][::-1]\n",
    "                    ret += s[i+k:]\n",
    "        return ret"
   ]
  },
  {
   "cell_type": "code",
   "execution_count": 4,
   "metadata": {},
   "outputs": [],
   "source": [
    "s = \"abcdefg\"\n",
    "k = 2\n",
    "k = 8"
   ]
  },
  {
   "cell_type": "code",
   "execution_count": 5,
   "metadata": {},
   "outputs": [
    {
     "data": {
      "text/plain": [
       "'gfedcba'"
      ]
     },
     "execution_count": 5,
     "metadata": {},
     "output_type": "execute_result"
    }
   ],
   "source": [
    "Solution().reverseStr(s,k)"
   ]
  },
  {
   "cell_type": "code",
   "execution_count": null,
   "metadata": {},
   "outputs": [],
   "source": []
  }
 ],
 "metadata": {
  "kernelspec": {
   "display_name": "Python 3",
   "language": "python",
   "name": "python3"
  },
  "language_info": {
   "codemirror_mode": {
    "name": "ipython",
    "version": 3
   },
   "file_extension": ".py",
   "mimetype": "text/x-python",
   "name": "python",
   "nbconvert_exporter": "python",
   "pygments_lexer": "ipython3",
   "version": "3.6.8"
  }
 },
 "nbformat": 4,
 "nbformat_minor": 2
}
