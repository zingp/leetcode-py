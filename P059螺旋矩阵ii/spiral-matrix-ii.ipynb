{
 "cells": [
  {
   "cell_type": "markdown",
   "metadata": {},
   "source": [
    "## 59. 螺旋矩阵 II--2\n",
    "- 给定一个正整数 n，生成一个包含 1 到 $n^2$ 所有元素，且元素按顺时针顺序螺旋排列的正方形矩阵。\n",
    "- 示例:\n",
    "- 输入: 3\n",
    "- 输出:\n",
    "```\n",
    "[\n",
    " [ 1, 2, 3 ],\n",
    " [ 8, 9, 4 ],\n",
    " [ 7, 6, 5 ]\n",
    "]\n",
    "```"
   ]
  },
  {
   "cell_type": "code",
   "execution_count": 1,
   "metadata": {},
   "outputs": [],
   "source": [
    "class Solution:\n",
    "    def generateMatrix(self, n):\n",
    "        results = [[False for _ in range(n)] for _ in range(n)]\n",
    "        left, right, top, bottom = 0, n-1, 0, n-1\n",
    "        nums = 1\n",
    "        while left <= right and top <= bottom:\n",
    "            for c in range(left, right+1):\n",
    "                results[top][c] = nums\n",
    "                nums += 1\n",
    "            for r in range(top+1, bottom+1):\n",
    "                results[r][right] = nums\n",
    "                nums += 1\n",
    "            if left < right and top < bottom:\n",
    "                for c in range(right-1, left, -1):\n",
    "                    results[bottom][c] = nums\n",
    "                    nums += 1\n",
    "                for r in range(bottom, top, -1):\n",
    "                    results[r][left] = nums\n",
    "                    nums += 1\n",
    "            left += 1\n",
    "            right -= 1\n",
    "            top += 1\n",
    "            bottom -= 1\n",
    "        return results"
   ]
  },
  {
   "cell_type": "code",
   "execution_count": 2,
   "metadata": {},
   "outputs": [
    {
     "data": {
      "text/plain": [
       "[[1, 2, 3], [8, 9, 4], [7, 6, 5]]"
      ]
     },
     "execution_count": 2,
     "metadata": {},
     "output_type": "execute_result"
    }
   ],
   "source": [
    "Solution().generateMatrix(3)"
   ]
  },
  {
   "cell_type": "code",
   "execution_count": 3,
   "metadata": {},
   "outputs": [],
   "source": [
    "class Solution:\n",
    "    def generateMatrix(self, n):\n",
    "        l, r, t, b = 0, n - 1, 0, n - 1\n",
    "        mat = [[0 for _ in range(n)] for _ in range(n)]\n",
    "        num = 1\n",
    "        while num <= n*n:\n",
    "            for i in range(l, r + 1): # left to right\n",
    "                mat[t][i] = num\n",
    "                num += 1\n",
    "            t += 1\n",
    "            for i in range(t, b + 1): # top to bottom\n",
    "                mat[i][r] = num\n",
    "                num += 1\n",
    "            r -= 1\n",
    "            for i in range(r, l - 1, -1): # right to left\n",
    "                mat[b][i] = num\n",
    "                num += 1\n",
    "            b -= 1\n",
    "            for i in range(b, t - 1, -1): # bottom to top\n",
    "                mat[i][l] = num\n",
    "                num += 1\n",
    "            l += 1\n",
    "        return mat"
   ]
  },
  {
   "cell_type": "code",
   "execution_count": 4,
   "metadata": {},
   "outputs": [
    {
     "data": {
      "text/plain": [
       "[[1, 2, 3], [8, 9, 4], [7, 6, 5]]"
      ]
     },
     "execution_count": 4,
     "metadata": {},
     "output_type": "execute_result"
    }
   ],
   "source": [
    "Solution().generateMatrix(3)"
   ]
  },
  {
   "cell_type": "code",
   "execution_count": 5,
   "metadata": {},
   "outputs": [],
   "source": [
    "class Solution:\n",
    "    def generateMatrix(self, n):\n",
    "        matrix = [ [0 for _ in range(n)] for _ in range(n)]\n",
    "        start = 0\n",
    "        end = n\n",
    "        num = 1\n",
    "        while num <= n*n:\n",
    "            if start == end - 1:\n",
    "                matrix[start][end-1] = num\n",
    "                break\n",
    "            for j in range(start, end-1):\n",
    "                matrix[start][j] = num\n",
    "                num += 1\n",
    "            for i in range(start, end-1):\n",
    "                matrix[i][end-1] = num\n",
    "                num += 1\n",
    "            for k in range(end-1, start, -1):\n",
    "                matrix[end-1][k] = num\n",
    "                num += 1\n",
    "            for m in range(end-1, start, -1):\n",
    "                matrix[m][start] = num\n",
    "                num += 1\n",
    "            start += 1\n",
    "            end -= 1\n",
    "        return matrix"
   ]
  },
  {
   "cell_type": "code",
   "execution_count": 7,
   "metadata": {},
   "outputs": [
    {
     "data": {
      "text/plain": [
       "[[1, 2, 3], [8, 9, 4], [7, 6, 5]]"
      ]
     },
     "execution_count": 7,
     "metadata": {},
     "output_type": "execute_result"
    }
   ],
   "source": [
    "Solution().generateMatrix(3)"
   ]
  },
  {
   "cell_type": "code",
   "execution_count": 8,
   "metadata": {},
   "outputs": [],
   "source": [
    "# [[1, 2, 3, 4], \n",
    "#  [12, 13, 14, 5], \n",
    "#  [11, 16, 15, 6], \n",
    "#  [10, 9, 8, 7]]"
   ]
  },
  {
   "cell_type": "code",
   "execution_count": null,
   "metadata": {},
   "outputs": [],
   "source": []
  }
 ],
 "metadata": {
  "kernelspec": {
   "display_name": "Python 3",
   "language": "python",
   "name": "python3"
  },
  "language_info": {
   "codemirror_mode": {
    "name": "ipython",
    "version": 3
   },
   "file_extension": ".py",
   "mimetype": "text/x-python",
   "name": "python",
   "nbconvert_exporter": "python",
   "pygments_lexer": "ipython3",
   "version": "3.6.9"
  }
 },
 "nbformat": 4,
 "nbformat_minor": 2
}
