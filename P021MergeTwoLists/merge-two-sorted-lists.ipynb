{
 "cells": [
  {
   "cell_type": "markdown",
   "metadata": {},
   "source": [
    "## 合并两个有序链表\n",
    "```\n",
    "将两个有序链表合并为一个新的有序链表并返回。新链表是通过拼接给定的两个链表的所有节点组成的。 \n",
    "\n",
    "示例：\n",
    "\n",
    "输入：1->2->4, 1->3->4\n",
    "输出：1->1->2->3->4->4\n",
    "\n",
    "来源：力扣（LeetCode）\n",
    "链接：https://leetcode-cn.com/problems/merge-two-sorted-lists\n",
    "```"
   ]
  },
  {
   "cell_type": "code",
   "execution_count": 1,
   "metadata": {},
   "outputs": [],
   "source": [
    "class ListNode(object):\n",
    "    def __init__(self, x):\n",
    "        self.val = x\n",
    "        self.next = None"
   ]
  },
  {
   "cell_type": "code",
   "execution_count": 2,
   "metadata": {},
   "outputs": [],
   "source": [
    "class Solution(object):\n",
    "    def mergeTwoLists(self, l1, l2):\n",
    "        root = cur = ListNode(0)\n",
    "        while l1 and l2:\n",
    "            if l1.val < l2.val:\n",
    "                cur.next = ListNode(l1.val)\n",
    "                l1 = l1.next\n",
    "            else:\n",
    "                cur.next = ListNode(l2.val)\n",
    "                l2 = l2.next\n",
    "            cur = cur.next\n",
    "        while l1:\n",
    "            cur.next = ListNode(l1.val)\n",
    "            cur = cur.next\n",
    "            l1 = l1.next\n",
    "        while l2:\n",
    "            cur.next = ListNode(l2.val)\n",
    "            cur = cur.next\n",
    "            l2 = l2.next\n",
    "        return root.next             "
   ]
  },
  {
   "cell_type": "code",
   "execution_count": 3,
   "metadata": {},
   "outputs": [],
   "source": [
    "class Solution(object):\n",
    "    # 耗时变多了\n",
    "    def mergeTwoLists(self, l1, l2):\n",
    "        root = cur = ListNode(-1)\n",
    "        while l1 and l2:\n",
    "            if l1.val < l2.val:\n",
    "                cur.next = ListNode(l1.val)\n",
    "                l1 = l1.next\n",
    "            else:\n",
    "                cur.next = ListNode(l2.val)\n",
    "                l2 = l2.next\n",
    "            cur = cur.next\n",
    "        # 如果有节点为 None，直接合并另一个节点剩余元素\n",
    "        if l1:\n",
    "            cur.next = l1\n",
    "        if l2:\n",
    "            cur.next = l2\n",
    "        return root.next "
   ]
  },
  {
   "cell_type": "code",
   "execution_count": 4,
   "metadata": {},
   "outputs": [],
   "source": [
    "class Solution(object):\n",
    "    # 40ms\n",
    "    def mergeTwoLists(self, l1, l2):\n",
    "        # l1,l2中有一个为空的情况直接返回另一个\n",
    "        if not l1:\n",
    "            return l2\n",
    "        if not l2:\n",
    "            return l1\n",
    "        root = cur = ListNode(-1)\n",
    "        while l1 and l2:\n",
    "            if l1.val < l2.val:\n",
    "                cur.next = ListNode(l1.val)\n",
    "                l1 = l1.next\n",
    "            else:\n",
    "                cur.next = ListNode(l2.val)\n",
    "                l2 = l2.next\n",
    "            cur = cur.next\n",
    "        # 如果有节点为 None，直接合并另一个节点剩余元素\n",
    "        if l1:\n",
    "            cur.next = l1\n",
    "        if l2:\n",
    "            cur.next = l2\n",
    "        return root.next "
   ]
  },
  {
   "cell_type": "code",
   "execution_count": 5,
   "metadata": {},
   "outputs": [],
   "source": [
    "class Solution(object):\n",
    "    # 60ms\n",
    "    def mergeTwoLists(self, l1, l2):\n",
    "        # l1,l2中有一个为空的情况直接返回另一个\n",
    "        if not l1:\n",
    "            return l2\n",
    "        if not l2:\n",
    "            return l1\n",
    "        root = cur = ListNode(-1)\n",
    "        cl1,cl2 = l1,l2\n",
    "        while cl1 and cl2:\n",
    "            if cl1.val < cl2.val:\n",
    "                cur.next = ListNode(cl1.val)\n",
    "                cl1 = cl1.next\n",
    "            else:\n",
    "                cur.next = ListNode(cl2.val)\n",
    "                cl2 = cl2.next\n",
    "            cur = cur.next\n",
    "        # 如果有节点为 None，直接合并另一个节点剩余元素\n",
    "        if cl1:\n",
    "            cur.next = cl1\n",
    "        if cl2:\n",
    "            cur.next = cl2\n",
    "        return root.next "
   ]
  },
  {
   "cell_type": "code",
   "execution_count": null,
   "metadata": {},
   "outputs": [],
   "source": []
  }
 ],
 "metadata": {
  "kernelspec": {
   "display_name": "Python 3",
   "language": "python",
   "name": "python3"
  },
  "language_info": {
   "codemirror_mode": {
    "name": "ipython",
    "version": 3
   },
   "file_extension": ".py",
   "mimetype": "text/x-python",
   "name": "python",
   "nbconvert_exporter": "python",
   "pygments_lexer": "ipython3",
   "version": "3.6.8"
  }
 },
 "nbformat": 4,
 "nbformat_minor": 2
}
