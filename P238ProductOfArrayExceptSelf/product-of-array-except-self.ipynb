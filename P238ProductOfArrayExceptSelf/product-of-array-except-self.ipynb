{
 "cells": [
  {
   "cell_type": "markdown",
   "metadata": {},
   "source": [
    "## 238. 除自身以外数组的乘积\n",
    "- 给你一个长度为 n 的整数数组 nums，其中 n > 1，返回输出数组 output ，其中 output[i] 等于 nums 中除 nums[i] 之外其余各元素的乘积。\n",
    "- 示例:\n",
    "\n",
    "- 输入: [1,2,3,4]\n",
    "- 输出: [24,12,8,6]\n",
    " \n",
    "- 提示：题目数据保证数组之中任意元素的全部前缀元素和后缀（甚至是整个数组）的乘积都在 32 位整数范围内。\n",
    "\n",
    "- 说明: 请不要使用除法，且在 O(n) 时间复杂度内完成此题。\n",
    "\n",
    "- 进阶：\n",
    "    - 你可以在常数空间复杂度内完成这个题目吗？（ 出于对空间复杂度分析的目的，输出数组不被视为额外空间。）"
   ]
  },
  {
   "cell_type": "code",
   "execution_count": 1,
   "metadata": {},
   "outputs": [],
   "source": [
    "class Solution:\n",
    "    def productExceptSelf(self, nums):\n",
    "        length = len(nums)\n",
    "        L, R, results = [0]*length, [0]*length, [0]*length\n",
    "        L[0] = 1\n",
    "        for i in range(1, length):\n",
    "            L[i] = L[i-1] * nums[i-1]\n",
    "        R[-1] = 1\n",
    "        for i in range(length-2, -1, -1):\n",
    "            R[i] = R[i+1] * nums[i+1]\n",
    "        for i in range(length):\n",
    "            results[i] = L[i] * R[i]\n",
    "        return results"
   ]
  },
  {
   "cell_type": "code",
   "execution_count": 2,
   "metadata": {},
   "outputs": [],
   "source": [
    "x = [1,2,3,4]"
   ]
  },
  {
   "cell_type": "code",
   "execution_count": 3,
   "metadata": {},
   "outputs": [
    {
     "data": {
      "text/plain": [
       "[24, 12, 8, 6]"
      ]
     },
     "execution_count": 3,
     "metadata": {},
     "output_type": "execute_result"
    }
   ],
   "source": [
    "Solution().productExceptSelf(x)"
   ]
  },
  {
   "cell_type": "code",
   "execution_count": null,
   "metadata": {},
   "outputs": [],
   "source": []
  }
 ],
 "metadata": {
  "kernelspec": {
   "display_name": "Python 3",
   "language": "python",
   "name": "python3"
  },
  "language_info": {
   "codemirror_mode": {
    "name": "ipython",
    "version": 3
   },
   "file_extension": ".py",
   "mimetype": "text/x-python",
   "name": "python",
   "nbconvert_exporter": "python",
   "pygments_lexer": "ipython3",
   "version": "3.6.9"
  }
 },
 "nbformat": 4,
 "nbformat_minor": 2
}
