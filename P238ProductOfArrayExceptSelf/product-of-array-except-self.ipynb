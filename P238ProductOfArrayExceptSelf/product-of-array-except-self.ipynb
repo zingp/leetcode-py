{
 "cells": [
  {
   "cell_type": "markdown",
   "metadata": {},
   "source": [
    "## 238. 除自身以外数组的乘积\n",
    "- 给你一个长度为 n 的整数数组 nums，其中 n > 1，返回输出数组 output ，其中 output[i] 等于 nums 中除 nums[i] 之外其余各元素的乘积。\n",
    "- 示例:\n",
    "\n",
    "- 输入: [1,2,3,4]\n",
    "- 输出: [24,12,8,6]\n",
    " \n",
    "- 提示：题目数据保证数组之中任意元素的全部前缀元素和后缀（甚至是整个数组）的乘积都在 32 位整数范围内。\n",
    "\n",
    "- 说明: 请不要使用除法，且在 O(n) 时间复杂度内完成此题。\n",
    "\n",
    "- 进阶：\n",
    "    - 你可以在常数空间复杂度内完成这个题目吗？（ 出于对空间复杂度分析的目的，输出数组不被视为额外空间。）"
   ]
  },
  {
   "cell_type": "markdown",
   "metadata": {},
   "source": [
    "## 方法一\n",
    "- L[i] 表示nums[i]左边元素的乘积\n",
    "- R[i] 表示nums[i]右边元素的乘积\n",
    "- 时间复杂度O(n), 空间复杂度O(n)"
   ]
  },
  {
   "cell_type": "code",
   "execution_count": 1,
   "metadata": {},
   "outputs": [],
   "source": [
    "class Solution:\n",
    "    def productExceptSelf(self, nums):\n",
    "        length = len(nums)\n",
    "        L, R, results = [0]*length, [0]*length, [0]*length\n",
    "        L[0] = 1\n",
    "        for i in range(1, length):\n",
    "            L[i] = L[i-1] * nums[i-1]\n",
    "        R[-1] = 1\n",
    "        for i in range(length-2, -1, -1):\n",
    "            R[i] = R[i+1] * nums[i+1]\n",
    "        for i in range(length):\n",
    "            results[i] = L[i] * R[i]\n",
    "        return results"
   ]
  },
  {
   "cell_type": "code",
   "execution_count": 2,
   "metadata": {},
   "outputs": [],
   "source": [
    "x = [1,2,3,4]"
   ]
  },
  {
   "cell_type": "code",
   "execution_count": 3,
   "metadata": {},
   "outputs": [
    {
     "data": {
      "text/plain": [
       "[24, 12, 8, 6]"
      ]
     },
     "execution_count": 3,
     "metadata": {},
     "output_type": "execute_result"
    }
   ],
   "source": [
    "Solution().productExceptSelf(x)"
   ]
  },
  {
   "cell_type": "markdown",
   "metadata": {},
   "source": [
    "## 方法二\n",
    "- 第一次res[i]表示i左边的元素乘积\n",
    "- 第二次res[i - 1] 表示i-1位置左边的乘积，q表示其右边的乘积\n",
    "- 时间复杂度O(n), 空间复杂度O(1)，（输出数组不被视为额外空间）"
   ]
  },
  {
   "cell_type": "code",
   "execution_count": 4,
   "metadata": {},
   "outputs": [],
   "source": [
    "class Solution:\n",
    "    def productExceptSelf(self, nums):\n",
    "        res, p, q = [1], 1, 1\n",
    "        # 第一次res[i]表示i左边的元素乘积\n",
    "        for i in range(len(nums) - 1): \n",
    "            p *= nums[i]\n",
    "            res.append(p)\n",
    "        # 第二次res[i - 1] 表示i-1位置左边的乘积，q表示其右边的乘积\n",
    "        for i in range(len(nums) - 1, 0, -1): \n",
    "            q *= nums[i]\n",
    "            res[i - 1] *= q\n",
    "        return res"
   ]
  },
  {
   "cell_type": "markdown",
   "metadata": {},
   "source": [
    "## 更优雅实现\n",
    "- 时间复杂度O(n), 空间复杂度O(1)"
   ]
  },
  {
   "cell_type": "code",
   "execution_count": 5,
   "metadata": {},
   "outputs": [],
   "source": [
    "class Solution:\n",
    "    def productExceptSelf(self, nums):\n",
    "        # 更优雅的实现\n",
    "        n = len(nums)\n",
    "        ans = [1]*n\n",
    "        left, right = 1, 1\n",
    "        for i in range(n):\n",
    "            ans[i] *= right\n",
    "            ans[-1-i] *= left\n",
    "            right *= nums[i]\n",
    "            left *= nums[-1-i]\n",
    "        return ans"
   ]
  },
  {
   "cell_type": "code",
   "execution_count": 6,
   "metadata": {},
   "outputs": [],
   "source": [
    "nums = [1,2,3,4]"
   ]
  },
  {
   "cell_type": "code",
   "execution_count": 7,
   "metadata": {
    "scrolled": true
   },
   "outputs": [
    {
     "data": {
      "text/plain": [
       "[24, 12, 8, 6]"
      ]
     },
     "execution_count": 7,
     "metadata": {},
     "output_type": "execute_result"
    }
   ],
   "source": [
    "Solution().productExceptSelf(nums)"
   ]
  },
  {
   "cell_type": "code",
   "execution_count": null,
   "metadata": {},
   "outputs": [],
   "source": []
  }
 ],
 "metadata": {
  "kernelspec": {
   "display_name": "Python 3",
   "language": "python",
   "name": "python3"
  },
  "language_info": {
   "codemirror_mode": {
    "name": "ipython",
    "version": 3
   },
   "file_extension": ".py",
   "mimetype": "text/x-python",
   "name": "python",
   "nbconvert_exporter": "python",
   "pygments_lexer": "ipython3",
   "version": "3.6.9"
  }
 },
 "nbformat": 4,
 "nbformat_minor": 2
}
