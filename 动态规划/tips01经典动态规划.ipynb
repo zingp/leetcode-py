{
 "cells": [
  {
   "cell_type": "markdown",
   "metadata": {},
   "source": [
    "## 动态规划总结\n",
    "\n",
    "#### 简单\n",
    "- 最大子序和\n",
    "- 爬楼梯\n",
    "\n",
    "- 516.最长回文子序列(https://leetcode-cn.com/problems/longest-palindromic-subsequence/)\n",
    "- 5.最长回文子串(https://leetcode-cn.com/problems/longest-palindromic-substring/)\n",
    "- 300.最长递增子序列(https://leetcode-cn.com/problems/longest-increasing-subsequence/)"
   ]
  },
  {
   "cell_type": "markdown",
   "metadata": {},
   "source": [
    "#### 最长公共子串\n",
    "- 给定两个字符串str1和str2,输出两个字符串的最长公共子串\n",
    "- 题目保证str1和str2的最长公共子串存在且唯一。"
   ]
  },
  {
   "cell_type": "code",
   "execution_count": 1,
   "metadata": {},
   "outputs": [],
   "source": [
    "def LCS(s1, s2):\n",
    "    m = len(s1)\n",
    "    n = len(s2)\n",
    "    dp = [[\"\"] *(n+1) for _ in range(m+1)]\n",
    "    for i in range(1, m+1):\n",
    "        for j in range(1, n+1):\n",
    "            if s1[i-1] == s2[j-1]:\n",
    "                dp[i][j] = dp[i-1][j-1] + s1[i-1]\n",
    "            else:\n",
    "                dp[i][j] = dp[i-1][j] if len(dp[i-1][j]) > len(dp[i][j-1]) else dp[i][j-1]\n",
    "    return dp[-1][-1], len(dp[-1][-1])"
   ]
  },
  {
   "cell_type": "code",
   "execution_count": 2,
   "metadata": {},
   "outputs": [],
   "source": [
    "s1 = \"abcedf\"\n",
    "s2 = \"ebcedsss\""
   ]
  },
  {
   "cell_type": "code",
   "execution_count": 3,
   "metadata": {},
   "outputs": [
    {
     "data": {
      "text/plain": [
       "('bced', 4)"
      ]
     },
     "execution_count": 3,
     "metadata": {},
     "output_type": "execute_result"
    }
   ],
   "source": [
    "LCS(s1, s2)"
   ]
  },
  {
   "cell_type": "markdown",
   "metadata": {},
   "source": [
    "#### 最长公共子序列"
   ]
  },
  {
   "cell_type": "code",
   "execution_count": 4,
   "metadata": {},
   "outputs": [],
   "source": [
    "def LCSub(s1, s2): \n",
    "     # 生成字符串长度加1的0矩阵，m用来保存对应位置匹配的结果\n",
    "    m = [ [ 0 for x in range(len(s2)+1) ] for y in range(len(s1)+1) ] \n",
    "    # d用来记录转移方向\n",
    "    d = [ [ None for x in range(len(s2)+1) ] for y in range(len(s1)+1) ] \n",
    " \n",
    "    for p1 in range(len(s1)): \n",
    "        for p2 in range(len(s2)): \n",
    "            if s1[p1] == s2[p2]:            #字符匹配成功，则该位置的值为左上方的值加1\n",
    "                m[p1+1][p2+1] = m[p1][p2]+1\n",
    "                d[p1+1][p2+1] = 'ok'          \n",
    "            elif m[p1+1][p2] > m[p1][p2+1]:  #左值大于上值，则该位置的值为左值，并标记回溯时的方向\n",
    "                m[p1+1][p2+1] = m[p1+1][p2] \n",
    "                d[p1+1][p2+1] = 'left'          \n",
    "            else:                           #上值大于左值，则该位置的值为上值，并标记方向up\n",
    "                m[p1+1][p2+1] = m[p1][p2+1]   \n",
    "                d[p1+1][p2+1] = 'up'         \n",
    "    (p1, p2) = (len(s1), len(s2)) \n",
    "    print(d)\n",
    "    s = [] \n",
    "    while m[p1][p2]:    #不为None时\n",
    "        c = d[p1][p2]\n",
    "        if c == 'ok':   #匹配成功，插入该字符，并向左上角找下一个\n",
    "            s.append(s1[p1-1])\n",
    "            p1-=1\n",
    "            p2-=1 \n",
    "        if c =='left':  #根据标记，向左找下一个\n",
    "            p2 -= 1\n",
    "        if c == 'up':   #根据标记，向上找下一个\n",
    "            p1 -= 1\n",
    "    s.reverse() \n",
    "\n",
    "    return ''.join(s)"
   ]
  },
  {
   "cell_type": "code",
   "execution_count": 5,
   "metadata": {},
   "outputs": [],
   "source": [
    "text1 = \"abcde\"\n",
    "text2 = \"ace\""
   ]
  },
  {
   "cell_type": "code",
   "execution_count": 6,
   "metadata": {},
   "outputs": [
    {
     "name": "stdout",
     "output_type": "stream",
     "text": [
      "[[None, None, None, None], [None, 'ok', 'left', 'left'], [None, 'up', 'up', 'up'], [None, 'up', 'ok', 'left'], [None, 'up', 'up', 'up'], [None, 'up', 'up', 'ok']]\n"
     ]
    },
    {
     "data": {
      "text/plain": [
       "'ace'"
      ]
     },
     "execution_count": 6,
     "metadata": {},
     "output_type": "execute_result"
    }
   ],
   "source": [
    "LCSub(text1, text2)"
   ]
  },
  {
   "cell_type": "markdown",
   "metadata": {},
   "source": [
    "## 子数组最大累加和问题\n",
    "- 给定一个数组arr，返回子数组的最大累加和\n",
    "- 例如，arr = [1, -2, 3, 5, -2, 6, -1]，所有子数组中，[3, 5, -2, 6]可以累加出最大的和12，所以返回12.\n",
    "- 题目保证没有全为负数的数据\n",
    "- [要求]\n",
    "- 时间复杂度为O(n)，空间复杂度为O(1)"
   ]
  },
  {
   "cell_type": "code",
   "execution_count": 7,
   "metadata": {},
   "outputs": [],
   "source": [
    "arr = [1, -2, 3, 5, -2, 6, -1]"
   ]
  },
  {
   "cell_type": "code",
   "execution_count": 8,
   "metadata": {},
   "outputs": [],
   "source": [
    "class Solution:\n",
    "    def maxsumofSubarray(self , arr):\n",
    "        # dp[i] 以arr[i]元素结束的数组，其子数组最大累加和\n",
    "        if not arr:\n",
    "            return 0\n",
    "        dp = [0] * len(arr)\n",
    "        dp[0] = arr[0]\n",
    "        for i in range(1, len(arr)):\n",
    "            dp[i] = max(dp[i-1] + arr[i], arr[i])\n",
    "        return max(dp)"
   ]
  },
  {
   "cell_type": "code",
   "execution_count": 9,
   "metadata": {},
   "outputs": [
    {
     "data": {
      "text/plain": [
       "12"
      ]
     },
     "execution_count": 9,
     "metadata": {},
     "output_type": "execute_result"
    }
   ],
   "source": [
    "Solution().maxsumofSubarray(arr)"
   ]
  },
  {
   "cell_type": "markdown",
   "metadata": {},
   "source": [
    "## 0-1 背包问题"
   ]
  },
  {
   "cell_type": "code",
   "execution_count": 10,
   "metadata": {},
   "outputs": [],
   "source": [
    "from pprint import pprint"
   ]
  },
  {
   "cell_type": "code",
   "execution_count": 11,
   "metadata": {},
   "outputs": [],
   "source": [
    "w = [2,2,6,5,4]\n",
    "v = [3,6,5,4,6]\n",
    "W = 10"
   ]
  },
  {
   "cell_type": "code",
   "execution_count": 12,
   "metadata": {},
   "outputs": [
    {
     "name": "stdout",
     "output_type": "stream",
     "text": [
      "17\n"
     ]
    }
   ],
   "source": [
    "# 暴力算法，两个边界条件\n",
    "def search(idx, s):\n",
    "    if s > W:\n",
    "        return 0\n",
    "    if idx == 0:\n",
    "        return 0\n",
    "    return max(search(idx - 1, s + w[idx]) + v[idx], search(idx - 1, s))\n",
    "\n",
    "# 找冗余：构成s有很多种情况，同一大小的s被多次重复计算。\n",
    "\n",
    "# 这个写出来有问题\n",
    "print(search(len(w)-1, 0))"
   ]
  },
  {
   "cell_type": "code",
   "execution_count": 13,
   "metadata": {},
   "outputs": [],
   "source": [
    "def maxValue(caps, values, c):\n",
    "    #dp[i][j] 前i个物品，容量恰好为j的最大价值\n",
    "    # caps[i] 表示第i个物品的体积\n",
    "    # values[i] 表示第i个物品的价值\n",
    "    # 对于物品i,有两种操作选择它和不选择它。\n",
    "    # 于是，状态转移方程：dp[i][j] = max(dp[i-1][j], dp[i-1][j-caps[i]] + values[i])\n",
    "    # 边界条件：dp[i][0] = 0;dp[0][caps[0]] = values[0]\n",
    "    dp = [[0]*(c + 1) for _ in range(len(caps))]\n",
    "    dp[0][caps[0]] = values[0]\n",
    "    for i in range(1, len(caps)):\n",
    "        for j in range(caps[i], c+1):\n",
    "            #if j >= caps[i]:\n",
    "            dp[i][j] = max(dp[i-1][j], dp[i-1][j-caps[i]] + values[i])\n",
    "#             else:\n",
    "#                 dp[i][j] = dp[i-1][j]\n",
    "    pprint(dp)\n",
    "    return dp[-1][-1]\n",
    "                "
   ]
  },
  {
   "cell_type": "code",
   "execution_count": 14,
   "metadata": {},
   "outputs": [
    {
     "name": "stdout",
     "output_type": "stream",
     "text": [
      "[[0, 0, 3, 0, 0, 0, 0, 0, 0, 0, 0],\n",
      " [0, 0, 6, 6, 9, 6, 6, 6, 6, 6, 6],\n",
      " [0, 0, 0, 0, 0, 0, 6, 6, 11, 11, 14],\n",
      " [0, 0, 0, 0, 0, 4, 6, 6, 11, 11, 14],\n",
      " [0, 0, 0, 0, 6, 6, 6, 6, 11, 11, 14]]\n"
     ]
    },
    {
     "data": {
      "text/plain": [
       "14"
      ]
     },
     "execution_count": 14,
     "metadata": {},
     "output_type": "execute_result"
    }
   ],
   "source": [
    "maxValue(w, v, W)"
   ]
  },
  {
   "cell_type": "markdown",
   "metadata": {},
   "source": [
    "## 空间优化"
   ]
  },
  {
   "cell_type": "code",
   "execution_count": 32,
   "metadata": {},
   "outputs": [],
   "source": [
    "def maxValue(caps, values, c):\n",
    "    #dp[i][j] 前i个物品，容量恰好为j的最大价值\n",
    "    # caps[i] 表示第i个物品的体积\n",
    "    # values[i] 表示第i个物品的价值\n",
    "    # 对于物品i,有两种操作选择它和不选择它。\n",
    "    # 于是，状态转移方程：dp[i][j] = max(dp[i-1][j], dp[i-1][j-caps[i]] + values[i])\n",
    "    # 边界条件：dp[i][0] = 0;dp[0][caps[0]] = values[0]\n",
    "    dp = [0 for _ in range(c + 1)]\n",
    "    dp[0] = 0\n",
    "    for i in range(1, len(caps)):\n",
    "        for j in range(c, caps[i]-1, -1):\n",
    "            \n",
    "            dp[j] = max(dp[j], dp[j-caps[i-1]] + values[i-1])\n",
    "#             else:\n",
    "#                 dp[i][j] = dp[i-1][j]\n",
    "    print(dp)\n",
    "    return dp[-1]"
   ]
  },
  {
   "cell_type": "code",
   "execution_count": 33,
   "metadata": {},
   "outputs": [],
   "source": [
    "w = [2,2,6,5,4]\n",
    "v = [3,6,5,4,6]\n",
    "W = 10"
   ]
  },
  {
   "cell_type": "code",
   "execution_count": 34,
   "metadata": {},
   "outputs": [
    {
     "name": "stdout",
     "output_type": "stream",
     "text": [
      "[0, 0, 3, 3, 22, 14, 9, 9, 9, 9, 18]\n"
     ]
    },
    {
     "data": {
      "text/plain": [
       "18"
      ]
     },
     "execution_count": 34,
     "metadata": {},
     "output_type": "execute_result"
    }
   ],
   "source": [
    "maxValue(w, v, W)"
   ]
  },
  {
   "cell_type": "code",
   "execution_count": null,
   "metadata": {},
   "outputs": [],
   "source": []
  }
 ],
 "metadata": {
  "kernelspec": {
   "display_name": "Python 3",
   "language": "python",
   "name": "python3"
  },
  "language_info": {
   "codemirror_mode": {
    "name": "ipython",
    "version": 3
   },
   "file_extension": ".py",
   "mimetype": "text/x-python",
   "name": "python",
   "nbconvert_exporter": "python",
   "pygments_lexer": "ipython3",
   "version": "3.6.9"
  }
 },
 "nbformat": 4,
 "nbformat_minor": 2
}
