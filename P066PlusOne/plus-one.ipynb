{
 "cells": [
  {
   "cell_type": "markdown",
   "metadata": {},
   "source": [
    "## 66. 加一\n",
    "- 给定一个由整数组成的非空数组所表示的非负整数，在该数的基础上加一。\n",
    "- 最高位数字存放在数组的首位， 数组中每个元素只存储单个数字。\n",
    "- 你可以假设除了整数 0 之外，这个整数不会以零开头。\n",
    "\n",
    "- 示例 1:\n",
    "- 输入: [1,2,3]\n",
    "- 输出: [1,2,4]\n",
    "- 解释: 输入数组表示数字 123。\n",
    "\n",
    "- 示例 2:\n",
    "- 输入: [4,3,2,1]\n",
    "- 输出: [4,3,2,2]\n",
    "- 解释: 输入数组表示数字 4321。"
   ]
  },
  {
   "cell_type": "code",
   "execution_count": 1,
   "metadata": {},
   "outputs": [],
   "source": [
    "class Solution:\n",
    "    def plusOne(self, digits):\n",
    "        tmp = 1\n",
    "        for i in range(len(digits)-1, -1, -1):\n",
    "            res = digits[i] + tmp\n",
    "            if res >= 10:\n",
    "                digits[i] = res % 10\n",
    "                tmp = 1\n",
    "            else:\n",
    "                tmp = 0\n",
    "                digits[i] = res\n",
    "                break\n",
    "        if tmp == 1:\n",
    "            digits[0] = 1\n",
    "            digits.append(0)\n",
    "        return digits"
   ]
  },
  {
   "cell_type": "code",
   "execution_count": 2,
   "metadata": {},
   "outputs": [
    {
     "data": {
      "text/plain": [
       "[1, 0, 0, 0, 0]"
      ]
     },
     "execution_count": 2,
     "metadata": {},
     "output_type": "execute_result"
    }
   ],
   "source": [
    "Solution().plusOne([9, 9, 9, 9])"
   ]
  },
  {
   "cell_type": "code",
   "execution_count": null,
   "metadata": {},
   "outputs": [],
   "source": []
  }
 ],
 "metadata": {
  "kernelspec": {
   "display_name": "Python 3",
   "language": "python",
   "name": "python3"
  },
  "language_info": {
   "codemirror_mode": {
    "name": "ipython",
    "version": 3
   },
   "file_extension": ".py",
   "mimetype": "text/x-python",
   "name": "python",
   "nbconvert_exporter": "python",
   "pygments_lexer": "ipython3",
   "version": "3.6.9"
  }
 },
 "nbformat": 4,
 "nbformat_minor": 2
}
