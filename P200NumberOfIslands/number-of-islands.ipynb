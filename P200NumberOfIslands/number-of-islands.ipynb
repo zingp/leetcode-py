{
 "cells": [
  {
   "cell_type": "markdown",
   "metadata": {},
   "source": [
    "## 200. 岛屿数量\n",
    "- 给你一个由 '1'（陆地）和 '0'（水）组成的的二维网格，请你计算网格中岛屿的数量。\n",
    "- 岛屿总是被水包围，并且每座岛屿只能由水平方向或竖直方向上相邻的陆地连接形成。\n",
    "- 此外，你可以假设该网格的四条边均被水包围。\n",
    "\n",
    "- 示例 1:\n",
    "- 输入:\n",
    "```\n",
    "[\n",
    "['1','1','1','1','0'],\n",
    "['1','1','0','1','0'],\n",
    "['1','1','0','0','0'],\n",
    "['0','0','0','0','0']\n",
    "]\n",
    "输出: 1\n",
    "```\n",
    "\n",
    "- 示例 2:\n",
    "- 输入:\n",
    "```\n",
    "[\n",
    "['1','1','0','0','0'],\n",
    "['1','1','0','0','0'],\n",
    "['0','0','1','0','0'],\n",
    "['0','0','0','1','1']\n",
    "]\n",
    "输出: 3\n",
    "```\n",
    "- 解释: 每座岛屿只能由水平和/或竖直方向上相邻的陆地连接而成。"
   ]
  },
  {
   "cell_type": "markdown",
   "metadata": {},
   "source": [
    "## 深度优先"
   ]
  },
  {
   "cell_type": "code",
   "execution_count": 1,
   "metadata": {},
   "outputs": [],
   "source": [
    "from typing import List"
   ]
  },
  {
   "cell_type": "code",
   "execution_count": 7,
   "metadata": {},
   "outputs": [],
   "source": [
    "class Solution:\n",
    "    def numIslands(self, grid: List[List[str]]) -> int:\n",
    "        row = len(grid)\n",
    "        if row == 0:\n",
    "            return 0\n",
    "        col = len(grid[0])\n",
    "        flag = [[False for _ in range(col)] for i in range(row)]\n",
    "        direction = [(-1, 0), (1, 0), (0, 1), (0, -1)]\n",
    "        count = 0\n",
    "        for i in range(row):\n",
    "            for j in range(col):\n",
    "                if not flag[i][j] and grid[i][j] == \"1\":\n",
    "                    count += 1\n",
    "                    self.dfs(grid, direction, flag, i, j, row, col)\n",
    "        return count\n",
    "    \n",
    "    def dfs(self, grid, direction, flag, i, j, row, col):\n",
    "        flag[i][j] = True\n",
    "        for item in direction:\n",
    "            x = item[0] + i\n",
    "            y = item[1] + j\n",
    "            if 0 <= x < row and 0 <= y < col and not flag[x][y] and grid[x][y] == \"1\":\n",
    "                self.dfs(grid, direction, flag, x, y, row, col)\n",
    "                "
   ]
  },
  {
   "cell_type": "code",
   "execution_count": 3,
   "metadata": {},
   "outputs": [],
   "source": [
    "grid = [\n",
    "['1','1','1','1','0'],\n",
    "['1','1','0','1','0'],\n",
    "['1','1','0','0','0'],\n",
    "['0','0','0','0','0']\n",
    "]"
   ]
  },
  {
   "cell_type": "code",
   "execution_count": 4,
   "metadata": {},
   "outputs": [
    {
     "data": {
      "text/plain": [
       "1"
      ]
     },
     "execution_count": 4,
     "metadata": {},
     "output_type": "execute_result"
    }
   ],
   "source": [
    "Solution().numIslands(grid)"
   ]
  },
  {
   "cell_type": "code",
   "execution_count": 5,
   "metadata": {},
   "outputs": [],
   "source": [
    "grid = [\n",
    "['1','1','0','0','0'],\n",
    "['1','1','0','0','0'],\n",
    "['0','0','1','0','0'],\n",
    "['0','0','0','1','1']\n",
    "]"
   ]
  },
  {
   "cell_type": "code",
   "execution_count": 6,
   "metadata": {},
   "outputs": [
    {
     "data": {
      "text/plain": [
       "3"
      ]
     },
     "execution_count": 6,
     "metadata": {},
     "output_type": "execute_result"
    }
   ],
   "source": [
    "Solution().numIslands(grid)"
   ]
  },
  {
   "cell_type": "code",
   "execution_count": null,
   "metadata": {},
   "outputs": [],
   "source": [
    "class Solution:\n",
    "    def numIslands(self, grid: List[List[str]]) -> int:\n",
    "        row = len(grid)\n",
    "        if row == 0:\n",
    "            return 0\n",
    "        col = len(grid[0])\n",
    "        flag = [[False for i in range(col)] for j in range(row)]\n",
    "        directions = [(-1, 0), (1, 0), (0, 1), (0, -1)]\n",
    "        count = 0\n",
    "        for i in range(row):\n",
    "            for j in range(col):\n",
    "                if not flag[i][j] and grid[i][j] == \"1\":\n",
    "                    count += 1\n",
    "                    queue = conle"
   ]
  }
 ],
 "metadata": {
  "kernelspec": {
   "display_name": "Python 3",
   "language": "python",
   "name": "python3"
  },
  "language_info": {
   "codemirror_mode": {
    "name": "ipython",
    "version": 3
   },
   "file_extension": ".py",
   "mimetype": "text/x-python",
   "name": "python",
   "nbconvert_exporter": "python",
   "pygments_lexer": "ipython3",
   "version": "3.6.10"
  }
 },
 "nbformat": 4,
 "nbformat_minor": 4
}
