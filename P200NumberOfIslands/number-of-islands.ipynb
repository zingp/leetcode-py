{
 "cells": [
  {
   "cell_type": "markdown",
   "metadata": {},
   "source": [
    "## 200. 岛屿数量\n",
    "- 给你一个由 '1'（陆地）和 '0'（水）组成的的二维网格，请你计算网格中岛屿的数量。\n",
    "- 岛屿总是被水包围，并且每座岛屿只能由水平方向或竖直方向上相邻的陆地连接形成。\n",
    "- 此外，你可以假设该网格的四条边均被水包围。\n",
    "\n",
    "- 示例 1:\n",
    "- 输入:\n",
    "```\n",
    "[\n",
    "['1','1','1','1','0'],\n",
    "['1','1','0','1','0'],\n",
    "['1','1','0','0','0'],\n",
    "['0','0','0','0','0']\n",
    "]\n",
    "输出: 1\n",
    "```\n",
    "\n",
    "- 示例 2:\n",
    "- 输入:\n",
    "```\n",
    "[\n",
    "['1','1','0','0','0'],\n",
    "['1','1','0','0','0'],\n",
    "['0','0','1','0','0'],\n",
    "['0','0','0','1','1']\n",
    "]\n",
    "输出: 3\n",
    "```\n",
    "- 解释: 每座岛屿只能由水平和/或竖直方向上相邻的陆地连接而成。"
   ]
  },
  {
   "cell_type": "markdown",
   "metadata": {},
   "source": [
    "## 深度优先\n",
    "- base case: \n",
    "    - r, c 超出边界；\n",
    "    - r, c !=1 \"水或者被访问过\"\n",
    "- 如果是1继续访问(r-1, c), (r+1, c),(r, c-1),(r, c+1)"
   ]
  },
  {
   "cell_type": "code",
   "execution_count": 2,
   "metadata": {},
   "outputs": [],
   "source": [
    "from typing import List"
   ]
  },
  {
   "cell_type": "code",
   "execution_count": 2,
   "metadata": {},
   "outputs": [],
   "source": [
    "class Solution:\n",
    "    def numIslands(self, grid: List[List[str]]) -> int:\n",
    "        row = len(grid)\n",
    "        if row == 0:\n",
    "            return 0\n",
    "        col = len(grid[0])\n",
    "        flag = [[False for _ in range(col)] for i in range(row)]\n",
    "        direction = [(-1, 0), (1, 0), (0, 1), (0, -1)]\n",
    "        count = 0\n",
    "        for i in range(row):\n",
    "            for j in range(col):\n",
    "                if not flag[i][j] and grid[i][j] == \"1\":\n",
    "                    count += 1\n",
    "                    self.dfs(grid, direction, flag, i, j, row, col)\n",
    "        return count\n",
    "    \n",
    "    def dfs(self, grid, direction, flag, i, j, row, col):\n",
    "        flag[i][j] = True\n",
    "        for item in direction:\n",
    "            x = item[0] + i\n",
    "            y = item[1] + j\n",
    "            if 0 <= x < row and 0 <= y < col and not flag[x][y] and grid[x][y] == \"1\":\n",
    "                self.dfs(grid, direction, flag, x, y, row, col)\n",
    "                "
   ]
  },
  {
   "cell_type": "code",
   "execution_count": 3,
   "metadata": {},
   "outputs": [],
   "source": [
    "class Solution:\n",
    "    def numIslands(self, grid: List[List[str]]) -> int:\n",
    "        if not grid:\n",
    "            return 0\n",
    "        r = len(grid)\n",
    "        c = len(grid[0])\n",
    "        count = 0\n",
    "        for i in range(r):\n",
    "            for j in range(c):\n",
    "                if grid[i][j] == \"1\":\n",
    "                    count += 1\n",
    "                    self.dfs(grid, i, j)\n",
    "        return count\n",
    "    \n",
    "    def dfs(self, grid, r, c):\n",
    "        if not self.in_area(grid, r, c):\n",
    "            return\n",
    "        if grid[r][c] != \"1\":\n",
    "            return \n",
    "        grid[r][c] = \"2\"\n",
    "        self.dfs(grid, r-1, c)\n",
    "        self.dfs(grid, r+1, c)\n",
    "        self.dfs(grid, r, c-1)\n",
    "        self.dfs(grid, r, c+1)\n",
    "        \n",
    "    def in_area(self, grid, r, c):\n",
    "        return r >= 0 and r < len(grid) and c >= 0 and c < len(grid[0])"
   ]
  },
  {
   "cell_type": "code",
   "execution_count": 4,
   "metadata": {},
   "outputs": [],
   "source": [
    "grid = [\n",
    "['1','1','1','1','0'],\n",
    "['1','1','0','1','0'],\n",
    "['1','1','0','0','0'],\n",
    "['0','0','0','0','0']\n",
    "]"
   ]
  },
  {
   "cell_type": "code",
   "execution_count": 5,
   "metadata": {},
   "outputs": [
    {
     "data": {
      "text/plain": [
       "1"
      ]
     },
     "execution_count": 5,
     "metadata": {},
     "output_type": "execute_result"
    }
   ],
   "source": [
    "Solution().numIslands(grid)"
   ]
  },
  {
   "cell_type": "code",
   "execution_count": 5,
   "metadata": {},
   "outputs": [],
   "source": [
    "grid = [\n",
    "['1','1','0','0','0'],\n",
    "['1','1','0','0','0'],\n",
    "['0','0','1','0','0'],\n",
    "['0','0','0','1','1']\n",
    "]"
   ]
  },
  {
   "cell_type": "code",
   "execution_count": 6,
   "metadata": {},
   "outputs": [
    {
     "data": {
      "text/plain": [
       "3"
      ]
     },
     "execution_count": 6,
     "metadata": {},
     "output_type": "execute_result"
    }
   ],
   "source": [
    "Solution().numIslands(grid)"
   ]
  },
  {
   "cell_type": "code",
   "execution_count": 7,
   "metadata": {},
   "outputs": [],
   "source": [
    "class Solution:\n",
    "    def numIslands(self, grid: List[List[str]]) -> int:\n",
    "\n",
    "        class UnionFind:\n",
    "\n",
    "            def __init__(self, n):\n",
    "                self.count = n\n",
    "                self.parent = [i for i in range(n)]\n",
    "                self.rank = [1 for _ in range(n)]\n",
    "\n",
    "            def get_count(self):\n",
    "                return self.count\n",
    "\n",
    "            def find(self, p):\n",
    "                while p != self.parent[p]:\n",
    "                    self.parent[p] = self.parent[self.parent[p]]\n",
    "                    p = self.parent[p]\n",
    "                return p\n",
    "\n",
    "            def is_connected(self, p, q):\n",
    "                return self.find(p) == self.find(q)\n",
    "\n",
    "            def union(self, p, q):\n",
    "                p_root = self.find(p)\n",
    "                q_root = self.find(q)\n",
    "                if p_root == q_root:\n",
    "                    return\n",
    "\n",
    "                if self.rank[p_root] > self.rank[q_root]:\n",
    "                    self.parent[q_root] = p_root\n",
    "                elif self.rank[p_root] < self.rank[q_root]:\n",
    "                    self.parent[p_root] = q_root\n",
    "                else:\n",
    "                    self.parent[q_root] = p_root\n",
    "                    self.rank[p_root] += 1\n",
    "\n",
    "                self.count -= 1\n",
    "\n",
    "        row = len(grid)\n",
    "        # 特判\n",
    "        if row == 0:\n",
    "            return 0\n",
    "        col = len(grid[0])\n",
    "\n",
    "        def get_index(x, y):\n",
    "            return x * col + y\n",
    "\n",
    "        # 注意：我们不用像 DFS 和 BFS 一样，4 个方向都要尝试，只要看一看右边和下面就可以了\n",
    "        directions = [(1, 0), (0, 1)]\n",
    "        # 多开一个空间，把水域 \"0\" 都归到这个虚拟的老大上\n",
    "        dummy_node = row * col\n",
    "\n",
    "        # 多开的一个空间就是那个虚拟的空间\n",
    "        uf = UnionFind(dummy_node + 1)\n",
    "        for i in range(row):\n",
    "            for j in range(col):\n",
    "                # 如果是水域，都连到那个虚拟的空间去\n",
    "                if grid[i][j] == '0':\n",
    "                    uf.union(get_index(i, j), dummy_node)\n",
    "                if grid[i][j] == '1':\n",
    "                    # 向下向右如果都是陆地，即 \"1\"，就要合并一下\n",
    "                    for direction in directions:\n",
    "                        new_x = i + direction[0]\n",
    "                        new_y = j + direction[1]\n",
    "                        if new_x < row and new_y < col and grid[new_x][new_y] == '1':\n",
    "                            uf.union(get_index(i, j), get_index(new_x, new_y))\n",
    "        # 不要忘记把那个虚拟结点减掉\n",
    "        return uf.get_count() - 1\n",
    "    "
   ]
  },
  {
   "cell_type": "code",
   "execution_count": 8,
   "metadata": {},
   "outputs": [
    {
     "name": "stdout",
     "output_type": "stream",
     "text": [
      "1\n"
     ]
    }
   ],
   "source": [
    "grid = [['1', '1', '1', '1', '0'],\n",
    "            ['1', '1', '0', '1', '0'],\n",
    "            ['1', '1', '0', '0', '0'],\n",
    "            ['0', '0', '0', '0', '0']]\n",
    "solution = Solution()\n",
    "result = solution.numIslands(grid)\n",
    "print(result)"
   ]
  },
  {
   "cell_type": "code",
   "execution_count": 9,
   "metadata": {},
   "outputs": [],
   "source": [
    "class Solution:\n",
    "    \"\"\"自己完成并查集\"\"\"\n",
    "    def numIslands(self, grid: List[List[str]]) -> int:\n",
    "        class UnionSet(object):\n",
    "            def __init__(self, n):\n",
    "                self.parent = [i for i in range(n)]\n",
    "                self.count = n\n",
    "            \n",
    "            def find(self, q):\n",
    "                root = q\n",
    "                while self.parent[root] != root:\n",
    "                    root = self.parent[root]\n",
    "                while self.parent[q] != q:\n",
    "                    x = q\n",
    "                    q = self.parent[q]\n",
    "                    self.parent[x] = root\n",
    "                return root\n",
    "\n",
    "            def union(self, p, q):\n",
    "                p1 = self.find(p)\n",
    "                p2 = self.find(q)\n",
    "                if p1 == p2:\n",
    "                    return \n",
    "                self.parent[p1] = p2\n",
    "                self.count -= 1\n",
    "            \n",
    "            def get_count(self):\n",
    "                return self.count\n",
    "            \n",
    "        if not grid:\n",
    "            return 0\n",
    "        row = len(grid)\n",
    "        col = len(grid[0])\n",
    "        \n",
    "        def get_index(x, y):\n",
    "            return x*col + y\n",
    "        \n",
    "        unionobj = UnionSet(row*col + 1)\n",
    "        direc = [(1, 0), (0, 1)]\n",
    "        for i in range(row):\n",
    "            for j in range(col):\n",
    "                if grid[i][j] == \"1\":\n",
    "                    for x in direc:\n",
    "                        new_x = i + x[0]\n",
    "                        new_y = j + x[1]\n",
    "                        if new_x < row and new_y < col and grid[new_x][new_y] == \"1\":\n",
    "                            unionobj.union(get_index(i, j), get_index(new_x, new_y))\n",
    "                if grid[i][j] == \"0\":\n",
    "                     unionobj.union(get_index(i, j), row*col)\n",
    "        return unionobj.get_count() - 1\n",
    "        "
   ]
  },
  {
   "cell_type": "code",
   "execution_count": 10,
   "metadata": {},
   "outputs": [
    {
     "name": "stdout",
     "output_type": "stream",
     "text": [
      "1\n"
     ]
    }
   ],
   "source": [
    "grid = [['1', '1', '1', '1', '0'],\n",
    "            ['1', '1', '0', '1', '0'],\n",
    "            ['1', '1', '0', '0', '0'],\n",
    "            ['0', '0', '0', '0', '0']]\n",
    "solution = Solution()\n",
    "result = solution.numIslands(grid)\n",
    "print(result)"
   ]
  },
  {
   "cell_type": "code",
   "execution_count": null,
   "metadata": {},
   "outputs": [],
   "source": []
  }
 ],
 "metadata": {
  "kernelspec": {
   "display_name": "Python 3",
   "language": "python",
   "name": "python3"
  },
  "language_info": {
   "codemirror_mode": {
    "name": "ipython",
    "version": 3
   },
   "file_extension": ".py",
   "mimetype": "text/x-python",
   "name": "python",
   "nbconvert_exporter": "python",
   "pygments_lexer": "ipython3",
   "version": "3.6.10"
  }
 },
 "nbformat": 4,
 "nbformat_minor": 4
}
