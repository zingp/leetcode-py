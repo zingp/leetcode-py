{
 "cells": [
  {
   "cell_type": "markdown",
   "metadata": {},
   "source": [
    "## 16. 最接近的三数之和\n",
    "```\n",
    "给定一个包括 n 个整数的数组 nums 和 一个目标值 target。找出 nums 中的三个整数，使得它们的和与 target 最接近。返回这三个数的和。假定每组输入只存在唯一答案。\n",
    "\n",
    "例如，给定数组 nums = [-1，2，1，-4], 和 target = 1.\n",
    "\n",
    "与 target 最接近的三个数的和为 2. (-1 + 2 + 1 = 2).\n",
    "\n",
    "来源：力扣（LeetCode）\n",
    "链接：https://leetcode-cn.com/problems/3sum-closest\n",
    "```"
   ]
  },
  {
   "cell_type": "code",
   "execution_count": 1,
   "metadata": {},
   "outputs": [],
   "source": [
    "# 排序+双指针\n",
    "class Solution:\n",
    "    def threeSumClosest(self, nums, target):\n",
    "        nums.sort()\n",
    "        min_diff = (1<<31)-1\n",
    "        min_sum = (1<<31)-1\n",
    "        for i in range(len(nums)-1):\n",
    "            left = i + 1\n",
    "            right = len(nums) - 1\n",
    "            while left < right:\n",
    "                sum_ = nums[i] + nums[left] + nums[right]\n",
    "                if abs(sum_ - target) < min_diff:\n",
    "                    min_diff = abs(sum_ - target) \n",
    "                    min_sum = sum_\n",
    "                if sum_ == target:\n",
    "                    return sum_ \n",
    "                elif sum_ - target  > 0:\n",
    "                    right -= 1\n",
    "                else:\n",
    "                    left += 1\n",
    "        return min_sum"
   ]
  },
  {
   "cell_type": "code",
   "execution_count": 2,
   "metadata": {},
   "outputs": [],
   "source": [
    "nums = [-1, 2, 1, -4]\n",
    "target = 1"
   ]
  },
  {
   "cell_type": "code",
   "execution_count": 3,
   "metadata": {},
   "outputs": [
    {
     "data": {
      "text/plain": [
       "2"
      ]
     },
     "execution_count": 3,
     "metadata": {},
     "output_type": "execute_result"
    }
   ],
   "source": [
    "Solution().threeSumClosest(nums, target)"
   ]
  },
  {
   "cell_type": "code",
   "execution_count": 4,
   "metadata": {},
   "outputs": [
    {
     "data": {
      "text/plain": [
       "2147483647"
      ]
     },
     "execution_count": 4,
     "metadata": {},
     "output_type": "execute_result"
    }
   ],
   "source": [
    "(1<<31)-1"
   ]
  },
  {
   "cell_type": "code",
   "execution_count": null,
   "metadata": {},
   "outputs": [],
   "source": []
  }
 ],
 "metadata": {
  "kernelspec": {
   "display_name": "Python 3",
   "language": "python",
   "name": "python3"
  },
  "language_info": {
   "codemirror_mode": {
    "name": "ipython",
    "version": 3
   },
   "file_extension": ".py",
   "mimetype": "text/x-python",
   "name": "python",
   "nbconvert_exporter": "python",
   "pygments_lexer": "ipython3",
   "version": "3.6.8"
  }
 },
 "nbformat": 4,
 "nbformat_minor": 2
}
