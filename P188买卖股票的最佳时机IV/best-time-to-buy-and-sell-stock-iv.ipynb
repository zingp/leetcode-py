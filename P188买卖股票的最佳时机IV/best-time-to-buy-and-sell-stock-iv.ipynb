{
 "cells": [
  {
   "cell_type": "markdown",
   "metadata": {},
   "source": [
    "## 188. 买卖股票的最佳时机 IV\n",
    "- 给定一个整数数组 prices ，它的第 i 个元素 prices[i] 是一支给定的股票在第 i 天的价格。\n",
    "- 设计一个算法来计算你所能获取的最大利润。你最多可以完成 k 笔交易。\n",
    "- 注意：你不能同时参与多笔交易（你必须在再次购买前出售掉之前的股票）。\n",
    "\n",
    "- 示例 1：\n",
    "- 输入：k = 2, prices = [2,4,1]\n",
    "- 输出：2\n",
    "- 解释：在第 1 天 (股票价格 = 2) 的时候买入，在第 2 天 (股票价格 = 4) 的时候卖出，这笔交易所能获得利润 = 4-2 = 2 。\n",
    "\n",
    "- 示例 2：\n",
    "- 输入：k = 2, prices = [3,2,6,5,0,3]\n",
    "- 输出：7\n",
    "- 解释：在第 2 天 (股票价格 = 2) 的时候买入，在第 3 天 (股票价格 = 6) 的时候卖出, 这笔交易所能获得利润 = 6-2 = 4 。\n",
    "     随后，在第 5 天 (股票价格 = 0) 的时候买入，在第 6 天 (股票价格 = 3) 的时候卖出, 这笔交易所能获得利润 = 3-0 = 3 。\n",
    "\n",
    "```\n",
    "提示：\n",
    "0 <= k <= 109\n",
    "0 <= prices.length <= 1000\n",
    "0 <= prices[i] <= 1000\n",
    "```"
   ]
  },
  {
   "cell_type": "code",
   "execution_count": null,
   "metadata": {},
   "outputs": [],
   "source": []
  }
 ],
 "metadata": {
  "kernelspec": {
   "display_name": "Python 3",
   "language": "python",
   "name": "python3"
  },
  "language_info": {
   "codemirror_mode": {
    "name": "ipython",
    "version": 3
   },
   "file_extension": ".py",
   "mimetype": "text/x-python",
   "name": "python",
   "nbconvert_exporter": "python",
   "pygments_lexer": "ipython3",
   "version": "3.6.10"
  }
 },
 "nbformat": 4,
 "nbformat_minor": 4
}
