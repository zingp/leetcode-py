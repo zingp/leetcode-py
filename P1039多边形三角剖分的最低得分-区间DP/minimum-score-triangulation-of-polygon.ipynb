{
 "cells": [
  {
   "cell_type": "markdown",
   "metadata": {},
   "source": [
    "## 1039. 多边形三角剖分的最低得分\n",
    "- 给定 N，想象一个凸 N 边多边形，其顶点按顺时针顺序依次标记为 A[0], A[i], ..., A[N-1]。\n",
    "- 假设您将多边形剖分为 N-2 个三角形。对于每个三角形，该三角形的值是顶点标记的乘积，三角剖分的分数是进行三角剖分后所有 N-2 个三角形的值之和。\n",
    "- 返回多边形进行三角剖分后可以得到的最低分。\n",
    " \n",
    "- 示例 1：\n",
    "- 输入：[1,2,3]\n",
    "- 输出：6\n",
    "- 解释：多边形已经三角化，唯一三角形的分数为 6。"
   ]
  },
  {
   "cell_type": "code",
   "execution_count": 1,
   "metadata": {},
   "outputs": [],
   "source": [
    "from typing import List"
   ]
  },
  {
   "cell_type": "code",
   "execution_count": 2,
   "metadata": {},
   "outputs": [],
   "source": [
    "class Solution:\n",
    "    def minScoreTriangulation(self, A: List[int]) -> int:\n",
    "        n = len(A)\n",
    "        dp = [[float('inf') for i in range(n)] for _ in range(n)]\n",
    "        for j in range(n):\n",
    "            for i in range(j-1, -1, -1):\n",
    "                if j - i < 2:\n",
    "                    dp[i][j] = 0\n",
    "                else:\n",
    "                    for k in range(i+1, j):\n",
    "                        dp[i][j] = min(dp[i][j], dp[i][k] + dp[k][j] + A[i]*A[k]*A[j])\n",
    "        return dp[0][n-1]"
   ]
  },
  {
   "cell_type": "code",
   "execution_count": 3,
   "metadata": {},
   "outputs": [],
   "source": [
    "A = [3,7,4,5]"
   ]
  },
  {
   "cell_type": "code",
   "execution_count": 4,
   "metadata": {},
   "outputs": [
    {
     "data": {
      "text/plain": [
       "144"
      ]
     },
     "execution_count": 4,
     "metadata": {},
     "output_type": "execute_result"
    }
   ],
   "source": [
    "Solution().minScoreTriangulation(A)"
   ]
  }
 ],
 "metadata": {
  "kernelspec": {
   "display_name": "Python 3",
   "language": "python",
   "name": "python3"
  },
  "language_info": {
   "codemirror_mode": {
    "name": "ipython",
    "version": 3
   },
   "file_extension": ".py",
   "mimetype": "text/x-python",
   "name": "python",
   "nbconvert_exporter": "python",
   "pygments_lexer": "ipython3",
   "version": "3.6.10"
  }
 },
 "nbformat": 4,
 "nbformat_minor": 4
}
