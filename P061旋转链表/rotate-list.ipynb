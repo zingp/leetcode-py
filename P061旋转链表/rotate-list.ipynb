{
 "cells": [
  {
   "cell_type": "markdown",
   "metadata": {},
   "source": [
    "## 61. 旋转链表\n",
    "- 给定一个链表，旋转链表，将链表每个节点向右移动 k 个位置，其中 k 是非负数。\n",
    "\n",
    "```\n",
    "示例 1:\n",
    "输入: 1->2->3->4->5->NULL, k = 2\n",
    "输出: 4->5->1->2->3->NULL\n",
    "\n",
    "解释:\n",
    "向右旋转 1 步: 5->1->2->3->4->NULL\n",
    "向右旋转 2 步: 4->5->1->2->3->NULL\n",
    "\n",
    "示例 2:\n",
    "输入: 0->1->2->NULL, k = 4\n",
    "输出: 2->0->1->NULL\n",
    "\n",
    "解释:\n",
    "向右旋转 1 步: 2->0->1->NULL\n",
    "向右旋转 2 步: 1->2->0->NULL\n",
    "向右旋转 3 步: 0->1->2->NULL\n",
    "向右旋转 4 步: 2->0->1->NULL\n",
    "```"
   ]
  },
  {
   "cell_type": "code",
   "execution_count": 1,
   "metadata": {},
   "outputs": [],
   "source": [
    "class ListNode:\n",
    "    def __init__(self, val=0, next=None):\n",
    "        self.val = val\n",
    "        self.next = next"
   ]
  },
  {
   "cell_type": "code",
   "execution_count": 2,
   "metadata": {},
   "outputs": [],
   "source": [
    "class Solution:\n",
    "    def rotateRight(self, head: ListNode, k: int) -> ListNode:\n",
    "        if not head or not head.next:\n",
    "            return head\n",
    "        n = 1\n",
    "        cur = head\n",
    "        while cur.next:\n",
    "            n += 1\n",
    "            cur = cur.next\n",
    "        cur.next = head\n",
    "\n",
    "        x = n - k if k < n else n - k % n\n",
    "\n",
    "        start = head\n",
    "        while x > 1:\n",
    "            start = start.next\n",
    "            x -= 1\n",
    "        new_head = start.next\n",
    "        start.next = None\n",
    "        return new_head"
   ]
  },
  {
   "cell_type": "code",
   "execution_count": null,
   "metadata": {},
   "outputs": [],
   "source": []
  }
 ],
 "metadata": {
  "kernelspec": {
   "display_name": "Python 3",
   "language": "python",
   "name": "python3"
  },
  "language_info": {
   "codemirror_mode": {
    "name": "ipython",
    "version": 3
   },
   "file_extension": ".py",
   "mimetype": "text/x-python",
   "name": "python",
   "nbconvert_exporter": "python",
   "pygments_lexer": "ipython3",
   "version": "3.6.9"
  }
 },
 "nbformat": 4,
 "nbformat_minor": 2
}
