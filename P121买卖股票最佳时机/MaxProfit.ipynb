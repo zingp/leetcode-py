{
 "cells": [
  {
   "cell_type": "markdown",
   "metadata": {},
   "source": [
    "## 121 买卖股票最佳时机\n",
    "```\n",
    "给定一个数组，它的第 i 个元素是一支给定股票第 i 天的价格。\n",
    "\n",
    "如果你最多只允许完成一笔交易（即买入和卖出一支股票），设计一个算法来计算你所能获取的最大利润。\n",
    "\n",
    "注意你不能在买入股票前卖出股票。\n",
    "\n",
    "示例 1:\n",
    "\n",
    "输入: [7,1,5,3,6,4]\n",
    "输出: 5\n",
    "解释: 在第 2 天（股票价格 = 1）的时候买入，在第 5 天（股票价格 = 6）的时候卖出，最大利润 = 6-1 = 5 。\n",
    "     注意利润不能是 7-1 = 6, 因为卖出价格需要大于买入价格。\n",
    "示例 2:\n",
    "\n",
    "输入: [7,6,4,3,1]\n",
    "输出: 0\n",
    "解释: 在这种情况下, 没有交易完成, 所以最大利润为 0。\n",
    "\n",
    "来源：力扣（LeetCode）\n",
    "链接：https://leetcode-cn.com/problems/best-time-to-buy-and-sell-stock\n",
    "\n",
    "```"
   ]
  },
  {
   "cell_type": "markdown",
   "metadata": {},
   "source": [
    "## 思路一：暴力法\n",
    "## 思路二：历史最低点\n",
    "- 用一个变量记录一个历史最低价格minprice，我们就可以假设自己的股票是在那天买的。那么我们在第 i 天卖出股票能得到的利润就是 prices[i] - minprice。"
   ]
  },
  {
   "cell_type": "code",
   "execution_count": 1,
   "metadata": {},
   "outputs": [],
   "source": [
    "from typing import List"
   ]
  },
  {
   "cell_type": "code",
   "execution_count": 2,
   "metadata": {},
   "outputs": [],
   "source": [
    "class Solution:\n",
    "    def maxProfit(self, prices: [List]) ->int:\n",
    "        if not prices:\n",
    "            return 0\n",
    "        min_price = prices[0]\n",
    "        max_profit = 0\n",
    "        for i in range(1, len(prices)):\n",
    "            if min_price > prices[i]:\n",
    "                min_price = prices[i]\n",
    "            else:\n",
    "                max_profit = max(max_profit, prices[i] - min_price)\n",
    "        return max_profit"
   ]
  },
  {
   "cell_type": "code",
   "execution_count": 3,
   "metadata": {},
   "outputs": [
    {
     "data": {
      "text/plain": [
       "0"
      ]
     },
     "execution_count": 3,
     "metadata": {},
     "output_type": "execute_result"
    }
   ],
   "source": [
    "Solution().maxProfit([7,6,4,3,1])"
   ]
  },
  {
   "cell_type": "code",
   "execution_count": 4,
   "metadata": {},
   "outputs": [
    {
     "data": {
      "text/plain": [
       "5"
      ]
     },
     "execution_count": 4,
     "metadata": {},
     "output_type": "execute_result"
    }
   ],
   "source": [
    "Solution().maxProfit([7,1,5,3,6,4])"
   ]
  },
  {
   "cell_type": "code",
   "execution_count": null,
   "metadata": {},
   "outputs": [],
   "source": []
  }
 ],
 "metadata": {
  "kernelspec": {
   "display_name": "Python 3",
   "language": "python",
   "name": "python3"
  },
  "language_info": {
   "codemirror_mode": {
    "name": "ipython",
    "version": 3
   },
   "file_extension": ".py",
   "mimetype": "text/x-python",
   "name": "python",
   "nbconvert_exporter": "python",
   "pygments_lexer": "ipython3",
   "version": "3.6.10"
  }
 },
 "nbformat": 4,
 "nbformat_minor": 2
}
