{
 "cells": [
  {
   "cell_type": "markdown",
   "metadata": {},
   "source": [
    "## 239. 滑动窗口最大值\n",
    "- 给定一个数组 nums，有一个大小为 k 的滑动窗口从数组的最左侧移动到数组的最右侧。你只可以看到在滑动窗口内的 k 个数字。滑动窗口每次只向右移动一位。\n",
    "- 返回滑动窗口中的最大值。\n",
    "\n",
    "- 进阶：\n",
    "    - 你能在线性时间复杂度内解决此题吗？\n",
    "\n",
    "- 示例:\n",
    "- 输入: nums = [1,3,-1,-3,5,3,6,7], 和 k = 3\n",
    "- 输出: [3,3,5,5,6,7] \n",
    "- 解释: \n",
    "- 滑动窗口的位置                最大值\n",
    "---------------               -----\n",
    "```\n",
    "[1  3  -1] -3  5  3  6  7       3\n",
    " 1 [3  -1  -3] 5  3  6  7       3\n",
    " 1  3 [-1  -3  5] 3  6  7       5\n",
    " 1  3  -1 [-3  5  3] 6  7       5\n",
    " 1  3  -1  -3 [5  3  6] 7       6\n",
    " 1  3  -1  -3  5 [3  6  7]      7\n",
    "```\n",
    "\n",
    "- 提示：\n",
    "- $1 <= nums.length <= 10^5$\n",
    "- $10^4 <= nums[i] <= 10^4$\n",
    "- $1 <= k <= nums.length$"
   ]
  },
  {
   "cell_type": "code",
   "execution_count": 1,
   "metadata": {},
   "outputs": [],
   "source": [
    "nums = [1,3,-1,-3,5,3,6,7]\n",
    "k = 3"
   ]
  },
  {
   "cell_type": "code",
   "execution_count": 20,
   "metadata": {},
   "outputs": [],
   "source": [
    "class Solution:\n",
    "    def maxSlidingWindow(self, nums, k):\n",
    "        ans = []\n",
    "        for i in range(0, len(nums)):\n",
    "            if i+k >= len(nums):\n",
    "                n_max = nums[i]\n",
    "                for j in range(i, len(nums)):\n",
    "                    if nums[j] > n_max:\n",
    "                        n_max = nums[j]\n",
    "                ans.append(n_max)\n",
    "                break\n",
    "            else:\n",
    "                n_max = nums[i]\n",
    "                for j in range(i, i+k):\n",
    "                    if nums[j] > n_max:\n",
    "                        n_max = nums[j]\n",
    "                ans.append(n_max)\n",
    "        return ans"
   ]
  },
  {
   "cell_type": "code",
   "execution_count": 21,
   "metadata": {},
   "outputs": [
    {
     "name": "stdout",
     "output_type": "stream",
     "text": [
      "3\n",
      "3\n",
      "5\n",
      "5\n",
      "6\n"
     ]
    },
    {
     "data": {
      "text/plain": [
       "[3, 3, 5, 5, 6, 7]"
      ]
     },
     "execution_count": 21,
     "metadata": {},
     "output_type": "execute_result"
    }
   ],
   "source": [
    "Solution().maxSlidingWindow(nums, k)"
   ]
  },
  {
   "cell_type": "code",
   "execution_count": 22,
   "metadata": {},
   "outputs": [],
   "source": [
    "class Solution:\n",
    "    def maxSlidingWindow(self, nums, k):\n",
    "        n = len(nums)\n",
    "        if n * k == 0:\n",
    "            return []\n",
    "        return [max(nums[i:i + k]) for i in range(n - k + 1)]"
   ]
  },
  {
   "cell_type": "code",
   "execution_count": 32,
   "metadata": {},
   "outputs": [],
   "source": [
    "class Solution:\n",
    "    def maxSlidingWindow(self, nums, k):\n",
    "        n = len(nums)\n",
    "        if n * k == 0:\n",
    "            return []\n",
    "        if k == 1:\n",
    "            return nums\n",
    "        \n",
    "        left = [0] * n\n",
    "        right = [0] * n\n",
    "        left[0] = nums[0]\n",
    "        right[n-1] = nums[n-1]\n",
    "        for i in range(1, n):\n",
    "            if i % k == 0:\n",
    "                left[i] = nums[i]\n",
    "            else:\n",
    "                left[i] = max(left[i-1], nums[i])\n",
    "            j = n - i - 1\n",
    "            if (j + 1) % k == 0:\n",
    "                right[j] = nums[j]\n",
    "            else:\n",
    "                right[j] = max(right[j + 1], nums[j])\n",
    "        ans = []\n",
    "        for i in range(n - k + 1):\n",
    "            ans.append(max(left[i + k - 1], right[i]))\n",
    "        return ans"
   ]
  },
  {
   "cell_type": "code",
   "execution_count": 33,
   "metadata": {},
   "outputs": [
    {
     "data": {
      "text/plain": [
       "[7, 7, 7, 7, 7]"
      ]
     },
     "execution_count": 33,
     "metadata": {},
     "output_type": "execute_result"
    }
   ],
   "source": [
    "Solution().maxSlidingWindow(nums, k)"
   ]
  },
  {
   "cell_type": "code",
   "execution_count": 34,
   "metadata": {},
   "outputs": [],
   "source": [
    "class Solution:\n",
    "    def maxSlidingWindow(self, nums, k):\n",
    "        n = len(nums)\n",
    "        if n * k == 0:\n",
    "            return []\n",
    "        if k == 1:\n",
    "            return nums\n",
    "        \n",
    "        left = [0] * n\n",
    "        left[0] = nums[0]\n",
    "        right = [0] * n\n",
    "        right[n - 1] = nums[n - 1]\n",
    "        for i in range(1, n):\n",
    "            # from left to right\n",
    "            if i % k == 0:\n",
    "                # block start\n",
    "                left[i] = nums[i]\n",
    "            else:\n",
    "                left[i] = max(left[i - 1], nums[i])\n",
    "            # from right to left\n",
    "            j = n - i - 1\n",
    "            if (j + 1) % k == 0:\n",
    "                # block end\n",
    "                right[j] = nums[j]\n",
    "            else:\n",
    "                right[j] = max(right[j + 1], nums[j])\n",
    "        \n",
    "        output = []\n",
    "        for i in range(n - k + 1):\n",
    "            output.append(max(left[i + k - 1], right[i]))\n",
    "            \n",
    "        return output\n"
   ]
  },
  {
   "cell_type": "code",
   "execution_count": 35,
   "metadata": {},
   "outputs": [
    {
     "data": {
      "text/plain": [
       "[7, 7, 7, 7, 7]"
      ]
     },
     "execution_count": 35,
     "metadata": {},
     "output_type": "execute_result"
    }
   ],
   "source": [
    "Solution().maxSlidingWindow(nums, k)"
   ]
  },
  {
   "cell_type": "code",
   "execution_count": 36,
   "metadata": {},
   "outputs": [],
   "source": [
    "nums = [-7,-8,7,5,7,1,6,0]\n",
    "k = 4"
   ]
  },
  {
   "cell_type": "code",
   "execution_count": 37,
   "metadata": {},
   "outputs": [
    {
     "data": {
      "text/plain": [
       "[7, 7, 7, 7, 7]"
      ]
     },
     "execution_count": 37,
     "metadata": {},
     "output_type": "execute_result"
    }
   ],
   "source": [
    "Solution().maxSlidingWindow(nums, k)"
   ]
  },
  {
   "cell_type": "code",
   "execution_count": null,
   "metadata": {},
   "outputs": [],
   "source": []
  }
 ],
 "metadata": {
  "kernelspec": {
   "display_name": "Python 3",
   "language": "python",
   "name": "python3"
  },
  "language_info": {
   "codemirror_mode": {
    "name": "ipython",
    "version": 3
   },
   "file_extension": ".py",
   "mimetype": "text/x-python",
   "name": "python",
   "nbconvert_exporter": "python",
   "pygments_lexer": "ipython3",
   "version": "3.6.9"
  }
 },
 "nbformat": 4,
 "nbformat_minor": 2
}
