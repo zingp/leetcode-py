{
 "cells": [
  {
   "cell_type": "markdown",
   "metadata": {},
   "source": [
    "## 85. 最大矩形\n",
    "\n",
    "- 给定一个仅包含 0 和 1 、大小为 rows x cols 的二维二进制矩阵，找出只包含 1 的最大矩形，并返回其面积。\n",
    "\n",
    "- 示例 1：\n",
    "\n",
    "- 输入：matrix = [[\"1\",\"0\",\"1\",\"0\",\"0\"],[\"1\",\"0\",\"1\",\"1\",\"1\"],[\"1\",\"1\",\"1\",\"1\",\"1\"],[\"1\",\"0\",\"0\",\"1\",\"0\"]]\n",
    "- 输出：6\n",
    "- 解释：最大矩形如上图所示。"
   ]
  },
  {
   "cell_type": "code",
   "execution_count": 1,
   "metadata": {},
   "outputs": [],
   "source": [
    "from typing import List"
   ]
  },
  {
   "cell_type": "markdown",
   "metadata": {},
   "source": [
    "## 把问题分解为rows个84题中的问题\n",
    "## 时间复杂度\n",
    "- $O(mn)$\n",
    "## 空间复杂度\n",
    "- $O(mn)$"
   ]
  },
  {
   "cell_type": "code",
   "execution_count": 2,
   "metadata": {},
   "outputs": [],
   "source": [
    "class Solution:\n",
    "    def maximalRectangle(self, matrix: List[List[str]]) -> int:\n",
    "        if len(matrix) == 0 or len(matrix[0]) == 0:\n",
    "            return 0\n",
    "        rows = len(matrix)\n",
    "        cols = len(matrix[0])\n",
    "        res = 0\n",
    "        heights = [0] * cols\n",
    "        for r in range(rows):\n",
    "            for c in range(cols):\n",
    "                if matrix[r][c] == \"1\":\n",
    "                    heights[c] += 1\n",
    "                else:\n",
    "                    heights[c] = 0\n",
    "            res = max(res, self.largestRectangleArea(heights))\n",
    "        return res\n",
    "            \n",
    "    def largestRectangleArea(self, heights: List[List[str]]) -> int:\n",
    "        n = len(heights)\n",
    "        \n",
    "        left = [0] * n\n",
    "        stack = []\n",
    "        for i in range(n):\n",
    "            while stack and heights[stack[-1]] >= heights[i]:\n",
    "                stack.pop()\n",
    "            left[i] = stack[-1] if stack else -1\n",
    "            stack.append(i)\n",
    "        \n",
    "        right = [0] * n\n",
    "        stack = []\n",
    "        for i in range(n-1, -1, -1):\n",
    "            while stack and heights[stack[-1]] >= heights[i]:\n",
    "                stack.pop()\n",
    "            right[i] = stack[-1] if stack else n\n",
    "            stack.append(i)\n",
    "        \n",
    "        return max([(right[i] - left[i] - 1)*heights[i] for i in range(n)]) if heights else 0"
   ]
  },
  {
   "cell_type": "code",
   "execution_count": 3,
   "metadata": {},
   "outputs": [],
   "source": [
    "heights = [2,1,5,6,2,3]"
   ]
  },
  {
   "cell_type": "code",
   "execution_count": 4,
   "metadata": {},
   "outputs": [
    {
     "data": {
      "text/plain": [
       "True"
      ]
     },
     "execution_count": 4,
     "metadata": {},
     "output_type": "execute_result"
    }
   ],
   "source": [
    "Solution().largestRectangleArea(heights) == 10"
   ]
  },
  {
   "cell_type": "code",
   "execution_count": 5,
   "metadata": {},
   "outputs": [],
   "source": [
    "matrix = [[\"1\",\"0\",\"1\",\"0\",\"0\"],[\"1\",\"0\",\"1\",\"1\",\"1\"],[\"1\",\"1\",\"1\",\"1\",\"1\"],[\"1\",\"0\",\"0\",\"1\",\"0\"]]"
   ]
  },
  {
   "cell_type": "code",
   "execution_count": 6,
   "metadata": {},
   "outputs": [
    {
     "data": {
      "text/plain": [
       "6"
      ]
     },
     "execution_count": 6,
     "metadata": {},
     "output_type": "execute_result"
    }
   ],
   "source": [
    "Solution().maximalRectangle(matrix)"
   ]
  },
  {
   "cell_type": "markdown",
   "metadata": {},
   "source": [
    "## 暴力法\n",
    "- 枚举每一个1为矩形右下角\n",
    "- 左边连续1的个数；然后往上只要是1就算下左边为1的个数。left = [[0]*cols for _ in range(rows)] left[i][j]表示matrix[i][j]如果是1 左边连续的1数目。"
   ]
  },
  {
   "cell_type": "code",
   "execution_count": 7,
   "metadata": {},
   "outputs": [],
   "source": [
    "class Solution:\n",
    "    def maximalRectangle(self, matrix: List[List[str]]) -> int:\n",
    "        if len(matrix) == 0 or len(matrix[0]) == 0:\n",
    "            return 0\n",
    "        rows = len(matrix)\n",
    "        cols = len(matrix[0])\n",
    "        left = [[0]*cols for _ in range(rows)]\n",
    "        for i in range(rows):\n",
    "            for j in range(cols):\n",
    "                if matrix[i][j] == \"1\":\n",
    "                    if j == 0:\n",
    "                        left[i][j] = 1\n",
    "                    else:\n",
    "                        left[i][j] = left[i][j-1] + 1\n",
    "                else:\n",
    "                    left[i][j] = 0\n",
    "        ret = 0\n",
    "        for i in range(rows):\n",
    "            for j in range(cols):\n",
    "                if matrix[i][j] == \"0\":\n",
    "                    continue\n",
    "                width = left[i][j]\n",
    "                area = width\n",
    "                k = i-1\n",
    "                while k >= 0:\n",
    "                    width = min(width, left[k][j])\n",
    "                    area = max(area, width * (i-k+1))\n",
    "                    k -= 1\n",
    "                ret = max(ret, area)\n",
    "        return ret"
   ]
  },
  {
   "cell_type": "markdown",
   "metadata": {},
   "source": [
    "## 时间复杂度\n",
    "- $O(m^2n)$\n",
    "\n",
    "## 空间复杂度\n",
    "- $O(mn)$"
   ]
  },
  {
   "cell_type": "code",
   "execution_count": null,
   "metadata": {},
   "outputs": [],
   "source": []
  }
 ],
 "metadata": {
  "kernelspec": {
   "display_name": "Python 3",
   "language": "python",
   "name": "python3"
  },
  "language_info": {
   "codemirror_mode": {
    "name": "ipython",
    "version": 3
   },
   "file_extension": ".py",
   "mimetype": "text/x-python",
   "name": "python",
   "nbconvert_exporter": "python",
   "pygments_lexer": "ipython3",
   "version": "3.6.10"
  }
 },
 "nbformat": 4,
 "nbformat_minor": 4
}
