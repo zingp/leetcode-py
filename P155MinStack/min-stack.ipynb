{
 "cells": [
  {
   "cell_type": "markdown",
   "metadata": {},
   "source": [
    "## 155. 最小栈\n",
    "- 设计一个支持 push ，pop ，top 操作，并能在常数时间内检索到最小元素的栈。\n",
    "- push(x) —— 将元素 x 推入栈中。\n",
    "- pop() —— 删除栈顶的元素。\n",
    "- top() —— 获取栈顶元素。\n",
    "- getMin() —— 检索栈中的最小元素。\n",
    "----------\n",
    "- 输入：\n",
    "- [\"MinStack\",\"push\",\"push\",\"push\",\"getMin\",\"pop\",\"top\",\"getMin\"]\n",
    "- [[],[-2],[0],[-3],[],[],[],[]]\n",
    "\n",
    "- 输出：\n",
    "- [null,null,null,null,-3,null,0,-2]\n",
    "------\n",
    "- 解释：\n",
    "- MinStack minStack = new MinStack();\n",
    "- minStack.push(-2);\n",
    "- minStack.push(0);\n",
    "- minStack.push(-3);\n",
    "- minStack.getMin();   --> 返回 -3.\n",
    "- minStack.pop();\n",
    "- minStack.top();      --> 返回 0.\n",
    "- minStack.getMin();   --> 返回 -2.\n",
    "\n",
    "- 来源：力扣（LeetCode）\n",
    "- 链接：https://leetcode-cn.com/problems/min-stack"
   ]
  },
  {
   "cell_type": "markdown",
   "metadata": {},
   "source": [
    "##  解法：\n",
    "- 一个栈，元素为（当前元素，以及栈内最小元素）"
   ]
  },
  {
   "cell_type": "code",
   "execution_count": 1,
   "metadata": {},
   "outputs": [],
   "source": [
    "class MinStack:\n",
    "\n",
    "    def __init__(self):\n",
    "        \"\"\"\n",
    "        initialize your data structure here.\n",
    "        \"\"\"\n",
    "        self.stack = []\n",
    "        \n",
    "    def push(self, x: int) -> None:\n",
    "        if not self.stack:\n",
    "            self.stack.append([x, x])\n",
    "        else:\n",
    "            self.stack.append([x, min(self.stackck[-1][-1], x)])\n",
    "\n",
    "    def pop(self) -> None:\n",
    "        self.stack.pop()\n",
    "\n",
    "    def top(self) -> int:\n",
    "        return self.stack[-1][0]\n",
    "\n",
    "    def getMin(self) -> int:\n",
    "        return self.stack[-1][-1]"
   ]
  },
  {
   "cell_type": "code",
   "execution_count": null,
   "metadata": {},
   "outputs": [],
   "source": []
  }
 ],
 "metadata": {
  "kernelspec": {
   "display_name": "Python 3",
   "language": "python",
   "name": "python3"
  },
  "language_info": {
   "codemirror_mode": {
    "name": "ipython",
    "version": 3
   },
   "file_extension": ".py",
   "mimetype": "text/x-python",
   "name": "python",
   "nbconvert_exporter": "python",
   "pygments_lexer": "ipython3",
   "version": "3.6.9"
  }
 },
 "nbformat": 4,
 "nbformat_minor": 2
}
