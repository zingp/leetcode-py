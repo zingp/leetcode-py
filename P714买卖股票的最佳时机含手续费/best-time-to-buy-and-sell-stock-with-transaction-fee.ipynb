{
 "cells": [
  {
   "cell_type": "markdown",
   "metadata": {},
   "source": [
    "## 714. 买卖股票的最佳时机含手续费\n",
    "- 给定一个整数数组 prices，其中第 i 个元素代表了第 i 天的股票价格 ；非负整数 fee 代表了交易股票的手续费用。\n",
    "- 你可以无限次地完成交易，但是你每笔交易都需要付手续费。如果你已经购买了一个股票，在卖出它之前你就不能再继续购买股票了。\n",
    "- 返回获得利润的最大值。\n",
    "- 注意：这里的一笔交易指买入持有并卖出股票的整个过程，每笔交易你只需要为支付一次手续费。\n",
    "\n",
    "- 示例 1:\n",
    "- 输入: prices = [1, 3, 2, 8, 4, 9], fee = 2\n",
    "- 输出: 8\n",
    "- 解释: 能够达到的最大利润:  \n",
    "- 在此处买入 prices[0] = 1\n",
    "- 在此处卖出 prices[3] = 8\n",
    "- 在此处买入 prices[4] = 4\n",
    "- 在此处卖出 prices[5] = 9\n",
    "- 总利润: ((8 - 1) - 2) + ((9 - 4) - 2) = 8.\n",
    "\n",
    "- 注意:\n",
    "```\n",
    "0 < prices.length <= 50000.\n",
    "0 < prices[i] < 50000.\n",
    "0 <= fee < 50000.\n",
    "```"
   ]
  },
  {
   "cell_type": "code",
   "execution_count": 1,
   "metadata": {},
   "outputs": [],
   "source": [
    "from typing import List"
   ]
  },
  {
   "cell_type": "code",
   "execution_count": 2,
   "metadata": {},
   "outputs": [],
   "source": [
    "class Solution:\n",
    "    def maxProfit(self, prices: List[int], fee: int) -> int:\n",
    "        if not prices:\n",
    "            return 0\n",
    "        n = len(prices)\n",
    "        dp = [[False, False] for _ in range(n)]\n",
    "        dp[0][0] = 0\n",
    "        dp[0][1] = -prices[0]\n",
    "        for i in range(1, n):\n",
    "            dp[i][0] = max(dp[i-1][1] + prices[i] - fee, dp[i-1][0])\n",
    "            dp[i][1] = max(dp[i-1][0] - prices[i], dp[i-1][1])\n",
    "        return dp[-1][0]"
   ]
  },
  {
   "cell_type": "code",
   "execution_count": 3,
   "metadata": {},
   "outputs": [],
   "source": [
    "prices = [1, 3, 2, 8, 4, 9]\n",
    "fee = 2"
   ]
  },
  {
   "cell_type": "code",
   "execution_count": 4,
   "metadata": {},
   "outputs": [
    {
     "data": {
      "text/plain": [
       "True"
      ]
     },
     "execution_count": 4,
     "metadata": {},
     "output_type": "execute_result"
    }
   ],
   "source": [
    "Solution().maxProfit(prices, fee) == 8"
   ]
  },
  {
   "cell_type": "code",
   "execution_count": 7,
   "metadata": {},
   "outputs": [],
   "source": [
    "class Solution:\n",
    "    def maxProfit(self, prices: List[int], fee: int) -> int:\n",
    "        n = len(prices)\n",
    "        dp = [[False, False] for _ in range(n)]\n",
    "        dp_last_0 = 0\n",
    "        dp_last_1 = -prices[0]\n",
    "        for i in range(1, n):\n",
    "            dp0 = max(dp_last_1 + prices[i] - fee, dp_last_0)\n",
    "            dp1 = max(dp_last_0 - prices[i], dp_last_1)\n",
    "            dp_last_0 = dp0\n",
    "            dp_last_1 = dp1\n",
    "        return dp_last_0"
   ]
  },
  {
   "cell_type": "code",
   "execution_count": 8,
   "metadata": {},
   "outputs": [
    {
     "data": {
      "text/plain": [
       "8"
      ]
     },
     "execution_count": 8,
     "metadata": {},
     "output_type": "execute_result"
    }
   ],
   "source": [
    "Solution().maxProfit(prices, fee)"
   ]
  },
  {
   "cell_type": "code",
   "execution_count": null,
   "metadata": {},
   "outputs": [],
   "source": []
  }
 ],
 "metadata": {
  "kernelspec": {
   "display_name": "Python 3",
   "language": "python",
   "name": "python3"
  },
  "language_info": {
   "codemirror_mode": {
    "name": "ipython",
    "version": 3
   },
   "file_extension": ".py",
   "mimetype": "text/x-python",
   "name": "python",
   "nbconvert_exporter": "python",
   "pygments_lexer": "ipython3",
   "version": "3.6.10"
  }
 },
 "nbformat": 4,
 "nbformat_minor": 4
}
