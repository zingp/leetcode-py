{
 "cells": [
  {
   "cell_type": "markdown",
   "metadata": {},
   "source": [
    "## 最长回文子序列\n",
    "- 给定一个字符串 s ，找到其中最长的回文子序列，并返回该序列的长度。可以假设 s 的最大长度为 1000 。\n",
    "- 示例 1:\n",
    "    - 输入: \"bbbab\"\n",
    "    - 输出: 4\n",
    "    - 一个可能的最长回文子序列为 \"bbbb\"。\n",
    "\n",
    "- 示例 2:\n",
    "    - 输入: \"cbbd\"\n",
    "    - 输出: 2\n",
    "    - 一个可能的最长回文子序列为 \"bb\"。\n",
    "- 提示：\n",
    "- 1 <= s.length <= 1000\n",
    "- s 只包含小写英文字母\n",
    "\n",
    "- 来源：力扣（LeetCode）\n",
    "- 链接：https://leetcode-cn.com/problems/longest-palindromic-subsequence"
   ]
  },
  {
   "cell_type": "markdown",
   "metadata": {},
   "source": [
    "## 动态规划\n",
    "- 状态：\n",
    "    - $f[i][j]$ 表示 s 的第 i 个字符到第 j 个字符组成的子串中，最长的回文序列长度是多少。\n",
    "- 转移方程\n",
    "    - 如果 s 的第 i 个字符和第 j 个字符相同的话:$f[i][j] = f[i + 1][j - 1] + 2$\n",
    "\n",
    "    - 如果 s 的第 i 个字符和第 j 个字符不同的话:$f[i][j] = max(f[i + 1][j], f[i][j - 1])$\n",
    "\n",
    "    - 然后注意遍历顺序，i 从最后一个字符开始往前遍历，j 从 i + 1 开始往后遍历，这样可以保证每个子问题都已经算好了。\n",
    "- 初始化\n",
    "- 结果 \n",
    "    - f[0][n-1]"
   ]
  },
  {
   "cell_type": "code",
   "execution_count": 1,
   "metadata": {},
   "outputs": [],
   "source": [
    "class Solution:\n",
    "    def longestPalindromeSubseq(self, s: str) -> int:\n",
    "        if not s:\n",
    "            return 0\n",
    "        n = len(s)\n",
    "        f = [[0]*n for _ in range(n)]\n",
    "        for i in range(n-1, -1, -1):\n",
    "            f[i][i] = 1\n",
    "            for j in range(i+1, n):\n",
    "                if s[i] == s[j]:\n",
    "                    f[i][j] = f[i+1][j-1] + 2\n",
    "                else:\n",
    "                    f[i][j] = max(f[i+1][j], f[i][j-1])\n",
    "        return f[0][n-1]              "
   ]
  },
  {
   "cell_type": "code",
   "execution_count": 2,
   "metadata": {},
   "outputs": [],
   "source": [
    "s = \"bbbab\""
   ]
  },
  {
   "cell_type": "code",
   "execution_count": 3,
   "metadata": {},
   "outputs": [
    {
     "data": {
      "text/plain": [
       "4"
      ]
     },
     "execution_count": 3,
     "metadata": {},
     "output_type": "execute_result"
    }
   ],
   "source": [
    "Solution().longestPalindromeSubseq(s)"
   ]
  },
  {
   "cell_type": "markdown",
   "metadata": {},
   "source": [
    "## 空间优化"
   ]
  },
  {
   "cell_type": "code",
   "execution_count": 4,
   "metadata": {},
   "outputs": [],
   "source": [
    "class Solution:\n",
    "    def longestPalindromeSubseq(self, s: str) -> int:\n",
    "        n = len(s)\n",
    "        if n <= 1 or s[::-1] == s:\n",
    "            return n\n",
    "        \n",
    "        dp = [0] * n\n",
    "        for i in range(n-1, -1, -1):\n",
    "            temp = 0  \n",
    "            dp[i] = 1            \n",
    "            for j in range(i+1, n):\n",
    "                if s[i] == s[j]:\n",
    "                    temp, dp[j] = dp[j], temp + 2\n",
    "                else:\n",
    "                    temp = dp[j]\n",
    "                    if dp[j-1] > dp[j]:\n",
    "                        dp[j] = dp[j-1]\n",
    "        return dp[-1]"
   ]
  },
  {
   "cell_type": "code",
   "execution_count": 5,
   "metadata": {},
   "outputs": [
    {
     "data": {
      "text/plain": [
       "4"
      ]
     },
     "execution_count": 5,
     "metadata": {},
     "output_type": "execute_result"
    }
   ],
   "source": [
    "Solution().longestPalindromeSubseq(s)"
   ]
  },
  {
   "cell_type": "code",
   "execution_count": null,
   "metadata": {},
   "outputs": [],
   "source": []
  }
 ],
 "metadata": {
  "kernelspec": {
   "display_name": "Python 3",
   "language": "python",
   "name": "python3"
  },
  "language_info": {
   "codemirror_mode": {
    "name": "ipython",
    "version": 3
   },
   "file_extension": ".py",
   "mimetype": "text/x-python",
   "name": "python",
   "nbconvert_exporter": "python",
   "pygments_lexer": "ipython3",
   "version": "3.6.10"
  }
 },
 "nbformat": 4,
 "nbformat_minor": 4
}
