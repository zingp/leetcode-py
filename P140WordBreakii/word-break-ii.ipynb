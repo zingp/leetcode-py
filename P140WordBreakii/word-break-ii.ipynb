{
 "cells": [
  {
   "cell_type": "markdown",
   "metadata": {},
   "source": [
    "# 单词拆分2\n",
    "---\n",
    "- 给定一个非空字符串 s 和一个包含非空单词列表的字典 wordDict，在字符串中增加空格来构建一个句子，使得句子中所有的单词都在词典中。返回所有这些可能的句子。\n",
    "\n",
    "- 说明：\n",
    "    - 分隔时可以重复使用字典中的单词。\n",
    "    - 你可以假设字典中没有重复的单词。\n",
    "    \n",
    "- 示例 1：\n",
    "    - 输入:\n",
    "    - s = \"catsanddog\"\n",
    "    - wordDict = [\"cat\", \"cats\", \"and\", \"sand\", \"dog\"]\n",
    "    - 输出:\n",
    "```python\n",
    "[\n",
    "  \"cats and dog\",\n",
    "  \"cat sand dog\"\n",
    "]\n",
    "```\n",
    "\n",
    "- 示例 2：\n",
    "    - 输入:\n",
    "    - s = \"pineapplepenapple\"\n",
    "    - wordDict = [\"apple\", \"pen\", \"applepen\", \"pine\", \"pineapple\"]\n",
    "    - 输出:\n",
    "    ```\n",
    "    [\n",
    "      \"pine apple pen apple\",\n",
    "      \"pineapple pen apple\",\n",
    "      \"pine applepen apple\"\n",
    "    ]\n",
    "    ```\n",
    "    - 解释: 注意你可以重复使用字典中的单词。\n",
    "    \n",
    "\n",
    "- 示例 3：\n",
    "    - 输入:\n",
    "    - s = \"catsandog\"\n",
    "    - wordDict = [\"cats\", \"dog\", \"sand\", \"and\", \"cat\"]\n",
    "    - 输出:\n",
    "    - []\n",
    "\n",
    "- 来源：力扣（LeetCode）\n",
    "- 链接：https://leetcode-cn.com/problems/word-break-ii\n",
    "- 著作权归领扣网络所有。商业转载请联系官方授权，非商业转载请注明出处。"
   ]
  },
  {
   "cell_type": "code",
   "execution_count": 1,
   "metadata": {},
   "outputs": [],
   "source": [
    "s = \"catsanddog\"\n",
    "wordDict = [\"cat\", \"cats\", \"and\", \"sand\", \"dog\"]"
   ]
  },
  {
   "cell_type": "code",
   "execution_count": 2,
   "metadata": {},
   "outputs": [],
   "source": [
    "class Solution:\n",
    "    def WordBreak(self, s, wordDict):\n",
    "        n = len(s)\n",
    "        hash_set = set(wordDict)\n",
    "        def isWordBreak(s, wordDict):\n",
    "            # dp[i]表示字符串s前i个字符是否可以拆分,注意dp[0]\n",
    "            dp = [False for i in range(n+1)]\n",
    "            dp[0] = True\n",
    "            for i in range(1, n+1):\n",
    "                for j in range(i-1, -1, -1):\n",
    "                    if dp[j] and (s[j:i] in hash_set):\n",
    "                        dp[i] = True\n",
    "                        break\n",
    "            return dp[-1]\n",
    "        if not isWordBreak(s, wordDict):\n",
    "            return []\n",
    "        # dp[i]表示字符串s前i个字符所有拆分情况的列表，注意dp[0]\n",
    "        dp = [[] for i in range(n+1)]\n",
    "        dp[0] =[\"\"]\n",
    "        for i in range(1, n + 1):\n",
    "            for j in range(i-1, -1, -1):\n",
    "                if s[j:i] in hash_set:\n",
    "                    for sub in dp[j]:\n",
    "                        if sub:\n",
    "                            dp[i].append(sub + \" \" + s[j:i])\n",
    "                        else:\n",
    "                            dp[i].append(s[j:i])\n",
    "        return dp[-1]\n",
    "        "
   ]
  },
  {
   "cell_type": "code",
   "execution_count": 3,
   "metadata": {},
   "outputs": [
    {
     "data": {
      "text/plain": [
       "['cats and dog', 'cat sand dog']"
      ]
     },
     "execution_count": 3,
     "metadata": {},
     "output_type": "execute_result"
    }
   ],
   "source": [
    "Solution().WordBreak(s, wordDict)"
   ]
  },
  {
   "cell_type": "code",
   "execution_count": null,
   "metadata": {},
   "outputs": [],
   "source": []
  }
 ],
 "metadata": {
  "kernelspec": {
   "display_name": "Python 3",
   "language": "python",
   "name": "python3"
  },
  "language_info": {
   "codemirror_mode": {
    "name": "ipython",
    "version": 3
   },
   "file_extension": ".py",
   "mimetype": "text/x-python",
   "name": "python",
   "nbconvert_exporter": "python",
   "pygments_lexer": "ipython3",
   "version": "3.6.9"
  }
 },
 "nbformat": 4,
 "nbformat_minor": 2
}
