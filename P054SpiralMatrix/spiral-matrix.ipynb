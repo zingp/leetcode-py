{
 "cells": [
  {
   "cell_type": "markdown",
   "metadata": {},
   "source": [
    "## 54. 螺旋矩阵-2\n",
    "- 给定一个包含 m x n 个元素的矩阵（m 行, n 列），请按照顺时针螺旋顺序，返回矩阵中的所有元素。\n",
    "\n",
    "- 示例 1:\n",
    "- 输入:\n",
    "```\n",
    "[\n",
    " [ 1, 2, 3 ],\n",
    " [ 4, 5, 6 ],\n",
    " [ 7, 8, 9 ]\n",
    "]\n",
    "```\n",
    "- 输出: [1,2,3,6,9,8,7,4,5]\n",
    "    \n",
    "- 示例 2:\n",
    "- 输入:\n",
    "```\n",
    "[\n",
    "  [1, 2, 3, 4],\n",
    "  [5, 6, 7, 8],\n",
    "  [9,10,11,12]\n",
    "]\n",
    "```\n",
    "- 输出: [1,2,3,4,8,12,11,10,9,5,6,7]\n",
    "\n",
    "## 要考虑清楚边界问题\n",
    "- 看成一圈一圈走，注意边界问题"
   ]
  },
  {
   "cell_type": "code",
   "execution_count": 1,
   "metadata": {},
   "outputs": [],
   "source": [
    "class Solution:\n",
    "    def spiralOrder(self, matrix):\n",
    "        if not matrix:\n",
    "            return []\n",
    "        if not matrix[0]:\n",
    "            return []\n",
    "        results = []\n",
    "        row = len(matrix)\n",
    "        col = len(matrix[0])\n",
    "        left, right, top, bottom = 0, col-1, 0, row-1\n",
    "        while left <= right and top <= bottom:\n",
    "            # 从左往右\n",
    "            for c in range(left, right+1):\n",
    "                results.append(matrix[left][c])\n",
    "            # 从上往下\n",
    "            for r in range(top+1, bottom+1):\n",
    "                results.append(matrix[r][right])\n",
    "            # 从右往左的时候需要判断不是之前走过的一行，也不是前面走过的一列\n",
    "            if left < right and top < bottom:\n",
    "                for c in range(right-1, left, -1):\n",
    "                    results.append(matrix[bottom][c])\n",
    "                for r in range(bottom, top, -1):\n",
    "                    results.append(matrix[r][left])\n",
    "            left += 1\n",
    "            right -= 1\n",
    "            top += 1\n",
    "            bottom -= 1\n",
    "        return results"
   ]
  },
  {
   "cell_type": "code",
   "execution_count": 2,
   "metadata": {},
   "outputs": [],
   "source": [
    "inp = [\n",
    "[1, 2, 3, 4],\n",
    "[5, 6, 7, 8],\n",
    "[9,10,11,12]\n",
    "]"
   ]
  },
  {
   "cell_type": "code",
   "execution_count": 3,
   "metadata": {},
   "outputs": [
    {
     "data": {
      "text/plain": [
       "[1, 2, 3, 4, 8, 12, 11, 10, 9, 5, 6, 7]"
      ]
     },
     "execution_count": 3,
     "metadata": {},
     "output_type": "execute_result"
    }
   ],
   "source": [
    "Solution().spiralOrder(inp)"
   ]
  },
  {
   "cell_type": "code",
   "execution_count": 4,
   "metadata": {},
   "outputs": [],
   "source": [
    "inp = [\n",
    " [ 1, 2, 3 ],\n",
    " [ 4, 5, 6 ],\n",
    " [ 7, 8, 9 ]\n",
    "]"
   ]
  },
  {
   "cell_type": "code",
   "execution_count": 5,
   "metadata": {},
   "outputs": [
    {
     "data": {
      "text/plain": [
       "[1, 2, 3, 6, 9, 8, 7, 4, 5]"
      ]
     },
     "execution_count": 5,
     "metadata": {},
     "output_type": "execute_result"
    }
   ],
   "source": [
    "Solution().spiralOrder(inp)"
   ]
  },
  {
   "cell_type": "code",
   "execution_count": 6,
   "metadata": {},
   "outputs": [],
   "source": [
    "inp = [[6,9,7]]"
   ]
  },
  {
   "cell_type": "code",
   "execution_count": 7,
   "metadata": {},
   "outputs": [
    {
     "data": {
      "text/plain": [
       "[6, 9, 7]"
      ]
     },
     "execution_count": 7,
     "metadata": {},
     "output_type": "execute_result"
    }
   ],
   "source": [
    "Solution().spiralOrder(inp)"
   ]
  },
  {
   "cell_type": "code",
   "execution_count": null,
   "metadata": {},
   "outputs": [],
   "source": []
  }
 ],
 "metadata": {
  "kernelspec": {
   "display_name": "Python 3",
   "language": "python",
   "name": "python3"
  },
  "language_info": {
   "codemirror_mode": {
    "name": "ipython",
    "version": 3
   },
   "file_extension": ".py",
   "mimetype": "text/x-python",
   "name": "python",
   "nbconvert_exporter": "python",
   "pygments_lexer": "ipython3",
   "version": "3.6.9"
  }
 },
 "nbformat": 4,
 "nbformat_minor": 2
}
