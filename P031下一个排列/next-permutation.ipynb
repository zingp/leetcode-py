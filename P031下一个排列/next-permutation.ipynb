{
 "cells": [
  {
   "cell_type": "markdown",
   "metadata": {},
   "source": [
    "## 31. 下一个排列\n",
    "- 实现获取 下一个排列 的函数，算法需要将给定数字序列重新排列成字典序中下一个更大的排列。\n",
    "- 如果不存在下一个更大的排列，则将数字重新排列成最小的排列（即升序排列）。\n",
    "- 必须 原地 修改，只允许使用额外常数空间。\n",
    "\n",
    "```\n",
    "示例 1：\n",
    "输入：nums = [1,2,3]\n",
    "输出：[1,3,2]\n",
    "\n",
    "示例 2：\n",
    "输入：nums = [3,2,1]\n",
    "输出：[1,2,3]\n",
    "\n",
    "示例 3：\n",
    "输入：nums = [1,1,5]\n",
    "输出：[1,5,1]\n",
    "\n",
    "示例 4：\n",
    "输入：nums = [1]\n",
    "输出：[1]\n",
    " \n",
    "452631 -->453621 --> 453126\n",
    "\n",
    "提示：\n",
    "1 <= nums.length <= 100\n",
    "0 <= nums[i] <= 100\n",
    "```"
   ]
  },
  {
   "cell_type": "code",
   "execution_count": 1,
   "metadata": {},
   "outputs": [],
   "source": [
    "nums = [4, 5, 2, 6, 3, 1]"
   ]
  },
  {
   "cell_type": "code",
   "execution_count": 2,
   "metadata": {},
   "outputs": [],
   "source": [
    "class Solution:\n",
    "    def nextPermutation(self, nums):\n",
    "        \"\"\"\n",
    "        1.首先从后向前查找第一个顺序对 (i,i+1)，满足 a[i] < a[i+1]。\n",
    "          这样「较小数」即为 a[i]。此时 [i+1,n)必然是下降序列。\n",
    "\n",
    "        2.如果找到了顺序对，那么在区间 [i+1, n)中从后向前查找第一个元素 j满足 a[i] < a[j]。这样「较大数」即为 a[j]a[j]。\n",
    "\n",
    "        3.交换 a[i]与 a[j]，此时可以证明区间 [i+1,n)必为降序。\n",
    "          我们可以直接使用双指针反转区间 [i+1,n)[i+1,n) 使其变为升序，而无需对该区间进行排序。\n",
    "        \"\"\"\n",
    "        if len(nums) <= 1:\n",
    "            return nums\n",
    "\n",
    "        n = len(nums)-1\n",
    "        i = n - 1\n",
    "        j = n\n",
    "        while i >= 0 and nums[i] >= nums[i+1]:\n",
    "            i -= 1\n",
    "        if i >= 0:\n",
    "            while j > i and nums[i] >= nums[j]:\n",
    "                j -= 1\n",
    "            nums[i], nums[j] = nums[j], nums[i]\n",
    "        left, right = i + 1, n\n",
    "        while left < right:\n",
    "            nums[left], nums[right] = nums[right], nums[left]\n",
    "            left += 1\n",
    "            right -= 1"
   ]
  },
  {
   "cell_type": "code",
   "execution_count": 3,
   "metadata": {},
   "outputs": [],
   "source": [
    "Solution().nextPermutation(nums)"
   ]
  },
  {
   "cell_type": "code",
   "execution_count": 4,
   "metadata": {},
   "outputs": [
    {
     "data": {
      "text/plain": [
       "[4, 5, 3, 1, 2, 6]"
      ]
     },
     "execution_count": 4,
     "metadata": {},
     "output_type": "execute_result"
    }
   ],
   "source": [
    "nums"
   ]
  },
  {
   "cell_type": "code",
   "execution_count": null,
   "metadata": {},
   "outputs": [],
   "source": []
  }
 ],
 "metadata": {
  "kernelspec": {
   "display_name": "Python 3",
   "language": "python",
   "name": "python3"
  },
  "language_info": {
   "codemirror_mode": {
    "name": "ipython",
    "version": 3
   },
   "file_extension": ".py",
   "mimetype": "text/x-python",
   "name": "python",
   "nbconvert_exporter": "python",
   "pygments_lexer": "ipython3",
   "version": "3.6.9"
  }
 },
 "nbformat": 4,
 "nbformat_minor": 2
}
