{
 "cells": [
  {
   "cell_type": "markdown",
   "metadata": {},
   "source": [
    "## 51-52 N皇后问题\n",
    "- n 皇后问题研究的是如何将 n 个皇后放置在 n×n 的棋盘上，并且使皇后彼此之间不能相互攻击。\n",
    "- 给定一个整数 n，返回所有不同的 n 皇后问题的解决方案。\n",
    "- 每一种解法包含一个明确的 n 皇后问题的棋子放置方案，该方案中 'Q' 和 '.' 分别代表了皇后和空位。\n",
    "\n",
    "## 解决办法\n",
    "- 递归\n",
    "- 剪枝"
   ]
  },
  {
   "cell_type": "code",
   "execution_count": 1,
   "metadata": {},
   "outputs": [],
   "source": [
    "class Solution:\n",
    "    def solveNQueens(self, n):\n",
    "        results = []\n",
    "        cols, pie, na = set(), set(), set()\n",
    "        def dfs(i, li):\n",
    "            if i >= n:\n",
    "                results.append(li)\n",
    "                return\n",
    "            for j in range(n):\n",
    "                if j not in cols and j + i not in pie and i-j not in na:\n",
    "                    cols.add(j)\n",
    "                    pie.add(i+j)\n",
    "                    na.add(i-j)\n",
    "                    dfs(i+1, li + [j])\n",
    "                    cols.remove(j)\n",
    "                    pie.remove(i+j)\n",
    "                    na.remove(i-j)   \n",
    "        dfs(0, [])\n",
    "        return [[\".\"*i + \"Q\"+ \".\"*(len(line)-i-1)  for i in line] for line in results]"
   ]
  },
  {
   "cell_type": "code",
   "execution_count": 2,
   "metadata": {},
   "outputs": [],
   "source": [
    "results = Solution().solveNQueens(4)"
   ]
  },
  {
   "cell_type": "code",
   "execution_count": 3,
   "metadata": {},
   "outputs": [
    {
     "data": {
      "text/plain": [
       "[['.Q..', '...Q', 'Q...', '..Q.'], ['..Q.', 'Q...', '...Q', '.Q..']]"
      ]
     },
     "execution_count": 3,
     "metadata": {},
     "output_type": "execute_result"
    }
   ],
   "source": [
    "results"
   ]
  },
  {
   "cell_type": "markdown",
   "metadata": {},
   "source": [
    "## 52 N皇后问题有多少种解法"
   ]
  },
  {
   "cell_type": "code",
   "execution_count": 4,
   "metadata": {},
   "outputs": [],
   "source": [
    "class Solution:\n",
    "    def solveNQueens(self, n):\n",
    "        results = []\n",
    "        cols, pie, na = set(), set(), set()\n",
    "        def dfs(i, li):\n",
    "            if i >= n:\n",
    "                results.append(li)\n",
    "                return\n",
    "            for j in range(n):\n",
    "                if j not in cols and j + i not in pie and i-j not in na:\n",
    "                    cols.add(j)\n",
    "                    pie.add(i+j)\n",
    "                    na.add(i-j)\n",
    "                    dfs(i+1, li + [j])\n",
    "                    cols.remove(j)\n",
    "                    pie.remove(i+j)\n",
    "                    na.remove(i-j)   \n",
    "        dfs(0, [])\n",
    "        return len(results)"
   ]
  },
  {
   "cell_type": "code",
   "execution_count": 5,
   "metadata": {},
   "outputs": [
    {
     "data": {
      "text/plain": [
       "92"
      ]
     },
     "execution_count": 5,
     "metadata": {},
     "output_type": "execute_result"
    }
   ],
   "source": [
    "Solution().solveNQueens(8)"
   ]
  },
  {
   "cell_type": "code",
   "execution_count": null,
   "metadata": {},
   "outputs": [],
   "source": []
  }
 ],
 "metadata": {
  "kernelspec": {
   "display_name": "Python 3",
   "language": "python",
   "name": "python3"
  },
  "language_info": {
   "codemirror_mode": {
    "name": "ipython",
    "version": 3
   },
   "file_extension": ".py",
   "mimetype": "text/x-python",
   "name": "python",
   "nbconvert_exporter": "python",
   "pygments_lexer": "ipython3",
   "version": "3.6.9"
  }
 },
 "nbformat": 4,
 "nbformat_minor": 2
}
