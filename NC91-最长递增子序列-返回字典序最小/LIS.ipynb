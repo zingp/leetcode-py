{
 "cells": [
  {
   "cell_type": "markdown",
   "metadata": {},
   "source": [
    "## 最长递增子序列\n",
    "- 给定数组arr，设长度为n，输出arr的最长递增子序列。（如果有多个答案，请输出其中字典序最小的）\n",
    "- 示例1\n",
    "- 输入 [2,1,5,3,6,4,8,9,7]\n",
    "- 返回值 [1,3,4,8,9]"
   ]
  },
  {
   "cell_type": "code",
   "execution_count": 1,
   "metadata": {},
   "outputs": [],
   "source": [
    "arr = [2, 1, 5, 3, 6, 4, 8, 9, 7]"
   ]
  },
  {
   "cell_type": "code",
   "execution_count": 2,
   "metadata": {},
   "outputs": [],
   "source": [
    "def LIS(arr):\n",
    "    n = len(arr)\n",
    "    dp = [1] * n         # dp[i]=k 表示以arr[i]结尾的最长递增子序列长度\n",
    "    end = [0] * (n + 1)  # end[k]=i  表示长度为k的递增子序列的末尾最小数为i\n",
    "    end[1] = arr[0]\n",
    "    _max = 1\n",
    "    idx = 0\n",
    "    for i in range(1, n):\n",
    "        cur_v = arr[i]\n",
    "        left = 1\n",
    "        right = _max\n",
    "        # 寻找end中 第一个比cur_v大的数\n",
    "        while left <= right:\n",
    "            mid = (left + right) // 2\n",
    "            if end[mid] < cur_v:\n",
    "                left = mid + 1\n",
    "            else:\n",
    "                right = mid - 1\n",
    "        end[left] = cur_v   # end[left]就是第一个比cur_v大的数\n",
    "        dp[i] = left   # 以i结尾的数组 最长的递增子序列长度为left\n",
    "        \n",
    "        # 后来的arr[]总是字典序更小\n",
    "        if left > _max:\n",
    "            _max = left\n",
    "            idx = i\n",
    "    \n",
    "    ans = [0]*_max\n",
    "    for i in range(idx, -1, -1):\n",
    "        if dp[i] == _max:\n",
    "            ans[_max-1] = arr[i]\n",
    "            _max -= 1\n",
    "    return ans   "
   ]
  },
  {
   "cell_type": "code",
   "execution_count": 3,
   "metadata": {},
   "outputs": [
    {
     "data": {
      "text/plain": [
       "[1, 3, 4, 8, 9]"
      ]
     },
     "execution_count": 3,
     "metadata": {},
     "output_type": "execute_result"
    }
   ],
   "source": [
    "LIS(arr)"
   ]
  },
  {
   "cell_type": "code",
   "execution_count": null,
   "metadata": {},
   "outputs": [],
   "source": []
  }
 ],
 "metadata": {
  "kernelspec": {
   "display_name": "Python 3",
   "language": "python",
   "name": "python3"
  },
  "language_info": {
   "codemirror_mode": {
    "name": "ipython",
    "version": 3
   },
   "file_extension": ".py",
   "mimetype": "text/x-python",
   "name": "python",
   "nbconvert_exporter": "python",
   "pygments_lexer": "ipython3",
   "version": "3.6.9"
  }
 },
 "nbformat": 4,
 "nbformat_minor": 2
}
