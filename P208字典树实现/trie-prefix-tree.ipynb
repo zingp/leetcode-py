{
 "cells": [
  {
   "cell_type": "markdown",
   "metadata": {},
   "source": [
    "## 208. 实现 Trie (前缀树)\n",
    "\n",
    "- 实现一个 Trie (前缀树)，包含 insert, search, 和 startsWith 这三个操作。\n",
    "\n",
    "- 示例:\n",
    "    - Trie trie = new Trie();\n",
    "    - trie.insert(\"apple\");\n",
    "    - trie.search(\"apple\");   // 返回 true\n",
    "    - trie.search(\"app\");     // 返回 false\n",
    "    - trie.startsWith(\"app\"); // 返回 true\n",
    "    - trie.insert(\"app\");   \n",
    "    - trie.search(\"app\");     // 返回 true\n",
    "\n",
    "- 说明:\n",
    "    - 你可以假设所有的输入都是由小写字母 a-z 构成的。\n",
    "    - 保证所有输入均为非空字符串。"
   ]
  },
  {
   "cell_type": "markdown",
   "metadata": {},
   "source": [
    "## 前缀树或字典树\n",
    "- trie，又称前缀树或字典树，是一种有序树，用于保存关联数组，其中的键通常是字符串。\n",
    "### 数据结构\n",
    "- trie树常用于搜索提示。如当输入一个网址，可以自动搜索出可能的选择。当没有完全匹配的搜索结果，可以返回前缀最相似的可能。\n",
    "### 优点\n",
    "- 最大限度减少无谓的字符串比较，查询效率比哈希表高。\n",
    "### 基本思想\n",
    "- 空间换时间\n",
    "- 字符串公共前缀\n",
    "### 基本性质\n",
    "- 根节点不包含任何字符，除根节点之外每个节点都包含一个字符；\n",
    "- 从根节点到某一节点，路径上所有字符连接起来为该节点对应的字符串；\n",
    "- 每个节点的所有子节点包含的字符都不相同。"
   ]
  },
  {
   "cell_type": "code",
   "execution_count": 1,
   "metadata": {},
   "outputs": [],
   "source": [
    "class Trie:\n",
    "\n",
    "    def __init__(self):\n",
    "        \"\"\"\n",
    "        Initialize your data structure here.\n",
    "        \"\"\"\n",
    "        self.root = {}\n",
    "        self.end_of_word = \"#\"\n",
    "\n",
    "\n",
    "    def insert(self, word):\n",
    "        \"\"\"\n",
    "        Inserts a word into the trie.\n",
    "        \"\"\"\n",
    "        node = self.root\n",
    "        for char in word:\n",
    "            if char not in node:\n",
    "                node[char] = {}\n",
    "            node = node[char]\n",
    "            #node = node.setdefault(char, {})\n",
    "        node[self.end_of_word] = self.end_of_word\n",
    "\n",
    "\n",
    "    def search(self, word):\n",
    "        \"\"\"\n",
    "        Returns if the word is in the trie.\n",
    "        \"\"\"\n",
    "        node = self.root\n",
    "        for char in word:\n",
    "            if char not in node:\n",
    "                return False\n",
    "            node = node[char]\n",
    "        return self.end_of_word in node\n",
    "\n",
    "\n",
    "    def startsWith(self, prefix):\n",
    "        \"\"\"\n",
    "        Returns if there is any word in the trie that starts with the given prefix.\n",
    "        \"\"\"\n",
    "        node = self.root\n",
    "        for char in prefix:\n",
    "            if char not in node:\n",
    "                return False\n",
    "            node = node[char]\n",
    "        return True     "
   ]
  },
  {
   "cell_type": "code",
   "execution_count": 2,
   "metadata": {},
   "outputs": [],
   "source": [
    "tree = Trie()"
   ]
  },
  {
   "cell_type": "code",
   "execution_count": 3,
   "metadata": {},
   "outputs": [],
   "source": [
    "tree.insert(\"apple\")\n",
    "tree.insert(\"alpha\")"
   ]
  },
  {
   "cell_type": "code",
   "execution_count": 4,
   "metadata": {},
   "outputs": [
    {
     "data": {
      "text/plain": [
       "True"
      ]
     },
     "execution_count": 4,
     "metadata": {},
     "output_type": "execute_result"
    }
   ],
   "source": [
    "tree.search(\"alpha\")"
   ]
  },
  {
   "cell_type": "code",
   "execution_count": 5,
   "metadata": {},
   "outputs": [
    {
     "data": {
      "text/plain": [
       "False"
      ]
     },
     "execution_count": 5,
     "metadata": {},
     "output_type": "execute_result"
    }
   ],
   "source": [
    "tree.search(\"app\")"
   ]
  },
  {
   "cell_type": "code",
   "execution_count": 6,
   "metadata": {},
   "outputs": [
    {
     "data": {
      "text/plain": [
       "True"
      ]
     },
     "execution_count": 6,
     "metadata": {},
     "output_type": "execute_result"
    }
   ],
   "source": [
    "tree.startsWith(\"app\")"
   ]
  },
  {
   "cell_type": "code",
   "execution_count": 5,
   "metadata": {},
   "outputs": [],
   "source": [
    "class Trie(object):\n",
    "    def __init__(self):\n",
    "        self.root = {}\n",
    "        self.end_of_word = \"#\"\n",
    "    \n",
    "    def insert(self, word):\n",
    "        node = self.root\n",
    "        for c in word:\n",
    "            if c not in node:\n",
    "                node[c] = {}\n",
    "            node = node[c]\n",
    "        node[self.end_of_word] = self.end_of_word\n",
    "            \n",
    "    def search(self, word):\n",
    "        node = self.root\n",
    "        for c in word:\n",
    "            if c not in node:\n",
    "                return False\n",
    "            node = node[c]\n",
    "        return self.end_of_word in node\n",
    "   \t\n",
    "    def startsWith(self, prefix):\n",
    "        node = self.root\n",
    "        for c in prefix:\n",
    "            if c not in node:\n",
    "                return False\n",
    "            node = node[c]\n",
    "        return True  "
   ]
  },
  {
   "cell_type": "code",
   "execution_count": 6,
   "metadata": {},
   "outputs": [],
   "source": [
    "tree = Trie()"
   ]
  },
  {
   "cell_type": "code",
   "execution_count": 7,
   "metadata": {},
   "outputs": [],
   "source": [
    "tree.insert(\"apple\")\n",
    "tree.insert(\"alpha\")"
   ]
  },
  {
   "cell_type": "code",
   "execution_count": 9,
   "metadata": {},
   "outputs": [
    {
     "data": {
      "text/plain": [
       "True"
      ]
     },
     "execution_count": 9,
     "metadata": {},
     "output_type": "execute_result"
    }
   ],
   "source": [
    "tree.search(\"apple\")"
   ]
  },
  {
   "cell_type": "code",
   "execution_count": 11,
   "metadata": {},
   "outputs": [
    {
     "data": {
      "text/plain": [
       "True"
      ]
     },
     "execution_count": 11,
     "metadata": {},
     "output_type": "execute_result"
    }
   ],
   "source": [
    "tree.startsWith(\"alp\")"
   ]
  },
  {
   "cell_type": "code",
   "execution_count": null,
   "metadata": {},
   "outputs": [],
   "source": []
  }
 ],
 "metadata": {
  "kernelspec": {
   "display_name": "Python 3",
   "language": "python",
   "name": "python3"
  },
  "language_info": {
   "codemirror_mode": {
    "name": "ipython",
    "version": 3
   },
   "file_extension": ".py",
   "mimetype": "text/x-python",
   "name": "python",
   "nbconvert_exporter": "python",
   "pygments_lexer": "ipython3",
   "version": "3.7.9"
  }
 },
 "nbformat": 4,
 "nbformat_minor": 2
}
