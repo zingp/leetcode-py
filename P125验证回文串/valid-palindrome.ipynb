{
 "cells": [
  {
   "cell_type": "markdown",
   "metadata": {},
   "source": [
    "## 125. 验证回文串\n",
    "- 给定一个字符串，验证它是否是回文串，只考虑字母和数字字符，可以忽略字母的大小写。\n",
    "- 说明：本题中，我们将空字符串定义为有效的回文串。\n",
    "\n",
    "```\n",
    "示例 1:\n",
    "输入: \"A man, a plan, a canal: Panama\"\n",
    "输出: true\n",
    "    \n",
    "示例 2:\n",
    "输入: \"race a car\"\n",
    "输出: false\n",
    "```"
   ]
  },
  {
   "cell_type": "code",
   "execution_count": 1,
   "metadata": {},
   "outputs": [],
   "source": [
    "class Solution:\n",
    "    def isPalindrome(self, s: str) -> bool:\n",
    "        if not s:\n",
    "            return True\n",
    "        new_s = \"\"\n",
    "        for c in s:\n",
    "            if c.isalpha() or c.isdigit():\n",
    "                new_s += c.lower()\n",
    "        left = 0\n",
    "        right = len(new_s) - 1\n",
    "        res = True\n",
    "        while left <= right:\n",
    "            if new_s[left] == new_s[right]:\n",
    "                left += 1\n",
    "                right -= 1\n",
    "            else:\n",
    "                res = False\n",
    "                break\n",
    "        return res "
   ]
  },
  {
   "cell_type": "code",
   "execution_count": null,
   "metadata": {},
   "outputs": [],
   "source": []
  }
 ],
 "metadata": {
  "kernelspec": {
   "display_name": "Python 3",
   "language": "python",
   "name": "python3"
  },
  "language_info": {
   "codemirror_mode": {
    "name": "ipython",
    "version": 3
   },
   "file_extension": ".py",
   "mimetype": "text/x-python",
   "name": "python",
   "nbconvert_exporter": "python",
   "pygments_lexer": "ipython3",
   "version": "3.6.10"
  }
 },
 "nbformat": 4,
 "nbformat_minor": 4
}
