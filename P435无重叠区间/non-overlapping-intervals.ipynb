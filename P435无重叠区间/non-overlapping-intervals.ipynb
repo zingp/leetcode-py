{
 "cells": [
  {
   "cell_type": "markdown",
   "metadata": {},
   "source": [
    "## 435. 无重叠区间\n",
    "- 给定一个区间的集合，找到需要移除区间的最小数量，使剩余区间互不重叠。\n",
    "- 注意:\n",
    "- 可以认为区间的终点总是大于它的起点。\n",
    "- 区间 [1,2] 和 [2,3] 的边界相互“接触”，但没有相互重叠。\n",
    "\n",
    "- 示例 1:\n",
    "- 输入: [ [1,2], [2,3], [3,4], [1,3] ]\n",
    "- 输出: 1\n",
    "- 解释: 移除 [1,3] 后，剩下的区间没有重叠。\n",
    "\n",
    "- 示例 2:\n",
    "- 输入: [ [1,2], [1,2], [1,2] ]\n",
    "- 输出: 2\n",
    "- 解释: 你需要移除两个 [1,2] 来使剩下的区间没有重叠。\n",
    "\n",
    "- 示例 3:\n",
    "- 输入: [ [1,2], [2,3] ]\n",
    "- 输出: 0\n",
    "\n",
    "- 解释: 你不需要移除任何区间，因为它们已经是无重叠的了。"
   ]
  },
  {
   "cell_type": "code",
   "execution_count": 1,
   "metadata": {},
   "outputs": [],
   "source": [
    "from typing import List"
   ]
  },
  {
   "cell_type": "markdown",
   "metadata": {},
   "source": [
    "## 解法一\n",
    "- 按照区间右边界排序\n",
    "- 如果[i]区间的左边界，比前一个[i-1]区间的右边界大，说明区间没有重叠。没有重叠的个数+1；更新需要比较的又边界。反之有重叠，考擦i+1区间的左边界和[i-1]区间的右边界。\n",
    "- 返回n-ans"
   ]
  },
  {
   "cell_type": "code",
   "execution_count": 2,
   "metadata": {},
   "outputs": [],
   "source": [
    "class Solution:\n",
    "    def eraseOverlapIntervals(self, intervals: List[List[int]]) -> int:\n",
    "        if not intervals:\n",
    "            return 0\n",
    "        intervals.sort(key=lambda x : x[1])\n",
    "        right = intervals[0][1]\n",
    "        n = len(intervals)\n",
    "        ans = 1\n",
    "        for i in range(n):\n",
    "            if intervals[i][0] >= right:\n",
    "                ans += 1\n",
    "                right = intervals[i][1]\n",
    "        return n - ans\n",
    "            "
   ]
  },
  {
   "cell_type": "code",
   "execution_count": 3,
   "metadata": {},
   "outputs": [],
   "source": [
    "intervals = [[1,2], [1,2], [1,2]]"
   ]
  },
  {
   "cell_type": "code",
   "execution_count": 4,
   "metadata": {},
   "outputs": [
    {
     "data": {
      "text/plain": [
       "2"
      ]
     },
     "execution_count": 4,
     "metadata": {},
     "output_type": "execute_result"
    }
   ],
   "source": [
    "Solution().eraseOverlapIntervals(intervals)"
   ]
  },
  {
   "cell_type": "code",
   "execution_count": null,
   "metadata": {},
   "outputs": [],
   "source": []
  }
 ],
 "metadata": {
  "kernelspec": {
   "display_name": "Python 3",
   "language": "python",
   "name": "python3"
  },
  "language_info": {
   "codemirror_mode": {
    "name": "ipython",
    "version": 3
   },
   "file_extension": ".py",
   "mimetype": "text/x-python",
   "name": "python",
   "nbconvert_exporter": "python",
   "pygments_lexer": "ipython3",
   "version": "3.6.10"
  }
 },
 "nbformat": 4,
 "nbformat_minor": 4
}
