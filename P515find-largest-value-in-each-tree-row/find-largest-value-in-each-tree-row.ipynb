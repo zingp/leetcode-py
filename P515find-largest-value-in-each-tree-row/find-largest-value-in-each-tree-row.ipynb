{
 "cells": [
  {
   "cell_type": "markdown",
   "metadata": {},
   "source": [
    "## 515. 在每个树行中找最大值\n",
    "- 您需要在二叉树的每一行中找到最大的值。\n",
    "- 示例：\n",
    "- 输入: \n",
    "```\n",
    "          1\n",
    "         / \\\n",
    "        3   2\n",
    "       / \\   \\  \n",
    "      5   3   9 \n",
    "```\n",
    "- 输出: [1, 3, 9]"
   ]
  },
  {
   "cell_type": "code",
   "execution_count": 1,
   "metadata": {},
   "outputs": [],
   "source": [
    "# Definition for a binary tree node.\n",
    "class TreeNode:\n",
    "    def __init__(self, val=0, left=None, right=None):\n",
    "        self.val = val\n",
    "        self.left = left\n",
    "        self.right = right"
   ]
  },
  {
   "cell_type": "code",
   "execution_count": 2,
   "metadata": {},
   "outputs": [],
   "source": [
    "from typing import List"
   ]
  },
  {
   "cell_type": "code",
   "execution_count": 3,
   "metadata": {},
   "outputs": [],
   "source": [
    "class Solution:\n",
    "    def largestValues(self, root: TreeNode) -> List[int]:\n",
    "        if not root:\n",
    "            return []\n",
    "        result = []\n",
    "        queue = collections.deque()\n",
    "        queue.append([root])\n",
    "        while queue:\n",
    "            node_list = queue.popleft()\n",
    "            level = []\n",
    "            max_val = float(\"-inf\")\n",
    "            for node in node_list:\n",
    "                if node.val > max_val:\n",
    "                    max_val = node.val\n",
    "                if node.left:\n",
    "                    level.append(node.left)\n",
    "                if node.right:\n",
    "                    level.append(node.right)\n",
    "            result.append(max_val)\n",
    "            if level:\n",
    "                queue.append(level)\n",
    "        return result"
   ]
  },
  {
   "cell_type": "code",
   "execution_count": null,
   "metadata": {},
   "outputs": [],
   "source": []
  }
 ],
 "metadata": {
  "kernelspec": {
   "display_name": "Python 3",
   "language": "python",
   "name": "python3"
  },
  "language_info": {
   "codemirror_mode": {
    "name": "ipython",
    "version": 3
   },
   "file_extension": ".py",
   "mimetype": "text/x-python",
   "name": "python",
   "nbconvert_exporter": "python",
   "pygments_lexer": "ipython3",
   "version": "3.6.10"
  }
 },
 "nbformat": 4,
 "nbformat_minor": 4
}
