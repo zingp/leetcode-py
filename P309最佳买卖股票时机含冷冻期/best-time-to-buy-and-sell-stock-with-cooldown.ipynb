{
 "cells": [
  {
   "cell_type": "markdown",
   "metadata": {},
   "source": [
    "## 309. 最佳买卖股票时机含冷冻期\n",
    "- 给定一个整数数组，其中第 i 个元素代表了第 i 天的股票价格 。\n",
    "- 设计一个算法计算出最大利润。在满足以下约束条件下，你可以尽可能地完成更多的交易（多次买卖一支股票）:\n",
    "- 你不能同时参与多笔交易（你必须在再次购买前出售掉之前的股票）。\n",
    "- 卖出股票后，你无法在第二天买入股票 (即冷冻期为 1 天)。\n",
    "```\n",
    "示例:\n",
    "输入: [1,2,3,0,2]\n",
    "输出: 3 \n",
    "解释: 对应的交易状态为: [买入, 卖出, 冷冻期, 买入, 卖出]\n",
    "```"
   ]
  },
  {
   "cell_type": "markdown",
   "metadata": {},
   "source": [
    "## 思路：\n",
    "\n",
    "- 我们用 $f[i]$ 表示第 $i$ 天结束之后的「累计最大收益」。根据题目描述，由于我们最多只能同时买入（持有）一支股票，并且卖出股票后有冷冻期的限制，因此我们会有三种不同的状态：\n",
    "    - 我们目前持有一支股票，对应的「累计最大收益」记为 $f[i][0]$；\n",
    "    - 我们目前不持有任何股票，并且处于冷冻期中，对应的「累计最大收益」记为 $f[i][1]$；\n",
    "    - 我们目前不持有任何股票，并且不处于冷冻期中，对应的「累计最大收益」记为 $f[i][2]$。\n",
    "    - 这里的「处于冷冻期」指的是在第 $i$ 天结束之后的状态。也就是说：如果第 $i$ 天结束之后处于冷冻期，那么第 $i+1$ 天无法买入股票。\n"
   ]
  },
  {
   "cell_type": "code",
   "execution_count": 1,
   "metadata": {},
   "outputs": [],
   "source": [
    "from typing import List"
   ]
  },
  {
   "cell_type": "code",
   "execution_count": 2,
   "metadata": {},
   "outputs": [],
   "source": [
    "class Solution:\n",
    "    def maxProfit(self, prices: List[int]) -> int:\n",
    "        n = len(prices)\n",
    "        if not prices:\n",
    "            return 0\n",
    "        dp = [[False, False, False] for _ in range(n)]\n",
    "        dp[0][0] = -prices[0]   # 持有股票，不是冷冻期\n",
    "        dp[0][1] = 0    # 没有持股票，是冷冻期\n",
    "        dp[0][2] = 0    # 没持持股票，不是冷冻期\n",
    "        for i in range(1, n):\n",
    "            dp[i][0] = max(dp[i-1][2] - prices[i], dp[i-1][0])\n",
    "            dp[i][1] = dp[i-1][0] + prices[i]\n",
    "            dp[i][2] = max(dp[i-1][1], dp[i-1][2])\n",
    "        return max(dp[-1][1], dp[-1][2])"
   ]
  },
  {
   "cell_type": "code",
   "execution_count": 3,
   "metadata": {},
   "outputs": [],
   "source": [
    "prices = [1,2,3,0,2]"
   ]
  },
  {
   "cell_type": "code",
   "execution_count": 4,
   "metadata": {},
   "outputs": [
    {
     "data": {
      "text/plain": [
       "3"
      ]
     },
     "execution_count": 4,
     "metadata": {},
     "output_type": "execute_result"
    }
   ],
   "source": [
    "Solution().maxProfit(prices)"
   ]
  },
  {
   "cell_type": "code",
   "execution_count": null,
   "metadata": {},
   "outputs": [],
   "source": []
  }
 ],
 "metadata": {
  "kernelspec": {
   "display_name": "Python 3",
   "language": "python",
   "name": "python3"
  },
  "language_info": {
   "codemirror_mode": {
    "name": "ipython",
    "version": 3
   },
   "file_extension": ".py",
   "mimetype": "text/x-python",
   "name": "python",
   "nbconvert_exporter": "python",
   "pygments_lexer": "ipython3",
   "version": "3.6.10"
  }
 },
 "nbformat": 4,
 "nbformat_minor": 4
}
