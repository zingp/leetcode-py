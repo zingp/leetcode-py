{
 "cells": [
  {
   "cell_type": "markdown",
   "metadata": {},
   "source": [
    "# 139单词拆分\n",
    "---\n",
    "- 给定一个非空字符串 s 和一个包含非空单词列表的字典 wordDict，判定 s 是否可以被空格拆分为一个或多个在字典中出现的单词。\n",
    "- 说明：\n",
    "- 拆分时可以重复使用字典中的单词。\n",
    "- 你可以假设字典中没有重复的单词。\n",
    "\n",
    "- 示例1：\n",
    "    - 输入: s = \"leetcode\", wordDict = [\"leet\", \"code\"]\n",
    "    - 输出: true\n",
    "    - 解释: 返回 true 因为 \"leetcode\" 可以被拆分成 \"leet code\"。\n",
    "\n",
    "- 示例 2：\n",
    "\n",
    "    - 输入: s = \"applepenapple\", wordDict = [\"apple\", \"pen\"]\n",
    "    - 输出: true\n",
    "    - 解释: 返回 true 因为 \"applepenapple\" 可以被拆分成 \"apple pen apple\"。\n",
    "    - 注意你可以重复使用字典中的单词。\n",
    "    \n",
    "- 示例 3：\n",
    "    - 输入: s = \"catsandog\", wordDict = [\"cats\", \"dog\", \"sand\", \"and\", \"cat\"]\n",
    "    - 输出: false\n",
    "\n",
    "- 来源：力扣（LeetCode）\n",
    "- 链接：https://leetcode-cn.com/problems/word-break"
   ]
  },
  {
   "cell_type": "markdown",
   "metadata": {},
   "source": [
    "## 解题思路\n",
    "- 动态规划 时间复杂度 O(n^2) 空间复杂度 O(n)\n",
    "- DP[i]表示字符串s前i个字符是否可以拆分\n",
    "\n",
    "- 【优化】\n",
    "    - 对于以上代码可以优化。每次并不需要从s[0]开始搜索。\n",
    "    - 因为wordDict中的字符串长度是有限的。只需要从i-maxWordLength开始搜索就可以了。"
   ]
  },
  {
   "cell_type": "code",
   "execution_count": 1,
   "metadata": {},
   "outputs": [],
   "source": [
    "class Solution:\n",
    "    def wordBreak(self, s, wordDict):\n",
    "        dp = [False] * (len(s)+1)\n",
    "        hashset = set(wordDict)\n",
    "        dp[0] = True\n",
    "        for i in range(1, len(s)+1):\n",
    "            for j in range(i):\n",
    "                if dp[j] and (s[j: i] in hashset):\n",
    "                    dp[i] = True\n",
    "                    break\n",
    "        return dp[-1]"
   ]
  },
  {
   "cell_type": "code",
   "execution_count": 2,
   "metadata": {},
   "outputs": [],
   "source": [
    "s = \"leetcode\"\n",
    "wordDict = [\"leet\", \"code\"]"
   ]
  },
  {
   "cell_type": "code",
   "execution_count": 3,
   "metadata": {},
   "outputs": [
    {
     "data": {
      "text/plain": [
       "True"
      ]
     },
     "execution_count": 3,
     "metadata": {},
     "output_type": "execute_result"
    }
   ],
   "source": [
    "Solution().wordBreak(s, wordDict)"
   ]
  },
  {
   "cell_type": "code",
   "execution_count": 4,
   "metadata": {},
   "outputs": [],
   "source": [
    "s = \"catsandog\"\n",
    "wordDict = [\"cats\", \"dog\", \"sand\", \"and\", \"cat\"]"
   ]
  },
  {
   "cell_type": "code",
   "execution_count": 5,
   "metadata": {},
   "outputs": [
    {
     "data": {
      "text/plain": [
       "False"
      ]
     },
     "execution_count": 5,
     "metadata": {},
     "output_type": "execute_result"
    }
   ],
   "source": [
    "Solution().wordBreak(s, wordDict)"
   ]
  },
  {
   "cell_type": "code",
   "execution_count": null,
   "metadata": {},
   "outputs": [],
   "source": []
  }
 ],
 "metadata": {
  "kernelspec": {
   "display_name": "Python 3",
   "language": "python",
   "name": "python3"
  },
  "language_info": {
   "codemirror_mode": {
    "name": "ipython",
    "version": 3
   },
   "file_extension": ".py",
   "mimetype": "text/x-python",
   "name": "python",
   "nbconvert_exporter": "python",
   "pygments_lexer": "ipython3",
   "version": "3.6.9"
  }
 },
 "nbformat": 4,
 "nbformat_minor": 2
}
