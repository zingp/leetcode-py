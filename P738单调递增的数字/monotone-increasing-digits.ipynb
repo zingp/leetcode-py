{
 "cells": [
  {
   "cell_type": "markdown",
   "metadata": {},
   "source": [
    "## 738. 单调递增的数字\n",
    "- 给定一个非负整数 N，找出小于或等于 N 的最大的整数，同时这个整数需要满足其各个位数上的数字是单调递增。\n",
    "- （当且仅当每个相邻位数上的数字 x 和 y 满足 x <= y 时，我们称这个整数是单调递增的。）\n",
    "- 示例 1:\n",
    "- 输入: N = 10\n",
    "- 输出: 9\n",
    "\n",
    "- 示例 2:\n",
    "- 输入: N = 1234\n",
    "- 输出: 1234\n",
    "- 示例 3:\n",
    "\n",
    "- 输入: N = 332\n",
    "- 输出: 299"
   ]
  },
  {
   "cell_type": "code",
   "execution_count": 1,
   "metadata": {},
   "outputs": [],
   "source": [
    "class Solution:\n",
    "    def monotoneIncreasingDigits(self, N: int) -> int:\n",
    "        strN = list(str(N))\n",
    "        n = len(strN)\n",
    "        if n <= 1:\n",
    "            return N\n",
    "        i = 1\n",
    "        while i < n and strN[i-1] <= strN[i]:\n",
    "            i += 1\n",
    "        if i < n:\n",
    "            while i > 0  and strN[i-1] > strN[i]:\n",
    "                strN[i-1] = str(int(strN[i-1]) - 1)\n",
    "                i = i-1\n",
    "            i += 1\n",
    "            while i < n:\n",
    "                strN[i] = \"9\"\n",
    "                i += 1\n",
    "        return int(\"\".join(strN))"
   ]
  },
  {
   "cell_type": "code",
   "execution_count": 2,
   "metadata": {},
   "outputs": [
    {
     "data": {
      "text/plain": [
       "True"
      ]
     },
     "execution_count": 2,
     "metadata": {},
     "output_type": "execute_result"
    }
   ],
   "source": [
    "Solution().monotoneIncreasingDigits(963856657) == 899999999"
   ]
  },
  {
   "cell_type": "code",
   "execution_count": 3,
   "metadata": {},
   "outputs": [
    {
     "data": {
      "text/plain": [
       "True"
      ]
     },
     "execution_count": 3,
     "metadata": {},
     "output_type": "execute_result"
    }
   ],
   "source": [
    "Solution().monotoneIncreasingDigits(322) == 299"
   ]
  },
  {
   "cell_type": "code",
   "execution_count": null,
   "metadata": {},
   "outputs": [],
   "source": []
  }
 ],
 "metadata": {
  "kernelspec": {
   "display_name": "Python 3",
   "language": "python",
   "name": "python3"
  },
  "language_info": {
   "codemirror_mode": {
    "name": "ipython",
    "version": 3
   },
   "file_extension": ".py",
   "mimetype": "text/x-python",
   "name": "python",
   "nbconvert_exporter": "python",
   "pygments_lexer": "ipython3",
   "version": "3.6.10"
  }
 },
 "nbformat": 4,
 "nbformat_minor": 4
}
