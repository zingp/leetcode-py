{
 "cells": [
  {
   "cell_type": "markdown",
   "metadata": {},
   "source": [
    "## 236 二叉树的最近公共祖先\n",
    "```\n",
    "给定一个二叉树, 找到该树中两个指定节点的最近公共祖先。\n",
    "\n",
    "百度百科中最近公共祖先的定义为：“对于有根树 T 的两个结点 p、q，最近公共祖先表示为一个结点 x，满足 x 是 p、q 的祖先且 x 的深度尽可能大（一个节点也可以是它自己的祖先）。”\n",
    "```\n",
    "- 例如，给定如下二叉树:  root = [3,5,1,6,2,0,8,null,null,7,4]\n",
    "\n",
    "![images](../images/lc_235_bntree.jpg)\n",
    "\n",
    "```\n",
    "\n",
    "示例 1:\n",
    "\n",
    "输入: root = [3,5,1,6,2,0,8,null,null,7,4], p = 5, q = 1\n",
    "输出: 3\n",
    "解释: 节点 5 和节点 1 的最近公共祖先是节点 3。\n",
    "示例 2:\n",
    "\n",
    "输入: root = [3,5,1,6,2,0,8,null,null,7,4], p = 5, q = 4\n",
    "输出: 5\n",
    "解释: 节点 5 和节点 4 的最近公共祖先是节点 5。因为根据定义最近公共祖先节点可以为节点本身。\n",
    "\n",
    "链接：https://leetcode-cn.com/problems/lowest-common-ancestor-of-a-binary-tree\n",
    "```"
   ]
  },
  {
   "cell_type": "code",
   "execution_count": 2,
   "metadata": {},
   "outputs": [],
   "source": [
    "# Definition for a binary tree node.\n",
    "# class TreeNode:\n",
    "#     def __init__(self, x):\n",
    "#         self.val = x\n",
    "#         self.left = None\n",
    "#         self.right = None\n",
    "\n",
    "class Solution:\n",
    "    def lowestCommonAncestor(self, root: 'TreeNode', p: 'TreeNode', q: 'TreeNode') -> 'TreeNode':\n",
    "        if root == None or root == p or root == q:\n",
    "            return root\n",
    "        left = self.lowestCommonAncestor(root.left, p, q)\n",
    "        right = self.lowestCommonAncestor(root.right, p, q)\n",
    "        if not left:\n",
    "            return right\n",
    "        elif not right:\n",
    "            return left\n",
    "        if left and right:\n",
    "            return root"
   ]
  },
  {
   "cell_type": "code",
   "execution_count": null,
   "metadata": {},
   "outputs": [],
   "source": []
  }
 ],
 "metadata": {
  "kernelspec": {
   "display_name": "Python 3",
   "language": "python",
   "name": "python3"
  },
  "language_info": {
   "codemirror_mode": {
    "name": "ipython",
    "version": 3
   },
   "file_extension": ".py",
   "mimetype": "text/x-python",
   "name": "python",
   "nbconvert_exporter": "python",
   "pygments_lexer": "ipython3",
   "version": "3.6.9"
  }
 },
 "nbformat": 4,
 "nbformat_minor": 2
}
