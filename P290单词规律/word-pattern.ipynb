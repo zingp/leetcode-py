{
 "cells": [
  {
   "cell_type": "markdown",
   "metadata": {},
   "source": [
    "## 290. 单词规律\n",
    "```\n",
    "给定一种规律 pattern 和一个字符串 str ，判断 str 是否遵循相同的规律。\n",
    "这里的 遵循 指完全匹配，例如， pattern 里的每个字母和字符串 str 中的每个非空单词之间存在着双向连接的对应规律。\n",
    "```\n",
    "```\n",
    "示例1:\n",
    "输入: pattern = \"abba\", str = \"dog cat cat dog\"\n",
    "输出: true\n",
    "    \n",
    "示例 2:\n",
    "输入:pattern = \"abba\", str = \"dog cat cat fish\"\n",
    "输出: false\n",
    "    \n",
    "示例 3:\n",
    "输入: pattern = \"aaaa\", str = \"dog cat cat dog\"\n",
    "输出: false\n",
    "    \n",
    "示例 4:\n",
    "输入: pattern = \"abba\", str = \"dog dog dog dog\"\n",
    "输出: false\n",
    "    \n",
    "说明:\n",
    "你可以假设 pattern 只包含小写字母， str 包含了由单个空格分隔的小写字母。 \n",
    "```"
   ]
  },
  {
   "cell_type": "markdown",
   "metadata": {},
   "source": [
    "## 思路\n",
    "我们需要判断字符与字符串之间是否恰好一一对应。即任意一个字符都对应着唯一的字符串，任意一个字符串也只被唯一的一个字符对应。在集合论中，这种关系被称为「双射」。"
   ]
  },
  {
   "cell_type": "code",
   "execution_count": 2,
   "metadata": {},
   "outputs": [],
   "source": [
    "class Solution:\n",
    "    def wordPattern(self, pattern: str, s: str) -> bool:\n",
    "        words = s.split()\n",
    "        if len(pattern) != len(words):\n",
    "            return False\n",
    "        ch2word = {}\n",
    "        w2ch = {}\n",
    "        for ch, w in zip(pattern, words):\n",
    "            if (ch in ch2word and ch2word[ch] != w) or (w in w2ch and w2ch[w] != ch):\n",
    "                return False\n",
    "            ch2word[ch] = w\n",
    "            w2ch[w] = ch\n",
    "        return True"
   ]
  },
  {
   "cell_type": "code",
   "execution_count": 3,
   "metadata": {},
   "outputs": [],
   "source": [
    "pattern = \"abba\"\n",
    "s = \"dog cat cat dog\""
   ]
  },
  {
   "cell_type": "code",
   "execution_count": 4,
   "metadata": {},
   "outputs": [
    {
     "data": {
      "text/plain": [
       "True"
      ]
     },
     "execution_count": 4,
     "metadata": {},
     "output_type": "execute_result"
    }
   ],
   "source": [
    "Solution().wordPattern(pattern, s)"
   ]
  },
  {
   "cell_type": "code",
   "execution_count": null,
   "metadata": {},
   "outputs": [],
   "source": []
  }
 ],
 "metadata": {
  "kernelspec": {
   "display_name": "Python 3",
   "language": "python",
   "name": "python3"
  },
  "language_info": {
   "codemirror_mode": {
    "name": "ipython",
    "version": 3
   },
   "file_extension": ".py",
   "mimetype": "text/x-python",
   "name": "python",
   "nbconvert_exporter": "python",
   "pygments_lexer": "ipython3",
   "version": "3.6.10"
  }
 },
 "nbformat": 4,
 "nbformat_minor": 4
}
