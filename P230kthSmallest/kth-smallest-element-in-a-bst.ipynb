{
 "cells": [
  {
   "cell_type": "markdown",
   "metadata": {},
   "source": [
    "## 230. 二叉搜索树中第K小的元素\n",
    "```\n",
    "给定一个二叉搜索树，编写一个函数 kthSmallest 来查找其中第 k 个最小的元素。\n",
    "\n",
    "说明：\n",
    "你可以假设 k 总是有效的，1 ≤ k ≤ 二叉搜索树元素个数。\n",
    "\n",
    "来源：力扣（LeetCode）\n",
    "链接：https://leetcode-cn.com/problems/kth-smallest-element-in-a-bst\n",
    "\n",
    "```"
   ]
  },
  {
   "cell_type": "code",
   "execution_count": 2,
   "metadata": {},
   "outputs": [],
   "source": [
    "class TreeNode:\n",
    "    def __init__(self, x):\n",
    "        self.val = x\n",
    "        self.left = None\n",
    "        self.right = None"
   ]
  },
  {
   "cell_type": "code",
   "execution_count": 4,
   "metadata": {},
   "outputs": [],
   "source": [
    "## 中序遍历 左根右,返回索引为k-1的节点的val\n",
    "class Solution:\n",
    "    def kthSmallest(self, root, k):\n",
    "        li, stack = [], []\n",
    "        cur = root\n",
    "        while cur or stack:\n",
    "            while cur:\n",
    "                stack.append(cur)\n",
    "                cur = cur.left\n",
    "            cur = stack.pop()\n",
    "            li.append(cur)\n",
    "            cur = cur.right\n",
    "        return li[k-1].val "
   ]
  },
  {
   "cell_type": "code",
   "execution_count": 6,
   "metadata": {},
   "outputs": [],
   "source": [
    "# 优化一版,提前终止\n",
    "class Solution:\n",
    "    def kthSmallest(self, root, k):\n",
    "        stack = []\n",
    "        cur = root\n",
    "        count = 0\n",
    "        while cur or stack:\n",
    "            while cur:\n",
    "                stack.append(cur)\n",
    "                cur = cur.left\n",
    "            cur = stack.pop()\n",
    "            count += 1\n",
    "            if count == k:\n",
    "                return cur.val\n",
    "            cur = cur.right"
   ]
  },
  {
   "cell_type": "code",
   "execution_count": 7,
   "metadata": {},
   "outputs": [],
   "source": [
    "# 生成器\n",
    "class Solution:\n",
    "    def mid_order(self, root):\n",
    "        if not root: return\n",
    "        yield from self.mid_order(root.left)\n",
    "        yield root.val\n",
    "        yield from self.mid_order(root.right)\n",
    "        \n",
    "    def kthSmallest(self, root: TreeNode, k: int) -> int:\n",
    "        gen = self.mid_order(root)\n",
    "        for _ in range(k - 1):\n",
    "            next(gen)\n",
    "        return next(gen)"
   ]
  },
  {
   "cell_type": "code",
   "execution_count": null,
   "metadata": {},
   "outputs": [],
   "source": []
  }
 ],
 "metadata": {
  "kernelspec": {
   "display_name": "Python 3",
   "language": "python",
   "name": "python3"
  },
  "language_info": {
   "codemirror_mode": {
    "name": "ipython",
    "version": 3
   },
   "file_extension": ".py",
   "mimetype": "text/x-python",
   "name": "python",
   "nbconvert_exporter": "python",
   "pygments_lexer": "ipython3",
   "version": "3.6.8"
  }
 },
 "nbformat": 4,
 "nbformat_minor": 2
}
