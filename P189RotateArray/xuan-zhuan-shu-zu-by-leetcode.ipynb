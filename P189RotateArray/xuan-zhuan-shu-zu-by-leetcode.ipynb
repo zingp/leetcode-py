{
 "cells": [
  {
   "cell_type": "markdown",
   "metadata": {},
   "source": [
    "## 189. 旋转数组-e\n",
    "- 给定一个数组，将数组中的元素向右移动 k 个位置，其中 k 是非负数。\n",
    "\n",
    "- 示例 1:\n",
    "- 输入: [1,2,3,4,5,6,7] 和 k = 3\n",
    "- 输出: [5,6,7,1,2,3,4]\n",
    "- 解释:\n",
    "- 向右旋转 1 步: [7,1,2,3,4,5,6]\n",
    "- 向右旋转 2 步: [6,7,1,2,3,4,5]\n",
    "- 向右旋转 3 步: [5,6,7,1,2,3,4]\n",
    "    \n",
    "- 示例 2:\n",
    "- 输入: [-1,-100,3,99] 和 k = 2\n",
    "- 输出: [3,99,-1,-100]\n",
    "- 解释: \n",
    "- 向右旋转 1 步: [99,-1,-100,3]\n",
    "- 向右旋转 2 步: [3,99,-1,-100]\n",
    "    \n",
    "- 说明:\n",
    "- 尽可能想出更多的解决方案，至少有三种不同的方法可以解决这个问题。\n",
    "- 要求使用空间复杂度为 O(1) 的 原地 算法。"
   ]
  },
  {
   "cell_type": "code",
   "execution_count": 1,
   "metadata": {},
   "outputs": [],
   "source": [
    "## 方法一：O(kn), O(1)"
   ]
  },
  {
   "cell_type": "code",
   "execution_count": 2,
   "metadata": {},
   "outputs": [],
   "source": [
    "class Solution:\n",
    "    def rotate(self, nums, k):\n",
    "        \"\"\"\n",
    "        Do not return anything, modify nums in-place instead.\n",
    "        \"\"\"\n",
    "        if len(nums) < 2:\n",
    "            return nums\n",
    "        if k > len(nums):\n",
    "            k = k % len(nums)\n",
    "        for i in range(k):\n",
    "            tmp = nums[-1]\n",
    "            for i in range(len(nums)-1, 0, -1):\n",
    "                nums[i] = nums[i-1]\n",
    "            nums[0] = tmp\n",
    "        return nums"
   ]
  },
  {
   "cell_type": "code",
   "execution_count": 3,
   "metadata": {},
   "outputs": [],
   "source": [
    "nums = list(range(10))"
   ]
  },
  {
   "cell_type": "code",
   "execution_count": 4,
   "metadata": {},
   "outputs": [
    {
     "data": {
      "text/plain": [
       "[7, 8, 9, 0, 1, 2, 3, 4, 5, 6]"
      ]
     },
     "execution_count": 4,
     "metadata": {},
     "output_type": "execute_result"
    }
   ],
   "source": [
    "Solution().rotate(nums, 3)"
   ]
  },
  {
   "cell_type": "code",
   "execution_count": 5,
   "metadata": {},
   "outputs": [],
   "source": [
    "## 方法二： O(n), O(k)"
   ]
  },
  {
   "cell_type": "code",
   "execution_count": 6,
   "metadata": {},
   "outputs": [],
   "source": [
    "class Solution:\n",
    "    def rotate(self, nums, k):\n",
    "        \"\"\"\n",
    "        Do not return anything, modify nums in-place instead.\n",
    "        \"\"\"\n",
    "        if len(nums) < 2:\n",
    "            return nums\n",
    "        if k > len(nums):\n",
    "            k = k % len(nums)\n",
    "        tmp = nums[-k:]\n",
    "        for i in range(len(nums)-1, k-1, -1):\n",
    "            nums[i] = nums[i-k]\n",
    "        for i in range(k):\n",
    "            nums[i] = tmp[i]\n",
    "        return nums"
   ]
  },
  {
   "cell_type": "code",
   "execution_count": 7,
   "metadata": {},
   "outputs": [
    {
     "data": {
      "text/plain": [
       "[7, 8, 9, 0, 1, 2, 3, 4, 5, 6]"
      ]
     },
     "execution_count": 7,
     "metadata": {},
     "output_type": "execute_result"
    }
   ],
   "source": [
    "Solution().rotate(list(range(10)), 3)"
   ]
  },
  {
   "cell_type": "code",
   "execution_count": 8,
   "metadata": {},
   "outputs": [],
   "source": [
    "## 方法三："
   ]
  },
  {
   "cell_type": "code",
   "execution_count": null,
   "metadata": {},
   "outputs": [],
   "source": []
  }
 ],
 "metadata": {
  "kernelspec": {
   "display_name": "Python 3",
   "language": "python",
   "name": "python3"
  },
  "language_info": {
   "codemirror_mode": {
    "name": "ipython",
    "version": 3
   },
   "file_extension": ".py",
   "mimetype": "text/x-python",
   "name": "python",
   "nbconvert_exporter": "python",
   "pygments_lexer": "ipython3",
   "version": "3.6.9"
  }
 },
 "nbformat": 4,
 "nbformat_minor": 2
}
