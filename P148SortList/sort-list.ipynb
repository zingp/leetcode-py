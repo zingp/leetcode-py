{
 "cells": [
  {
   "cell_type": "markdown",
   "metadata": {},
   "source": [
    "## 148 排序链表\n",
    "```\n",
    "在 O(n log n) 时间复杂度和常数级空间复杂度下，对链表进行排序。\n",
    "\n",
    "示例 1:\n",
    "\n",
    "输入: 4->2->1->3\n",
    "输出: 1->2->3->4\n",
    "示例 2:\n",
    "\n",
    "输入: -1->5->3->4->0\n",
    "输出: -1->0->3->4->5\n",
    "\n",
    "来源：力扣（LeetCode）\n",
    "链接：https://leetcode-cn.com/problems/sort-list\n",
    "```"
   ]
  },
  {
   "cell_type": "code",
   "execution_count": 1,
   "metadata": {},
   "outputs": [],
   "source": [
    "class ListNode:\n",
    "    def __init__(self, x):\n",
    "        self.val = x\n",
    "        self.next = None"
   ]
  },
  {
   "cell_type": "code",
   "execution_count": 3,
   "metadata": {},
   "outputs": [],
   "source": [
    "#O(nlogn) O(1)?\n",
    "class Solution:\n",
    "    def sortList(self, head):\n",
    "        if not head or not head.next:\n",
    "            return head\n",
    "        slow, fast = head, head.next\n",
    "        while fast and fast.next:\n",
    "            slow = slow.next\n",
    "            fast = fast.next.next\n",
    "        mid = slow.next\n",
    "        slow.next = None\n",
    "        left = self.sortList(head)\n",
    "        right = self.sortList(mid)\n",
    "        res = self.merge(left, right)\n",
    "        return res\n",
    "    \n",
    "    def merge(self, head1, head2):\n",
    "        p = r = ListNode(-1)\n",
    "        h1,h2 = head1,head2\n",
    "        while h1 and h2:\n",
    "            if h1.val <h2.val:\n",
    "                p.next = h1\n",
    "                h1 = h1.next\n",
    "            else:\n",
    "                p.next = h2\n",
    "                h2 = h2.next\n",
    "            p = p.next\n",
    "        p.next = h1 if h1 else h2\n",
    "        return r.next"
   ]
  },
  {
   "cell_type": "code",
   "execution_count": 4,
   "metadata": {},
   "outputs": [],
   "source": [
    "class Solution:\n",
    "    def sortList(self, head: ListNode) -> ListNode:\n",
    "        h, length, intv = head, 0, 1\n",
    "        while h: \n",
    "            h, length = h.next, length + 1\n",
    "        res = ListNode(0)\n",
    "        res.next = head\n",
    "        # merge the list in different intv.\n",
    "        while intv < length:\n",
    "            pre, h = res, res.next\n",
    "            while h:\n",
    "                # get the two merge head `h1`, `h2`\n",
    "                h1, i = h, intv\n",
    "                while i and h: \n",
    "                    h, i = h.next, i - 1\n",
    "                if i:\n",
    "                    break # no need to merge because the `h2` is None.\n",
    "                h2, i = h, intv\n",
    "                while i and h: \n",
    "                    h, i = h.next, i - 1\n",
    "                c1, c2 = intv, intv - i  # the `c2`: length of `h2` can be small than the `intv`.\n",
    "                # merge the `h1` and `h2`.\n",
    "                while c1 and c2:\n",
    "                    if h1.val < h2.val: \n",
    "                        pre.next, h1, c1 = h1, h1.next, c1 - 1\n",
    "                    else: \n",
    "                        pre.next, h2, c2 = h2, h2.next, c2 - 1\n",
    "                    pre = pre.next\n",
    "                pre.next = h1 if c1 else h2\n",
    "                while c1 > 0 or c2 > 0: \n",
    "                    pre, c1, c2 = pre.next, c1 - 1, c2 - 1\n",
    "                pre.next = h \n",
    "            intv *= 2\n",
    "        return res.next"
   ]
  },
  {
   "cell_type": "code",
   "execution_count": null,
   "metadata": {},
   "outputs": [],
   "source": []
  }
 ],
 "metadata": {
  "kernelspec": {
   "display_name": "Python 3",
   "language": "python",
   "name": "python3"
  },
  "language_info": {
   "codemirror_mode": {
    "name": "ipython",
    "version": 3
   },
   "file_extension": ".py",
   "mimetype": "text/x-python",
   "name": "python",
   "nbconvert_exporter": "python",
   "pygments_lexer": "ipython3",
   "version": "3.6.8"
  }
 },
 "nbformat": 4,
 "nbformat_minor": 2
}
