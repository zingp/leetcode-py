{
 "cells": [
  {
   "cell_type": "markdown",
   "metadata": {},
   "source": [
    "## 无重复字符的最长子串\n",
    "```\n",
    "给定一个字符串，请你找出其中不含有重复字符的 最长子串 的长度。\n",
    "\n",
    "示例 1:\n",
    "\n",
    "输入: \"abcabcbb\"\n",
    "输出: 3 \n",
    "解释: 因为无重复字符的最长子串是 \"abc\"，所以其长度为 3。\n",
    "示例 2:\n",
    "\n",
    "输入: \"bbbbb\"\n",
    "输出: 1\n",
    "解释: 因为无重复字符的最长子串是 \"b\"，所以其长度为 1。\n",
    "示例 3:\n",
    "\n",
    "输入: \"pwwkew\"\n",
    "输出: 3\n",
    "解释: 因为无重复字符的最长子串是 \"wke\"，所以其长度为 3。\n",
    "     请注意，你的答案必须是 子串 的长度，\"pwke\" 是一个子序列，不是子串。\n",
    "```\n"
   ]
  },
  {
   "cell_type": "code",
   "execution_count": 1,
   "metadata": {},
   "outputs": [],
   "source": [
    "class Solution:\n",
    "    def lengthOfLongestSubstring(self, s: str) -> int:\n",
    "        pass"
   ]
  },
  {
   "cell_type": "code",
   "execution_count": 4,
   "metadata": {},
   "outputs": [],
   "source": [
    "## 滑动窗口\n",
    "def lengthOfLongestSubstring(s):\n",
    "    if not s:\n",
    "        return 0\n",
    "    lookup = set()\n",
    "    left = maxLen = curLen = 0\n",
    "    for i in range(len(s)):\n",
    "        while s[i] in lookup:\n",
    "            lookup.remove(s[left])\n",
    "            curLen -= 1\n",
    "            left += 1\n",
    "        lookup.add(s[i])\n",
    "        curLen += 1\n",
    "        if curLen > maxLen:\n",
    "            maxLen = curLen\n",
    "    return maxLen"
   ]
  },
  {
   "cell_type": "code",
   "execution_count": 5,
   "metadata": {},
   "outputs": [
    {
     "data": {
      "text/plain": [
       "3"
      ]
     },
     "execution_count": 5,
     "metadata": {},
     "output_type": "execute_result"
    }
   ],
   "source": [
    "s = \"pwwkew\"\n",
    "lengthOfLongestSubstring(s)"
   ]
  },
  {
   "cell_type": "code",
   "execution_count": 6,
   "metadata": {},
   "outputs": [
    {
     "data": {
      "text/plain": [
       "1"
      ]
     },
     "execution_count": 6,
     "metadata": {},
     "output_type": "execute_result"
    }
   ],
   "source": [
    "s = \"bbbb\"\n",
    "lengthOfLongestSubstring(s)"
   ]
  },
  {
   "cell_type": "code",
   "execution_count": null,
   "metadata": {},
   "outputs": [],
   "source": [
    "def lengthOfLongestSubstring(s):\n",
    "    start = maxLen = 0    # start 是左指针，max_len 是最长长度\n",
    "    useDic = {}\n",
    "    for i, v in enumerate(s):\n",
    "        # 如果v在dic中，说明遇到了重复的字符串，需要移动左指针\n",
    "        if v in useDic and start <= useDic[v]:\n",
    "            start = useDic[v] + 1\n",
    "        # 当前长度是右指针-左指针+1，与历史最长相比取大者\n",
    "        maxLen = max(maxLen, i - start + 1)\n",
    "        useDic[v] = i\n",
    "    return maxLen\n",
    "\n",
    "def lengthOfLongestSubstring2(s):\n",
    "    useDic = {}\n",
    "    res = i = j = 0\n",
    "    for m in s:\n",
    "        if m in useDic:\n",
    "            i = i if i>useDic[m] else useDic[m]\n",
    "        res= res if res>=(j-i+1) else (j-i+1)\n",
    "        useDic[m] = j + 1\n",
    "        j += 1\n",
    "    return res"
   ]
  }
 ],
 "metadata": {
  "kernelspec": {
   "display_name": "Python 3",
   "language": "python",
   "name": "python3"
  },
  "language_info": {
   "codemirror_mode": {
    "name": "ipython",
    "version": 3
   },
   "file_extension": ".py",
   "mimetype": "text/x-python",
   "name": "python",
   "nbconvert_exporter": "python",
   "pygments_lexer": "ipython3",
   "version": "3.6.8"
  }
 },
 "nbformat": 4,
 "nbformat_minor": 2
}
