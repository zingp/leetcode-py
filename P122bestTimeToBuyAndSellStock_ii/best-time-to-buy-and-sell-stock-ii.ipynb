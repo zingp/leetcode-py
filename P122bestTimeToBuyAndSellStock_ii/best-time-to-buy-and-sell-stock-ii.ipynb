{
 "cells": [
  {
   "cell_type": "markdown",
   "metadata": {},
   "source": [
    "## 122. 买卖股票的最佳时机 II\n",
    "----\n",
    "- 给定一个数组，它的第 i 个元素是一支给定股票第 i 天的价格。\n",
    "- 设计一个算法来计算你所能获取的最大利润。你可以尽可能地完成更多的交易（多次买卖一支股票）。\n",
    "- 注意：你不能同时参与多笔交易（你必须在再次购买前出售掉之前的股票）。\n",
    "```\n",
    "示例 1:\n",
    "输入: [7,1,5,3,6,4]\n",
    "输出: 7\n",
    "解释: 在第 2 天（股票价格 = 1）的时候买入，在第 3 天（股票价格 = 5）的时候卖出, 这笔交易所能获得利润 = 5-1 = 4 。\n",
    "     随后，在第 4 天（股票价格 = 3）的时候买入，在第 5 天（股票价格 = 6）的时候卖出, 这笔交易所能获得利润 = 6-3 = 3 。\n",
    "```\n",
    "```\n",
    "示例 2:\n",
    "输入: [1,2,3,4,5]\n",
    "输出: 4\n",
    "解释: 在第 1 天（股票价格 = 1）的时候买入，在第 5 天 （股票价格 = 5）的时候卖出, 这笔交易所能获得利润 = 5-1 = 4 。\n",
    "     注意你不能在第 1 天和第 2 天接连购买股票，之后再将它们卖出。\n",
    "     因为这样属于同时参与了多笔交易，你必须在再次购买前出售掉之前的股票。\n",
    "```\n",
    "```\n",
    "示例 3:\n",
    "输入: [7,6,4,3,1]\n",
    "输出: 0\n",
    "解释: 在这种情况下, 没有交易完成, 所以最大利润为 0。\n",
    "```\n",
    "- 来源：力扣（LeetCode）\n",
    "- 链接：https://leetcode-cn.com/problems/best-time-to-buy-and-sell-stock-ii"
   ]
  },
  {
   "cell_type": "markdown",
   "metadata": {},
   "source": [
    "## 分析\n",
    "- 每天能买卖多次\n",
    "### DFS O(2^n)\n",
    "- 1 买一股\n",
    "- 2 卖一股\n",
    "### Greedy贪心算法 O(n)\n",
    "- 如果第二天的股票比第一天的高，那么应该买入第一天的；\n",
    "- 每次买入前，先卖掉手中的。将当天的利润加到之前的利润上。\n",
    "### DP动态规划 O(n)\n",
    "- 能解决的问题比贪心更多"
   ]
  },
  {
   "cell_type": "code",
   "execution_count": 1,
   "metadata": {},
   "outputs": [],
   "source": [
    "class Solution:\n",
    "    def maxProfit(self, prices):\n",
    "        length = len(prices)\n",
    "        if length <= 1:\n",
    "            return 0\n",
    "        profit = 0\n",
    "        for i in range(1, length):\n",
    "            if prices[i] > prices[i-1]:\n",
    "                profit += (prices[i]-prices[i-1])\n",
    "        return profit"
   ]
  },
  {
   "cell_type": "code",
   "execution_count": 2,
   "metadata": {},
   "outputs": [],
   "source": [
    "prices = [7,1,5,3,6,4]\n",
    "# prices = [1,2,3,4,5]\n",
    "# prices = [7,6,4,3,1]"
   ]
  },
  {
   "cell_type": "code",
   "execution_count": 3,
   "metadata": {},
   "outputs": [
    {
     "data": {
      "text/plain": [
       "7"
      ]
     },
     "execution_count": 3,
     "metadata": {},
     "output_type": "execute_result"
    }
   ],
   "source": [
    "Solution().maxProfit(prices)"
   ]
  },
  {
   "cell_type": "code",
   "execution_count": null,
   "metadata": {},
   "outputs": [],
   "source": []
  }
 ],
 "metadata": {
  "kernelspec": {
   "display_name": "Python 3",
   "language": "python",
   "name": "python3"
  },
  "language_info": {
   "codemirror_mode": {
    "name": "ipython",
    "version": 3
   },
   "file_extension": ".py",
   "mimetype": "text/x-python",
   "name": "python",
   "nbconvert_exporter": "python",
   "pygments_lexer": "ipython3",
   "version": "3.6.9"
  }
 },
 "nbformat": 4,
 "nbformat_minor": 2
}
