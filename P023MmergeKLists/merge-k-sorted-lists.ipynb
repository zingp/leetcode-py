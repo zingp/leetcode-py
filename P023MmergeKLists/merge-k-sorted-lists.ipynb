{
 "cells": [
  {
   "cell_type": "markdown",
   "metadata": {},
   "source": [
    "## 合并 k 个排序链表\n",
    "```\n",
    "合并 k 个排序链表，返回合并后的排序链表。请分析和描述算法的复杂度。\n",
    "\n",
    "示例:\n",
    "\n",
    "输入:\n",
    "[\n",
    "  1->4->5,\n",
    "  1->3->4,\n",
    "  2->6\n",
    "]\n",
    "输出: 1->1->2->3->4->4->5->6\n",
    "\n",
    "来源：力扣（LeetCode）\n",
    "链接：https://leetcode-cn.com/problems/merge-k-sorted-lists\n",
    "```"
   ]
  },
  {
   "cell_type": "code",
   "execution_count": 2,
   "metadata": {},
   "outputs": [],
   "source": [
    "# Definition for singly-linked list.\n",
    "class ListNode:\n",
    "    def __init__(self, x):\n",
    "        self.val = x\n",
    "        self.next = None"
   ]
  },
  {
   "cell_type": "code",
   "execution_count": 3,
   "metadata": {},
   "outputs": [],
   "source": [
    "class Solution:\n",
    "    def mergeKLists(self, lists):\n",
    "        amount = len(lists)\n",
    "        step = 1\n",
    "        while step < amount:\n",
    "            for i in range(0, amount-step, step<<1):\n",
    "                lists[i] = self.merge2Lists(lists[i], lists[i+step])\n",
    "            step <<= 1\n",
    "        return lists[0] if amount>0 else None\n",
    "    \n",
    "    def merge2Lists(self, l1, l2):\n",
    "        head = cur = ListNode(0)\n",
    "        while l1 and l2:\n",
    "            if l1.val <= l2.val:\n",
    "                cur.next = ListNode(l1.val)\n",
    "                l1 = l1.next\n",
    "            else:\n",
    "                cur.next = ListNode(l2.val)\n",
    "                l2 = l2.next\n",
    "            cur = cur.next\n",
    "        if l1:\n",
    "            cur.next = l1\n",
    "        if l2:\n",
    "            cur.next = l2\n",
    "        return head.next"
   ]
  },
  {
   "cell_type": "code",
   "execution_count": 5,
   "metadata": {},
   "outputs": [],
   "source": [
    "# 这个要快一倍，内存少一倍\n",
    "class Solution:\n",
    "    def mergeKLists(self, lists):\n",
    "        amount = len(lists)\n",
    "        step = 1\n",
    "        while step < amount:\n",
    "            for i in range(0, amount-step, step<<1):\n",
    "                lists[i] = self.merge2Lists(lists[i], lists[i+step])\n",
    "            step <<= 1\n",
    "        return lists[0] if amount>0 else None\n",
    "    \n",
    "    def merge2Lists(self, l1, l2):\n",
    "        head = cur = ListNode(0)\n",
    "        while l1 and l2:\n",
    "            if l1.val <= l2.val:\n",
    "                cur.next = l1\n",
    "                l1 = l1.next\n",
    "            else:\n",
    "                cur.next = l2\n",
    "                l2 = l1\n",
    "                l1 = cur.next.next\n",
    "            cur = cur.next\n",
    "        if l1:\n",
    "            cur.next = l1\n",
    "        if l2:\n",
    "            cur.next = l2\n",
    "        return head.next"
   ]
  },
  {
   "cell_type": "code",
   "execution_count": 11,
   "metadata": {},
   "outputs": [
    {
     "name": "stdout",
     "output_type": "stream",
     "text": [
      "0\n",
      "2\n",
      "4\n",
      "6\n"
     ]
    }
   ],
   "source": [
    "for i in range(0, 8, 2):\n",
    "    print(i)"
   ]
  },
  {
   "cell_type": "code",
   "execution_count": null,
   "metadata": {},
   "outputs": [],
   "source": []
  }
 ],
 "metadata": {
  "kernelspec": {
   "display_name": "Python 3",
   "language": "python",
   "name": "python3"
  },
  "language_info": {
   "codemirror_mode": {
    "name": "ipython",
    "version": 3
   },
   "file_extension": ".py",
   "mimetype": "text/x-python",
   "name": "python",
   "nbconvert_exporter": "python",
   "pygments_lexer": "ipython3",
   "version": "3.6.8"
  }
 },
 "nbformat": 4,
 "nbformat_minor": 2
}
