{
 "cells": [
  {
   "cell_type": "markdown",
   "metadata": {},
   "source": [
    "## 103. 二叉树的锯齿形层次遍历-2"
   ]
  },
  {
   "cell_type": "code",
   "execution_count": 1,
   "metadata": {},
   "outputs": [],
   "source": [
    "class TreeNode(object):\n",
    "    def __init__(self, x):\n",
    "        self.val = x\n",
    "        self.left = None\n",
    "        self.right = None\n",
    "\n",
    "\n",
    "def create_tree(li):\n",
    "    \"\"\"二叉树层序构建\"\"\"\n",
    "    if not li:\n",
    "        return None\n",
    "    if li[0] == None:\n",
    "        return None\n",
    "    head = TreeNode(li[0])\n",
    "    stack = [head]\n",
    "    i = 1\n",
    "    for node in stack:\n",
    "        if node != None:\n",
    "            node.left = (TreeNode(li[i]) if li[i] != None else None)\n",
    "            stack.append(node.left)\n",
    "            i += 1\n",
    "            if i == len(li):\n",
    "                return head\n",
    "            node.right = (TreeNode(li[i])if li[i] != None else None)\n",
    "            i += 1\n",
    "            stack.append(node.right)\n",
    "            if i == len(li):\n",
    "                return head"
   ]
  },
  {
   "cell_type": "code",
   "execution_count": 2,
   "metadata": {},
   "outputs": [],
   "source": [
    "from collections import deque"
   ]
  },
  {
   "cell_type": "code",
   "execution_count": 3,
   "metadata": {},
   "outputs": [],
   "source": [
    "class Solution:\n",
    "    def zigzagLevelOrder(self, root):\n",
    "        \"\"\"双端队列广度优先\"\"\"\n",
    "        if not root:\n",
    "            return []\n",
    "        queue = deque()\n",
    "        queue.append(root)\n",
    "        ret = []\n",
    "        deep = 0\n",
    "        while queue:\n",
    "            size = len(queue) \n",
    "            level = []\n",
    "            if deep % 2 == 0:\n",
    "                for _ in range(size):\n",
    "                    node = queue.popleft()\n",
    "                    if node:\n",
    "                        level.append(node.val)\n",
    "                    if node.left:\n",
    "                        queue.append(node.left)\n",
    "                    if node.right:\n",
    "                        queue.append(node.right)\n",
    "            else:\n",
    "                for _ in range(size):\n",
    "                    node = queue.pop()\n",
    "                    if node:\n",
    "                        level.append(node.val)\n",
    "                    if node.right:\n",
    "                        queue.appendleft(node.right)\n",
    "                    if node.left:\n",
    "                        queue.appendleft(node.left)\n",
    "            if level:\n",
    "                ret.append(level)\n",
    "                deep += 1\n",
    "        return ret"
   ]
  },
  {
   "cell_type": "code",
   "execution_count": 4,
   "metadata": {},
   "outputs": [],
   "source": [
    "root = create_tree(list(range(15)))"
   ]
  },
  {
   "cell_type": "code",
   "execution_count": 5,
   "metadata": {},
   "outputs": [
    {
     "data": {
      "text/plain": [
       "[[0], [2, 1], [3, 4, 5, 6], [14, 13, 12, 11, 10, 9, 8, 7]]"
      ]
     },
     "execution_count": 5,
     "metadata": {},
     "output_type": "execute_result"
    }
   ],
   "source": [
    "Solution().zigzagLevelOrder(root)"
   ]
  },
  {
   "cell_type": "code",
   "execution_count": 6,
   "metadata": {},
   "outputs": [],
   "source": [
    "class Solution:\n",
    "    def zigzagLevelOrder(self, root):\n",
    "        \"\"\"深度优先搜索\"\"\"\n",
    "        if not root:\n",
    "            return []\n",
    "        results = []\n",
    "        def dfs(node, level):\n",
    "            if level == len(results):\n",
    "                results.append([node.val])\n",
    "            else:\n",
    "                if level % 2 == 0:\n",
    "                    results[level].append(node.val)\n",
    "                else:\n",
    "                    results[level].insert(0, node.val)\n",
    "            for next_node in [node.left, node.right]:\n",
    "                if next_node is not None:\n",
    "                    dfs(next_node, level+1)\n",
    "        dfs(root, 0)\n",
    "        return results"
   ]
  },
  {
   "cell_type": "code",
   "execution_count": 7,
   "metadata": {},
   "outputs": [
    {
     "data": {
      "text/plain": [
       "[[0], [2, 1], [3, 4, 5, 6], [14, 13, 12, 11, 10, 9, 8, 7]]"
      ]
     },
     "execution_count": 7,
     "metadata": {},
     "output_type": "execute_result"
    }
   ],
   "source": [
    "Solution().zigzagLevelOrder(root)"
   ]
  },
  {
   "cell_type": "code",
   "execution_count": 8,
   "metadata": {},
   "outputs": [],
   "source": [
    "class Solution:\n",
    "    def zigzagLevelOrder(self, root):\n",
    "        \"\"\"深度优先搜索\"\"\"\n",
    "        if not root:\n",
    "            return []\n",
    "        results = []\n",
    "        def dfs(node, level):\n",
    "            if level >= len(results):\n",
    "                results.append(deque([node.val]))\n",
    "            else:\n",
    "                if level % 2 == 0:\n",
    "                    results[level].append(node.val)\n",
    "                else:\n",
    "                    results[level].appendleft(node.val)\n",
    "            for next_node in [node.left, node.right]:\n",
    "                if next_node is not None:\n",
    "                    dfs(next_node, level+1)\n",
    "        dfs(root, 0)\n",
    "        return [list(i) for i in results]"
   ]
  },
  {
   "cell_type": "code",
   "execution_count": 9,
   "metadata": {},
   "outputs": [
    {
     "data": {
      "text/plain": [
       "[[0], [2, 1], [3, 4, 5, 6], [14, 13, 12, 11, 10, 9, 8, 7]]"
      ]
     },
     "execution_count": 9,
     "metadata": {},
     "output_type": "execute_result"
    }
   ],
   "source": [
    "Solution().zigzagLevelOrder(root)"
   ]
  },
  {
   "cell_type": "markdown",
   "metadata": {},
   "source": [
    "## 复杂度\n",
    "- 广度优先时间复杂度O(n), 空间复杂度O(n)。队列最中元素最多不超过两层，元素最多的层有n/2 个元素。\n",
    "- 深度优先时间复杂度O(n), 空间复杂度O(log(n))。递归压栈深度log(n)。"
   ]
  },
  {
   "cell_type": "code",
   "execution_count": null,
   "metadata": {},
   "outputs": [],
   "source": []
  }
 ],
 "metadata": {
  "kernelspec": {
   "display_name": "Python 3",
   "language": "python",
   "name": "python3"
  },
  "language_info": {
   "codemirror_mode": {
    "name": "ipython",
    "version": 3
   },
   "file_extension": ".py",
   "mimetype": "text/x-python",
   "name": "python",
   "nbconvert_exporter": "python",
   "pygments_lexer": "ipython3",
   "version": "3.6.9"
  }
 },
 "nbformat": 4,
 "nbformat_minor": 2
}
