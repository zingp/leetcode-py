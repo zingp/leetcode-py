{
 "cells": [
  {
   "cell_type": "markdown",
   "metadata": {},
   "source": [
    "## 1143. 最长公共子序列\n",
    "- 给定两个字符串 text1 和 text2，返回这两个字符串的最长公共子序列的长度。\n",
    "- 一个字符串的 子序列 是指这样一个新的字符串：它是由原字符串在不改变字符的相对顺序的情况下删除某些字符（也可以不删除任何字符）后组成的新字符串。\n",
    "- 例如，\"ace\" 是 \"abcde\" 的子序列，但 \"aec\" 不是 \"abcde\" 的子序列。两个字符串的「公共子序列」是这两个字符串所共同拥有的子序列。\n",
    "- 若这两个字符串没有公共子序列，则返回 0。\n",
    "\n",
    "- 示例 1:\n",
    "```\n",
    "输入：text1 = \"abcde\", text2 = \"ace\" \n",
    "输出：3  \n",
    "解释：最长公共子序列是 \"ace\"，它的长度为 3。\n",
    "```\n",
    "\n",
    "- 示例 2:\n",
    "```\n",
    "输入：text1 = \"abc\", text2 = \"abc\"\n",
    "输出：3\n",
    "解释：最长公共子序列是 \"abc\"，它的长度为 3。\n",
    "```\n",
    "- 示例 3:\n",
    "```\n",
    "输入：text1 = \"abc\", text2 = \"def\"\n",
    "输出：0\n",
    "解释：两个字符串没有公共子序列，返回 0。\n",
    "```"
   ]
  },
  {
   "cell_type": "markdown",
   "metadata": {},
   "source": [
    "## 解法：动态规划\n",
    "- 例如：s1=\"abcde\"　　s2= \"ace\"，求两个字符串的公共子序列，答案是“ace”\n",
    "\n",
    "- 1.　S{s1,s2,s3....si} T{t1,t2,t3,t4....tj}\n",
    "\n",
    "- 2.　子问题划分\n",
    "\n",
    "    - (1) 如果S的最后一位等于T的最后一位，则最大子序列就是{s1,s2,s3...si-1}和{t1,t2,t3...tj-1}的最大子序列+1\n",
    "\n",
    "    - (2) 如果S的最后一位不等于T的最后一位，那么最大子序列就是\n",
    "\n",
    "        - ① {s1,s2,s3..si}和 {t1,t2,t3...tj-1} 最大子序列\n",
    "\n",
    "        - ② {s1,s2,s3...si-1}和{t1,t2,t3....tj} 最大子序列\n",
    "\n",
    "        - 以上两个自序列的最大值\n",
    "\n",
    "- 3.　边界：只剩下{s1}和{t1}，如果相等就返回1，不等就返回0\n",
    "\n",
    "- 4.　使用一个表格来存储dp的结果\n",
    "\n",
    "    - 如果 $S[i] == T[j]$ 则$dp[i][j] = dp[i-1][j-1] + 1$\n",
    "\n",
    "    - 否则$dp[i][j] = max(dp[i][j-1],dp[i-1][j])$"
   ]
  },
  {
   "cell_type": "code",
   "execution_count": 1,
   "metadata": {},
   "outputs": [],
   "source": [
    "class Solution:\n",
    "    def longestCommonSubSeq(self, text1, text2):\n",
    "        def dp(i, j):\n",
    "            if i == -1 or j == -1:\n",
    "                return 0\n",
    "            if text1[i] == text2[j]:\n",
    "                return dp(i-1, j-1) + 1\n",
    "            else:\n",
    "                return max(dp(i, j-1), dp(i-1, j))\n",
    "        return dp(len(text1)-1, len(text2)-1)"
   ]
  },
  {
   "cell_type": "code",
   "execution_count": 2,
   "metadata": {},
   "outputs": [
    {
     "data": {
      "text/plain": [
       "3"
      ]
     },
     "execution_count": 2,
     "metadata": {},
     "output_type": "execute_result"
    }
   ],
   "source": [
    "text1 = \"abcde\"\n",
    "text2 = \"ace\"\n",
    "Solution().longestCommonSubSeq(text1, text2)"
   ]
  },
  {
   "cell_type": "code",
   "execution_count": 3,
   "metadata": {},
   "outputs": [],
   "source": [
    "class Solution:\n",
    "    def longestCommonSubsequence(self, text1: str, text2: str) -> int:\n",
    "        m = len(text1)\n",
    "        n = len(text2)\n",
    "        dp = [[0 for _ in range(n+1)] for i in range(m+1) ]\n",
    "        for i in range(1, m+1):\n",
    "            for j in range(1, n+1):\n",
    "                if text1[i-1] == text2[j-1]:\n",
    "                    dp[i][j] = dp[i-1][j-1] + 1\n",
    "                else:\n",
    "                    dp[i][j] = max(dp[i-1][j], dp[i][j-1])\n",
    "        return dp[m][n]"
   ]
  },
  {
   "cell_type": "code",
   "execution_count": 4,
   "metadata": {},
   "outputs": [],
   "source": [
    "text1 = \"abcde\"\n",
    "text2 = \"ace\""
   ]
  },
  {
   "cell_type": "code",
   "execution_count": 5,
   "metadata": {},
   "outputs": [
    {
     "data": {
      "text/plain": [
       "3"
      ]
     },
     "execution_count": 5,
     "metadata": {},
     "output_type": "execute_result"
    }
   ],
   "source": [
    "Solution().longestCommonSubsequence(text1, text2)"
   ]
  },
  {
   "cell_type": "code",
   "execution_count": null,
   "metadata": {},
   "outputs": [],
   "source": []
  }
 ],
 "metadata": {
  "kernelspec": {
   "display_name": "Python 3",
   "language": "python",
   "name": "python3"
  },
  "language_info": {
   "codemirror_mode": {
    "name": "ipython",
    "version": 3
   },
   "file_extension": ".py",
   "mimetype": "text/x-python",
   "name": "python",
   "nbconvert_exporter": "python",
   "pygments_lexer": "ipython3",
   "version": "3.6.10"
  }
 },
 "nbformat": 4,
 "nbformat_minor": 4
}
