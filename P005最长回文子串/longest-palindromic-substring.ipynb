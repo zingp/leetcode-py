{
 "cells": [
  {
   "cell_type": "markdown",
   "metadata": {},
   "source": [
    "## 5. 最长回文子串\n",
    "- 给定一个字符串 s，找到 s 中最长的回文子串。你可以假设 s 的最大长度为 1000。\n",
    "```\n",
    "示例 1：\n",
    "\n",
    "输入: \"babad\"\n",
    "输出: \"bab\"\n",
    "注意: \"aba\" 也是一个有效答案。\n",
    "示例 2：\n",
    "\n",
    "输入: \"cbbd\"\n",
    "输出: \"bb\"\n",
    "```\n",
    "- 最长回文子串\n",
    "- 枚举每一个字符是回文字符串中心，然后分两种情况：\n",
    "- 如果回文字符串是长度是奇数，\n",
    "- 如果回文字符串是长度是偶数，"
   ]
  },
  {
   "cell_type": "code",
   "execution_count": 1,
   "metadata": {},
   "outputs": [],
   "source": [
    "class Solution:\n",
    "    def longestPalindrome(self, s: str) -> str:\n",
    "        n = len(s)\n",
    "        if not n:\n",
    "            return 0\n",
    "        res = \"\"\n",
    "        for i in range(n):\n",
    "            x = 1 # 奇数\n",
    "            while i - x >= 0 and i + x <= n - 1:\n",
    "                if s[i-x] == s[i+x]:\n",
    "                    x += 1\n",
    "                else:\n",
    "                    break\n",
    "            if len(res) < 2 * x - 1:\n",
    "                res = s[i- x + 1 :x + i]\n",
    "\n",
    "            x = 0\n",
    "            while i - x >= 0 and i + x + 1 <= n - 1:\n",
    "                if s[i-x] == s[i+x+1]:\n",
    "                    x += 1\n",
    "                else:\n",
    "                    break\n",
    "            if len(res) < 2 * x:\n",
    "                res = s[i- x + 1: x + i + 1]\n",
    "        return res"
   ]
  },
  {
   "cell_type": "code",
   "execution_count": 2,
   "metadata": {},
   "outputs": [],
   "source": [
    "class Solution:\n",
    "    def getLongestPalindrome(self, A, n):\n",
    "        # write code here\n",
    "        #  动态规划 枚举 子串长度 \n",
    "        # dp[i][j] 表示第i个字符到第j个字符是否是回文串\n",
    "        # 单个字符  = 1\n",
    "        # 两个字符是否相等？\n",
    "        dp = [ [False] * n for _ in range(n)]\n",
    "        ans = \"\"\n",
    "        for leng in range(n):\n",
    "            for i in range(n):\n",
    "                j = i + leng\n",
    "                if j >= n:\n",
    "                    break\n",
    "                if leng == 0:\n",
    "                    dp[i][j] = True\n",
    "                elif leng == 1:\n",
    "                    dp[i][j] = (A[i] == A[j])\n",
    "                else:\n",
    "                    dp[i][j] = (dp[i+1][j-1] and A[i] == A[j]) \n",
    "                if dp[i][j] and leng+1 > len(ans):\n",
    "                    ans = A[i: j+1]\n",
    "                    \n",
    "        return ans"
   ]
  },
  {
   "cell_type": "code",
   "execution_count": 3,
   "metadata": {},
   "outputs": [],
   "source": [
    "s = \"abc1234321ab\"\n",
    "n = 12"
   ]
  },
  {
   "cell_type": "code",
   "execution_count": 4,
   "metadata": {},
   "outputs": [
    {
     "data": {
      "text/plain": [
       "'1234321'"
      ]
     },
     "execution_count": 4,
     "metadata": {},
     "output_type": "execute_result"
    }
   ],
   "source": [
    "Solution().getLongestPalindrome(s, n)"
   ]
  },
  {
   "cell_type": "code",
   "execution_count": 5,
   "metadata": {},
   "outputs": [],
   "source": [
    "class Solution:\n",
    "    def longestPalindrome(self, s: str) -> str:\n",
    "        n = len(s)\n",
    "        dp = [[False] * n for _ in range(n)]\n",
    "        ans = \"\"\n",
    "        # 枚举子串的长度 l+1\n",
    "        for l in range(n):\n",
    "            # 枚举子串的起始位置 i，这样可以通过 j=i+l 得到子串的结束位置\n",
    "            for i in range(n):\n",
    "                j = i + l\n",
    "                if j >= len(s):\n",
    "                    break\n",
    "                if l == 0:\n",
    "                    dp[i][j] = True\n",
    "                elif l == 1:\n",
    "                    dp[i][j] = (s[i] == s[j])\n",
    "                else:\n",
    "                    dp[i][j] = (dp[i + 1][j - 1] and s[i] == s[j])\n",
    "                if dp[i][j] and l + 1 > len(ans):\n",
    "                    ans = s[i:j+1]\n",
    "        return ans"
   ]
  },
  {
   "cell_type": "code",
   "execution_count": 6,
   "metadata": {},
   "outputs": [
    {
     "data": {
      "text/plain": [
       "'1234321'"
      ]
     },
     "execution_count": 6,
     "metadata": {},
     "output_type": "execute_result"
    }
   ],
   "source": [
    "Solution().longestPalindrome(s)"
   ]
  },
  {
   "cell_type": "code",
   "execution_count": null,
   "metadata": {},
   "outputs": [],
   "source": []
  }
 ],
 "metadata": {
  "kernelspec": {
   "display_name": "Python 3",
   "language": "python",
   "name": "python3"
  },
  "language_info": {
   "codemirror_mode": {
    "name": "ipython",
    "version": 3
   },
   "file_extension": ".py",
   "mimetype": "text/x-python",
   "name": "python",
   "nbconvert_exporter": "python",
   "pygments_lexer": "ipython3",
   "version": "3.6.9"
  }
 },
 "nbformat": 4,
 "nbformat_minor": 4
}
