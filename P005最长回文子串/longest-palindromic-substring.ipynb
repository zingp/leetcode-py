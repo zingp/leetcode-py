{
 "cells": [
  {
   "cell_type": "markdown",
   "metadata": {},
   "source": [
    "## 5. 最长回文子串\n",
    "- 给定一个字符串 s，找到 s 中最长的回文子串。你可以假设 s 的最大长度为 1000。\n",
    "```\n",
    "示例 1：\n",
    "\n",
    "输入: \"babad\"\n",
    "输出: \"bab\"\n",
    "注意: \"aba\" 也是一个有效答案。\n",
    "示例 2：\n",
    "\n",
    "输入: \"cbbd\"\n",
    "输出: \"bb\"\n",
    "```\n",
    "- 最长回文子串\n",
    "- 枚举每一个字符是回文字符串中心，然后分两种情况：\n",
    "- 如果回文字符串是长度是奇数，\n",
    "- 如果回文字符串是长度是偶数，"
   ]
  },
  {
   "cell_type": "code",
   "execution_count": 1,
   "metadata": {},
   "outputs": [],
   "source": [
    "class Solution:\n",
    "    def longestPalindrome(self, s: str) -> str:\n",
    "        n = len(s)\n",
    "        if not n:\n",
    "            return 0\n",
    "        res = \"\"\n",
    "        for i in range(n):\n",
    "            x = 1 # 奇数\n",
    "            while i - x >= 0 and i + x <= n - 1:\n",
    "                if s[i-x] == s[i+x]:\n",
    "                    x += 1\n",
    "                else:\n",
    "                    break\n",
    "            if len(res) < 2 * x - 1:\n",
    "                res = s[i- x + 1 :x + i]\n",
    "\n",
    "            x = 0\n",
    "            while i - x >= 0 and i + x + 1 <= n - 1:\n",
    "                if s[i-x] == s[i+x+1]:\n",
    "                    x += 1\n",
    "                else:\n",
    "                    break\n",
    "            if len(res) < 2 * x:\n",
    "                res = s[i- x + 1: x + i + 1]\n",
    "        return res"
   ]
  },
  {
   "cell_type": "code",
   "execution_count": null,
   "metadata": {},
   "outputs": [],
   "source": []
  }
 ],
 "metadata": {
  "kernelspec": {
   "display_name": "Python 3",
   "language": "python",
   "name": "python3"
  },
  "language_info": {
   "codemirror_mode": {
    "name": "ipython",
    "version": 3
   },
   "file_extension": ".py",
   "mimetype": "text/x-python",
   "name": "python",
   "nbconvert_exporter": "python",
   "pygments_lexer": "ipython3",
   "version": "3.6.10"
  }
 },
 "nbformat": 4,
 "nbformat_minor": 4
}
