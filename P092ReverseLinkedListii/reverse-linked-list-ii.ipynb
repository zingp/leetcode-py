{
 "cells": [
  {
   "cell_type": "markdown",
   "metadata": {},
   "source": [
    "## 92. 反转链表 II\n",
    "- 反转从位置 m 到 n 的链表。请使用一趟扫描完成反转。\n",
    "\n",
    "- 说明:\n",
    "- 1 ≤ m ≤ n ≤ 链表长度。\n",
    "\n",
    "- 示例:\n",
    "    - 输入: 1->2->3->4->5->NULL, m = 2, n = 4\n",
    "    - 输出: 1->4->3->2->5->NULL"
   ]
  },
  {
   "cell_type": "code",
   "execution_count": 1,
   "metadata": {},
   "outputs": [],
   "source": [
    "class ListNode:\n",
    "    def __init__(self, x):\n",
    "        self.val = x\n",
    "        self.next = None"
   ]
  },
  {
   "cell_type": "code",
   "execution_count": 3,
   "metadata": {},
   "outputs": [],
   "source": [
    "class Solution:\n",
    "    def reverseBetween(self, head, m, n):\n",
    "        # m对应节点是头结点，直接翻转\n",
    "        if m == 1: \n",
    "            return self.reverse(head, m, n)\n",
    "        count = 1\n",
    "        h = head\n",
    "        while h:    #找到m前一个节点preRev\n",
    "            if count == m - 1:\n",
    "                preRev = h \n",
    "            h = h.next\n",
    "            count += 1\n",
    "        headRev = self.reverse(preRev.next, m, n)\n",
    "        preRev.next = headRev \n",
    "        return head\n",
    "\n",
    "    def reverse(self, head, m, n):\n",
    "        '''\n",
    "        该函数完成m-n的翻转以及翻转后与剩余链表相连两个任务\n",
    "        '''\n",
    "        pre, cur = None, head\n",
    "        #翻转m-n链表\n",
    "        for _ in range(n - m + 1):\n",
    "            pre, pre.next, cur = cur, pre, cur.next\n",
    "        head.next = cur #与剩余链表相连\n",
    "        return pre    "
   ]
  },
  {
   "cell_type": "code",
   "execution_count": null,
   "metadata": {},
   "outputs": [],
   "source": []
  }
 ],
 "metadata": {
  "kernelspec": {
   "display_name": "Python 3",
   "language": "python",
   "name": "python3"
  },
  "language_info": {
   "codemirror_mode": {
    "name": "ipython",
    "version": 3
   },
   "file_extension": ".py",
   "mimetype": "text/x-python",
   "name": "python",
   "nbconvert_exporter": "python",
   "pygments_lexer": "ipython3",
   "version": "3.6.9"
  }
 },
 "nbformat": 4,
 "nbformat_minor": 2
}
