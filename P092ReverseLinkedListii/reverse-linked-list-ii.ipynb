{
 "cells": [
  {
   "cell_type": "markdown",
   "metadata": {},
   "source": [
    "## 92. 反转链表 II\n",
    "- 反转从位置 m 到 n 的链表。请使用一趟扫描完成反转。\n",
    "\n",
    "- 说明:\n",
    "- 1 ≤ m ≤ n ≤ 链表长度。\n",
    "\n",
    "- 示例:\n",
    "    - 输入: 1->2->3->4->5->NULL, m = 2, n = 4\n",
    "    - 输出: 1->4->3->2->5->NULL\n",
    "    \n",
    "## 思路\n",
    "- 1 找到m节点的前驱节点\n",
    "- 2 辅助函数：从m节点开始反转，直到n节点，并将反转后的尾结点和剩下的链表接在一起，返回头节点\n",
    "- 3 连接前驱节点和反转后的头结点\n",
    "- 4 最后返回原链表头"
   ]
  },
  {
   "cell_type": "code",
   "execution_count": 1,
   "metadata": {},
   "outputs": [],
   "source": [
    "class ListNode:\n",
    "    def __init__(self, x):\n",
    "        self.val = x\n",
    "        self.next = None\n",
    "\n",
    "        \n",
    "# 构建单链表\n",
    "def build_linklist(lis):\n",
    "    pre = ListNode(None)\n",
    "    if len(lis) > 0:\n",
    "        head = ListNode(lis[0])\n",
    "    pre.next = head\n",
    "    for i in range(1, len(lis)):\n",
    "        head.next = ListNode(lis[i])\n",
    "        head = head.next\n",
    "    return pre.next\n",
    "\n",
    "\n",
    "# 单链表遍历\n",
    "def range_linklist(head):\n",
    "    stack = []\n",
    "    while head:\n",
    "        stack.append(head.val)\n",
    "        head = head.next\n",
    "    print(stack) "
   ]
  },
  {
   "cell_type": "code",
   "execution_count": 2,
   "metadata": {},
   "outputs": [],
   "source": [
    "class Solution:\n",
    "    def reverseBetween(self, head, m, n):\n",
    "        # m对应节点是头结点，直接翻转\n",
    "        if m == 1: \n",
    "            return self.reverse(head, m, n)\n",
    "        count = 1\n",
    "        h = head\n",
    "        while h:    # 找到m前一个节点preRev\n",
    "            if count == m - 1:\n",
    "                preRev = h \n",
    "            h = h.next\n",
    "            count += 1\n",
    "        headRev = self.reverse(preRev.next, m, n)\n",
    "        preRev.next = headRev \n",
    "        return head\n",
    "\n",
    "    def reverse(self, head, m, n):\n",
    "        '''\n",
    "        该函数完成m-n的翻转以及翻转后与剩余链表相连两个任务\n",
    "        '''\n",
    "        pre, cur = None, head\n",
    "        # 翻转 m-n 链表\n",
    "        for _ in range(n - m + 1):\n",
    "            pre, pre.next, cur = cur, pre, cur.next\n",
    "        head.next = cur #与剩余链表相连\n",
    "        return pre    "
   ]
  },
  {
   "cell_type": "code",
   "execution_count": 3,
   "metadata": {},
   "outputs": [],
   "source": [
    "head = build_linklist(list(range(10)))"
   ]
  },
  {
   "cell_type": "code",
   "execution_count": 4,
   "metadata": {},
   "outputs": [
    {
     "name": "stdout",
     "output_type": "stream",
     "text": [
      "[0, 1, 2, 3, 4, 5, 6, 7, 8, 9]\n"
     ]
    }
   ],
   "source": [
    "range_linklist(head)"
   ]
  },
  {
   "cell_type": "code",
   "execution_count": 5,
   "metadata": {},
   "outputs": [],
   "source": [
    "rev = Solution().reverseBetween(head, 5, 8)"
   ]
  },
  {
   "cell_type": "code",
   "execution_count": 6,
   "metadata": {},
   "outputs": [
    {
     "name": "stdout",
     "output_type": "stream",
     "text": [
      "[0, 1, 2, 3, 7, 6, 5, 4, 8, 9]\n"
     ]
    }
   ],
   "source": [
    "range_linklist(rev)"
   ]
  },
  {
   "cell_type": "code",
   "execution_count": 7,
   "metadata": {},
   "outputs": [],
   "source": [
    "class Solution:\n",
    "    def reverseBetween(self, head, m, n):\n",
    "\n",
    "        def reverse(head, m, n):\n",
    "            \"\"\"完成m-n的翻转，以及连接剩下的节点\"\"\"\n",
    "            pre = None\n",
    "            cur = head\n",
    "            for _ in range(n - m + 1):\n",
    "                nex = cur.next\n",
    "                cur.next = pre\n",
    "                pre = cur\n",
    "                cur = nex\n",
    "            head.next = cur\n",
    "            return pre\n",
    "\n",
    "        if m == 1:\n",
    "            return self.reverse(head, m, n)\n",
    "\n",
    "        mpre = head\n",
    "        for _ in range(m-2):\n",
    "            mpre = mpre.next\n",
    "\n",
    "        pre = reverse(mpre.next, m, n)\n",
    "        mpre.next = pre\n",
    "        \n",
    "        return head"
   ]
  },
  {
   "cell_type": "code",
   "execution_count": 8,
   "metadata": {},
   "outputs": [
    {
     "name": "stdout",
     "output_type": "stream",
     "text": [
      "[0, 1, 2, 3, 4, 5, 6, 7, 8, 9]\n"
     ]
    }
   ],
   "source": [
    "head = build_linklist(list(range(10)))\n",
    "range_linklist(head)"
   ]
  },
  {
   "cell_type": "code",
   "execution_count": 9,
   "metadata": {},
   "outputs": [
    {
     "name": "stdout",
     "output_type": "stream",
     "text": [
      "[0, 1, 2, 7, 6, 5, 4, 3, 8, 9]\n"
     ]
    }
   ],
   "source": [
    "range_linklist(Solution().reverseBetween(head, 4, 8))"
   ]
  },
  {
   "cell_type": "code",
   "execution_count": 10,
   "metadata": {},
   "outputs": [],
   "source": [
    "class Solution:\n",
    "    def reverseBetween(self, head, m, n):\n",
    "        # 如果m==1 相当于直接从头结点开始反转\n",
    "        if m == 1:\n",
    "            return self.reverse(head, m, n)\n",
    "        # 找到m的前驱节点\n",
    "        mPrev = head\n",
    "        for _ in range(m-2):\n",
    "            mPrev = mPrev.next\n",
    "            \n",
    "        # 反转m到n节点，并连接剩下的节点\n",
    "        revHead = self.reverse(mPrev.next, m, n)\n",
    "        mPrev.next = revHead\n",
    "        return head\n",
    "    \n",
    "    def reverse(self, head, m, n):\n",
    "        prev, cur = None, head\n",
    "        for _ in range(n-m+1):\n",
    "            nex = cur.next\n",
    "            cur.next = prev\n",
    "            prev = cur\n",
    "            cur = nex\n",
    "        head.next = cur\n",
    "        return prev\n",
    "           "
   ]
  },
  {
   "cell_type": "code",
   "execution_count": 11,
   "metadata": {},
   "outputs": [
    {
     "name": "stdout",
     "output_type": "stream",
     "text": [
      "[0, 1, 2, 3, 4, 5, 6, 7, 8, 9]\n"
     ]
    }
   ],
   "source": [
    "head = build_linklist(list(range(10)))\n",
    "range_linklist(head)"
   ]
  },
  {
   "cell_type": "code",
   "execution_count": 12,
   "metadata": {},
   "outputs": [
    {
     "name": "stdout",
     "output_type": "stream",
     "text": [
      "[0, 1, 2, 7, 6, 5, 4, 3, 8, 9]\n"
     ]
    }
   ],
   "source": [
    "range_linklist(Solution().reverseBetween(head, 4, 8))"
   ]
  },
  {
   "cell_type": "code",
   "execution_count": null,
   "metadata": {},
   "outputs": [],
   "source": []
  }
 ],
 "metadata": {
  "kernelspec": {
   "display_name": "Python 3",
   "language": "python",
   "name": "python3"
  },
  "language_info": {
   "codemirror_mode": {
    "name": "ipython",
    "version": 3
   },
   "file_extension": ".py",
   "mimetype": "text/x-python",
   "name": "python",
   "nbconvert_exporter": "python",
   "pygments_lexer": "ipython3",
   "version": "3.6.9"
  }
 },
 "nbformat": 4,
 "nbformat_minor": 2
}
