{
 "cells": [
  {
   "cell_type": "markdown",
   "metadata": {},
   "source": [
    "## 47. 全排列 II-2\n",
    "- 给定一个可包含重复数字的序列，返回所有不重复的全排列。\n",
    "- 示例:\n",
    "- 输入: [1,1,2]\n",
    "- 输出:\n",
    "```\n",
    "[\n",
    "  [1,1,2],\n",
    "  [1,2,1],\n",
    "  [2,1,1]\n",
    "]\n",
    "```"
   ]
  },
  {
   "cell_type": "code",
   "execution_count": 13,
   "metadata": {},
   "outputs": [],
   "source": [
    "class Solution:\n",
    "    def permuteUnique(self, nums):\n",
    "        results = []\n",
    "        dic = {}\n",
    "        for i in nums:\n",
    "            if i not in dic:\n",
    "                dic[i] = 1\n",
    "            else:\n",
    "                dic[i] += 1\n",
    "        path = {}\n",
    "        def dfs(li, nums):\n",
    "            if len(li) == len(nums):\n",
    "                results.append(li)\n",
    "                return\n",
    "            for i in nums:\n",
    "                if i not in path or (i in path and path[i] < dic[i]):\n",
    "                    path[i] = path.get(i, 0) + 1\n",
    "                    dfs(li + [i], nums)\n",
    "                    if path[i] == 1:\n",
    "                        del path[i]\n",
    "                    else:\n",
    "                        path[i] -= 1\n",
    "        dfs([], nums)\n",
    "        return results    "
   ]
  },
  {
   "cell_type": "code",
   "execution_count": 14,
   "metadata": {},
   "outputs": [
    {
     "data": {
      "text/plain": [
       "[[1, 1, 2],\n",
       " [1, 1, 2],\n",
       " [1, 2, 1],\n",
       " [1, 2, 1],\n",
       " [1, 1, 2],\n",
       " [1, 1, 2],\n",
       " [1, 2, 1],\n",
       " [1, 2, 1],\n",
       " [2, 1, 1],\n",
       " [2, 1, 1],\n",
       " [2, 1, 1],\n",
       " [2, 1, 1]]"
      ]
     },
     "execution_count": 14,
     "metadata": {},
     "output_type": "execute_result"
    }
   ],
   "source": [
    "Solution().permuteUnique([1,1,2])"
   ]
  },
  {
   "cell_type": "code",
   "execution_count": null,
   "metadata": {},
   "outputs": [],
   "source": []
  }
 ],
 "metadata": {
  "kernelspec": {
   "display_name": "Python 3",
   "language": "python",
   "name": "python3"
  },
  "language_info": {
   "codemirror_mode": {
    "name": "ipython",
    "version": 3
   },
   "file_extension": ".py",
   "mimetype": "text/x-python",
   "name": "python",
   "nbconvert_exporter": "python",
   "pygments_lexer": "ipython3",
   "version": "3.6.9"
  }
 },
 "nbformat": 4,
 "nbformat_minor": 2
}
