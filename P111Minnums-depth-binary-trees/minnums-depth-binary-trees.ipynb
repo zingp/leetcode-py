{
 "cells": [
  {
   "cell_type": "markdown",
   "metadata": {},
   "source": [
    "## 111. 二叉树的最小深度\n",
    "- 给定一个二叉树，找出其最小深度。\n",
    "- 最小深度是从根节点到最近叶子节点的最短路径上的节点数量。\n",
    "- 说明: 叶子节点是指没有子节点的节点。\n",
    "- 示例:\n",
    "- 给定二叉树 [3,9,20,null,null,15,7],\n",
    "```\n",
    "    3\n",
    "   / \\\n",
    "  9  20\n",
    "    /  \\\n",
    "   15   7\n",
    "```\n",
    "- 返回它的最小深度  2."
   ]
  },
  {
   "cell_type": "code",
   "execution_count": 2,
   "metadata": {},
   "outputs": [],
   "source": [
    "class Solution:\n",
    "    def minDepth(self, root):\n",
    "        if not root:\n",
    "            return 0\n",
    "        if not root.left and not root.right:\n",
    "            return 1\n",
    "        min_dep = float(\"inf\")\n",
    "        if root.left:\n",
    "            min_dep = min(self.minDepth(root.left), min_dep)\n",
    "        if root.right:\n",
    "            min_dep = min(self.minDepth(root.right), min_dep)\n",
    "        return min_dep + 1"
   ]
  },
  {
   "cell_type": "code",
   "execution_count": null,
   "metadata": {},
   "outputs": [],
   "source": []
  }
 ],
 "metadata": {
  "kernelspec": {
   "display_name": "Python 3",
   "language": "python",
   "name": "python3"
  },
  "language_info": {
   "codemirror_mode": {
    "name": "ipython",
    "version": 3
   },
   "file_extension": ".py",
   "mimetype": "text/x-python",
   "name": "python",
   "nbconvert_exporter": "python",
   "pygments_lexer": "ipython3",
   "version": "3.6.10"
  }
 },
 "nbformat": 4,
 "nbformat_minor": 4
}
