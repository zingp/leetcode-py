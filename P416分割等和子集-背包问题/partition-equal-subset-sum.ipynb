{
 "cells": [
  {
   "cell_type": "markdown",
   "metadata": {},
   "source": [
    "## 分割等和子集\n",
    "- https://leetcode-cn.com/problems/partition-equal-subset-sum/"
   ]
  },
  {
   "cell_type": "markdown",
   "metadata": {},
   "source": [
    "- 给定一个只包含正整数的非空数组。是否可以将这个数组分割成两个子集，使得两个子集的元素和相等。\n",
    "- 注意:\n",
    "- 每个数组中的元素不会超过 100\n",
    "- 数组的大小不会超过 200\n",
    "- 示例 1:\n",
    "- 输入: [1, 5, 11, 5]\n",
    "- 输出: true\n",
    "- 解释: 数组可以分割成 [1, 5, 5] 和 [11].\n",
    " \n",
    "- 示例 2:\n",
    "- 输入: [1, 2, 3, 5]\n",
    "- 输出: false\n",
    "- 解释: 数组不能分割成两个元素和相等的子集.\n"
   ]
  },
  {
   "cell_type": "markdown",
   "metadata": {},
   "source": [
    "## 解法一：暴力法\n",
    "- 这是一个NPC问题\n"
   ]
  },
  {
   "cell_type": "code",
   "execution_count": 11,
   "metadata": {},
   "outputs": [],
   "source": [
    "class Solution(object):\n",
    "    def canPartition(self, nums):\n",
    "        if len(nums) < 2:\n",
    "            return False\n",
    "        if sum(nums) & 1:\n",
    "            return False\n",
    "        target = sum(nums) >> 1\n",
    "        state = [False for _ in range(len(nums))]\n",
    "        res = set()\n",
    "        def dfs(path, target):\n",
    "            if sum(path) == target:\n",
    "                res.add(True)\n",
    "                return \n",
    "            for i in range(len(nums)):\n",
    "                if not state[i]:\n",
    "                    state[i] = True\n",
    "                    dfs(path+[nums[i]], target)\n",
    "                    state[i] = False\n",
    "        dfs([], target)\n",
    "        return True if True in res else False"
   ]
  },
  {
   "cell_type": "code",
   "execution_count": 12,
   "metadata": {},
   "outputs": [
    {
     "name": "stdout",
     "output_type": "stream",
     "text": [
      "22\n"
     ]
    }
   ],
   "source": [
    "arr = [1, 5, 11, 5]\n",
    "print(sum(arr))"
   ]
  },
  {
   "cell_type": "code",
   "execution_count": 13,
   "metadata": {},
   "outputs": [
    {
     "data": {
      "text/plain": [
       "True"
      ]
     },
     "execution_count": 13,
     "metadata": {},
     "output_type": "execute_result"
    }
   ],
   "source": [
    "Solution().canPartition(arr)"
   ]
  },
  {
   "cell_type": "code",
   "execution_count": 14,
   "metadata": {},
   "outputs": [
    {
     "data": {
      "text/plain": [
       "False"
      ]
     },
     "execution_count": 14,
     "metadata": {},
     "output_type": "execute_result"
    }
   ],
   "source": [
    "Solution().canPartition([1,2,5])"
   ]
  },
  {
   "cell_type": "markdown",
   "metadata": {},
   "source": [
    "## 解法二 递归\n",
    "- 解法一是暴力法，时间复杂度是O(n!)\n",
    "- 稍微改下可以是O(2^n)"
   ]
  },
  {
   "cell_type": "code",
   "execution_count": 18,
   "metadata": {},
   "outputs": [],
   "source": [
    "class Solution(object):\n",
    "    def canPartition(self, nums):\n",
    "        nums.sort(reverse=True)\n",
    "        def dfs(nums, target):\n",
    "            if target == 0:\n",
    "                return True\n",
    "            if target < 0:\n",
    "                return False\n",
    "            for i in range(len(nums)):\n",
    "                if dfs(nums[i+1:], target - nums[i]):\n",
    "                    return True\n",
    "            return False\n",
    "        if len(nums) < 2:\n",
    "            return False\n",
    "        target = sum(nums) >> 1\n",
    "        if nums[0] > target:\n",
    "            return False\n",
    "        return dfs(nums, target)            "
   ]
  },
  {
   "cell_type": "code",
   "execution_count": 19,
   "metadata": {},
   "outputs": [
    {
     "data": {
      "text/plain": [
       "True"
      ]
     },
     "execution_count": 19,
     "metadata": {},
     "output_type": "execute_result"
    }
   ],
   "source": [
    "Solution().canPartition(arr)"
   ]
  },
  {
   "cell_type": "code",
   "execution_count": 20,
   "metadata": {},
   "outputs": [
    {
     "data": {
      "text/plain": [
       "False"
      ]
     },
     "execution_count": 20,
     "metadata": {},
     "output_type": "execute_result"
    }
   ],
   "source": [
    "Solution().canPartition([1,2,5])"
   ]
  },
  {
   "cell_type": "markdown",
   "metadata": {},
   "source": [
    "## 动态规划\n",
    "- 定义 dp[i][target+1]  其中dp[i][j]表示 数组索引 [0, i]之间，是否可以找出一些数组成的数组和等于j。"
   ]
  },
  {
   "cell_type": "code",
   "execution_count": 2,
   "metadata": {},
   "outputs": [],
   "source": [
    "class Solution(object):\n",
    "    def canPartition(self, nums):\n",
    "        if len(nums) < 2:\n",
    "            return False\n",
    "        if sum(nums) & 1:\n",
    "            return False\n",
    "        target = sum(nums) >> 1\n",
    "        dp = [[False]*(target+1) for _ in range(len(nums))]\n",
    "        for i in range(len(nums)):\n",
    "            dp[i][0] = True\n",
    "        if nums[0] <= target:\n",
    "            dp[0][nums[0]] = 0\n",
    "        for i in range(1, len(nums)):\n",
    "            for j in range(1, target+1):\n",
    "                if j >= nums[i]:\n",
    "                    dp[i][j] = dp[i-1][j] or dp[i-1][j-nums[i]]\n",
    "                else:\n",
    "                    dp[i][j] = dp[i-1][j]\n",
    "        return dp[-1][-1]"
   ]
  },
  {
   "cell_type": "code",
   "execution_count": null,
   "metadata": {},
   "outputs": [],
   "source": [
    "arr = [1,2,5]"
   ]
  },
  {
   "cell_type": "code",
   "execution_count": 3,
   "metadata": {},
   "outputs": [
    {
     "data": {
      "text/plain": [
       "False"
      ]
     },
     "execution_count": 3,
     "metadata": {},
     "output_type": "execute_result"
    }
   ],
   "source": [
    "Solution().canPartition(arr)"
   ]
  },
  {
   "cell_type": "code",
   "execution_count": 4,
   "metadata": {},
   "outputs": [
    {
     "name": "stdout",
     "output_type": "stream",
     "text": [
      "[1, 2, 5]\n"
     ]
    }
   ],
   "source": [
    "print(arr)"
   ]
  },
  {
   "cell_type": "code",
   "execution_count": 5,
   "metadata": {},
   "outputs": [],
   "source": [
    "# 为什么是target+ 1: 0是结果等于0， 到索引得到target\n",
    "# 为什么是i-1  只能从上一个状态转移过来"
   ]
  },
  {
   "cell_type": "code",
   "execution_count": null,
   "metadata": {},
   "outputs": [],
   "source": []
  },
  {
   "cell_type": "code",
   "execution_count": 8,
   "metadata": {},
   "outputs": [],
   "source": []
  },
  {
   "cell_type": "code",
   "execution_count": 9,
   "metadata": {},
   "outputs": [
    {
     "data": {
      "text/plain": [
       "False"
      ]
     },
     "execution_count": 9,
     "metadata": {},
     "output_type": "execute_result"
    }
   ],
   "source": [
    "Solution().canPartition(arr)"
   ]
  },
  {
   "cell_type": "code",
   "execution_count": 10,
   "metadata": {},
   "outputs": [
    {
     "data": {
      "text/plain": [
       "True"
      ]
     },
     "execution_count": 10,
     "metadata": {},
     "output_type": "execute_result"
    }
   ],
   "source": [
    "arr = [1, 5, 11, 5]\n",
    "Solution().canPartition(arr)"
   ]
  },
  {
   "cell_type": "code",
   "execution_count": null,
   "metadata": {},
   "outputs": [],
   "source": [
    "class"
   ]
  }
 ],
 "metadata": {
  "kernelspec": {
   "display_name": "Python 3",
   "language": "python",
   "name": "python3"
  },
  "language_info": {
   "codemirror_mode": {
    "name": "ipython",
    "version": 3
   },
   "file_extension": ".py",
   "mimetype": "text/x-python",
   "name": "python",
   "nbconvert_exporter": "python",
   "pygments_lexer": "ipython3",
   "version": "3.6.9"
  }
 },
 "nbformat": 4,
 "nbformat_minor": 2
}
