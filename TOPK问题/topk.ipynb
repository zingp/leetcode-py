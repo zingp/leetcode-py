{
 "cells": [
  {
   "cell_type": "markdown",
   "metadata": {},
   "source": [
    "## 数组中最小的k个数"
   ]
  },
  {
   "cell_type": "code",
   "execution_count": 9,
   "metadata": {},
   "outputs": [],
   "source": [
    "import random\n",
    "from typing import List"
   ]
  },
  {
   "cell_type": "code",
   "execution_count": 10,
   "metadata": {},
   "outputs": [
    {
     "name": "stdout",
     "output_type": "stream",
     "text": [
      "[3, 0, 13, 8, 4, 6, 18, 16, 14, 7, 12, 1, 17, 10, 15, 19, 9, 2, 11, 5]\n"
     ]
    }
   ],
   "source": [
    "li = list(range(20))\n",
    "random.shuffle(li)\n",
    "print(li)"
   ]
  },
  {
   "cell_type": "code",
   "execution_count": 42,
   "metadata": {},
   "outputs": [],
   "source": [
    "class Solution:\n",
    "    def GetLeastNumbers_Solution(self, tinput, k):\n",
    "        # write code here\n",
    "        def partition(arr, left, right):\n",
    "            tmp = arr[left]\n",
    "            while left < right:\n",
    "                while left < right and arr[right] >= tmp:\n",
    "                    right -= 1\n",
    "                arr[left] = arr[right]\n",
    "                while left < right and arr[left] <= tmp:\n",
    "                    left += 1\n",
    "                arr[right] = arr[left]\n",
    "            arr[left] = tmp\n",
    "            return left\n",
    "        \n",
    "        def minK(arr, k, left, right):\n",
    "            if left < right:\n",
    "                mid = partition(arr, left, right)\n",
    "                if mid - left == k - 1:\n",
    "                    return mid\n",
    "                elif mid - left > k - 1:\n",
    "                    minK(arr, k, left, mid - 1)\n",
    "                else:\n",
    "                    minK(arr, k - mid +left -1, mid + 1, right)\n",
    "            return left\n",
    "        if len(tinput) < k:\n",
    "            return []\n",
    "        if not k:\n",
    "            return []\n",
    "        minK(tinput, k, 0, len(tinput)-1)\n",
    "        return tinput[:k]"
   ]
  },
  {
   "cell_type": "code",
   "execution_count": 43,
   "metadata": {},
   "outputs": [
    {
     "data": {
      "text/plain": [
       "[3, 2, 1, 4]"
      ]
     },
     "execution_count": 43,
     "metadata": {},
     "output_type": "execute_result"
    }
   ],
   "source": [
    "Solution().GetLeastNumbers_Solution(li, 4)"
   ]
  },
  {
   "cell_type": "code",
   "execution_count": 27,
   "metadata": {},
   "outputs": [],
   "source": [
    "class Solution:\n",
    "    def partition(self, nums, l, r):\n",
    "        pivot = nums[r]\n",
    "        i = l - 1\n",
    "        for j in range(l, r):\n",
    "            if nums[j] <= pivot:\n",
    "                i += 1\n",
    "                nums[i], nums[j] = nums[j], nums[i]\n",
    "        nums[i + 1], nums[r] = nums[r], nums[i + 1]\n",
    "        return i + 1\n",
    "\n",
    "    def randomized_partition(self, nums, l, r):\n",
    "        i = random.randint(l, r)\n",
    "        nums[r], nums[i] = nums[i], nums[r]\n",
    "        return self.partition(nums, l, r)\n",
    "\n",
    "    def randomized_selected(self, arr, l, r, k):\n",
    "        pos = self.randomized_partition(arr, l, r)\n",
    "        num = pos - l + 1\n",
    "        if k < num:\n",
    "            self.randomized_selected(arr, l, pos - 1, k)\n",
    "        elif k > num:\n",
    "            self.randomized_selected(arr, pos + 1, r, k - num)\n",
    "\n",
    "    def getLeastNumbers(self, arr: List[int], k: int) -> List[int]:\n",
    "        if k == 0:\n",
    "            return list()\n",
    "        self.randomized_selected(arr, 0, len(arr) - 1, k)\n",
    "        return arr[:k]"
   ]
  },
  {
   "cell_type": "code",
   "execution_count": 40,
   "metadata": {},
   "outputs": [],
   "source": [
    "li = [4,5,1,6,2,7,3,8]\n",
    "k = 4"
   ]
  },
  {
   "cell_type": "code",
   "execution_count": 33,
   "metadata": {},
   "outputs": [
    {
     "data": {
      "text/plain": [
       "[1, 2, 3, 4]"
      ]
     },
     "execution_count": 33,
     "metadata": {},
     "output_type": "execute_result"
    }
   ],
   "source": [
    "Solution().getLeastNumbers(li, 4)"
   ]
  },
  {
   "cell_type": "code",
   "execution_count": 41,
   "metadata": {},
   "outputs": [
    {
     "data": {
      "text/plain": [
       "[4, 5, 1, 6]"
      ]
     },
     "execution_count": 41,
     "metadata": {},
     "output_type": "execute_result"
    }
   ],
   "source": [
    "Solution().GetLeastNumbers_Solution(li, 4)"
   ]
  },
  {
   "cell_type": "code",
   "execution_count": null,
   "metadata": {},
   "outputs": [],
   "source": []
  }
 ],
 "metadata": {
  "kernelspec": {
   "display_name": "Python 3",
   "language": "python",
   "name": "python3"
  },
  "language_info": {
   "codemirror_mode": {
    "name": "ipython",
    "version": 3
   },
   "file_extension": ".py",
   "mimetype": "text/x-python",
   "name": "python",
   "nbconvert_exporter": "python",
   "pygments_lexer": "ipython3",
   "version": "3.6.9"
  }
 },
 "nbformat": 4,
 "nbformat_minor": 2
}
