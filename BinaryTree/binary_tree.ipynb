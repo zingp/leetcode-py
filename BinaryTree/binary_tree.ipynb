{
 "cells": [
  {
   "cell_type": "markdown",
   "metadata": {},
   "source": [
    "# 二叉树\n",
    "## 几个概念\n",
    "- 完全二叉树：若二叉树的高度是h，除第h层之外，其他（1~h-1）层的节点数都达到了最大个数，并且第h层的节点都连续的集中在最左边。想到点什么没？实际上，完全二叉树和堆联系比较紧密哈~~~\n",
    "\n",
    "- 满二叉树：除最后一层外，每一层上的所有节点都有两个子节点，最后一层都是叶子节点。\n",
    "\n",
    "- 哈夫曼树：给定n个权值作为n的叶子结点，构造一棵二叉树，若带权路径长度达到最小，称这样的二叉树为最优二叉树，也称为哈夫曼树(Huffman tree)。\n",
    "\n",
    "- 二叉排序树：又称二叉查找树（Binary Search Tree），亦称二叉搜索树。二叉排序树或者是一棵空树，或者是具有下列性质的二叉树：\n",
    "\n",
    "    - 若左子树不空，则左子树上所有结点的值均小于它的根结点的值；\n",
    "    - 若右子树不空，则右子树上所有结点的值均大于或等于它的根结点的值；\n",
    "    - 左、右子树也分别为二叉排序树；\n",
    "    - 没有键值相等的节点。\n",
    "    \n",
    "- 二分查找的时间复杂度是O(log(n))，最坏情况下的时间复杂度是O(n)（相当于顺序查找）\n",
    "\n",
    "- 平衡二叉树：又称 AVL 树。平衡二叉树是二叉搜索树的进化版，所谓平衡二叉树指的是，左右两个子树的高度差的绝对值不超过 1。\n",
    "\n",
    "- 红黑树：红黑树是每个节点都带颜色的树，节点颜色或是红色或是黑色，红黑树是一种查找树。红黑树有一个重要的性质，从根节点到叶子节点的最长的路径不多于最短的路径的长度的两倍。对于红黑树，插入，删除，查找的复杂度都是O（log N）。"
   ]
  },
  {
   "cell_type": "code",
   "execution_count": 1,
   "metadata": {},
   "outputs": [],
   "source": [
    "class TreeNode(object):\n",
    "    def __init__(self, val=None, left=None, right=None):\n",
    "        self.left = left\n",
    "        self.right = right\n",
    "        self.val = val"
   ]
  },
  {
   "cell_type": "code",
   "execution_count": 2,
   "metadata": {},
   "outputs": [],
   "source": [
    "def create_tree(root, li, i):\n",
    "    if i < len(li):\n",
    "        root = TreeNode(val=li[i])\n",
    "        root.left = create_tree(root.left, li, 2*i+1)\n",
    "        root.right = create_tree(root.right, li, 2*i+2)\n",
    "        return root\n",
    "    return root"
   ]
  },
  {
   "cell_type": "code",
   "execution_count": 3,
   "metadata": {},
   "outputs": [],
   "source": [
    "root = TreeNode()"
   ]
  },
  {
   "cell_type": "code",
   "execution_count": 4,
   "metadata": {},
   "outputs": [],
   "source": [
    "root = create_tree(root, list(range(10)), 0)"
   ]
  },
  {
   "cell_type": "markdown",
   "metadata": {},
   "source": [
    "## 1 求二叉树中的节点个数\n",
    "- 如果二叉树为空，节点数为0；\n",
    "- 如果不为空，节点数等于左子树节点数+右子树节点数"
   ]
  },
  {
   "cell_type": "code",
   "execution_count": 5,
   "metadata": {},
   "outputs": [],
   "source": [
    "def get_node_num(root):\n",
    "    if root == None:\n",
    "        return 0\n",
    "    else:\n",
    "        return get_node_num(root.left) + get_node_num(root.right) + 1"
   ]
  },
  {
   "cell_type": "code",
   "execution_count": 6,
   "metadata": {},
   "outputs": [
    {
     "data": {
      "text/plain": [
       "10"
      ]
     },
     "execution_count": 6,
     "metadata": {},
     "output_type": "execute_result"
    }
   ],
   "source": [
    "get_node_num(root)"
   ]
  },
  {
   "cell_type": "markdown",
   "metadata": {},
   "source": [
    "## 2 求二叉树最大深度\n",
    "- 如果二叉树为空，最大深度为0；\n",
    "- 如果二叉树不为空，最大深度等于max(左子树最大深度，右子树最大深度)+1。"
   ]
  },
  {
   "cell_type": "code",
   "execution_count": 7,
   "metadata": {},
   "outputs": [],
   "source": [
    "def get_max_deep(root):\n",
    "    if root == None:\n",
    "        return 0\n",
    "    else:\n",
    "        return max(get_max_deep(root.left), get_max_deep(root.right))+1"
   ]
  },
  {
   "cell_type": "code",
   "execution_count": 8,
   "metadata": {},
   "outputs": [
    {
     "data": {
      "text/plain": [
       "4"
      ]
     },
     "execution_count": 8,
     "metadata": {},
     "output_type": "execute_result"
    }
   ],
   "source": [
    "get_max_deep(root)"
   ]
  },
  {
   "cell_type": "markdown",
   "metadata": {},
   "source": [
    "## 3 求二叉树的最小深度\n",
    "- 如果二叉树为空，最大深度为0\n",
    "- 如果二叉树不为空，min(左子树最小深度，右子树最小深度)+1"
   ]
  },
  {
   "cell_type": "code",
   "execution_count": 9,
   "metadata": {},
   "outputs": [],
   "source": [
    "def get_min_deep(root):\n",
    "    if root == None:\n",
    "        return 0\n",
    "    else:\n",
    "        l_min = get_min_deep(root.left)\n",
    "        r_min = get_min_deep(root.right)\n",
    "        return min(l_min, r_min)+1"
   ]
  },
  {
   "cell_type": "code",
   "execution_count": 10,
   "metadata": {},
   "outputs": [
    {
     "data": {
      "text/plain": [
       "3"
      ]
     },
     "execution_count": 10,
     "metadata": {},
     "output_type": "execute_result"
    }
   ],
   "source": [
    "get_min_deep(root)"
   ]
  },
  {
   "cell_type": "code",
   "execution_count": 11,
   "metadata": {},
   "outputs": [
    {
     "data": {
      "text/plain": [
       "1"
      ]
     },
     "execution_count": 11,
     "metadata": {},
     "output_type": "execute_result"
    }
   ],
   "source": [
    "test_tree = create_tree(TreeNode(),list(range(1)), 0)\n",
    "get_min_deep(test_tree)"
   ]
  },
  {
   "cell_type": "markdown",
   "metadata": {},
   "source": [
    "## 4 前序遍历\n",
    "### 4.1 递归\n",
    "- 根-左-右\n",
    "- 考察到一个节点后，即刻输出该节点的值，并继续遍历其左右子树。(根左右)"
   ]
  },
  {
   "cell_type": "code",
   "execution_count": 12,
   "metadata": {},
   "outputs": [],
   "source": [
    "def pre_traverse_recur(root, li=[]):\n",
    "    if root == None:\n",
    "        return li\n",
    "    else:\n",
    "        li.append(root.val)\n",
    "        li = pre_traverse_recur(root.left, li)\n",
    "        li = pre_traverse_recur(root.right, li)\n",
    "    return li"
   ]
  },
  {
   "cell_type": "code",
   "execution_count": 13,
   "metadata": {},
   "outputs": [
    {
     "data": {
      "text/plain": [
       "[0, 1, 3, 7, 8, 4, 9, 2, 5, 6]"
      ]
     },
     "execution_count": 13,
     "metadata": {},
     "output_type": "execute_result"
    }
   ],
   "source": [
    "pre_traverse_recur(root)"
   ]
  },
  {
   "cell_type": "code",
   "execution_count": 14,
   "metadata": {},
   "outputs": [
    {
     "name": "stdout",
     "output_type": "stream",
     "text": [
      "[0, 1, 3, 7, 8, 4, 9, 2, 5, 6]\n"
     ]
    }
   ],
   "source": [
    "test_tree =  create_tree(TreeNode(),list(range(10)), 0)\n",
    "tree = pre_traverse_recur(test_tree, li=[])\n",
    "print(tree)"
   ]
  },
  {
   "cell_type": "markdown",
   "metadata": {},
   "source": [
    "### 4.2 非递归\n",
    "\n",
    "- 新建两个列表，一个存储遍历后的值；一个存储父节点。\n",
    "- 当节点不为空，或者存储父节点的列表不为空时：\n",
    "    - 当节点不为空，则将当前节点的值加入遍历列表，并把当前节点加入存储父节点的列表，然后把当前节点的左孩子赋给当前节点。直到当前节点为空。\n",
    "    - 这说明左边节点遍历到最后了，这时候需要把左边节点的父节点取出来，将其右孩子作为当前节点继续循环。"
   ]
  },
  {
   "cell_type": "code",
   "execution_count": 15,
   "metadata": {},
   "outputs": [],
   "source": [
    "def pre_traverse(root):\n",
    "    li = []\n",
    "    nodes = []\n",
    "    cur = root\n",
    "    while cur != None or len(nodes) != 0:\n",
    "        while cur != None:\n",
    "            li.append(cur.val)\n",
    "            nodes.append(cur)\n",
    "            cur = cur.left\n",
    "        cur = nodes.pop()\n",
    "        cur = cur.right\n",
    "    return li       "
   ]
  },
  {
   "cell_type": "code",
   "execution_count": 16,
   "metadata": {},
   "outputs": [
    {
     "name": "stdout",
     "output_type": "stream",
     "text": [
      "[0, 1, 3, 7, 8, 4, 9, 2, 5, 6]\n"
     ]
    }
   ],
   "source": [
    "test_tree =  create_tree(TreeNode(),list(range(10)), 0)\n",
    "tree = pre_traverse(test_tree)\n",
    "print(tree)"
   ]
  },
  {
   "cell_type": "markdown",
   "metadata": {},
   "source": [
    "## 5 中序遍历\n",
    "- 左-根-右\n",
    "- 考察到一个节点后，将其暂存，遍历完左子树后，再输出该节点的值，然后遍历右子树。(左根右)"
   ]
  },
  {
   "cell_type": "code",
   "execution_count": 17,
   "metadata": {},
   "outputs": [],
   "source": [
    "def mid_traverse_recur(root, li=[]):\n",
    "    if root == None:\n",
    "        return li\n",
    "    li = mid_traverse_recur(root.left, li)\n",
    "    li.append(root.val)\n",
    "    li = mid_traverse_recur(root.right, li)\n",
    "    return li"
   ]
  },
  {
   "cell_type": "code",
   "execution_count": 18,
   "metadata": {},
   "outputs": [
    {
     "name": "stdout",
     "output_type": "stream",
     "text": [
      "[7, 3, 8, 1, 9, 4, 0, 5, 2, 6]\n"
     ]
    }
   ],
   "source": [
    "test_tree =  create_tree(TreeNode(),list(range(10)), 0)\n",
    "tree = []\n",
    "tree = mid_traverse_recur(test_tree, tree)\n",
    "print(tree)"
   ]
  },
  {
   "cell_type": "code",
   "execution_count": 19,
   "metadata": {},
   "outputs": [],
   "source": [
    "def mid_traverse(root):\n",
    "    li = []\n",
    "    nodes = []\n",
    "    cur = root\n",
    "    while cur != None or len(nodes) != 0:\n",
    "        while cur != None:\n",
    "            nodes.append(cur)\n",
    "            cur = cur.left\n",
    "        cur = nodes.pop()\n",
    "        li.append(cur.val)\n",
    "        cur = cur.right\n",
    "    return li"
   ]
  },
  {
   "cell_type": "code",
   "execution_count": 20,
   "metadata": {},
   "outputs": [
    {
     "name": "stdout",
     "output_type": "stream",
     "text": [
      "[7, 3, 8, 1, 9, 4, 0, 5, 2, 6]\n"
     ]
    }
   ],
   "source": [
    "test_tree = create_tree(TreeNode(),list(range(10)), 0)\n",
    "tree = mid_traverse(test_tree)\n",
    "print(tree)"
   ]
  },
  {
   "cell_type": "markdown",
   "metadata": {},
   "source": [
    "## 6 后序遍历\n",
    "- 后序：考察到一个节点后，将其暂存，遍历完左右子树后，再输出该节点的值。(左右根)"
   ]
  },
  {
   "cell_type": "code",
   "execution_count": 21,
   "metadata": {},
   "outputs": [],
   "source": [
    "def tail_traverse_recur(root, li=[]):\n",
    "    if root == None:\n",
    "        return li\n",
    "    else:\n",
    "        li = tail_traverse_recur(root.left, li)\n",
    "        li = tail_traverse_recur(root.right, li)\n",
    "        li.append(root.val)\n",
    "    return li"
   ]
  },
  {
   "cell_type": "code",
   "execution_count": 22,
   "metadata": {},
   "outputs": [
    {
     "name": "stdout",
     "output_type": "stream",
     "text": [
      "[7, 8, 3, 9, 4, 1, 5, 6, 2, 0]\n"
     ]
    }
   ],
   "source": [
    "test_tree = create_tree(TreeNode(),list(range(10)), 0)\n",
    "tree = []\n",
    "tree = tail_traverse_recur(test_tree, tree)\n",
    "print(tree)"
   ]
  },
  {
   "cell_type": "code",
   "execution_count": 23,
   "metadata": {},
   "outputs": [],
   "source": [
    "# 即把先序顺序中的 ‘根左右’转换为‘根右左’，然后反过来就变成了‘左右根’。\n",
    "def tail_traverse(root):\n",
    "    reverse = []\n",
    "    nodes = []\n",
    "    cur = root\n",
    "    while cur != None or len(nodes) != 0:\n",
    "        while cur != None:\n",
    "            reverse.append(cur.val)\n",
    "            nodes.append(cur)\n",
    "            cur = cur.right\n",
    "        cur = nodes.pop()\n",
    "        cur = cur.left\n",
    "    li = []\n",
    "    while reverse:\n",
    "        li.append(reverse.pop())\n",
    "    return li"
   ]
  },
  {
   "cell_type": "code",
   "execution_count": 24,
   "metadata": {},
   "outputs": [
    {
     "name": "stdout",
     "output_type": "stream",
     "text": [
      "[7, 8, 3, 9, 4, 1, 5, 6, 2, 0]\n"
     ]
    }
   ],
   "source": [
    "test_tree = create_tree(TreeNode(),list(range(10)), 0)\n",
    "tree = tail_traverse(test_tree)\n",
    "print(tree)"
   ]
  },
  {
   "cell_type": "markdown",
   "metadata": {},
   "source": [
    "## 7 层序遍历\n",
    "- 利用queue.Queue()\n",
    "- 首先将根节点加入队列\n",
    "- 只要队列不为空，就从队列里取出节点，并将节点的值加入到顺序列表。\n",
    "    - 依次把左右节点都加入队列"
   ]
  },
  {
   "cell_type": "code",
   "execution_count": 25,
   "metadata": {},
   "outputs": [],
   "source": [
    "import queue\n",
    "def traverse(root):\n",
    "    if root == None:\n",
    "        return []\n",
    "    li = []\n",
    "    q = queue.Queue()\n",
    "    q.put(root)\n",
    "    while not q.empty():\n",
    "        cur = q.get()\n",
    "        li.append(cur.val)\n",
    "        if cur.left != None:\n",
    "            q.put(cur.left)\n",
    "        if cur.right != None:\n",
    "            q.put(cur.right)\n",
    "    return li"
   ]
  },
  {
   "cell_type": "code",
   "execution_count": 29,
   "metadata": {},
   "outputs": [],
   "source": [
    "import queue\n",
    "def traverse2(root):\n",
    "    if root == None:\n",
    "        return []\n",
    "    li = []\n",
    "    q = queue.Queue()\n",
    "    q.put([root])\n",
    "    while not q.empty():\n",
    "        cur = q.get()\n",
    "        li.append([c.val for c in cur])\n",
    "        layer = []\n",
    "        for c in cur:\n",
    "            if c.left != None:\n",
    "                layer.append(c.left)\n",
    "            if c.right != None:\n",
    "                layer.append(c.right)\n",
    "        q.put(layer)\n",
    "    return li"
   ]
  },
  {
   "cell_type": "code",
   "execution_count": 30,
   "metadata": {},
   "outputs": [
    {
     "name": "stdout",
     "output_type": "stream",
     "text": [
      "[0, 1, 2, 3, 4, 5, 6, 7, 8, 9]\n"
     ]
    }
   ],
   "source": [
    "test_tree =  create_tree(TreeNode(),list(range(10)), 0)\n",
    "tree = traverse(test_tree)\n",
    "print(tree)"
   ]
  },
  {
   "cell_type": "code",
   "execution_count": 32,
   "metadata": {},
   "outputs": [
    {
     "ename": "KeyboardInterrupt",
     "evalue": "",
     "output_type": "error",
     "traceback": [
      "\u001b[0;31m---------------------------------------------------------------------------\u001b[0m",
      "\u001b[0;31mKeyboardInterrupt\u001b[0m                         Traceback (most recent call last)",
      "\u001b[0;32m<ipython-input-32-2041c6c090fb>\u001b[0m in \u001b[0;36m<module>\u001b[0;34m\u001b[0m\n\u001b[1;32m      1\u001b[0m \u001b[0mtest_tree\u001b[0m \u001b[0;34m=\u001b[0m  \u001b[0mcreate_tree\u001b[0m\u001b[0;34m(\u001b[0m\u001b[0mTreeNode\u001b[0m\u001b[0;34m(\u001b[0m\u001b[0;34m)\u001b[0m\u001b[0;34m,\u001b[0m\u001b[0mlist\u001b[0m\u001b[0;34m(\u001b[0m\u001b[0mrange\u001b[0m\u001b[0;34m(\u001b[0m\u001b[0;36m10\u001b[0m\u001b[0;34m)\u001b[0m\u001b[0;34m)\u001b[0m\u001b[0;34m,\u001b[0m \u001b[0;36m0\u001b[0m\u001b[0;34m)\u001b[0m\u001b[0;34m\u001b[0m\u001b[0;34m\u001b[0m\u001b[0m\n\u001b[0;32m----> 2\u001b[0;31m \u001b[0mtree\u001b[0m \u001b[0;34m=\u001b[0m \u001b[0mtraverse2\u001b[0m\u001b[0;34m(\u001b[0m\u001b[0mtest_tree\u001b[0m\u001b[0;34m)\u001b[0m\u001b[0;34m\u001b[0m\u001b[0;34m\u001b[0m\u001b[0m\n\u001b[0m\u001b[1;32m      3\u001b[0m \u001b[0mprint\u001b[0m\u001b[0;34m(\u001b[0m\u001b[0mtree\u001b[0m\u001b[0;34m)\u001b[0m\u001b[0;34m\u001b[0m\u001b[0;34m\u001b[0m\u001b[0m\n",
      "\u001b[0;32m<ipython-input-29-9e5fd4cc03bc>\u001b[0m in \u001b[0;36mtraverse2\u001b[0;34m(root)\u001b[0m\n\u001b[1;32m     15\u001b[0m             \u001b[0;32mif\u001b[0m \u001b[0mc\u001b[0m\u001b[0;34m.\u001b[0m\u001b[0mright\u001b[0m \u001b[0;34m!=\u001b[0m \u001b[0;32mNone\u001b[0m\u001b[0;34m:\u001b[0m\u001b[0;34m\u001b[0m\u001b[0;34m\u001b[0m\u001b[0m\n\u001b[1;32m     16\u001b[0m                 \u001b[0mlayer\u001b[0m\u001b[0;34m.\u001b[0m\u001b[0mappend\u001b[0m\u001b[0;34m(\u001b[0m\u001b[0mc\u001b[0m\u001b[0;34m.\u001b[0m\u001b[0mright\u001b[0m\u001b[0;34m)\u001b[0m\u001b[0;34m\u001b[0m\u001b[0;34m\u001b[0m\u001b[0m\n\u001b[0;32m---> 17\u001b[0;31m         \u001b[0mq\u001b[0m\u001b[0;34m.\u001b[0m\u001b[0mput\u001b[0m\u001b[0;34m(\u001b[0m\u001b[0mlayer\u001b[0m\u001b[0;34m)\u001b[0m\u001b[0;34m\u001b[0m\u001b[0;34m\u001b[0m\u001b[0m\n\u001b[0m\u001b[1;32m     18\u001b[0m     \u001b[0;32mreturn\u001b[0m \u001b[0mli\u001b[0m\u001b[0;34m\u001b[0m\u001b[0;34m\u001b[0m\u001b[0m\n",
      "\u001b[0;32m~/anaconda3/lib/python3.6/queue.py\u001b[0m in \u001b[0;36mput\u001b[0;34m(self, item, block, timeout)\u001b[0m\n\u001b[1;32m    143\u001b[0m             \u001b[0mself\u001b[0m\u001b[0;34m.\u001b[0m\u001b[0m_put\u001b[0m\u001b[0;34m(\u001b[0m\u001b[0mitem\u001b[0m\u001b[0;34m)\u001b[0m\u001b[0;34m\u001b[0m\u001b[0;34m\u001b[0m\u001b[0m\n\u001b[1;32m    144\u001b[0m             \u001b[0mself\u001b[0m\u001b[0;34m.\u001b[0m\u001b[0munfinished_tasks\u001b[0m \u001b[0;34m+=\u001b[0m \u001b[0;36m1\u001b[0m\u001b[0;34m\u001b[0m\u001b[0;34m\u001b[0m\u001b[0m\n\u001b[0;32m--> 145\u001b[0;31m             \u001b[0mself\u001b[0m\u001b[0;34m.\u001b[0m\u001b[0mnot_empty\u001b[0m\u001b[0;34m.\u001b[0m\u001b[0mnotify\u001b[0m\u001b[0;34m(\u001b[0m\u001b[0;34m)\u001b[0m\u001b[0;34m\u001b[0m\u001b[0;34m\u001b[0m\u001b[0m\n\u001b[0m\u001b[1;32m    146\u001b[0m \u001b[0;34m\u001b[0m\u001b[0m\n\u001b[1;32m    147\u001b[0m     \u001b[0;32mdef\u001b[0m \u001b[0mget\u001b[0m\u001b[0;34m(\u001b[0m\u001b[0mself\u001b[0m\u001b[0;34m,\u001b[0m \u001b[0mblock\u001b[0m\u001b[0;34m=\u001b[0m\u001b[0;32mTrue\u001b[0m\u001b[0;34m,\u001b[0m \u001b[0mtimeout\u001b[0m\u001b[0;34m=\u001b[0m\u001b[0;32mNone\u001b[0m\u001b[0;34m)\u001b[0m\u001b[0;34m:\u001b[0m\u001b[0;34m\u001b[0m\u001b[0;34m\u001b[0m\u001b[0m\n",
      "\u001b[0;32m~/anaconda3/lib/python3.6/threading.py\u001b[0m in \u001b[0;36mnotify\u001b[0;34m(self, n)\u001b[0m\n\u001b[1;32m    345\u001b[0m             \u001b[0;32mraise\u001b[0m \u001b[0mRuntimeError\u001b[0m\u001b[0;34m(\u001b[0m\u001b[0;34m\"cannot notify on un-acquired lock\"\u001b[0m\u001b[0;34m)\u001b[0m\u001b[0;34m\u001b[0m\u001b[0;34m\u001b[0m\u001b[0m\n\u001b[1;32m    346\u001b[0m         \u001b[0mall_waiters\u001b[0m \u001b[0;34m=\u001b[0m \u001b[0mself\u001b[0m\u001b[0;34m.\u001b[0m\u001b[0m_waiters\u001b[0m\u001b[0;34m\u001b[0m\u001b[0;34m\u001b[0m\u001b[0m\n\u001b[0;32m--> 347\u001b[0;31m         \u001b[0mwaiters_to_notify\u001b[0m \u001b[0;34m=\u001b[0m \u001b[0m_deque\u001b[0m\u001b[0;34m(\u001b[0m\u001b[0m_islice\u001b[0m\u001b[0;34m(\u001b[0m\u001b[0mall_waiters\u001b[0m\u001b[0;34m,\u001b[0m \u001b[0mn\u001b[0m\u001b[0;34m)\u001b[0m\u001b[0;34m)\u001b[0m\u001b[0;34m\u001b[0m\u001b[0;34m\u001b[0m\u001b[0m\n\u001b[0m\u001b[1;32m    348\u001b[0m         \u001b[0;32mif\u001b[0m \u001b[0;32mnot\u001b[0m \u001b[0mwaiters_to_notify\u001b[0m\u001b[0;34m:\u001b[0m\u001b[0;34m\u001b[0m\u001b[0;34m\u001b[0m\u001b[0m\n\u001b[1;32m    349\u001b[0m             \u001b[0;32mreturn\u001b[0m\u001b[0;34m\u001b[0m\u001b[0;34m\u001b[0m\u001b[0m\n",
      "\u001b[0;31mKeyboardInterrupt\u001b[0m: "
     ]
    }
   ],
   "source": [
    "test_tree =  create_tree(TreeNode(),list(range(10)), 0)\n",
    "tree = traverse2(test_tree)\n",
    "print(tree)"
   ]
  },
  {
   "cell_type": "markdown",
   "metadata": {},
   "source": [
    "## 8 二叉树镜像相关问题\n",
    "### 8.1 求二叉树镜像\n",
    "- 如果root为None, 返回None;\n",
    "- 否则保存左子树，将右子树的镜像赋给左子树；左子树的镜像赋给右子树;\n",
    "- 返回root。"
   ]
  },
  {
   "cell_type": "code",
   "execution_count": 3,
   "metadata": {},
   "outputs": [],
   "source": [
    "def get_tree_mirror(root):\n",
    "    if root == None:\n",
    "        return None\n",
    "    else:\n",
    "        node = root.left\n",
    "        root.left = get_tree_mirror(root.right)\n",
    "        root.right = get_tree_mirror(node)\n",
    "    return root"
   ]
  },
  {
   "cell_type": "code",
   "execution_count": 4,
   "metadata": {},
   "outputs": [
    {
     "ename": "NameError",
     "evalue": "name 'create_tree' is not defined",
     "output_type": "error",
     "traceback": [
      "\u001b[0;31m---------------------------------------------------------------------------\u001b[0m",
      "\u001b[0;31mNameError\u001b[0m                                 Traceback (most recent call last)",
      "\u001b[0;32m<ipython-input-4-e675ff918051>\u001b[0m in \u001b[0;36m<module>\u001b[0;34m\u001b[0m\n\u001b[0;32m----> 1\u001b[0;31m \u001b[0mtest_tree\u001b[0m \u001b[0;34m=\u001b[0m \u001b[0mcreate_tree\u001b[0m\u001b[0;34m(\u001b[0m\u001b[0mTreeNode\u001b[0m\u001b[0;34m(\u001b[0m\u001b[0;34m)\u001b[0m\u001b[0;34m,\u001b[0m\u001b[0mlist\u001b[0m\u001b[0;34m(\u001b[0m\u001b[0mrange\u001b[0m\u001b[0;34m(\u001b[0m\u001b[0;36m10\u001b[0m\u001b[0;34m)\u001b[0m\u001b[0;34m)\u001b[0m\u001b[0;34m,\u001b[0m \u001b[0;36m0\u001b[0m\u001b[0;34m)\u001b[0m\u001b[0;34m\u001b[0m\u001b[0;34m\u001b[0m\u001b[0m\n\u001b[0m\u001b[1;32m      2\u001b[0m \u001b[0mmirror_tree\u001b[0m \u001b[0;34m=\u001b[0m \u001b[0mget_tree_mirror\u001b[0m\u001b[0;34m(\u001b[0m\u001b[0mtest_tree\u001b[0m\u001b[0;34m)\u001b[0m\u001b[0;34m\u001b[0m\u001b[0;34m\u001b[0m\u001b[0m\n\u001b[1;32m      3\u001b[0m \u001b[0mtraverse\u001b[0m\u001b[0;34m(\u001b[0m\u001b[0mtest_tree\u001b[0m\u001b[0;34m)\u001b[0m\u001b[0;34m\u001b[0m\u001b[0;34m\u001b[0m\u001b[0m\n",
      "\u001b[0;31mNameError\u001b[0m: name 'create_tree' is not defined"
     ]
    }
   ],
   "source": [
    "test_tree = create_tree(TreeNode(),list(range(10)), 0)\n",
    "mirror_tree = get_tree_mirror(test_tree)\n",
    "traverse(test_tree)"
   ]
  },
  {
   "cell_type": "code",
   "execution_count": 5,
   "metadata": {},
   "outputs": [
    {
     "ename": "NameError",
     "evalue": "name 'traverse' is not defined",
     "output_type": "error",
     "traceback": [
      "\u001b[0;31m---------------------------------------------------------------------------\u001b[0m",
      "\u001b[0;31mNameError\u001b[0m                                 Traceback (most recent call last)",
      "\u001b[0;32m<ipython-input-5-51d72b0f90b9>\u001b[0m in \u001b[0;36m<module>\u001b[0;34m\u001b[0m\n\u001b[0;32m----> 1\u001b[0;31m \u001b[0mtraverse\u001b[0m\u001b[0;34m(\u001b[0m\u001b[0mmirror_tree\u001b[0m\u001b[0;34m)\u001b[0m\u001b[0;34m\u001b[0m\u001b[0;34m\u001b[0m\u001b[0m\n\u001b[0m",
      "\u001b[0;31mNameError\u001b[0m: name 'traverse' is not defined"
     ]
    }
   ],
   "source": [
    "traverse(mirror_tree)"
   ]
  },
  {
   "cell_type": "markdown",
   "metadata": {},
   "source": [
    "### 8.2 判断对称二叉树\n",
    "- 辅助函数传入左子树和右子树\n",
    "    - 如果左和右均为None，True;\n",
    "    - 如果左或者右有一个为空；False;\n",
    "    - 如果左🈶值不相等，False。\n",
    "    - 否则递归返回 左右子树是否对称的并集.\n",
    "- 返回root == None or helper(root.left, root.right)的并集"
   ]
  },
  {
   "cell_type": "code",
   "execution_count": 38,
   "metadata": {},
   "outputs": [],
   "source": [
    "def is_mirror_tree(root):\n",
    "    def helper(left, right):\n",
    "        if left == None and right == None:\n",
    "            return True\n",
    "        if left == None or right == None:\n",
    "            return False\n",
    "        if left.val != right.val:\n",
    "            return False\n",
    "        \n",
    "        return helper(left.left, right.right) and helper(right.right, left.left)\n",
    "    return root == None or helper(root.left, root.right)"
   ]
  },
  {
   "cell_type": "code",
   "execution_count": 41,
   "metadata": {},
   "outputs": [
    {
     "data": {
      "text/plain": [
       "False"
      ]
     },
     "execution_count": 41,
     "metadata": {},
     "output_type": "execute_result"
    }
   ],
   "source": [
    "test_tree = create_tree(TreeNode(), [0, 1, 1, 5, 3, 3, 5], 0)\n",
    "is_mirror_tree(test_tree)"
   ]
  },
  {
   "cell_type": "code",
   "execution_count": null,
   "metadata": {},
   "outputs": [],
   "source": []
  }
 ],
 "metadata": {
  "kernelspec": {
   "display_name": "Python 3",
   "language": "python",
   "name": "python3"
  },
  "language_info": {
   "codemirror_mode": {
    "name": "ipython",
    "version": 3
   },
   "file_extension": ".py",
   "mimetype": "text/x-python",
   "name": "python",
   "nbconvert_exporter": "python",
   "pygments_lexer": "ipython3",
   "version": "3.6.8"
  }
 },
 "nbformat": 4,
 "nbformat_minor": 2
}
