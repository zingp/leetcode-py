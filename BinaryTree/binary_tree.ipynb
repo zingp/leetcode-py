{
 "cells": [
  {
   "cell_type": "markdown",
   "metadata": {},
   "source": [
    "# 二叉树\n",
    "## 几个概念\n",
    "- 完全二叉树：若二叉树的高度是h，除第h层之外，其他（1~h-1）层的节点数都达到了最大个数，并且第h层的节点都连续的集中在最左边。想到点什么没？实际上，完全二叉树和堆联系比较紧密哈~（叶子节点都在最底下两层，最后一层的叶子节点都靠左排列，并且除了最后一层，其他层的节点个数都要达到最大，这种二叉树叫作完全二叉树。）\n",
    "\n",
    "- 满二叉树：除最后一层外，每一层上的所有节点都有两个子节点，最后一层都是叶子节点。\n",
    "\n",
    "- 哈夫曼树：给定n个权值作为n的叶子结点，构造一棵二叉树，若带权路径长度达到最小，称这样的二叉树为最优二叉树，也称为哈夫曼树(Huffman tree)。\n",
    "\n",
    "- 二叉排序树：又称二叉查找树（Binary Search Tree），亦称二叉搜索树。二叉排序树或者是一棵空树，或者是具有下列性质的二叉树：\n",
    "\n",
    "    - 若左子树不空，则左子树上所有结点的值均小于它的根结点的值；\n",
    "    - 若右子树不空，则右子树上所有结点的值均大于或等于它的根结点的值；\n",
    "    - 左、右子树也分别为二叉排序树；\n",
    "    - 没有键值相等的节点。\n",
    "    - 总结起来就是：二叉查找树要求，在树中的任意一个节点，其左子树中的每个节点的值，都要小于这个节点的值，而右子树节点的值都大于这个节点的值。\n",
    "    - 中序遍历二叉查找树，可以输出有序的数据序列，时间复杂度是 O(n)，非常高效。\n",
    "    \n",
    "- 二分查找的时间复杂度是O(log(n))，最坏情况下的时间复杂度是O(n)（退化成链表，相当于顺序查找）\n",
    "- 显然，极度不平衡的二叉查找树，它的查找性能肯定不能满足我们的需求。我们需要构建一种不管怎么删除、插入数据，在任何时候，都能保持任意节点左右子树都比较平衡的二叉查找树，这就是我们下一节课要详细讲的，一种特殊的二叉查找树，平衡二叉查找树。平衡二叉查找树的高度接近 logn，所以插入、删除、查找操作的时间复杂度也比较稳定，是 O(logn)。\n",
    "\n",
    "- 平衡二叉查找树中“平衡”的意思，其实就是让整棵树左右看起来比较“对称”、比较“平衡”，不要出现左子树很高、右子树很矮的情况。这样就能让整棵树的高度相对来说低一些，相应的插入、删除、查找等操作的效率高一些。\n",
    "\n",
    "- 平衡二叉树(平衡二叉查找树)：又称 AVL 树。平衡二叉树是二叉搜索树的进化版，所谓平衡二叉树指的是，左右两个子树的高度差的绝对值不超过 1。\n",
    "\n",
    "- 但凡讲到平衡二叉查找树，就会拿红黑树作为例子。不仅如此，如果你有一定的开发经验，你会发现，在工程中，很多用到平衡二叉查找树的地方都会用红黑树。你有没有想过，为什么工程中都喜欢用红黑树，而不是其他平衡二叉查找树呢？\n",
    "\n",
    "- 红黑树：红黑树是每个节点都带颜色的树，节点颜色或是红色或是黑色，红黑树是一种查找树。红黑树有一个重要的性质，从根节点到叶子节点的最长的路径不多于最短的路径的长度的两倍。对于红黑树，插入，删除，查找的复杂度都是O（log N）。\n",
    "    - 根节点是黑色的；\n",
    "    - 每个叶子节点都是黑色的空节点（NIL），也就是说，叶子节点不存储数据；\n",
    "    - 任何相邻的节点都不能同时为红色，也就是说，红色节点是被黑色节点隔开的；\n",
    "    - 每个节点，从该节点到达其可达叶子节点的所有路径，都包含相同数目的黑色节点；"
   ]
  },
  {
   "cell_type": "code",
   "execution_count": 8,
   "metadata": {},
   "outputs": [],
   "source": [
    "class TreeNode(object):\n",
    "    def __init__(self, val=None, left=None, right=None):\n",
    "        self.left = left\n",
    "        self.right = right\n",
    "        self.val = val"
   ]
  },
  {
   "cell_type": "code",
   "execution_count": 9,
   "metadata": {},
   "outputs": [],
   "source": [
    "def create_tree(root, li, i):\n",
    "    if i < len(li):\n",
    "        root = TreeNode(val=li[i])\n",
    "        root.left = create_tree(root.left, li, 2*i+1)\n",
    "        root.right = create_tree(root.right, li, 2*i+2)\n",
    "        return root\n",
    "    return root"
   ]
  },
  {
   "cell_type": "code",
   "execution_count": 10,
   "metadata": {},
   "outputs": [],
   "source": [
    "root = TreeNode()"
   ]
  },
  {
   "cell_type": "code",
   "execution_count": 11,
   "metadata": {},
   "outputs": [],
   "source": [
    "root = create_tree(root, list(range(10)), 0)"
   ]
  },
  {
   "cell_type": "markdown",
   "metadata": {},
   "source": [
    "## 1 求二叉树中的节点个数\n",
    "- 如果二叉树为空，节点数为0；\n",
    "- 如果不为空，节点数等于左子树节点数+右子树节点数"
   ]
  },
  {
   "cell_type": "code",
   "execution_count": 5,
   "metadata": {},
   "outputs": [],
   "source": [
    "def get_node_num(root):\n",
    "    if root == None:\n",
    "        return 0\n",
    "    else:\n",
    "        return get_node_num(root.left) + get_node_num(root.right) + 1"
   ]
  },
  {
   "cell_type": "code",
   "execution_count": 6,
   "metadata": {},
   "outputs": [
    {
     "data": {
      "text/plain": [
       "10"
      ]
     },
     "execution_count": 6,
     "metadata": {},
     "output_type": "execute_result"
    }
   ],
   "source": [
    "get_node_num(root)"
   ]
  },
  {
   "cell_type": "markdown",
   "metadata": {},
   "source": [
    "## 2 求二叉树最大深度\n",
    "- 如果二叉树为空，最大深度为0；\n",
    "- 如果二叉树不为空，最大深度等于max(左子树最大深度，右子树最大深度)+1。"
   ]
  },
  {
   "cell_type": "code",
   "execution_count": 7,
   "metadata": {},
   "outputs": [],
   "source": [
    "def get_max_deep(root):\n",
    "    if root == None:\n",
    "        return 0\n",
    "    else:\n",
    "        return max(get_max_deep(root.left), get_max_deep(root.right))+1"
   ]
  },
  {
   "cell_type": "code",
   "execution_count": 8,
   "metadata": {},
   "outputs": [
    {
     "data": {
      "text/plain": [
       "4"
      ]
     },
     "execution_count": 8,
     "metadata": {},
     "output_type": "execute_result"
    }
   ],
   "source": [
    "get_max_deep(root)"
   ]
  },
  {
   "cell_type": "markdown",
   "metadata": {},
   "source": [
    "## 3 求二叉树的最小深度\n",
    "- 如果二叉树为空，最大深度为0\n",
    "- 如果二叉树不为空，min(左子树最小深度，右子树最小深度)+1"
   ]
  },
  {
   "cell_type": "code",
   "execution_count": 9,
   "metadata": {},
   "outputs": [],
   "source": [
    "def get_min_deep(root):\n",
    "    if root == None:\n",
    "        return 0\n",
    "    else:\n",
    "        l_min = get_min_deep(root.left)\n",
    "        r_min = get_min_deep(root.right)\n",
    "        return min(l_min, r_min)+1"
   ]
  },
  {
   "cell_type": "code",
   "execution_count": 10,
   "metadata": {},
   "outputs": [
    {
     "data": {
      "text/plain": [
       "3"
      ]
     },
     "execution_count": 10,
     "metadata": {},
     "output_type": "execute_result"
    }
   ],
   "source": [
    "get_min_deep(root)"
   ]
  },
  {
   "cell_type": "code",
   "execution_count": 11,
   "metadata": {},
   "outputs": [
    {
     "data": {
      "text/plain": [
       "1"
      ]
     },
     "execution_count": 11,
     "metadata": {},
     "output_type": "execute_result"
    }
   ],
   "source": [
    "test_tree = create_tree(TreeNode(),list(range(1)), 0)\n",
    "get_min_deep(test_tree)"
   ]
  },
  {
   "cell_type": "markdown",
   "metadata": {},
   "source": [
    "## 4 前序遍历\n",
    "### 4.1 递归\n",
    "- 根-左-右\n",
    "- 考察到一个节点后，即刻输出该节点的值，并继续遍历其左右子树。(根左右)"
   ]
  },
  {
   "cell_type": "code",
   "execution_count": 12,
   "metadata": {},
   "outputs": [],
   "source": [
    "def pre_traverse_recur(root, li=[]):\n",
    "    if root == None:\n",
    "        return li\n",
    "    else:\n",
    "        li.append(root.val)\n",
    "        li = pre_traverse_recur(root.left, li)\n",
    "        li = pre_traverse_recur(root.right, li)\n",
    "    return li"
   ]
  },
  {
   "cell_type": "code",
   "execution_count": 14,
   "metadata": {},
   "outputs": [
    {
     "name": "stdout",
     "output_type": "stream",
     "text": [
      "[0, 1, 3, 7, 8, 4, 9, 2, 5, 6]\n"
     ]
    }
   ],
   "source": [
    "test_tree =  create_tree(TreeNode(),list(range(10)), 0)\n",
    "tree = pre_traverse_recur(test_tree, li=[])\n",
    "print(tree)"
   ]
  },
  {
   "cell_type": "markdown",
   "metadata": {},
   "source": [
    "### 4.2 非递归\n",
    "\n",
    "- 新建两个列表，一个存储遍历后的值；一个存储父节点。\n",
    "- 当节点不为空，或者存储父节点的列表不为空时：\n",
    "    - 当节点不为空，则将当前节点的值加入遍历列表，并把当前节点加入存储父节点的列表，然后把当前节点的左孩子赋给当前节点。直到当前节点为空。\n",
    "    - 这说明左边节点遍历到最后了，这时候需要把左边节点的父节点取出来，将其右孩子作为当前节点继续循环。"
   ]
  },
  {
   "cell_type": "code",
   "execution_count": 15,
   "metadata": {},
   "outputs": [],
   "source": [
    "def pre_traverse(root):\n",
    "    li = []\n",
    "    nodes = []\n",
    "    cur = root\n",
    "    while cur != None or len(nodes) != 0:\n",
    "        while cur != None:\n",
    "            li.append(cur.val)\n",
    "            nodes.append(cur)\n",
    "            cur = cur.left\n",
    "        cur = nodes.pop()\n",
    "        cur = cur.right\n",
    "    return li       "
   ]
  },
  {
   "cell_type": "code",
   "execution_count": 16,
   "metadata": {},
   "outputs": [
    {
     "name": "stdout",
     "output_type": "stream",
     "text": [
      "[0, 1, 3, 7, 8, 4, 9, 2, 5, 6]\n"
     ]
    }
   ],
   "source": [
    "test_tree =  create_tree(TreeNode(),list(range(10)), 0)\n",
    "tree = pre_traverse(test_tree)\n",
    "print(tree)"
   ]
  },
  {
   "cell_type": "markdown",
   "metadata": {},
   "source": [
    "## 5 中序遍历\n",
    "- 左-根-右\n",
    "- 考察到一个节点后，将其暂存，遍历完左子树后，再输出该节点的值，然后遍历右子树。(左根右)"
   ]
  },
  {
   "cell_type": "code",
   "execution_count": 17,
   "metadata": {},
   "outputs": [],
   "source": [
    "def mid_traverse_recur(root, li=[]):\n",
    "    if root == None:\n",
    "        return li\n",
    "    li = mid_traverse_recur(root.left, li)\n",
    "    li.append(root.val)\n",
    "    li = mid_traverse_recur(root.right, li)\n",
    "    return li"
   ]
  },
  {
   "cell_type": "code",
   "execution_count": 18,
   "metadata": {},
   "outputs": [
    {
     "name": "stdout",
     "output_type": "stream",
     "text": [
      "[7, 3, 8, 1, 9, 4, 0, 5, 2, 6]\n"
     ]
    }
   ],
   "source": [
    "test_tree =  create_tree(TreeNode(),list(range(10)), 0)\n",
    "tree = []\n",
    "tree = mid_traverse_recur(test_tree, tree)\n",
    "print(tree)"
   ]
  },
  {
   "cell_type": "code",
   "execution_count": 19,
   "metadata": {},
   "outputs": [],
   "source": [
    "def mid_traverse(root):\n",
    "    li = []\n",
    "    nodes = []\n",
    "    cur = root\n",
    "    while cur != None or len(nodes) != 0:\n",
    "        while cur != None:\n",
    "            nodes.append(cur)\n",
    "            cur = cur.left\n",
    "        cur = nodes.pop()\n",
    "        li.append(cur.val)\n",
    "        cur = cur.right\n",
    "    return li"
   ]
  },
  {
   "cell_type": "code",
   "execution_count": 20,
   "metadata": {},
   "outputs": [
    {
     "name": "stdout",
     "output_type": "stream",
     "text": [
      "[7, 3, 8, 1, 9, 4, 0, 5, 2, 6]\n"
     ]
    }
   ],
   "source": [
    "test_tree = create_tree(TreeNode(),list(range(10)), 0)\n",
    "tree = mid_traverse(test_tree)\n",
    "print(tree)"
   ]
  },
  {
   "cell_type": "markdown",
   "metadata": {},
   "source": [
    "## 6 后序遍历\n",
    "- 后序：考察到一个节点后，将其暂存，遍历完左右子树后，再输出该节点的值。(左右根)"
   ]
  },
  {
   "cell_type": "code",
   "execution_count": 21,
   "metadata": {},
   "outputs": [],
   "source": [
    "def tail_traverse_recur(root, li=[]):\n",
    "    if root == None:\n",
    "        return li\n",
    "    else:\n",
    "        li = tail_traverse_recur(root.left, li)\n",
    "        li = tail_traverse_recur(root.right, li)\n",
    "        li.append(root.val)\n",
    "    return li"
   ]
  },
  {
   "cell_type": "code",
   "execution_count": 22,
   "metadata": {},
   "outputs": [
    {
     "name": "stdout",
     "output_type": "stream",
     "text": [
      "[7, 8, 3, 9, 4, 1, 5, 6, 2, 0]\n"
     ]
    }
   ],
   "source": [
    "test_tree = create_tree(TreeNode(),list(range(10)), 0)\n",
    "tree = []\n",
    "tree = tail_traverse_recur(test_tree, tree)\n",
    "print(tree)"
   ]
  },
  {
   "cell_type": "code",
   "execution_count": 23,
   "metadata": {},
   "outputs": [],
   "source": [
    "# 即把先序顺序中的 ‘根左右’转换为‘根右左’，然后反过来就变成了‘左右根’。\n",
    "def tail_traverse(root):\n",
    "    reverse = []\n",
    "    nodes = []\n",
    "    cur = root\n",
    "    while cur != None or len(nodes) != 0:\n",
    "        while cur != None:\n",
    "            reverse.append(cur.val)\n",
    "            nodes.append(cur)\n",
    "            cur = cur.right\n",
    "        cur = nodes.pop()\n",
    "        cur = cur.left\n",
    "    li = []\n",
    "    while reverse:\n",
    "        li.append(reverse.pop())\n",
    "    return li"
   ]
  },
  {
   "cell_type": "code",
   "execution_count": 24,
   "metadata": {},
   "outputs": [
    {
     "name": "stdout",
     "output_type": "stream",
     "text": [
      "[7, 8, 3, 9, 4, 1, 5, 6, 2, 0]\n"
     ]
    }
   ],
   "source": [
    "test_tree = create_tree(TreeNode(),list(range(10)), 0)\n",
    "tree = tail_traverse(test_tree)\n",
    "print(tree)"
   ]
  },
  {
   "cell_type": "markdown",
   "metadata": {},
   "source": [
    "## 7 层序遍历\n",
    "- 利用queue.Queue()\n",
    "- 首先将根节点加入队列\n",
    "- 只要队列不为空，就从队列里取出节点，并将节点的值加入到顺序列表。\n",
    "    - 依次把左右节点都加入队列"
   ]
  },
  {
   "cell_type": "code",
   "execution_count": 17,
   "metadata": {},
   "outputs": [],
   "source": [
    "import queue\n",
    "def traverse(root):\n",
    "    if root == None:\n",
    "        return []\n",
    "    li = []\n",
    "    q = queue.Queue()\n",
    "    q.put(root)\n",
    "    while not q.empty():\n",
    "        cur = q.get()\n",
    "        li.append(cur.val)\n",
    "        if cur.left != None:\n",
    "            q.put(cur.left)\n",
    "        if cur.right != None:\n",
    "            q.put(cur.right)\n",
    "    return li"
   ]
  },
  {
   "cell_type": "code",
   "execution_count": 34,
   "metadata": {},
   "outputs": [],
   "source": [
    "import queue\n",
    "def traverse2(root):\n",
    "    if root == None:\n",
    "        return []\n",
    "    li = []\n",
    "    q = queue.Queue()\n",
    "    q.put([root])\n",
    "    while not q.empty():\n",
    "        cur = q.get()\n",
    "        print(cur)\n",
    "        li.append([n.val for n in cur])\n",
    "        layer = []\n",
    "        for c in cur:\n",
    "            if c.left != None:\n",
    "                layer.append(c.left)\n",
    "            if c.right != None:\n",
    "                layer.append(c.right)\n",
    "        if len(layer) != 0:\n",
    "            q.put(layer)\n",
    "    return li"
   ]
  },
  {
   "cell_type": "code",
   "execution_count": 35,
   "metadata": {},
   "outputs": [
    {
     "name": "stdout",
     "output_type": "stream",
     "text": [
      "[0, 1, 2, 3, 4, 5, 6, 7, 8, 9]\n"
     ]
    }
   ],
   "source": [
    "test_tree =  create_tree(TreeNode(),list(range(10)), 0)\n",
    "tree = traverse(test_tree)\n",
    "print(tree)"
   ]
  },
  {
   "cell_type": "code",
   "execution_count": 37,
   "metadata": {},
   "outputs": [
    {
     "name": "stdout",
     "output_type": "stream",
     "text": [
      "[<__main__.TreeNode object at 0x7f0d183c9b00>]\n",
      "[<__main__.TreeNode object at 0x7f0d183c9cc0>, <__main__.TreeNode object at 0x7f0d184ffe10>]\n",
      "[<__main__.TreeNode object at 0x7f0d183c9278>, <__main__.TreeNode object at 0x7f0d184ffeb8>, <__main__.TreeNode object at 0x7f0d185744a8>, <__main__.TreeNode object at 0x7f0d185743c8>]\n",
      "[<__main__.TreeNode object at 0x7f0d183c9b38>, <__main__.TreeNode object at 0x7f0d183c95f8>, <__main__.TreeNode object at 0x7f0d184ffe80>]\n",
      "[[0], [1, 2], [3, 4, 5, 6], [7, 8, 9]]\n"
     ]
    }
   ],
   "source": [
    "test_tree =  create_tree(TreeNode(),list(range(10)), 0)\n",
    "tree = traverse2(test_tree)\n",
    "print(tree)"
   ]
  },
  {
   "cell_type": "markdown",
   "metadata": {},
   "source": [
    "## 8 二叉树镜像相关问题\n",
    "### 8.1 求二叉树镜像\n",
    "- 如果root为None, 返回None;\n",
    "- 否则保存左子树，将右子树的镜像赋给左子树；左子树的镜像赋给右子树;\n",
    "- 返回root。"
   ]
  },
  {
   "cell_type": "code",
   "execution_count": 3,
   "metadata": {},
   "outputs": [],
   "source": [
    "def get_tree_mirror(root):\n",
    "    if root == None:\n",
    "        return None\n",
    "    else:\n",
    "        node = root.left\n",
    "        root.left = get_tree_mirror(root.right)\n",
    "        root.right = get_tree_mirror(node)\n",
    "    return root"
   ]
  },
  {
   "cell_type": "code",
   "execution_count": 4,
   "metadata": {},
   "outputs": [
    {
     "ename": "NameError",
     "evalue": "name 'create_tree' is not defined",
     "output_type": "error",
     "traceback": [
      "\u001b[0;31m---------------------------------------------------------------------------\u001b[0m",
      "\u001b[0;31mNameError\u001b[0m                                 Traceback (most recent call last)",
      "\u001b[0;32m<ipython-input-4-e675ff918051>\u001b[0m in \u001b[0;36m<module>\u001b[0;34m\u001b[0m\n\u001b[0;32m----> 1\u001b[0;31m \u001b[0mtest_tree\u001b[0m \u001b[0;34m=\u001b[0m \u001b[0mcreate_tree\u001b[0m\u001b[0;34m(\u001b[0m\u001b[0mTreeNode\u001b[0m\u001b[0;34m(\u001b[0m\u001b[0;34m)\u001b[0m\u001b[0;34m,\u001b[0m\u001b[0mlist\u001b[0m\u001b[0;34m(\u001b[0m\u001b[0mrange\u001b[0m\u001b[0;34m(\u001b[0m\u001b[0;36m10\u001b[0m\u001b[0;34m)\u001b[0m\u001b[0;34m)\u001b[0m\u001b[0;34m,\u001b[0m \u001b[0;36m0\u001b[0m\u001b[0;34m)\u001b[0m\u001b[0;34m\u001b[0m\u001b[0;34m\u001b[0m\u001b[0m\n\u001b[0m\u001b[1;32m      2\u001b[0m \u001b[0mmirror_tree\u001b[0m \u001b[0;34m=\u001b[0m \u001b[0mget_tree_mirror\u001b[0m\u001b[0;34m(\u001b[0m\u001b[0mtest_tree\u001b[0m\u001b[0;34m)\u001b[0m\u001b[0;34m\u001b[0m\u001b[0;34m\u001b[0m\u001b[0m\n\u001b[1;32m      3\u001b[0m \u001b[0mtraverse\u001b[0m\u001b[0;34m(\u001b[0m\u001b[0mtest_tree\u001b[0m\u001b[0;34m)\u001b[0m\u001b[0;34m\u001b[0m\u001b[0;34m\u001b[0m\u001b[0m\n",
      "\u001b[0;31mNameError\u001b[0m: name 'create_tree' is not defined"
     ]
    }
   ],
   "source": [
    "test_tree = create_tree(TreeNode(),list(range(10)), 0)\n",
    "mirror_tree = get_tree_mirror(test_tree)\n",
    "traverse(test_tree)"
   ]
  },
  {
   "cell_type": "code",
   "execution_count": 5,
   "metadata": {},
   "outputs": [
    {
     "ename": "NameError",
     "evalue": "name 'traverse' is not defined",
     "output_type": "error",
     "traceback": [
      "\u001b[0;31m---------------------------------------------------------------------------\u001b[0m",
      "\u001b[0;31mNameError\u001b[0m                                 Traceback (most recent call last)",
      "\u001b[0;32m<ipython-input-5-51d72b0f90b9>\u001b[0m in \u001b[0;36m<module>\u001b[0;34m\u001b[0m\n\u001b[0;32m----> 1\u001b[0;31m \u001b[0mtraverse\u001b[0m\u001b[0;34m(\u001b[0m\u001b[0mmirror_tree\u001b[0m\u001b[0;34m)\u001b[0m\u001b[0;34m\u001b[0m\u001b[0;34m\u001b[0m\u001b[0m\n\u001b[0m",
      "\u001b[0;31mNameError\u001b[0m: name 'traverse' is not defined"
     ]
    }
   ],
   "source": [
    "traverse(mirror_tree)"
   ]
  },
  {
   "cell_type": "markdown",
   "metadata": {},
   "source": [
    "### 8.2 判断对称二叉树\n",
    "- 辅助函数传入左子树和右子树\n",
    "    - 如果左和右均为None，True;\n",
    "    - 如果左或者右有一个为空；False;\n",
    "    - 如果左🈶值不相等，False。\n",
    "    - 否则递归返回 左右子树是否对称的并集.\n",
    "- 返回root == None or helper(root.left, root.right)的并集"
   ]
  },
  {
   "cell_type": "code",
   "execution_count": 38,
   "metadata": {},
   "outputs": [],
   "source": [
    "def is_mirror_tree(root):\n",
    "    def helper(left, right):\n",
    "        if left == None and right == None:\n",
    "            return True\n",
    "        if left == None or right == None:\n",
    "            return False\n",
    "        if left.val != right.val:\n",
    "            return False\n",
    "        \n",
    "        return helper(left.left, right.right) and helper(right.right, left.left)\n",
    "    return root == None or helper(root.left, root.right)"
   ]
  },
  {
   "cell_type": "code",
   "execution_count": 41,
   "metadata": {},
   "outputs": [
    {
     "data": {
      "text/plain": [
       "False"
      ]
     },
     "execution_count": 41,
     "metadata": {},
     "output_type": "execute_result"
    }
   ],
   "source": [
    "test_tree = create_tree(TreeNode(), [0, 1, 1, 5, 3, 3, 5], 0)\n",
    "is_mirror_tree(test_tree)"
   ]
  },
  {
   "cell_type": "code",
   "execution_count": 1,
   "metadata": {},
   "outputs": [],
   "source": [
    "def pre_order_traverse(root):\n",
    "    li = []\n",
    "    nodes = []\n",
    "    cur = root\n",
    "    while cur != None or len(nodes) != 0:\n",
    "        while cur != None:\n",
    "            li.append(cur.val)\n",
    "            nodes.append(cur)\n",
    "            cur = cur.left\n",
    "        cur = nodes.pop()\n",
    "        cur = cur.right\n",
    "    return li\n",
    "        "
   ]
  },
  {
   "cell_type": "markdown",
   "metadata": {},
   "source": [
    "## 判断是否是完全二叉树\n",
    "- 完全二叉树是指最后一层左边是满的，右边可能慢也不能不满，然后其余层都是满的，根据这个特性，利用层遍历。\n",
    "    - 层序遍历\n",
    "    - 如果我们当前遍历到了NULL结点，如果后续还有**非NULL结点**，说明是非完全二叉树。"
   ]
  },
  {
   "cell_type": "code",
   "execution_count": 12,
   "metadata": {},
   "outputs": [],
   "source": [
    "import queue "
   ]
  },
  {
   "cell_type": "code",
   "execution_count": 13,
   "metadata": {},
   "outputs": [],
   "source": [
    "def check_complete_tree(root):\n",
    "    if root == None:\n",
    "        return False\n",
    "    q = queue.Queue()\n",
    "    q.put(root)\n",
    "    flag = False\n",
    "    while not q.empty():\n",
    "        node = q.get()\n",
    "        if node != None:\n",
    "            if flag == True:\n",
    "                return False\n",
    "            q.put(node.left)\n",
    "            q.put(node.right)\n",
    "        else:\n",
    "            flag = True\n",
    "    return True\n",
    "            "
   ]
  },
  {
   "cell_type": "code",
   "execution_count": 14,
   "metadata": {},
   "outputs": [
    {
     "data": {
      "text/plain": [
       "True"
      ]
     },
     "execution_count": 14,
     "metadata": {},
     "output_type": "execute_result"
    }
   ],
   "source": [
    "check_complete_tree(root)"
   ]
  }
 ],
 "metadata": {
  "kernelspec": {
   "display_name": "Python 3",
   "language": "python",
   "name": "python3"
  },
  "language_info": {
   "codemirror_mode": {
    "name": "ipython",
    "version": 3
   },
   "file_extension": ".py",
   "mimetype": "text/x-python",
   "name": "python",
   "nbconvert_exporter": "python",
   "pygments_lexer": "ipython3",
   "version": "3.6.9"
  }
 },
 "nbformat": 4,
 "nbformat_minor": 2
}
