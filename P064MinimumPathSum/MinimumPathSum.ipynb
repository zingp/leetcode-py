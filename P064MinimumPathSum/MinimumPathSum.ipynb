{
 "cells": [
  {
   "cell_type": "markdown",
   "metadata": {},
   "source": [
    "## 64. Minimum Path Sum\n",
    "- Given a m x n grid filled with non-negative numbers, find a path from top left to bottom right which minimizes the sum of all numbers along its path.\n",
    "\n",
    "- Note: You can only move either down or right at any point in time.\n",
    "\n",
    "- Example:\n",
    "\n",
    "    - Input:\n",
    "```python\n",
    "    [\n",
    "      [1,3,1],\n",
    "      [1,5,1],\n",
    "      [4,2,1]\n",
    "    ]\n",
    "```\n",
    "    - Output: 7\n",
    "    - Explanation: Because the path 1→3→1→1→1 minimizes the sum."
   ]
  },
  {
   "cell_type": "code",
   "execution_count": 1,
   "metadata": {},
   "outputs": [],
   "source": [
    "class Solution:\n",
    "    def minPathSum(self, grid):\n",
    "        row = len(grid)-1\n",
    "        col = len(grid[0])-1\n",
    "        return self.minSum(grid, row, col)\n",
    "    \n",
    "    def minSum(self, grid, r, c):\n",
    "        if r==0 and c == 0:\n",
    "            return grid[0][0]\n",
    "        elif r == 0 and c > 0:\n",
    "            return self.minSum(grid, r, c-1) + grid[r][c]\n",
    "        elif c == 0 and r > 0:\n",
    "            return self.minSum(grid, r-1, c) + grid[r][c]\n",
    "        else:\n",
    "            return min(self.minSum(grid, r-1, c)+grid[r][c], self.minSum(grid, r, c-1)+grid[r][c])\n",
    "                "
   ]
  },
  {
   "cell_type": "code",
   "execution_count": 1,
   "metadata": {},
   "outputs": [],
   "source": [
    "li = [\n",
    "[1,3,1],\n",
    "[1,5,1],\n",
    "[4,2,1]\n",
    "]\n",
    "l2 = [[7,1,3,5,8,9,9,2,1,9,0,8,3,1,6,6,9,5],\n",
    "      [9,5,9,4,0,4,8,8,9,5,7,3,6,6,6,9,1,6],\n",
    "      [8,2,9,1,3,1,9,7,2,5,3,1,2,4,8,2,8,8],\n",
    "      [6,7,9,8,4,8,3,0,4,0,9,6,6,0,0,5,1,4],\n",
    "      [7,1,3,1,8,8,3,1,2,1,5,0,2,1,9,1,1,4],\n",
    "      [9,5,4,3,5,6,1,3,6,4,9,7,0,8,0,3,9,9],\n",
    "      [1,4,2,5,8,7,7,0,0,7,1,2,1,2,7,7,7,4],\n",
    "      [3,9,7,9,5,8,9,5,6,9,8,8,0,1,4,2,8,2],\n",
    "      [1,5,2,2,2,5,6,3,9,3,1,7,9,6,8,6,8,3],\n",
    "      [5,7,8,3,8,8,3,9,9,8,1,9,2,5,4,7,7,7],\n",
    "      [2,3,2,4,8,5,1,7,2,9,5,2,4,2,9,2,8,7],\n",
    "      [0,1,6,1,1,0,0,6,5,4,3,4,3,7,9,6,1,9]]      "
   ]
  },
  {
   "cell_type": "code",
   "execution_count": 11,
   "metadata": {},
   "outputs": [
    {
     "data": {
      "text/plain": [
       "85"
      ]
     },
     "execution_count": 11,
     "metadata": {},
     "output_type": "execute_result"
    }
   ],
   "source": [
    "Solution().minPathSum(l2)"
   ]
  },
  {
   "cell_type": "code",
   "execution_count": 2,
   "metadata": {},
   "outputs": [],
   "source": [
    "class Solution:\n",
    "    def minPathSum(self, grid):\n",
    "        if grid == [[]]:\n",
    "            return 0\n",
    "        for i in range(len(grid)):\n",
    "            for j in range(len(grid[0])):\n",
    "                if i > 0 and j > 0:\n",
    "                    grid[i][j] += min(grid[i-1][j], grid[i][j-1])\n",
    "                elif i >0:\n",
    "                    grid[i][j] += grid[i-1][j]\n",
    "                elif j >0:\n",
    "                    grid[i][j] += grid[i][j-1]\n",
    "        return grid[-1][-1]"
   ]
  },
  {
   "cell_type": "code",
   "execution_count": 3,
   "metadata": {},
   "outputs": [
    {
     "data": {
      "text/plain": [
       "85"
      ]
     },
     "execution_count": 3,
     "metadata": {},
     "output_type": "execute_result"
    }
   ],
   "source": [
    "Solution().minPathSum(l2)"
   ]
  },
  {
   "cell_type": "code",
   "execution_count": null,
   "metadata": {},
   "outputs": [],
   "source": []
  }
 ],
 "metadata": {
  "kernelspec": {
   "display_name": "Python 3",
   "language": "python",
   "name": "python3"
  },
  "language_info": {
   "codemirror_mode": {
    "name": "ipython",
    "version": 3
   },
   "file_extension": ".py",
   "mimetype": "text/x-python",
   "name": "python",
   "nbconvert_exporter": "python",
   "pygments_lexer": "ipython3",
   "version": "3.6.8"
  }
 },
 "nbformat": 4,
 "nbformat_minor": 2
}
