{
 "cells": [
  {
   "cell_type": "markdown",
   "metadata": {},
   "source": [
    "## 316. 去除重复字母\n",
    "- 给你一个字符串 s ，请你去除字符串中重复的字母，使得每个字母只出现一次。需保证 返回结果的字典序最小（要求不能打乱其他字符的相对位置）。\n",
    "- 注意：该题与 1081 https://leetcode-cn.com/problems/smallest-subsequence-of-distinct-characters 相同\n",
    "\n",
    "- 示例 1：\n",
    "- 输入：s = \"bcabc\"\n",
    "- 输出：\"abc\"\n",
    "- 示例 2：\n",
    "- 输入：s = \"cbacdcbc\"\n",
    "- 输出：\"acdb\"\n",
    " \n",
    "- 提示：\n",
    "- 1 <= s.length <= 104\n",
    "- s 由小写英文字母组成"
   ]
  },
  {
   "cell_type": "code",
   "execution_count": 1,
   "metadata": {},
   "outputs": [],
   "source": [
    "class Solution:\n",
    "    def removeDuplicateLetters(self, s: str) -> str:\n",
    "        dic = {}\n",
    "        for c in s:\n",
    "            if c not in dic:\n",
    "                dic[c] = 1\n",
    "            else:\n",
    "                dic[c] += 1\n",
    "        stack = []\n",
    "        for c in s:\n",
    "            if c in stack:\n",
    "                dic[c] -= 1\n",
    "                continue\n",
    "            while stack and stack[-1] > c and dic[stack[-1]] > 1:\n",
    "                dic[stack[-1]] -= 1\n",
    "                stack.pop()\n",
    "            stack.append(c)\n",
    "        return \"\".join(stack)"
   ]
  },
  {
   "cell_type": "code",
   "execution_count": 2,
   "metadata": {},
   "outputs": [
    {
     "data": {
      "text/plain": [
       "True"
      ]
     },
     "execution_count": 2,
     "metadata": {},
     "output_type": "execute_result"
    }
   ],
   "source": [
    "Solution().removeDuplicateLetters(\"cbacdcbc\") == \"acdb\""
   ]
  },
  {
   "cell_type": "code",
   "execution_count": null,
   "metadata": {},
   "outputs": [],
   "source": []
  }
 ],
 "metadata": {
  "kernelspec": {
   "display_name": "Python 3",
   "language": "python",
   "name": "python3"
  },
  "language_info": {
   "codemirror_mode": {
    "name": "ipython",
    "version": 3
   },
   "file_extension": ".py",
   "mimetype": "text/x-python",
   "name": "python",
   "nbconvert_exporter": "python",
   "pygments_lexer": "ipython3",
   "version": "3.6.10"
  }
 },
 "nbformat": 4,
 "nbformat_minor": 4
}
