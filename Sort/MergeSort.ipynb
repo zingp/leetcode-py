{
 "cells": [
  {
   "cell_type": "markdown",
   "metadata": {},
   "source": [
    "## 归并排序\n",
    "- 主函数分治：输入数组、左索引，右索引。分治后再合并。\n",
    "- 合并函数：数组，左中右。最后需要把数组的左，右+1的切片附上tmp(排序后的值)。"
   ]
  },
  {
   "cell_type": "code",
   "execution_count": 1,
   "metadata": {},
   "outputs": [],
   "source": [
    "def merge_sort(array, left, right):\n",
    "    if left < right:\n",
    "        mid = (left+right)//2\n",
    "        merge_sort(array, left, mid)\n",
    "        merge_sort(array, mid+1, right)\n",
    "        merge(array, left, mid, right)"
   ]
  },
  {
   "cell_type": "code",
   "execution_count": 2,
   "metadata": {},
   "outputs": [],
   "source": [
    "def merge(array, left, mid, right):\n",
    "    tmp = []\n",
    "    i = left\n",
    "    j = mid + 1 \n",
    "    while i <= mid and j <= right:\n",
    "        if array[i] < array[j]:\n",
    "            tmp.append(array[i])\n",
    "            i += 1\n",
    "        else:\n",
    "            tmp.append(array[j])\n",
    "            j += 1\n",
    "    while i <= mid:\n",
    "        tmp.append(array[i])\n",
    "        i += 1\n",
    "    while j <= right:\n",
    "        tmp.append(array[j])\n",
    "        j += 1\n",
    "    \n",
    "    array[left:right+1] = tmp"
   ]
  },
  {
   "cell_type": "code",
   "execution_count": 3,
   "metadata": {},
   "outputs": [],
   "source": [
    "def sort_test():\n",
    "    import random\n",
    "    array = list(range(100))\n",
    "    random.shuffle(array)\n",
    "    print(\"Shuffle list:\", array)\n",
    "    print(\"-\"*50)\n",
    "    merge_sort(array, 0, len(array)-1)\n",
    "    print(\"Sort list:\", array)"
   ]
  },
  {
   "cell_type": "code",
   "execution_count": 4,
   "metadata": {},
   "outputs": [
    {
     "name": "stdout",
     "output_type": "stream",
     "text": [
      "Shuffle list: [17, 56, 70, 72, 43, 21, 68, 95, 73, 35, 8, 65, 97, 5, 26, 58, 99, 50, 48, 31, 13, 98, 69, 24, 42, 86, 18, 27, 40, 51, 81, 71, 74, 83, 60, 32, 93, 67, 20, 38, 87, 45, 62, 3, 15, 78, 64, 28, 39, 80, 19, 59, 92, 34, 16, 4, 49, 77, 94, 66, 22, 54, 63, 89, 55, 36, 37, 30, 79, 82, 52, 12, 75, 85, 47, 2, 11, 90, 44, 1, 41, 46, 84, 91, 76, 53, 33, 14, 57, 61, 88, 9, 29, 7, 6, 96, 0, 10, 23, 25]\n",
      "--------------------------------------------------\n",
      "Sort list: [0, 1, 2, 3, 4, 5, 6, 7, 8, 9, 10, 11, 12, 13, 14, 15, 16, 17, 18, 19, 20, 21, 22, 23, 24, 25, 26, 27, 28, 29, 30, 31, 32, 33, 34, 35, 36, 37, 38, 39, 40, 41, 42, 43, 44, 45, 46, 47, 48, 49, 50, 51, 52, 53, 54, 55, 56, 57, 58, 59, 60, 61, 62, 63, 64, 65, 66, 67, 68, 69, 70, 71, 72, 73, 74, 75, 76, 77, 78, 79, 80, 81, 82, 83, 84, 85, 86, 87, 88, 89, 90, 91, 92, 93, 94, 95, 96, 97, 98, 99]\n"
     ]
    }
   ],
   "source": [
    "sort_test()"
   ]
  },
  {
   "cell_type": "code",
   "execution_count": null,
   "metadata": {},
   "outputs": [],
   "source": []
  }
 ],
 "metadata": {
  "kernelspec": {
   "display_name": "Python 3",
   "language": "python",
   "name": "python3"
  },
  "language_info": {
   "codemirror_mode": {
    "name": "ipython",
    "version": 3
   },
   "file_extension": ".py",
   "mimetype": "text/x-python",
   "name": "python",
   "nbconvert_exporter": "python",
   "pygments_lexer": "ipython3",
   "version": "3.6.8"
  }
 },
 "nbformat": 4,
 "nbformat_minor": 2
}
