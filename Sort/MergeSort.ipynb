{
 "cells": [
  {
   "cell_type": "code",
   "execution_count": 1,
   "metadata": {},
   "outputs": [],
   "source": [
    "def merge_sort(array, left, right):\n",
    "    if left < right:\n",
    "        mid = (left+right)//2\n",
    "        merge_sort(array, left, mid)\n",
    "        merge_sort(array, mid+1, right)\n",
    "        merge(array, left, mid, right)"
   ]
  },
  {
   "cell_type": "code",
   "execution_count": 5,
   "metadata": {},
   "outputs": [],
   "source": [
    "def merge(array, left, mid, right):\n",
    "    tmp = []\n",
    "    i = left\n",
    "    j = mid +1 \n",
    "    while i <= mid and j <= right:\n",
    "        if array[i] < array[j]:\n",
    "            tmp.append(array[i])\n",
    "            i += 1\n",
    "        else:\n",
    "            tmp.append(array[j])\n",
    "            j += 1\n",
    "    while i <= mid:\n",
    "        tmp.append(array[i])\n",
    "        i += 1\n",
    "    while j <= right:\n",
    "        tmp.append(array[j])\n",
    "        j += 1\n",
    "    \n",
    "    array[left:right+1] = tmp"
   ]
  },
  {
   "cell_type": "code",
   "execution_count": 6,
   "metadata": {},
   "outputs": [],
   "source": [
    "def sort_test():\n",
    "    import random\n",
    "    array = list(range(100))\n",
    "    random.shuffle(array)\n",
    "    print(\"Shuffle list:\", array)\n",
    "    print(\"-\"*50)\n",
    "    merge_sort(array, 0, len(array)-1)\n",
    "    print(\"Sort list:\", array)"
   ]
  },
  {
   "cell_type": "code",
   "execution_count": 7,
   "metadata": {},
   "outputs": [
    {
     "name": "stdout",
     "output_type": "stream",
     "text": [
      "Shuffle list: [99, 46, 51, 16, 95, 74, 57, 20, 26, 76, 48, 92, 10, 7, 18, 60, 32, 11, 47, 84, 68, 98, 3, 65, 5, 39, 55, 53, 63, 88, 19, 90, 89, 6, 66, 77, 54, 83, 93, 29, 80, 25, 14, 62, 34, 73, 12, 13, 0, 33, 42, 75, 79, 8, 96, 43, 24, 15, 40, 28, 58, 69, 44, 56, 37, 61, 78, 94, 86, 59, 91, 41, 1, 9, 27, 49, 64, 81, 17, 50, 21, 70, 67, 31, 35, 97, 23, 71, 38, 87, 22, 4, 52, 2, 30, 82, 72, 36, 45, 85]\n",
      "--------------------------------------------------\n",
      "Sort list: [0, 1, 2, 3, 4, 5, 6, 7, 8, 9, 10, 11, 12, 13, 14, 15, 16, 17, 18, 19, 20, 21, 22, 23, 24, 25, 26, 27, 28, 29, 30, 31, 32, 33, 34, 35, 36, 37, 38, 39, 40, 41, 42, 43, 44, 45, 46, 47, 48, 49, 50, 51, 52, 53, 54, 55, 56, 57, 58, 59, 60, 61, 62, 63, 64, 65, 66, 67, 68, 69, 70, 71, 72, 73, 74, 75, 76, 77, 78, 79, 80, 81, 82, 83, 84, 85, 86, 87, 88, 89, 90, 91, 92, 93, 94, 95, 96, 97, 98, 99]\n"
     ]
    }
   ],
   "source": [
    "sort_test()"
   ]
  },
  {
   "cell_type": "code",
   "execution_count": null,
   "metadata": {},
   "outputs": [],
   "source": []
  }
 ],
 "metadata": {
  "kernelspec": {
   "display_name": "Python 3",
   "language": "python",
   "name": "python3"
  },
  "language_info": {
   "codemirror_mode": {
    "name": "ipython",
    "version": 3
   },
   "file_extension": ".py",
   "mimetype": "text/x-python",
   "name": "python",
   "nbconvert_exporter": "python",
   "pygments_lexer": "ipython3",
   "version": "3.6.8"
  }
 },
 "nbformat": 4,
 "nbformat_minor": 2
}
