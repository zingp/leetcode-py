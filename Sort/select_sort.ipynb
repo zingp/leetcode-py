{
 "cells": [
  {
   "cell_type": "markdown",
   "metadata": {},
   "source": [
    "## 选择排序\n",
    "- n-1趟；\n",
    "- 每趟最开始选取第一个元素为最小，然后与后面的元素逐一比较。选出最小的元素；\n",
    "- 每趟的第一个元素与最小元素互换；\n",
    "- 直到结束。"
   ]
  },
  {
   "cell_type": "code",
   "execution_count": 1,
   "metadata": {},
   "outputs": [],
   "source": [
    "def select1(array):\n",
    "    for i in range(len(array)-1):\n",
    "        min_idx = i\n",
    "        for j in range(i+1, len(array)):\n",
    "            if array[min_idx] > array[j]:\n",
    "                min_idx = j\n",
    "        array[i], array[min_idx] = array[min_idx], array[i] "
   ]
  },
  {
   "cell_type": "code",
   "execution_count": 2,
   "metadata": {},
   "outputs": [],
   "source": [
    "def sort_test():\n",
    "    import random\n",
    "    array = list(range(100))\n",
    "    random.shuffle(array)\n",
    "    print(\"Shuffle list:\", array)\n",
    "    print(\"-\"*50)\n",
    "    select1(array)\n",
    "    print(\"Sort list:\", array)"
   ]
  },
  {
   "cell_type": "code",
   "execution_count": 3,
   "metadata": {},
   "outputs": [
    {
     "name": "stdout",
     "output_type": "stream",
     "text": [
      "Shuffle list: [8, 51, 7, 17, 21, 46, 59, 2, 97, 85, 9, 84, 68, 86, 91, 24, 23, 57, 15, 64, 95, 32, 89, 78, 37, 88, 16, 0, 58, 99, 69, 79, 36, 19, 53, 13, 45, 63, 31, 27, 22, 42, 3, 55, 93, 43, 14, 92, 29, 38, 76, 5, 83, 81, 56, 74, 30, 66, 82, 73, 60, 67, 1, 49, 96, 20, 41, 54, 44, 75, 98, 62, 4, 11, 90, 71, 94, 26, 34, 65, 77, 25, 61, 10, 28, 6, 12, 39, 40, 50, 72, 48, 18, 87, 70, 52, 47, 35, 33, 80]\n",
      "--------------------------------------------------\n",
      "Sort list: [0, 1, 2, 3, 4, 5, 6, 7, 8, 9, 10, 11, 12, 13, 14, 15, 16, 17, 18, 19, 20, 21, 22, 23, 24, 25, 26, 27, 28, 29, 30, 31, 32, 33, 34, 35, 36, 37, 38, 39, 40, 41, 42, 43, 44, 45, 46, 47, 48, 49, 50, 51, 52, 53, 54, 55, 56, 57, 58, 59, 60, 61, 62, 63, 64, 65, 66, 67, 68, 69, 70, 71, 72, 73, 74, 75, 76, 77, 78, 79, 80, 81, 82, 83, 84, 85, 86, 87, 88, 89, 90, 91, 92, 93, 94, 95, 96, 97, 98, 99]\n"
     ]
    }
   ],
   "source": [
    "sort_test()"
   ]
  },
  {
   "cell_type": "code",
   "execution_count": null,
   "metadata": {},
   "outputs": [],
   "source": []
  }
 ],
 "metadata": {
  "kernelspec": {
   "display_name": "Python 3",
   "language": "python",
   "name": "python3"
  },
  "language_info": {
   "codemirror_mode": {
    "name": "ipython",
    "version": 3
   },
   "file_extension": ".py",
   "mimetype": "text/x-python",
   "name": "python",
   "nbconvert_exporter": "python",
   "pygments_lexer": "ipython3",
   "version": "3.6.8"
  }
 },
 "nbformat": 4,
 "nbformat_minor": 2
}
