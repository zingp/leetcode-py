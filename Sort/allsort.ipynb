{
 "cells": [
  {
   "cell_type": "code",
   "execution_count": 30,
   "metadata": {},
   "outputs": [],
   "source": [
    "def sort_test(func):\n",
    "    import random\n",
    "    array = list(range(100))\n",
    "    random.shuffle(array)\n",
    "    print(\"Shuffle list:\", array)\n",
    "    print(\"-\"*50)\n",
    "    func(array, 0, len(array)-1)\n",
    "    print(\"Sort list:\", array)"
   ]
  },
  {
   "cell_type": "code",
   "execution_count": 31,
   "metadata": {},
   "outputs": [],
   "source": [
    "def quick_sort(array, left, right):\n",
    "    if left < right:\n",
    "        mid = partition(array, left, right)\n",
    "        quick_sort(array, left, mid)\n",
    "        quick_sort(array, mid+1, right)\n",
    "        \n",
    "def partition(array, left, right):\n",
    "    tmp = array[left]\n",
    "    while left < right:\n",
    "        while left < right and array[right] >= tmp:\n",
    "            right -= 1\n",
    "        array[left] = array[right]\n",
    "        while left < right and array[left] <= tmp:\n",
    "            left += 1\n",
    "        array[right] = array[left]\n",
    "    array[left] = tmp\n",
    "    return left"
   ]
  },
  {
   "cell_type": "code",
   "execution_count": 32,
   "metadata": {},
   "outputs": [
    {
     "name": "stdout",
     "output_type": "stream",
     "text": [
      "Shuffle list: [28, 47, 52, 88, 60, 80, 72, 63, 76, 39, 62, 14, 49, 79, 22, 19, 31, 67, 35, 89, 58, 64, 29, 59, 16, 81, 12, 37, 20, 41, 73, 0, 9, 32, 43, 1, 61, 51, 5, 13, 65, 10, 15, 86, 27, 68, 44, 40, 87, 75, 98, 78, 46, 77, 66, 4, 11, 54, 26, 70, 2, 95, 17, 96, 36, 38, 18, 7, 8, 25, 99, 55, 84, 57, 24, 33, 3, 56, 53, 91, 92, 50, 90, 48, 21, 94, 74, 34, 45, 71, 85, 42, 93, 97, 83, 23, 82, 69, 6, 30]\n",
      "--------------------------------------------------\n",
      "Sort list: [0, 1, 2, 3, 4, 5, 6, 7, 8, 9, 10, 11, 12, 13, 14, 15, 16, 17, 18, 19, 20, 21, 22, 23, 24, 25, 26, 27, 28, 29, 30, 31, 32, 33, 34, 35, 36, 37, 38, 39, 40, 41, 42, 43, 44, 45, 46, 47, 48, 49, 50, 51, 52, 53, 54, 55, 56, 57, 58, 59, 60, 61, 62, 63, 64, 65, 66, 67, 68, 69, 70, 71, 72, 73, 74, 75, 76, 77, 78, 79, 80, 81, 82, 83, 84, 85, 86, 87, 88, 89, 90, 91, 92, 93, 94, 95, 96, 97, 98, 99]\n"
     ]
    }
   ],
   "source": [
    "sort_test(quick_sort)"
   ]
  },
  {
   "cell_type": "code",
   "execution_count": 43,
   "metadata": {},
   "outputs": [],
   "source": [
    "def heap(array):\n",
    "    n = len(array)\n",
    "    for i in range(n//2-1, -1, -1):\n",
    "        sift(array, i, n-1)\n",
    "    for i in range(n-1, -1, -1):\n",
    "        array[0], array[i] = array[i], array[0]\n",
    "        sift(array, 0, i-1)\n",
    "    \n",
    "def sift(array, left, right):\n",
    "    i = left\n",
    "    j = 2*i + 1\n",
    "    tmp = array[left]\n",
    "    while j <= right:\n",
    "        if j < right and array[j+1] > array[j]:\n",
    "            j +=1\n",
    "        if array[j] > tmp:\n",
    "            array[i] = array[j]\n",
    "            i = j\n",
    "            j = 2*i + 1\n",
    "        else:\n",
    "            break\n",
    "    array[i] = tmp"
   ]
  },
  {
   "cell_type": "code",
   "execution_count": 44,
   "metadata": {},
   "outputs": [],
   "source": [
    "def sort_test(func):\n",
    "    import random\n",
    "    array = list(range(100))\n",
    "    random.shuffle(array)\n",
    "    print(\"Shuffle list:\", array)\n",
    "    print(\"-\"*50)\n",
    "    func(array)\n",
    "    print(\"Sort list:\", array)"
   ]
  },
  {
   "cell_type": "code",
   "execution_count": 45,
   "metadata": {},
   "outputs": [
    {
     "name": "stdout",
     "output_type": "stream",
     "text": [
      "Shuffle list: [38, 4, 40, 25, 91, 79, 35, 74, 34, 27, 70, 65, 31, 28, 6, 10, 98, 41, 94, 0, 45, 58, 14, 42, 16, 5, 95, 66, 7, 1, 2, 43, 48, 22, 67, 26, 46, 9, 24, 75, 29, 61, 69, 78, 55, 62, 80, 89, 33, 81, 51, 83, 68, 17, 3, 84, 23, 50, 52, 47, 21, 36, 8, 57, 85, 44, 73, 92, 63, 11, 99, 39, 15, 93, 77, 53, 56, 13, 54, 90, 60, 86, 97, 72, 87, 96, 19, 71, 49, 18, 20, 88, 76, 82, 37, 64, 32, 59, 12, 30]\n",
      "--------------------------------------------------\n",
      "Sort list: [0, 1, 2, 3, 4, 5, 6, 7, 8, 9, 10, 11, 12, 13, 14, 15, 16, 17, 18, 19, 20, 21, 22, 23, 24, 25, 26, 27, 28, 29, 30, 31, 32, 33, 34, 35, 36, 37, 38, 39, 40, 41, 42, 43, 44, 45, 46, 47, 48, 49, 50, 51, 52, 53, 54, 55, 56, 57, 58, 59, 60, 61, 62, 63, 64, 65, 66, 67, 68, 69, 70, 71, 72, 73, 74, 75, 76, 77, 78, 79, 80, 81, 82, 83, 84, 85, 86, 87, 88, 89, 90, 91, 92, 93, 94, 95, 96, 97, 98, 99]\n"
     ]
    }
   ],
   "source": [
    "sort_test(heap)"
   ]
  },
  {
   "cell_type": "code",
   "execution_count": 27,
   "metadata": {},
   "outputs": [],
   "source": [
    "def merge_sort(array, left, right):\n",
    "    if left < right:\n",
    "        mid = (left+right)//2\n",
    "        merge_sort(array, left, mid)\n",
    "        merge_sort(array, mid+1, right)\n",
    "        merge(array, left, mid, right)\n",
    "        \n",
    "def merge(array, left, mid, right):\n",
    "    tmp = []\n",
    "    i = left\n",
    "    j = mid+1\n",
    "    while i <= mid and j <= right:\n",
    "        if array[i] < array[j]:\n",
    "            tmp.append(array[i])\n",
    "            i += 1\n",
    "        else:\n",
    "            tmp.append(array[j])\n",
    "            j += 1\n",
    "    while i <= mid:\n",
    "        tmp.append(array[i])\n",
    "        i += 1\n",
    "    while j <= right:\n",
    "        tmp.append(array[j])\n",
    "        j += 1\n",
    "    array[left: right+1] = tmp"
   ]
  },
  {
   "cell_type": "code",
   "execution_count": 28,
   "metadata": {},
   "outputs": [],
   "source": [
    "def sort_test():\n",
    "    import random\n",
    "    array = list(range(100))\n",
    "    random.shuffle(array)\n",
    "    print(\"Shuffle list:\", array)\n",
    "    print(\"-\"*50)\n",
    "    merge_sort(array, 0, len(array)-1)\n",
    "    print(\"Sort list:\", array)"
   ]
  },
  {
   "cell_type": "code",
   "execution_count": 29,
   "metadata": {},
   "outputs": [
    {
     "name": "stdout",
     "output_type": "stream",
     "text": [
      "Shuffle list: [14, 74, 85, 65, 88, 94, 17, 46, 58, 34, 79, 6, 90, 49, 38, 56, 27, 32, 61, 96, 12, 7, 33, 45, 37, 11, 67, 30, 35, 97, 73, 18, 2, 9, 3, 44, 78, 42, 83, 0, 13, 5, 19, 31, 71, 75, 1, 98, 70, 4, 80, 53, 23, 69, 76, 20, 43, 28, 59, 41, 36, 22, 25, 60, 68, 84, 86, 54, 21, 15, 39, 50, 51, 57, 47, 24, 52, 48, 55, 64, 91, 89, 77, 92, 40, 66, 99, 72, 8, 26, 29, 10, 93, 87, 82, 62, 81, 95, 63, 16]\n",
      "--------------------------------------------------\n",
      "Sort list: [0, 1, 2, 3, 4, 5, 6, 7, 8, 9, 10, 11, 12, 13, 14, 15, 16, 17, 18, 19, 20, 21, 22, 23, 24, 25, 26, 27, 28, 29, 30, 31, 32, 33, 34, 35, 36, 37, 38, 39, 40, 41, 42, 43, 44, 45, 46, 47, 48, 49, 50, 51, 52, 53, 54, 55, 56, 57, 58, 59, 60, 61, 62, 63, 64, 65, 66, 67, 68, 69, 70, 71, 72, 73, 74, 75, 76, 77, 78, 79, 80, 81, 82, 83, 84, 85, 86, 87, 88, 89, 90, 91, 92, 93, 94, 95, 96, 97, 98, 99]\n"
     ]
    }
   ],
   "source": [
    "sort_test()"
   ]
  },
  {
   "cell_type": "code",
   "execution_count": null,
   "metadata": {},
   "outputs": [],
   "source": []
  }
 ],
 "metadata": {
  "kernelspec": {
   "display_name": "Python 3",
   "language": "python",
   "name": "python3"
  },
  "language_info": {
   "codemirror_mode": {
    "name": "ipython",
    "version": 3
   },
   "file_extension": ".py",
   "mimetype": "text/x-python",
   "name": "python",
   "nbconvert_exporter": "python",
   "pygments_lexer": "ipython3",
   "version": "3.6.8"
  }
 },
 "nbformat": 4,
 "nbformat_minor": 2
}
