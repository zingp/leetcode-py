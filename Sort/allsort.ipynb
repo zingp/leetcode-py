{
 "cells": [
  {
   "cell_type": "code",
   "execution_count": 1,
   "metadata": {},
   "outputs": [],
   "source": [
    "def sort_test(func):\n",
    "    import random\n",
    "    array = list(range(100))\n",
    "    random.shuffle(array)\n",
    "    print(\"Shuffle list:\", array)\n",
    "    print(\"-\"*50)\n",
    "    func(array, 0, len(array)-1)\n",
    "    print(\"Sort list:\", array)"
   ]
  },
  {
   "cell_type": "code",
   "execution_count": 2,
   "metadata": {},
   "outputs": [],
   "source": [
    "def quick_sort(array, left, right):\n",
    "    if left < right:\n",
    "        mid = partition(array, left, right)\n",
    "        quick_sort(array, left, mid)\n",
    "        quick_sort(array, mid+1, right)\n",
    "        \n",
    "def partition(array, left, right):\n",
    "    tmp = array[left]\n",
    "    while left <right:\n",
    "        while left < right and array[right] >= tmp:\n",
    "            right -= 1\n",
    "        array[left] = array[right]\n",
    "        while left < right and array[left] <= tmp:\n",
    "            left += 1\n",
    "        array[right] = array[left]\n",
    "    array[left] = tmp\n",
    "    return left"
   ]
  },
  {
   "cell_type": "code",
   "execution_count": 4,
   "metadata": {},
   "outputs": [
    {
     "name": "stdout",
     "output_type": "stream",
     "text": [
      "Shuffle list: [59, 92, 95, 16, 87, 79, 91, 21, 84, 93, 10, 18, 11, 67, 52, 82, 53, 66, 31, 25, 41, 37, 32, 0, 26, 7, 50, 70, 39, 27, 9, 89, 78, 64, 47, 13, 15, 2, 30, 54, 69, 96, 17, 35, 14, 6, 57, 8, 36, 20, 49, 5, 24, 77, 12, 99, 94, 58, 86, 1, 38, 19, 42, 4, 68, 33, 55, 44, 72, 29, 73, 75, 40, 90, 23, 80, 63, 34, 76, 48, 22, 97, 88, 51, 3, 83, 65, 56, 28, 62, 43, 45, 98, 60, 74, 61, 71, 46, 81, 85]\n",
      "--------------------------------------------------\n",
      "Sort list: [0, 1, 2, 3, 4, 5, 6, 7, 8, 9, 10, 11, 12, 13, 14, 15, 16, 17, 18, 19, 20, 21, 22, 23, 24, 25, 26, 27, 28, 29, 30, 31, 32, 33, 34, 35, 36, 37, 38, 39, 40, 41, 42, 43, 44, 45, 46, 47, 48, 49, 50, 51, 52, 53, 54, 55, 56, 57, 58, 59, 60, 61, 62, 63, 64, 65, 66, 67, 68, 69, 70, 71, 72, 73, 74, 75, 76, 77, 78, 79, 80, 81, 82, 83, 84, 85, 86, 87, 88, 89, 90, 91, 92, 93, 94, 95, 96, 97, 98, 99]\n"
     ]
    }
   ],
   "source": [
    "sort_test(quick_sort)"
   ]
  },
  {
   "cell_type": "code",
   "execution_count": 5,
   "metadata": {},
   "outputs": [],
   "source": [
    "def heap(array):\n",
    "    n = len(array)\n",
    "    for i in range(n//2-1, -1, -1):\n",
    "        sift(array, i, n-1)\n",
    "    for i in range(n-1, -1, -1):\n",
    "        array[0], array[i] = array[i], array[0]\n",
    "        sift(array, 0, i-1)\n",
    "    \n",
    "def sift(array, low, high):\n",
    "    i = low\n",
    "    j = 2*low + 1 \n",
    "    tmp = array[i]\n",
    "    while j <= high:\n",
    "        if j < high and array[j] < array[j+1]:\n",
    "            j += 1\n",
    "        if array[j] > tmp:\n",
    "            array[i] = array[j]\n",
    "            i = j\n",
    "            j = 2*i+1\n",
    "        else:\n",
    "            break\n",
    "    array[i] = tmp"
   ]
  },
  {
   "cell_type": "code",
   "execution_count": 7,
   "metadata": {},
   "outputs": [],
   "source": [
    "def sort_test(func):\n",
    "    import random\n",
    "    array = list(range(100))\n",
    "    random.shuffle(array)\n",
    "    print(\"Shuffle list:\", array)\n",
    "    print(\"-\"*50)\n",
    "    func(array)\n",
    "    print(\"Sort list:\", array)"
   ]
  },
  {
   "cell_type": "code",
   "execution_count": 8,
   "metadata": {},
   "outputs": [
    {
     "name": "stdout",
     "output_type": "stream",
     "text": [
      "Shuffle list: [80, 51, 60, 28, 67, 42, 91, 57, 33, 76, 13, 61, 34, 49, 77, 86, 6, 54, 75, 52, 46, 96, 0, 81, 92, 70, 65, 69, 71, 26, 20, 30, 18, 74, 15, 43, 47, 22, 50, 31, 25, 66, 39, 90, 11, 45, 27, 32, 63, 16, 8, 35, 82, 62, 93, 94, 12, 58, 99, 88, 37, 87, 84, 53, 89, 7, 56, 55, 72, 9, 41, 68, 97, 14, 85, 1, 10, 40, 73, 5, 44, 36, 23, 59, 95, 98, 29, 19, 4, 38, 79, 17, 3, 48, 83, 21, 24, 64, 78, 2]\n",
      "--------------------------------------------------\n",
      "Sort list: [0, 1, 2, 3, 4, 5, 6, 7, 8, 9, 10, 11, 12, 13, 14, 15, 16, 17, 18, 19, 20, 21, 22, 23, 24, 25, 26, 27, 28, 29, 30, 31, 32, 33, 34, 35, 36, 37, 38, 39, 40, 41, 42, 43, 44, 45, 46, 47, 48, 49, 50, 51, 52, 53, 54, 55, 56, 57, 58, 59, 60, 61, 62, 63, 64, 65, 66, 67, 68, 69, 70, 71, 72, 73, 74, 75, 76, 77, 78, 79, 80, 81, 82, 83, 84, 85, 86, 87, 88, 89, 90, 91, 92, 93, 94, 95, 96, 97, 98, 99]\n"
     ]
    }
   ],
   "source": [
    "sort_test(heap)"
   ]
  },
  {
   "cell_type": "code",
   "execution_count": 27,
   "metadata": {},
   "outputs": [],
   "source": [
    "def merge_sort(array, left, right):\n",
    "    if left < right:\n",
    "        mid = (left+right)//2\n",
    "        merge_sort(array, left, mid)\n",
    "        merge_sort(array, mid+1, right)\n",
    "        merge(array, left, mid, right)\n",
    "        \n",
    "def merge(array, left, mid, right):\n",
    "    tmp = []\n",
    "    i = left\n",
    "    j = mid+1\n",
    "    while i <= mid and j <= right:\n",
    "        if array[i] < array[j]:\n",
    "            tmp.append(array[i])\n",
    "            i += 1\n",
    "        else:\n",
    "            tmp.append(array[j])\n",
    "            j += 1\n",
    "    while i <= mid:\n",
    "        tmp.append(array[i])\n",
    "        i += 1\n",
    "    while j <= right:\n",
    "        tmp.append(array[j])\n",
    "        j += 1\n",
    "    array[left: right+1] = tmp"
   ]
  },
  {
   "cell_type": "code",
   "execution_count": 28,
   "metadata": {},
   "outputs": [],
   "source": [
    "def sort_test():\n",
    "    import random\n",
    "    array = list(range(100))\n",
    "    random.shuffle(array)\n",
    "    print(\"Shuffle list:\", array)\n",
    "    print(\"-\"*50)\n",
    "    merge_sort(array, 0, len(array)-1)\n",
    "    print(\"Sort list:\", array)"
   ]
  },
  {
   "cell_type": "code",
   "execution_count": 29,
   "metadata": {},
   "outputs": [
    {
     "name": "stdout",
     "output_type": "stream",
     "text": [
      "Shuffle list: [14, 74, 85, 65, 88, 94, 17, 46, 58, 34, 79, 6, 90, 49, 38, 56, 27, 32, 61, 96, 12, 7, 33, 45, 37, 11, 67, 30, 35, 97, 73, 18, 2, 9, 3, 44, 78, 42, 83, 0, 13, 5, 19, 31, 71, 75, 1, 98, 70, 4, 80, 53, 23, 69, 76, 20, 43, 28, 59, 41, 36, 22, 25, 60, 68, 84, 86, 54, 21, 15, 39, 50, 51, 57, 47, 24, 52, 48, 55, 64, 91, 89, 77, 92, 40, 66, 99, 72, 8, 26, 29, 10, 93, 87, 82, 62, 81, 95, 63, 16]\n",
      "--------------------------------------------------\n",
      "Sort list: [0, 1, 2, 3, 4, 5, 6, 7, 8, 9, 10, 11, 12, 13, 14, 15, 16, 17, 18, 19, 20, 21, 22, 23, 24, 25, 26, 27, 28, 29, 30, 31, 32, 33, 34, 35, 36, 37, 38, 39, 40, 41, 42, 43, 44, 45, 46, 47, 48, 49, 50, 51, 52, 53, 54, 55, 56, 57, 58, 59, 60, 61, 62, 63, 64, 65, 66, 67, 68, 69, 70, 71, 72, 73, 74, 75, 76, 77, 78, 79, 80, 81, 82, 83, 84, 85, 86, 87, 88, 89, 90, 91, 92, 93, 94, 95, 96, 97, 98, 99]\n"
     ]
    }
   ],
   "source": [
    "sort_test()"
   ]
  },
  {
   "cell_type": "code",
   "execution_count": null,
   "metadata": {},
   "outputs": [],
   "source": []
  }
 ],
 "metadata": {
  "kernelspec": {
   "display_name": "Python 3",
   "language": "python",
   "name": "python3"
  },
  "language_info": {
   "codemirror_mode": {
    "name": "ipython",
    "version": 3
   },
   "file_extension": ".py",
   "mimetype": "text/x-python",
   "name": "python",
   "nbconvert_exporter": "python",
   "pygments_lexer": "ipython3",
   "version": "3.6.8"
  }
 },
 "nbformat": 4,
 "nbformat_minor": 2
}
