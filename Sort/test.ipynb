{
 "cells": [
  {
   "cell_type": "code",
   "execution_count": 1,
   "metadata": {},
   "outputs": [],
   "source": [
    "import random"
   ]
  },
  {
   "cell_type": "code",
   "execution_count": 2,
   "metadata": {},
   "outputs": [],
   "source": [
    "def partition(arr, left, right):\n",
    "    tmp = arr[left]\n",
    "    while left < right:\n",
    "        while left < right  and arr[right] >= tmp:\n",
    "            right -= 1\n",
    "        arr[left] = arr[right]\n",
    "        while left < right and arr[left] <= tmp:\n",
    "            left += 1\n",
    "        arr[right] = arr[left]\n",
    "    arr[left] = tmp\n",
    "    return left\n",
    "\n",
    "def quick_sort(arr, left, right):\n",
    "    if left < right:\n",
    "        mid = partition(arr, left, right)\n",
    "        quick_sort(arr, left,  mid-1)\n",
    "        quick_sort(arr, mid+1, right)"
   ]
  },
  {
   "cell_type": "code",
   "execution_count": 3,
   "metadata": {},
   "outputs": [],
   "source": [
    "arr = list(range(30))"
   ]
  },
  {
   "cell_type": "code",
   "execution_count": 4,
   "metadata": {},
   "outputs": [],
   "source": [
    "random.shuffle(arr)"
   ]
  },
  {
   "cell_type": "code",
   "execution_count": 5,
   "metadata": {},
   "outputs": [],
   "source": [
    "quick_sort(arr, 0, len(arr)-1)"
   ]
  },
  {
   "cell_type": "code",
   "execution_count": 7,
   "metadata": {},
   "outputs": [
    {
     "name": "stdout",
     "output_type": "stream",
     "text": [
      "[0, 1, 2, 3, 4, 5, 6, 7, 8, 9, 10, 11, 12, 13, 14, 15, 16, 17, 18, 19, 20, 21, 22, 23, 24, 25, 26, 27, 28, 29]\n"
     ]
    }
   ],
   "source": [
    "print(arr)"
   ]
  },
  {
   "cell_type": "code",
   "execution_count": 8,
   "metadata": {},
   "outputs": [],
   "source": [
    "def sift(arr, left, right):\n",
    "    i = left\n",
    "    j = 2*i + 1\n",
    "    tmp = arr[left]\n",
    "    while j <= right:\n",
    "        if j < right and arr[j+1] > arr[j]:\n",
    "            j += 1\n",
    "        if arr[j] > tmp:\n",
    "            arr[i] = arr[j]\n",
    "            i = j\n",
    "            j = 2*i + 1\n",
    "        else:\n",
    "            break\n",
    "    arr[i] = tmp\n",
    "\n",
    "def heap_sort(arr):\n",
    "    n = len(arr)\n",
    "    for i in range(n//2, -1, -1):\n",
    "        sift(arr, i, n-1)\n",
    "    for i in range(n-1, -1, -1):\n",
    "        arr[0], arr[i] = arr[i], arr[0]\n",
    "        sift(arr, 0, i-1)"
   ]
  },
  {
   "cell_type": "code",
   "execution_count": 9,
   "metadata": {},
   "outputs": [],
   "source": [
    "random.shuffle(arr)"
   ]
  },
  {
   "cell_type": "code",
   "execution_count": 11,
   "metadata": {},
   "outputs": [
    {
     "name": "stdout",
     "output_type": "stream",
     "text": [
      "[25, 17, 9, 2, 26, 4, 10, 3, 14, 11, 6, 5, 19, 28, 18, 1, 29, 20, 7, 21, 13, 15, 22, 16, 8, 24, 0, 27, 12, 23]\n"
     ]
    }
   ],
   "source": [
    "print(arr)"
   ]
  },
  {
   "cell_type": "code",
   "execution_count": 12,
   "metadata": {},
   "outputs": [
    {
     "name": "stdout",
     "output_type": "stream",
     "text": [
      "[0, 1, 2, 3, 4, 5, 6, 7, 8, 9, 10, 11, 12, 13, 14, 15, 16, 17, 18, 19, 20, 21, 22, 23, 24, 25, 26, 27, 28, 29]\n"
     ]
    }
   ],
   "source": [
    "heap_sort(arr)\n",
    "print(arr)"
   ]
  },
  {
   "cell_type": "code",
   "execution_count": 13,
   "metadata": {},
   "outputs": [],
   "source": [
    "def merge(arr, left, mid, right):\n",
    "    i = left\n",
    "    j = mid + 1\n",
    "    tmp = []\n",
    "    while i <= mid and j <= right:\n",
    "        if arr[i] < arr[j]:\n",
    "            tmp.append(arr[i])\n",
    "            i += 1\n",
    "        else:\n",
    "            tmp.append(arr[j])\n",
    "            j += 1\n",
    "    while i <= mid:\n",
    "        tmp.append(arr[i])\n",
    "        i += 1\n",
    "    while j <= right:\n",
    "        tmp.append(arr[j])\n",
    "        j += 1\n",
    "    arr[left: right+1] = tmp[:]"
   ]
  },
  {
   "cell_type": "code",
   "execution_count": 17,
   "metadata": {},
   "outputs": [],
   "source": [
    "def merge_sort(arr, left, right):\n",
    "    if left < right:\n",
    "        mid = (left + right)//2\n",
    "        merge_sort(arr, left, mid)\n",
    "        merge_sort(arr, mid+1, right)\n",
    "        merge(arr, left, mid, right)"
   ]
  },
  {
   "cell_type": "code",
   "execution_count": 18,
   "metadata": {},
   "outputs": [],
   "source": [
    "random.shuffle(arr)"
   ]
  },
  {
   "cell_type": "code",
   "execution_count": 19,
   "metadata": {},
   "outputs": [
    {
     "name": "stdout",
     "output_type": "stream",
     "text": [
      "[17, 28, 16, 20, 2, 6, 21, 0, 19, 29, 12, 10, 18, 1, 8, 27, 7, 22, 14, 5, 4, 15, 11, 24, 9, 13, 25, 3, 23, 26]\n"
     ]
    }
   ],
   "source": [
    "print(arr)"
   ]
  },
  {
   "cell_type": "code",
   "execution_count": 20,
   "metadata": {},
   "outputs": [],
   "source": [
    "merge_sort(arr, 0, len(arr)-1)"
   ]
  },
  {
   "cell_type": "code",
   "execution_count": 22,
   "metadata": {},
   "outputs": [
    {
     "name": "stdout",
     "output_type": "stream",
     "text": [
      "[0, 1, 2, 3, 4, 5, 6, 7, 8, 9, 10, 11, 12, 13, 14, 15, 16, 17, 18, 19, 20, 21, 22, 23, 24, 25, 26, 27, 28, 29]\n"
     ]
    }
   ],
   "source": [
    "print(arr)"
   ]
  },
  {
   "cell_type": "code",
   "execution_count": null,
   "metadata": {},
   "outputs": [],
   "source": []
  }
 ],
 "metadata": {
  "kernelspec": {
   "display_name": "Python 3",
   "language": "python",
   "name": "python3"
  },
  "language_info": {
   "codemirror_mode": {
    "name": "ipython",
    "version": 3
   },
   "file_extension": ".py",
   "mimetype": "text/x-python",
   "name": "python",
   "nbconvert_exporter": "python",
   "pygments_lexer": "ipython3",
   "version": "3.6.9"
  }
 },
 "nbformat": 4,
 "nbformat_minor": 4
}
