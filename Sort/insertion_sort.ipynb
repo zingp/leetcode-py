{
 "cells": [
  {
   "cell_type": "code",
   "execution_count": 26,
   "metadata": {},
   "outputs": [],
   "source": [
    "def insert_sort(array):\n",
    "    for i in range(1, len(array)-1):\n",
    "        j = i - 1 \n",
    "        min_num = array[i]\n",
    "        while j > 0 and array[j] > min_num:\n",
    "            array[j+1] = array[j]\n",
    "            j -= 1\n",
    "        array[j+1] = min_num"
   ]
  },
  {
   "cell_type": "code",
   "execution_count": 27,
   "metadata": {},
   "outputs": [],
   "source": [
    "def sort_test():\n",
    "    import random\n",
    "    array = list(range(100))\n",
    "    random.shuffle(array)\n",
    "    print(\"Shuffle list:\", array)\n",
    "    print(\"-\"*50)\n",
    "    insert_sort(array)\n",
    "    print(\"Sort list:\", array)"
   ]
  },
  {
   "cell_type": "code",
   "execution_count": 28,
   "metadata": {},
   "outputs": [
    {
     "name": "stdout",
     "output_type": "stream",
     "text": [
      "Shuffle list: [74, 6, 79, 40, 52, 2, 36, 22, 75, 17, 89, 69, 65, 46, 12, 5, 80, 44, 3, 0, 4, 55, 48, 91, 27, 86, 43, 83, 81, 59, 20, 68, 32, 14, 57, 71, 19, 66, 98, 95, 78, 18, 41, 29, 38, 51, 53, 67, 54, 88, 77, 85, 63, 72, 25, 90, 47, 60, 23, 92, 11, 26, 76, 56, 73, 15, 50, 21, 9, 42, 7, 39, 35, 34, 30, 24, 82, 1, 8, 97, 37, 31, 10, 96, 28, 93, 49, 61, 99, 33, 87, 70, 16, 62, 94, 13, 45, 58, 64, 84]\n",
      "--------------------------------------------------\n",
      "Sort list: [74, 0, 1, 2, 3, 4, 5, 6, 7, 8, 9, 10, 11, 12, 13, 14, 15, 16, 17, 18, 19, 20, 21, 22, 23, 24, 25, 26, 27, 28, 29, 30, 31, 32, 33, 34, 35, 36, 37, 38, 39, 40, 41, 42, 43, 44, 45, 46, 47, 48, 49, 50, 51, 52, 53, 54, 55, 56, 57, 58, 59, 60, 61, 62, 63, 64, 65, 66, 67, 68, 69, 70, 71, 72, 73, 75, 76, 77, 78, 79, 80, 81, 82, 83, 85, 86, 87, 88, 89, 90, 91, 92, 93, 94, 95, 96, 97, 98, 99, 84]\n"
     ]
    }
   ],
   "source": [
    "sort_test()"
   ]
  },
  {
   "cell_type": "code",
   "execution_count": null,
   "metadata": {},
   "outputs": [],
   "source": []
  }
 ],
 "metadata": {
  "kernelspec": {
   "display_name": "Python 3",
   "language": "python",
   "name": "python3"
  },
  "language_info": {
   "codemirror_mode": {
    "name": "ipython",
    "version": 3
   },
   "file_extension": ".py",
   "mimetype": "text/x-python",
   "name": "python",
   "nbconvert_exporter": "python",
   "pygments_lexer": "ipython3",
   "version": "3.6.8"
  }
 },
 "nbformat": 4,
 "nbformat_minor": 2
}
