{
 "cells": [
  {
   "cell_type": "markdown",
   "metadata": {},
   "source": [
    "## 零钱兑换\n",
    "- 给定不同面额的硬币 coins 和一个总金额 amount。编写一个函数来计算可以凑成总金额所需的最少的硬币个数。如果没有任何一种硬币组合能组成总金额，返回 -1。\n",
    "- 你可以认为每种硬币的数量是无限的。\n",
    "\n",
    "```\n",
    "- 输入：coins = [1, 2, 5], amount = 11\n",
    "输出：3 \n",
    "解释：11 = 5 + 5 + 1\n",
    "\n",
    "示例 2：\n",
    "\n",
    "输入：coins = [2], amount = 3\n",
    "输出：-1\n",
    "示例 3：\n",
    "\n",
    "输入：coins = [1], amount = 0\n",
    "输出：0\n",
    "示例 4：\n",
    "\n",
    "输入：coins = [1], amount = 1\n",
    "输出：1\n",
    "示例 5：\n",
    "\n",
    "输入：coins = [1], amount = 2\n",
    "输出：2\n",
    " \n",
    "\n",
    "提示：\n",
    "\n",
    "1 <= coins.length <= 12\n",
    "1 <= coins[i] <= 231 - 1\n",
    "0 <= amount <= 104\n",
    "```\n",
    "- 来源：力扣（LeetCode）\n",
    "- 链接：https://leetcode-cn.com/problems/coin-change\n",
    "- 著作权归领扣网络所有。商业转载请联系官方授权，非商业转载请注明出处。"
   ]
  },
  {
   "cell_type": "markdown",
   "metadata": {},
   "source": [
    "-dp[j] 表示填满j 金额， 最少的需要的硬币个数"
   ]
  },
  {
   "cell_type": "code",
   "execution_count": 1,
   "metadata": {},
   "outputs": [],
   "source": [
    "class Solution:\n",
    "    def coinChange(self, coins, amount):\n",
    "        dp = [float(\"inf\") for _ in range(amount+1)]\n",
    "        dp[0] = 0\n",
    "        for coin in coins:\n",
    "            for j in range(coin, amount+1):\n",
    "                dp[j] = min(dp[j], dp[j-coin] + 1)\n",
    "        return dp[-1] if dp[-1] != float(\"inf\") else -1"
   ]
  },
  {
   "cell_type": "code",
   "execution_count": 2,
   "metadata": {},
   "outputs": [],
   "source": [
    "coins = [1, 2, 5]\n",
    "amount = 11"
   ]
  },
  {
   "cell_type": "code",
   "execution_count": 3,
   "metadata": {},
   "outputs": [
    {
     "data": {
      "text/plain": [
       "3"
      ]
     },
     "execution_count": 3,
     "metadata": {},
     "output_type": "execute_result"
    }
   ],
   "source": [
    "Solution().coinChange(coins, amount)"
   ]
  },
  {
   "cell_type": "code",
   "execution_count": 4,
   "metadata": {},
   "outputs": [],
   "source": [
    "class Solution:\n",
    "    def coinChange(self, coins, amount):\n",
    "        @functools.lru_cache(amount)\n",
    "        def dp(rem) -> int:\n",
    "            if rem < 0: \n",
    "                return -1\n",
    "            if rem == 0: \n",
    "                return 0\n",
    "            mini = int(1e9)\n",
    "            for coin in self.coins:\n",
    "                res = dp(rem - coin)\n",
    "                if res >= 0 and res < mini:\n",
    "                    mini = res + 1\n",
    "            return mini if mini < int(1e9) else -1\n",
    "\n",
    "        self.coins = coins\n",
    "        if amount < 1: \n",
    "            return 0\n",
    "        return dp(amount)"
   ]
  },
  {
   "cell_type": "code",
   "execution_count": null,
   "metadata": {},
   "outputs": [],
   "source": []
  }
 ],
 "metadata": {
  "kernelspec": {
   "display_name": "Python 3",
   "language": "python",
   "name": "python3"
  },
  "language_info": {
   "codemirror_mode": {
    "name": "ipython",
    "version": 3
   },
   "file_extension": ".py",
   "mimetype": "text/x-python",
   "name": "python",
   "nbconvert_exporter": "python",
   "pygments_lexer": "ipython3",
   "version": "3.6.9"
  }
 },
 "nbformat": 4,
 "nbformat_minor": 2
}
