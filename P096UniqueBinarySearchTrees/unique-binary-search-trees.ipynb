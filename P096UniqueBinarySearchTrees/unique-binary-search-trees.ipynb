{
 "cells": [
  {
   "cell_type": "markdown",
   "metadata": {},
   "source": [
    "## 不同的二叉搜索树\n",
    "- 给定一个整数 n，求以 1 ... n 为节点组成的二叉搜索树有多少种？\n",
    "\n",
    "- 示例:\n",
    "\n",
    "- 输入: 3\n",
    "- 输出: 5\n",
    "- 解释:\n",
    "- 给定 n = 3, 一共有 5 种不同结构的二叉搜索树:\n",
    "```\n",
    "   1         3     3      2      1\n",
    "    \\       /     /      / \\      \\\n",
    "     3     2     1      1   3      2\n",
    "    /     /       \\                 \\\n",
    "   2     1         2                 3\n",
    "```\n",
    "- 来源：力扣（LeetCode）\n",
    "- 链接：https://leetcode-cn.com/problems/unique-binary-search-trees\n",
    "\n",
    "## 方法一：动态规划\n",
    "- 直觉\n",
    "\n",
    "- 本问题可以用动态规划求解。\n",
    "\n",
    "- 给定一个有序序列 1 ... n，为了根据序列构建一棵二叉搜索树。我们可以遍历每个数字 i，将该数字作为树根，1 ... (i-1) 序列将成为左子树，(i+1) ... n 序列将成为右子树。于是，我们可以递归地从子序列构建子树。\n",
    "在上述方法中，由于根各自不同，每棵二叉树都保证是独特的。\n",
    "\n",
    "- 可见，问题可以分解成规模较小的子问题。因此，我们可以存储并复用子问题的解，而不是递归的（也重复的）解决这些子问题，这就是动态规划法。\n",
    "\n",
    "### 算法\n",
    "\n",
    "- 问题是计算不同二叉搜索树的个数。为此，我们可以定义两个函数：\n",
    "\n",
    "- $G(n)$: 长度为n的序列的不同二叉搜索树个数。\n",
    "\n",
    "- $F(i, n)$: 以i为根的不同二叉搜索树个数($1 \\leq i \\leq n$)。\n",
    "\n",
    "- 可见，\n",
    "\n",
    "- $G(n)$是我们解决问题需要的函数。\n",
    "\n",
    "- 稍后我们将看到，$G(n)$可以从 $F(i, n)$ 得到，而 $F(i, n)$又会递归的依赖于 $G(n)$。\n",
    "\n",
    "- 首先，根据上一节中的思路，不同的二叉搜索树的总数 $G(n)$，是对遍历所有 $i (1 <= i <= n)$ 的 $F(i, n)$ 之和。换而言之：\n",
    "\n",
    "$$G(n) = \\sum_{i=1}^{n} F(i, n) \\qquad \\qquad (1) $$\n",
    "\n",
    " \n",
    "\n",
    "- 特别的，对于边界情况，当序列长度为 1 （只有根）或为 0 （空树）时，只有一种情况。亦即：\n",
    "\n",
    "- $ G(0) = 1, \\qquad G(1) = 1 $\n",
    "\n",
    "- 给定序列 $1 ... n$，我们选出数字 $i$ 作为根，则对于根 $i$ 的不同二叉搜索树数量 $F(i, n)$，是左右子树个数的笛卡尔积。\n",
    "\n",
    "- 举例而言，$F(3, 7)$，以 3 为根的不同二叉搜索树个数。为了以 3 为根从序列 `[1, 2, 3, 4, 5, 6, 7]` 构建二叉搜索树，我们需要从左子序列 `[1, 2]` 构建左子树，从右子序列 `[4, 5, 6, 7]` 构建右子树，然后将它们组合(即笛卡尔积)。\n",
    "- 巧妙之处在于，我们可以将 `[1,2]` 构建不同左子树的数量表示为 $G(2)$, 从 `[4, 5, 6, 7]` 构建不同右子树的数量表示为 $G(4)$。这是由于 $G(n)$ 和序列的内容无关，只和序列的长度有关。于是，$F(3,7) = G(2) \\cdot G(4)$。 概括而言，我们可以得到以下公式：\n",
    "\n",
    "$$F(i, n) = G(i-1) \\cdot G(n-i) \\qquad \\qquad (2)$$\n",
    "\n",
    "- 将公式 (1)，(2) 结合，可以得到 G(n)G(n) 的递归表达公式：\n",
    "\n",
    "$$ G(n) = \\sum_{i=1}^{n}G(i-1) \\cdot G(n-i) \\qquad \\qquad (3) $$\n",
    "\n",
    "- 为了计算函数结果，我们从小到大计算，因为 G(n) 的值依赖于 $ G(0) … G(n-1)G(0)…G(n−1)$。\n",
    "\n",
    "\n",
    "- 作者：LeetCode\n",
    "- 链接：https://leetcode-cn.com/problems/unique-binary-search-trees/solution/bu-tong-de-er-cha-sou-suo-shu-by-leetcode/"
   ]
  },
  {
   "cell_type": "code",
   "execution_count": 1,
   "metadata": {},
   "outputs": [],
   "source": [
    "class Solution:\n",
    "    def numTrees(self, n):\n",
    "        G = [0] * (n+1)\n",
    "        G[0], G[1] = 1, 1\n",
    "        for i in range(2, n+1):\n",
    "            for j in range(1, i+1):\n",
    "                G[i] += G[j-1] * G[i-j]\n",
    "        return G[-1]"
   ]
  },
  {
   "cell_type": "code",
   "execution_count": 2,
   "metadata": {},
   "outputs": [
    {
     "data": {
      "text/plain": [
       "5"
      ]
     },
     "execution_count": 2,
     "metadata": {},
     "output_type": "execute_result"
    }
   ],
   "source": [
    "Solution().numTrees(3)"
   ]
  },
  {
   "cell_type": "code",
   "execution_count": null,
   "metadata": {},
   "outputs": [],
   "source": []
  }
 ],
 "metadata": {
  "kernelspec": {
   "display_name": "Python 3",
   "language": "python",
   "name": "python3"
  },
  "language_info": {
   "codemirror_mode": {
    "name": "ipython",
    "version": 3
   },
   "file_extension": ".py",
   "mimetype": "text/x-python",
   "name": "python",
   "nbconvert_exporter": "python",
   "pygments_lexer": "ipython3",
   "version": "3.6.9"
  }
 },
 "nbformat": 4,
 "nbformat_minor": 2
}
