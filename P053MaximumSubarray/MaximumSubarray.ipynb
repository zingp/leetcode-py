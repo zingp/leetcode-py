{
 "cells": [
  {
   "cell_type": "markdown",
   "metadata": {},
   "source": [
    "## 53最大子序列和问题\n",
    "```\n",
    "给定一个整数数组 nums ，找到一个具有最大和的连续子数组（子数组最少包含一个元素），返回其最大和。\n",
    "\n",
    "示例:\n",
    "\n",
    "输入: [-2,1,-3,4,-1,2,1,-5,4],\n",
    "输出: 6\n",
    "解释: 连续子数组 [4,-1,2,1] 的和最大，为 6。\n",
    "进阶:\n",
    "\n",
    "如果你已经实现复杂度为 O(n) 的解法，尝试使用更为精妙的分治法求解。\n",
    "\n",
    "来源：力扣（LeetCode）\n",
    "链接：https://leetcode-cn.com/problems/maximum-subarray\n",
    "```"
   ]
  },
  {
   "cell_type": "markdown",
   "metadata": {},
   "source": [
    "## 分治法\n",
    "- 时间复杂度O(nlogn)\n",
    "- 求最大子序列和的函数，通过自己调自己可以求得左边最大子序列和和右边最大子序列和；然后再求跨越两个边界的情况。\n",
    "- 跨越边界情况：\n",
    "    左边从右边界递减求最大子序列和\n",
    "    右边从左边界递增求最大子序列和\n",
    "    最后跨越边界的最大子序列和为两者之和\n",
    "- 最大子序列和为max(左最大子序列和，右最大子序列和，跨越边界的最大子序列和)"
   ]
  },
  {
   "cell_type": "code",
   "execution_count": 1,
   "metadata": {},
   "outputs": [],
   "source": [
    "class Solution:\n",
    "    def maxSubArray(self, nums):\n",
    "        left = 0\n",
    "        right = len(nums)-1\n",
    "        return self.devide(nums, left, right)\n",
    "    \n",
    "    def devide(self, nums, left, right):\n",
    "        # 递归终止条件\n",
    "        if left==right:\n",
    "            return nums[left]\n",
    "        \n",
    "        mid = (left+right) // 2\n",
    "        left_max_sum = self.devide(nums, left, mid)\n",
    "        right_max_sum = self.devide(nums, mid+1, right)\n",
    "        # 求跨越左右子列表的最大子序列和\n",
    "        left_bound_max = nums[mid]\n",
    "        left_curr_sum = nums[mid]\n",
    "        for i in range(mid-1, left-1, -1):\n",
    "            left_curr_sum += nums[i]\n",
    "            if left_bound_max < left_curr_sum:\n",
    "                left_bound_max = left_curr_sum\n",
    "\n",
    "        right_bound_max = nums[mid+1]\n",
    "        right_curr_sum = nums[mid+1]\n",
    "        for i in range(mid+2, right+1):\n",
    "            right_curr_sum += nums[i]\n",
    "            if right_bound_max < right_curr_sum:\n",
    "                right_bound_max = right_curr_sum\n",
    "        lr_max_sum = left_bound_max + right_bound_max\n",
    "        return max(left_max_sum, right_max_sum, lr_max_sum)"
   ]
  },
  {
   "cell_type": "code",
   "execution_count": 2,
   "metadata": {},
   "outputs": [
    {
     "data": {
      "text/plain": [
       "6"
      ]
     },
     "execution_count": 2,
     "metadata": {},
     "output_type": "execute_result"
    }
   ],
   "source": [
    "li = [-2,1,-3,4,-1,2,1,-5,4]\n",
    "obj = Solution()\n",
    "obj.maxSubArray(li)"
   ]
  },
  {
   "cell_type": "markdown",
   "metadata": {},
   "source": [
    "## 动态规划\n",
    "- 时间复杂度O(n)\n",
    "- 1 List的最大子序列和 可以化解为max(每个元素作为结尾的序列的最大子序和)\n",
    "- 2 每个元素作为结尾的序列的最大和是max(当前元素, 前一个元素作为结尾的最大和+当前元素)\n",
    "- 举例子：\n",
    "- 以[-1,2,1,3]为例：\n",
    "     - 以-1结尾的最大子序列和是-1，新建一个列表记录以i个元素作为结尾的子序列的最大和 max_list = [-1]\n",
    "     - 以2结尾的子序列的最大和为 max(2, -1+2) = 2,则max_list = [-1,2]\n",
    "     - 以1结尾的子序列的最大和为max(2, 2+1) = 3,则max_list = [-1,2,3]\n",
    "     - 以3结尾的子序列的最大和为max(3, 3) = 6,则max_list = [-1,2,3，6]\n",
    "     - 最后的最大子序列和为max(max_list) = 6\n",
    "- 状态转移方程: max_list[i] = max(list[i], list[i]+ max_list[i-1])"
   ]
  },
  {
   "cell_type": "code",
   "execution_count": 3,
   "metadata": {},
   "outputs": [],
   "source": [
    "class Solution:\n",
    "    def maxSubArray(self, nums):\n",
    "        for i in range(1, len(nums)):\n",
    "            max_sum = max(nums[i], nums[i-1] + nums[i])\n",
    "            # 原始列表用来存储以i个元素作为结尾的子序列的最大和\n",
    "            nums[i] = max_sum\n",
    "        return max(nums) "
   ]
  },
  {
   "cell_type": "code",
   "execution_count": 4,
   "metadata": {},
   "outputs": [
    {
     "data": {
      "text/plain": [
       "6"
      ]
     },
     "execution_count": 4,
     "metadata": {},
     "output_type": "execute_result"
    }
   ],
   "source": [
    "li = [-2,1,-3,4,-1,2,1,-5,4]\n",
    "obj = Solution()\n",
    "obj.maxSubArray(li)"
   ]
  },
  {
   "cell_type": "markdown",
   "metadata": {},
   "source": [
    "## 在线处理\n",
    "- 也是动态规划，只不过稍作改进。\n",
    "- 每次都是比较得出前面的最大子序列和，且每次排除当前加和小于0的和，因为和小于0，再加上一个数a不可能变得比a小。"
   ]
  },
  {
   "cell_type": "code",
   "execution_count": 5,
   "metadata": {},
   "outputs": [],
   "source": [
    "class Solution:\n",
    "    def maxSubArray(self, nums):\n",
    "        \"\"\"\n",
    "        args:\n",
    "            nums: List[int] len(nums) >=1\n",
    "        return int\n",
    "        \"\"\"\n",
    "        max_sum = nums[0]\n",
    "        cur_sum = 0\n",
    "        for i in nums:\n",
    "            cur_sum += i\n",
    "            if max_sum < cur_sum:\n",
    "                max_sum = cur_sum\n",
    "            if cur_sum < 0:\n",
    "                cur_sum = 0\n",
    "        return max_sum"
   ]
  },
  {
   "cell_type": "code",
   "execution_count": 6,
   "metadata": {},
   "outputs": [],
   "source": [
    "li = [-1, 2,-2,3]\n",
    "obj = Solution()"
   ]
  },
  {
   "cell_type": "code",
   "execution_count": 7,
   "metadata": {},
   "outputs": [
    {
     "data": {
      "text/plain": [
       "3"
      ]
     },
     "execution_count": 7,
     "metadata": {},
     "output_type": "execute_result"
    }
   ],
   "source": [
    "obj.maxSubArray(li)"
   ]
  },
  {
   "cell_type": "code",
   "execution_count": 10,
   "metadata": {},
   "outputs": [],
   "source": [
    "class Solution:\n",
    "    def maxSubArray(self, nums):\n",
    "        for i in range(1, len(nums)):\n",
    "            nums[i] = max(nums[i-1]+nums[i], nums[i])\n",
    "        return max(nums)"
   ]
  },
  {
   "cell_type": "code",
   "execution_count": 11,
   "metadata": {},
   "outputs": [
    {
     "data": {
      "text/plain": [
       "3"
      ]
     },
     "execution_count": 11,
     "metadata": {},
     "output_type": "execute_result"
    }
   ],
   "source": [
    "obj.maxSubArray(li)"
   ]
  },
  {
   "cell_type": "code",
   "execution_count": null,
   "metadata": {},
   "outputs": [],
   "source": []
  }
 ],
 "metadata": {
  "kernelspec": {
   "display_name": "Python 3",
   "language": "python",
   "name": "python3"
  },
  "language_info": {
   "codemirror_mode": {
    "name": "ipython",
    "version": 3
   },
   "file_extension": ".py",
   "mimetype": "text/x-python",
   "name": "python",
   "nbconvert_exporter": "python",
   "pygments_lexer": "ipython3",
   "version": "3.6.8"
  }
 },
 "nbformat": 4,
 "nbformat_minor": 2
}
