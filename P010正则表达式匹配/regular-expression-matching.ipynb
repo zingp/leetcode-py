{
 "cells": [
  {
   "cell_type": "markdown",
   "metadata": {},
   "source": [
    "## 10. 正则表达式匹配\n",
    "```\n",
    "给你一个字符串 s 和一个字符规律 p，请你来实现一个支持 '.' 和 '*' 的正则表达式匹配。\n",
    "\n",
    "'.' 匹配任意单个字符\n",
    "'*' 匹配零个或多个前面的那一个元素\n",
    "所谓匹配，是要涵盖 整个 字符串 s的，而不是部分字符串。\n",
    "\n",
    "示例 1：\n",
    "输入：s = \"aa\" p = \"a\"\n",
    "输出：false\n",
    "解释：\"a\" 无法匹配 \"aa\" 整个字符串。\n",
    "\n",
    "示例 2:\n",
    "输入：s = \"aa\" p = \"a*\"\n",
    "输出：true\n",
    "解释：因为 '*' 代表可以匹配零个或多个前面的那一个元素, 在这里前面的元素就是 'a'。因此，字符串 \"aa\" 可被视为 'a' 重复了一次。\n",
    "\n",
    "示例 3：\n",
    "输入：s = \"ab\" p = \".*\"\n",
    "输出：true\n",
    "解释：\".*\" 表示可匹配零个或多个（'*'）任意字符（'.'）。\n",
    "\n",
    "示例 4：\n",
    "输入：s = \"aab\" p = \"c*a*b\"\n",
    "输出：true\n",
    "解释：因为 '*' 表示零个或多个，这里 'c' 为 0 个, 'a' 被重复一次。因此可以匹配字符串 \"aab\"。\n",
    "\n",
    "示例 5：\n",
    "输入：s = \"mississippi\" p = \"mis*is*p*.\"\n",
    "输出：false\n",
    " \n",
    "提示：\n",
    "    0 <= s.length <= 20\n",
    "    0 <= p.length <= 30\n",
    "    s 可能为空，且只包含从 a-z 的小写字母。\n",
    "    p 可能为空，且只包含从 a-z 的小写字母，以及字符 . 和 *。\n",
    "    保证每次出现字符 * 时，前面都匹配到有效的字符\n",
    "```"
   ]
  },
  {
   "cell_type": "code",
   "execution_count": null,
   "metadata": {},
   "outputs": [],
   "source": []
  }
 ],
 "metadata": {
  "kernelspec": {
   "display_name": "Python 3",
   "language": "python",
   "name": "python3"
  },
  "language_info": {
   "codemirror_mode": {
    "name": "ipython",
    "version": 3
   },
   "file_extension": ".py",
   "mimetype": "text/x-python",
   "name": "python",
   "nbconvert_exporter": "python",
   "pygments_lexer": "ipython3",
   "version": "3.6.10"
  }
 },
 "nbformat": 4,
 "nbformat_minor": 4
}
