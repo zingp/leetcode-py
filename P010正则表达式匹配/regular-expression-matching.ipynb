{
 "cells": [
  {
   "cell_type": "markdown",
   "metadata": {},
   "source": [
    "## 10. 正则表达式匹配\n",
    "```\n",
    "给你一个字符串 s 和一个字符规律 p，请你来实现一个支持 '.' 和 '*' 的正则表达式匹配。\n",
    "\n",
    "'.' 匹配任意单个字符\n",
    "'*' 匹配零个或多个前面的那一个元素\n",
    "所谓匹配，是要涵盖 整个 字符串 s的，而不是部分字符串。\n",
    "\n",
    "示例 1：\n",
    "输入：s = \"aa\" p = \"a\"\n",
    "输出：false\n",
    "解释：\"a\" 无法匹配 \"aa\" 整个字符串。\n",
    "\n",
    "示例 2:\n",
    "输入：s = \"aa\" p = \"a*\"\n",
    "输出：true\n",
    "解释：因为 '*' 代表可以匹配零个或多个前面的那一个元素, 在这里前面的元素就是 'a'。因此，字符串 \"aa\" 可被视为 'a' 重复了一次。\n",
    "\n",
    "示例 3：\n",
    "输入：s = \"ab\" p = \".*\"\n",
    "输出：true\n",
    "解释：\".*\" 表示可匹配零个或多个（'*'）任意字符（'.'）。\n",
    "\n",
    "示例 4：\n",
    "输入：s = \"aab\" p = \"c*a*b\"\n",
    "输出：true\n",
    "解释：因为 '*' 表示零个或多个，这里 'c' 为 0 个, 'a' 被重复一次。因此可以匹配字符串 \"aab\"。\n",
    "\n",
    "示例 5：\n",
    "输入：s = \"mississippi\" p = \"mis*is*p*.\"\n",
    "输出：false\n",
    " \n",
    "提示：\n",
    "    0 <= s.length <= 20\n",
    "    0 <= p.length <= 30\n",
    "    s 可能为空，且只包含从 a-z 的小写字母。\n",
    "    p 可能为空，且只包含从 a-z 的小写字母，以及字符 . 和 *。\n",
    "    保证每次出现字符 * 时，前面都匹配到有效的字符\n",
    "```"
   ]
  },
  {
   "cell_type": "code",
   "execution_count": 1,
   "metadata": {},
   "outputs": [],
   "source": [
    "class Solution:\n",
    "    def isMatch(self, s: str, p: str) -> bool:\n",
    "        # dp[i][j] 表示s前i个字符 是否 能被 p前j个字符匹配\n",
    "        # (1)字符相等 dp[i][j] = dp[i-1][j-1] \n",
    "        #     else False\n",
    "        # (2) p 是点  dp[i][j] = dp[i-1][j-1]\n",
    "        # (3) p 是*  考察 p[j-2] 也就是 第j-1 个字符 \n",
    "        #如果s[i-1] == p[j-2] or p[j-2] == '.'：\n",
    "        # dp[i][j] = dp[i][j-2] or dp[i-1][j]\n",
    "        # 否则 dp[i][j] = dp[i][j-2]\n",
    "\n",
    "        if not p:\n",
    "            return not s\n",
    "        if not s and len(p) == 1:\n",
    "            return False\n",
    "        m = len(s)\n",
    "        n = len(p)\n",
    "        dp = [ [False] * (n + 1) for _ in range(m + 1)]\n",
    "        dp[0][0] = True\n",
    "        dp[0][1] = False\n",
    "        for j in range(2, n+1):\n",
    "            if p[j-1] == '*':\n",
    "                dp[0][j] = dp[0][j-2]\n",
    "\n",
    "        for i in range(1, m+1):\n",
    "            for j in range(1, n+1):\n",
    "                if s[i-1] == p[j-1] or p[j-1] == '.':\n",
    "                    dp[i][j] = dp[i-1][j-1]\n",
    "                elif p[j-1] == '*':\n",
    "                    if s[i-1] == p[j-2] or p[j-2] == '.':\n",
    "                        dp[i][j] = dp[i][j-2] or dp[i-1][j]\n",
    "                    else:\n",
    "                        dp[i][j] = dp[i][j-2]\n",
    "        #print(dp)\n",
    "        return dp[-1][-1]"
   ]
  },
  {
   "cell_type": "code",
   "execution_count": 2,
   "metadata": {},
   "outputs": [],
   "source": [
    "# 当p[j-1] == '*' 时候，j-2 肯定是有效的索引，因为p如果有效，* 不可能第一位出现"
   ]
  },
  {
   "cell_type": "code",
   "execution_count": 3,
   "metadata": {},
   "outputs": [],
   "source": [
    "s = \"ab\"\n",
    "p = \".*\""
   ]
  },
  {
   "cell_type": "code",
   "execution_count": 5,
   "metadata": {},
   "outputs": [
    {
     "data": {
      "text/plain": [
       "True"
      ]
     },
     "execution_count": 5,
     "metadata": {},
     "output_type": "execute_result"
    }
   ],
   "source": [
    "Solution().isMatch(s, p)"
   ]
  }
 ],
 "metadata": {
  "kernelspec": {
   "display_name": "Python 3",
   "language": "python",
   "name": "python3"
  },
  "language_info": {
   "codemirror_mode": {
    "name": "ipython",
    "version": 3
   },
   "file_extension": ".py",
   "mimetype": "text/x-python",
   "name": "python",
   "nbconvert_exporter": "python",
   "pygments_lexer": "ipython3",
   "version": "3.6.9"
  }
 },
 "nbformat": 4,
 "nbformat_minor": 4
}
