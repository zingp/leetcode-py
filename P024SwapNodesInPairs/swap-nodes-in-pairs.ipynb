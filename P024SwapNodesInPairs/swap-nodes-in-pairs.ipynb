{
 "cells": [
  {
   "cell_type": "markdown",
   "metadata": {},
   "source": [
    "## 24. 两两交换链表中的节点\n",
    "- 给定一个链表，两两交换其中相邻的节点，并返回交换后的链表。\n",
    "- 你不能只是单纯的改变节点内部的值，而是需要实际的进行节点交换。\n",
    "- 示例:\n",
    "- 给定 1->2->3->4, 你应该返回 2->1->4->3."
   ]
  },
  {
   "cell_type": "code",
   "execution_count": 1,
   "metadata": {},
   "outputs": [],
   "source": [
    "class ListNode:\n",
    "    def __init__(self, x):\n",
    "        self.val = x\n",
    "        self.next = None\n",
    "      \n",
    "    \n",
    "def build_linklist(lis):\n",
    "    \"\"\"构建单链表\"\"\"\n",
    "    pre = ListNode(None)\n",
    "    if len(lis) > 0:\n",
    "        head = ListNode(lis[0])\n",
    "    pre.next = head\n",
    "    for i in range(1, len(lis)):\n",
    "        head.next = ListNode(lis[i])\n",
    "        head = head.next\n",
    "    return pre.next\n",
    "\n",
    "\n",
    "def range_linklist(head):\n",
    "    \"\"\"遍历打印单链表\"\"\"\n",
    "    stack = []\n",
    "    while head:\n",
    "        stack.append(head.val)\n",
    "        head = head.next\n",
    "    print(stack) "
   ]
  },
  {
   "cell_type": "markdown",
   "metadata": {},
   "source": [
    "## 方法一：递归\n",
    "- 终止条件：遍历结束"
   ]
  },
  {
   "cell_type": "code",
   "execution_count": 2,
   "metadata": {},
   "outputs": [],
   "source": [
    "class Solution:\n",
    "    def swapPairs(self, head):\n",
    "        if not head or not head.next:\n",
    "            return head\n",
    "        first = head \n",
    "        second = head.next\n",
    "        \n",
    "        first.next = self.swapPairs(second.next)\n",
    "        second.next = first\n",
    "        \n",
    "        return second"
   ]
  },
  {
   "cell_type": "code",
   "execution_count": 3,
   "metadata": {},
   "outputs": [
    {
     "name": "stdout",
     "output_type": "stream",
     "text": [
      "[0, 1, 2, 3, 4, 5, 6, 7, 8]\n"
     ]
    }
   ],
   "source": [
    "root = build_linklist(list(range(9)))\n",
    "range_linklist(root)"
   ]
  },
  {
   "cell_type": "code",
   "execution_count": 4,
   "metadata": {},
   "outputs": [
    {
     "name": "stdout",
     "output_type": "stream",
     "text": [
      "[1, 0, 3, 2, 5, 4, 7, 6, 8]\n"
     ]
    }
   ],
   "source": [
    "range_linklist(Solution().swapPairs(root))"
   ]
  },
  {
   "cell_type": "markdown",
   "metadata": {},
   "source": [
    "## 方法二：迭代\n",
    "- a, b 两个指针\n",
    "- 交换两个节点\n",
    "- 更新prev与head"
   ]
  },
  {
   "cell_type": "code",
   "execution_count": 5,
   "metadata": {},
   "outputs": [],
   "source": [
    "class Solution:\n",
    "    def swapPairs(self, head):\n",
    "        if not head or not head.next:\n",
    "            return head\n",
    "        pre = ListNode(-1)\n",
    "        pre.next = head\n",
    "        prev = pre\n",
    "        while head and head.next:\n",
    "            b = head.next\n",
    "            # swap\n",
    "            prev.next = b\n",
    "            head.next = b.next\n",
    "            b.next = head\n",
    "            # 迭代\n",
    "            prev = head\n",
    "            head = head.next\n",
    "        return pre.next\n",
    "            "
   ]
  },
  {
   "cell_type": "code",
   "execution_count": 6,
   "metadata": {},
   "outputs": [],
   "source": [
    "root = build_linklist(list(range(9)))"
   ]
  },
  {
   "cell_type": "code",
   "execution_count": 7,
   "metadata": {},
   "outputs": [
    {
     "name": "stdout",
     "output_type": "stream",
     "text": [
      "[0, 1, 2, 3, 4, 5, 6, 7, 8]\n"
     ]
    }
   ],
   "source": [
    "range_linklist(root)"
   ]
  },
  {
   "cell_type": "code",
   "execution_count": 8,
   "metadata": {},
   "outputs": [],
   "source": [
    "res = Solution().swapPairs(root)"
   ]
  },
  {
   "cell_type": "code",
   "execution_count": 9,
   "metadata": {},
   "outputs": [
    {
     "name": "stdout",
     "output_type": "stream",
     "text": [
      "[1, 0, 3, 2, 5, 4, 7, 6, 8]\n"
     ]
    }
   ],
   "source": [
    "range_linklist(res)"
   ]
  },
  {
   "cell_type": "code",
   "execution_count": null,
   "metadata": {},
   "outputs": [],
   "source": []
  }
 ],
 "metadata": {
  "kernelspec": {
   "display_name": "Python 3",
   "language": "python",
   "name": "python3"
  },
  "language_info": {
   "codemirror_mode": {
    "name": "ipython",
    "version": 3
   },
   "file_extension": ".py",
   "mimetype": "text/x-python",
   "name": "python",
   "nbconvert_exporter": "python",
   "pygments_lexer": "ipython3",
   "version": "3.6.9"
  }
 },
 "nbformat": 4,
 "nbformat_minor": 2
}
