{
 "cells": [
  {
   "cell_type": "markdown",
   "metadata": {},
   "source": [
    "## SearchinRotatedSortedArray\n",
    "- 二分查找变种\n",
    "- Suppose an array sorted in ascending order is rotated at some pivot unknown to you beforehand.\n",
    "\n",
    "(i.e., [0,1,2,4,5,6,7] might become [4,5,6,7,0,1,2]).\n",
    "\n",
    "You are given a target value to search. If found in the array return its index, otherwise return -1.\n",
    "\n",
    "You may assume no duplicate exists in the array.\n",
    "\n",
    "Your algorithm's runtime complexity must be in the order of O(log n).\n",
    "```python\n",
    "Example 1:\n",
    "\n",
    "Input: nums = [4,5,6,7,0,1,2], target = 0\n",
    "Output: 4\n",
    "Example 2:\n",
    "\n",
    "Input: nums = [4,5,6,7,0,1,2], target = 3\n",
    "Output: -1\n",
    "```\n",
    "- 给定一个右旋三位的列表，也就是最后三位元素换到最前三位。如(i.e., [0,1,2,4,5,6,7] might become [4,5,6,7,0,1,2]).\n",
    "- 给定一个目标数字target，在列表中查找出该数字，如果查到了返回索引，如果没查到返回-1.\n",
    "\n",
    "## 思路\n",
    "- 属于二分查找的变种\n",
    "- 当左边索引low小于右边索引high的时候，取中间索引mid。\n",
    "    - 如果mid 就是查找的元素，直接返回索引。\n",
    "    - 接下来先判断列表的哪一部分是有序的（如果最左边元素小于等于中间元素），说明mid左边的列表是有序的。\n",
    "        - 如果target大于等于low元素，且小于等于mid元素，那么说明target在mid左边的列表中，因此high=mid-1;否则target在mid右边的列表中。\n",
    "    - 如果左边元素大于中间元素，说明mid的右边的列表是有序的\n",
    "        - 如果target在mid的右边（target大于等于mid元素，且小于等于high元素）,则在右边列表找，即low=mid+1；否则在左边列表找。"
   ]
  },
  {
   "cell_type": "code",
   "execution_count": 1,
   "metadata": {},
   "outputs": [],
   "source": [
    "class Solution:\n",
    "    def search(self, nums, target):\n",
    "        low = 0\n",
    "        high = len(nums)-1\n",
    "        while low <= high:\n",
    "            mid = (low+high)//2\n",
    "            if nums[mid] == target:\n",
    "                return mid\n",
    "            if nums[low] <= nums[mid]:\n",
    "                if target>=nums[low] and target <= nums[mid]:\n",
    "                    high = mid-1\n",
    "                else:\n",
    "                    low = mid+1\n",
    "            else:\n",
    "                if target >= nums[mid] and target <= nums[high]:\n",
    "                    low = mid +1\n",
    "                else:\n",
    "                    high = mid-1\n",
    "        return -1"
   ]
  },
  {
   "cell_type": "code",
   "execution_count": 2,
   "metadata": {},
   "outputs": [
    {
     "data": {
      "text/plain": [
       "5"
      ]
     },
     "execution_count": 2,
     "metadata": {},
     "output_type": "execute_result"
    }
   ],
   "source": [
    "nums = [4,5,6,7,0,1,2]\n",
    "Solution().search(nums,1)"
   ]
  },
  {
   "cell_type": "code",
   "execution_count": 3,
   "metadata": {},
   "outputs": [
    {
     "data": {
      "text/plain": [
       "-1"
      ]
     },
     "execution_count": 3,
     "metadata": {},
     "output_type": "execute_result"
    }
   ],
   "source": [
    "Solution().search(nums,3)"
   ]
  },
  {
   "cell_type": "code",
   "execution_count": null,
   "metadata": {},
   "outputs": [],
   "source": []
  }
 ],
 "metadata": {
  "kernelspec": {
   "display_name": "Python 3",
   "language": "python",
   "name": "python3"
  },
  "language_info": {
   "codemirror_mode": {
    "name": "ipython",
    "version": 3
   },
   "file_extension": ".py",
   "mimetype": "text/x-python",
   "name": "python",
   "nbconvert_exporter": "python",
   "pygments_lexer": "ipython3",
   "version": "3.6.8"
  }
 },
 "nbformat": 4,
 "nbformat_minor": 2
}
