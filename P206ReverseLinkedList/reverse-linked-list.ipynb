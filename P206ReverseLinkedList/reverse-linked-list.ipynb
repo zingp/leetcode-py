{
 "cells": [
  {
   "cell_type": "markdown",
   "metadata": {},
   "source": [
    "## 206. 反转链表\n",
    "- 反转一个单链表。\n",
    "\n",
    "- 示例:\n",
    "    - 输入: 1->2->3->4->5->NULL\n",
    "    - 输出: 5->4->3->2->1->NULL\n",
    "- 进阶:\n",
    "    -你可以迭代或递归地反转链表。你能否用两种方法解决这道题？"
   ]
  },
  {
   "cell_type": "code",
   "execution_count": 1,
   "metadata": {},
   "outputs": [],
   "source": [
    "class ListNode(object):\n",
    "    def __init__(self, x):\n",
    "        self.val = x\n",
    "        self.next = None"
   ]
  },
  {
   "cell_type": "markdown",
   "metadata": {},
   "source": [
    "## 解法一：递归\n",
    "- 递归函数传入的参数？当前链表的头结点以及前驱结点\n",
    "- 递归结束条件：如果头结点为空，则返回前驱节点\n",
    "- 处理当前递归层的逻辑：头结点的下一个节点付给一个变量，头结点指向前驱节点\n",
    "- 递归调用"
   ]
  },
  {
   "cell_type": "code",
   "execution_count": 2,
   "metadata": {},
   "outputs": [],
   "source": [
    "class Solution:\n",
    "    def reverseList(self, head):\n",
    "        pre = None\n",
    "        return self.helper(head, pre)\n",
    "    \n",
    "    def helper(self, node, pre):\n",
    "        if not node:\n",
    "            return pre\n",
    "        n = node.next\n",
    "        node.next = pre\n",
    "        return self.helper(n, node) "
   ]
  },
  {
   "cell_type": "markdown",
   "metadata": {},
   "source": [
    "## 解法二：迭代\n",
    "- 三个指针\n",
    "- pre = None, cur = head\n",
    "- nex = cur.next"
   ]
  },
  {
   "cell_type": "code",
   "execution_count": 3,
   "metadata": {},
   "outputs": [],
   "source": [
    "class Solution:\n",
    "    def reverseList(self, head):\n",
    "        if not head or not head.next:\n",
    "            return head\n",
    "        pre = None\n",
    "        cur, nex = head, head\n",
    "        while cur != None:\n",
    "            nex = cur.next\n",
    "            cur.next = pre\n",
    "            pre = cur\n",
    "            cur = nex\n",
    "        return pre"
   ]
  },
  {
   "cell_type": "markdown",
   "metadata": {},
   "source": [
    "- 更简洁"
   ]
  },
  {
   "cell_type": "code",
   "execution_count": 4,
   "metadata": {},
   "outputs": [],
   "source": [
    "class Solution:\n",
    "    def reverseList(self, head):\n",
    "        pre = None\n",
    "        cur = head\n",
    "        while cur:\n",
    "            nex = cur.next\n",
    "            cur.next = pre\n",
    "            pre = cur\n",
    "            cur = nex\n",
    "        return pre"
   ]
  },
  {
   "cell_type": "code",
   "execution_count": 5,
   "metadata": {},
   "outputs": [],
   "source": [
    "class Solution:\n",
    "    def reverseList(self, head):\n",
    "        pre = None\n",
    "        while head:\n",
    "            nex = head.next\n",
    "            head.next = pre\n",
    "            pre = head\n",
    "            head = nex\n",
    "        return pre"
   ]
  },
  {
   "cell_type": "code",
   "execution_count": null,
   "metadata": {},
   "outputs": [],
   "source": []
  }
 ],
 "metadata": {
  "kernelspec": {
   "display_name": "Python 3",
   "language": "python",
   "name": "python3"
  },
  "language_info": {
   "codemirror_mode": {
    "name": "ipython",
    "version": 3
   },
   "file_extension": ".py",
   "mimetype": "text/x-python",
   "name": "python",
   "nbconvert_exporter": "python",
   "pygments_lexer": "ipython3",
   "version": "3.6.9"
  }
 },
 "nbformat": 4,
 "nbformat_minor": 2
}
