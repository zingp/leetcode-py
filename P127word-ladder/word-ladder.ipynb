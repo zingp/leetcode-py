{
 "cells": [
  {
   "cell_type": "markdown",
   "metadata": {},
   "source": [
    "## 127. 单词接龙\n",
    "- 给定两个单词（beginWord 和 endWord）和一个字典，找到从 beginWord 到 endWord 的最短转换序列的长度。转换需遵循如下规则：\n",
    "- 每次转换只能改变一个字母。\n",
    "- 转换过程中的中间单词必须是字典中的单词。\n",
    "- 说明:\n",
    "- 如果不存在这样的转换序列，返回 0。\n",
    "- 所有单词具有相同的长度。\n",
    "- 所有单词只由小写字母组成。\n",
    "- 字典中不存在重复的单词。\n",
    "- 你可以假设 beginWord 和 endWord 是非空的，且二者不相同。\n",
    "\n",
    "- 示例 1:\n",
    "- 输入:\n",
    "```\n",
    "beginWord = \"hit\",\n",
    "endWord = \"cog\",\n",
    "wordList = [\"hot\",\"dot\",\"dog\",\"lot\",\"log\",\"cog\"]\n",
    "```\n",
    "- 输出: 5\n",
    "- 解释: 一个最短转换序列是 \"hit\" -> \"hot\" -> \"dot\" -> \"dog\" -> \"cog\",\n",
    "     返回它的长度 5。\n",
    "\n",
    "- 示例 2:\n",
    "- 输入:\n",
    "```\n",
    "beginWord = \"hit\"\n",
    "endWord = \"cog\"\n",
    "wordList = [\"hot\",\"dot\",\"dog\",\"lot\",\"log\"]\n",
    "```\n",
    "- 输出: 0\n",
    "\n",
    "- 解释: endWord \"cog\" 不在字典中，所以无法进行转换。"
   ]
  },
  {
   "cell_type": "code",
   "execution_count": 1,
   "metadata": {},
   "outputs": [],
   "source": [
    "beginWord = \"hit\"\n",
    "endWord = \"cog\"\n",
    "wordList = [\"hot\",\"dot\",\"dog\",\"lot\",\"log\"]"
   ]
  },
  {
   "cell_type": "code",
   "execution_count": 2,
   "metadata": {},
   "outputs": [],
   "source": [
    "from collections import defaultdict\n",
    "class Solution(object):\n",
    "    def ladderLength(self, beginWord, endWord, wordList):\n",
    "\n",
    "        if endWord not in wordList or not endWord or not beginWord or not wordList:\n",
    "            return 0\n",
    "\n",
    "        L = len(beginWord)\n",
    "\n",
    "        # 对给定的 wordList 做预处理，找出所有的通用状态。\n",
    "        all_combo_dict = defaultdict(list)\n",
    "        for word in wordList:\n",
    "            for i in range(L):\n",
    "                # 将通用状态记录在字典中，键是通用状态，值是所有具有通用状态的单词。\n",
    "                all_combo_dict[word[:i] + \"*\" + word[i+1:]].append(word)\n",
    "\n",
    "        # BFS队列\n",
    "        queue = [(beginWord, 1)]\n",
    "        # 访问数组记录，避免出现环\n",
    "        visited = {beginWord: True}\n",
    "        while queue:\n",
    "            current_word, level = queue.pop(0)\n",
    "            for i in range(L):\n",
    "                # 当前单词的通用匹配形式\n",
    "                intermediate_word = current_word[:i] + \"*\" + current_word[i+1:]\n",
    "                # 遍历符合下一个状态的所有单词\n",
    "                for word in all_combo_dict[intermediate_word]:\n",
    "                    # 如果单词等于结束单词，搜索终止，返回最短路径：当前路径+1\n",
    "                    if word == endWord:\n",
    "                        return level + 1\n",
    "                    # 否则，如果单词没有被访问过，加入访问字典\n",
    "                    if word not in visited:\n",
    "                        visited[word] = True\n",
    "                        queue.append((word, level + 1))\n",
    "                #all_combo_dict[intermediate_word] = []\n",
    "        return 0"
   ]
  },
  {
   "cell_type": "code",
   "execution_count": 3,
   "metadata": {},
   "outputs": [
    {
     "data": {
      "text/plain": [
       "0"
      ]
     },
     "execution_count": 3,
     "metadata": {},
     "output_type": "execute_result"
    }
   ],
   "source": [
    "Solution().ladderLength(beginWord, endWord, wordList)"
   ]
  },
  {
   "cell_type": "code",
   "execution_count": 4,
   "metadata": {},
   "outputs": [],
   "source": [
    "beginWord = \"hit\"\n",
    "endWord = \"cog\"\n",
    "wordList = [\"hot\",\"dot\",\"dog\",\"lot\",\"log\",\"cog\"]"
   ]
  },
  {
   "cell_type": "code",
   "execution_count": 5,
   "metadata": {},
   "outputs": [
    {
     "data": {
      "text/plain": [
       "5"
      ]
     },
     "execution_count": 5,
     "metadata": {},
     "output_type": "execute_result"
    }
   ],
   "source": [
    "Solution().ladderLength(beginWord, endWord, wordList)"
   ]
  },
  {
   "cell_type": "code",
   "execution_count": null,
   "metadata": {},
   "outputs": [],
   "source": []
  }
 ],
 "metadata": {
  "kernelspec": {
   "display_name": "Python 3",
   "language": "python",
   "name": "python3"
  },
  "language_info": {
   "codemirror_mode": {
    "name": "ipython",
    "version": 3
   },
   "file_extension": ".py",
   "mimetype": "text/x-python",
   "name": "python",
   "nbconvert_exporter": "python",
   "pygments_lexer": "ipython3",
   "version": "3.6.10"
  }
 },
 "nbformat": 4,
 "nbformat_minor": 4
}
