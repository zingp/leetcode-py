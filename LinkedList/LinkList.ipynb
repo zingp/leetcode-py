{
 "cells": [
  {
   "cell_type": "markdown",
   "metadata": {},
   "source": [
    "## 单链表"
   ]
  },
  {
   "cell_type": "code",
   "execution_count": 1,
   "metadata": {},
   "outputs": [],
   "source": [
    "class Node(object):\n",
    "    def __init__(self, val):\n",
    "        self.val = val\n",
    "        self.next = None"
   ]
  },
  {
   "cell_type": "code",
   "execution_count": 5,
   "metadata": {},
   "outputs": [],
   "source": [
    "class LinkNode(object):\n",
    "    def __init__(self):\n",
    "        self.head = 0\n",
    "    def init_linknode(self, data, val):\n",
    "        self.head = Node(data[0])\n",
    "        p = self.head\n",
    "        if data[0] == val:\n",
    "            self.target = self.head\n",
    "        for i in data[1:]:\n",
    "            node = Node(i)\n",
    "            p.next = node\n",
    "            p = p.next\n",
    "            if i == val:\n",
    "                self.target = p\n",
    "        return self.head, self.target"
   ]
  },
  {
   "cell_type": "code",
   "execution_count": 6,
   "metadata": {},
   "outputs": [],
   "source": [
    "def range_node(root):\n",
    "    li = []\n",
    "    cur = root\n",
    "    while cur != None:\n",
    "        li.append(cur.val)\n",
    "        cur = cur.next\n",
    "    return li"
   ]
  },
  {
   "cell_type": "code",
   "execution_count": 13,
   "metadata": {},
   "outputs": [
    {
     "name": "stdout",
     "output_type": "stream",
     "text": [
      "[0, 1, 2, 3, 4, 5, 6, 7, 8, 9]\n",
      "[7, 8, 9]\n"
     ]
    }
   ],
   "source": [
    "li = list(range(10))\n",
    "root, node = LinkNode().init_linknode(li, 7)\n",
    "print(range_node(root))\n",
    "print(range_node(node))"
   ]
  },
  {
   "cell_type": "markdown",
   "metadata": {},
   "source": [
    "## 1. 在 O(1) 时间删除链表节点\n",
    "- 题目描述：\n",
    "    - 给定单向链表的头指针和一个节点指针，定义一个函数在O(1)时间删除该节点。\n",
    "- 解题思路：\n",
    "    - 常规的做法是从链表的头结点开始遍历，找到需要删除的节点的前驱节点，把它的 next 指向要删除节点的下一个节点，平均时间复杂度为O(n)，不满足题目要求。\n",
    "        -那是不是一定要得到被删除的节点的前一个节点呢？其实不用的。我们可以很方面地得到要删除节点的下一个节点，如果我们把下一个节点的内容复制到要删除的节点上覆盖原有的内容，再把下一个节点删除，那就相当于把当前要删除的节点删除了。举个栗子，我们要删除的节点i，先把i的下一个节点j的内容复制到i，然后把i的指针指向节点j的下一个节点。此时再删除节点j，其效果刚好是把节点i给删除了。\n",
    "- 要注意两种情况：\n",
    "    - 如果链表中只有一个节点，即头节点等于要删除的节点，此时我们在删除节点之后，还需要把链表的头节点设置为NULL。\n",
    "    - 如果要删除的节点位于链表的尾部，那么它就没有下一个节点，这时我们就要从链表的头节点开始，顺序遍历得到该节点的前序节点，并完成删除操作。"
   ]
  },
  {
   "cell_type": "code",
   "execution_count": 14,
   "metadata": {},
   "outputs": [],
   "source": [
    "# 有个问题就是删除的目标必须是在同一个链表里面的某个节点\n",
    "# Python的话很可能不是同一个链表里面。。"
   ]
  },
  {
   "cell_type": "code",
   "execution_count": 15,
   "metadata": {},
   "outputs": [],
   "source": [
    "def del_node(root, node):\n",
    "    # 如果输入参数有空值就返回表头结点\n",
    "    if root == None or node == None:\n",
    "        return root\n",
    "    # 如果删除的是头结点\n",
    "    if root == node:\n",
    "        return root.next\n",
    "    # 以下情况链表至少多个节点\n",
    "    # 如果删除的是中间节点\n",
    "    elif node.next != None:\n",
    "        node.val = node.next.val\n",
    "        node.next = node.next.next\n",
    "    else:\n",
    "        cur = root\n",
    "        while cur != None:\n",
    "            if cur.next == node:\n",
    "                cur.next = None\n",
    "            else:\n",
    "                cur = cur.next\n",
    "    return root"
   ]
  },
  {
   "cell_type": "code",
   "execution_count": 17,
   "metadata": {},
   "outputs": [
    {
     "name": "stdout",
     "output_type": "stream",
     "text": [
      "---\n"
     ]
    }
   ],
   "source": [
    "head = del_node(root, node)"
   ]
  },
  {
   "cell_type": "code",
   "execution_count": 18,
   "metadata": {},
   "outputs": [
    {
     "data": {
      "text/plain": [
       "[0, 1, 2, 3, 4, 5, 6, 8, 9]"
      ]
     },
     "execution_count": 18,
     "metadata": {},
     "output_type": "execute_result"
    }
   ],
   "source": [
    "range_node(head)"
   ]
  },
  {
   "cell_type": "code",
   "execution_count": null,
   "metadata": {},
   "outputs": [],
   "source": []
  }
 ],
 "metadata": {
  "kernelspec": {
   "display_name": "Python 3",
   "language": "python",
   "name": "python3"
  },
  "language_info": {
   "codemirror_mode": {
    "name": "ipython",
    "version": 3
   },
   "file_extension": ".py",
   "mimetype": "text/x-python",
   "name": "python",
   "nbconvert_exporter": "python",
   "pygments_lexer": "ipython3",
   "version": "3.6.8"
  }
 },
 "nbformat": 4,
 "nbformat_minor": 2
}
