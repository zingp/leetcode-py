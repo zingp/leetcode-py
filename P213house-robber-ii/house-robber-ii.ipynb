{
 "cells": [
  {
   "cell_type": "markdown",
   "metadata": {},
   "source": [
    "## 213. 打家劫舍 II\n",
    "- 你是一个专业的小偷，计划偷窃沿街的房屋，每间房内都藏有一定的现金。这个地方所有的房屋都围成一圈，这意味着第一个房屋和最后一个房屋是紧挨着的。同时，相邻的房屋装有相互连通的防盗系统，如果两间相邻的房屋在同一晚上被小偷闯入，系统会自动报警。\n",
    "\n",
    "- 给定一个代表每个房屋存放金额的非负整数数组，计算你在不触动警报装置的情况下，能够偷窃到的最高金额。\n",
    "\n",
    "- 示例1:\n",
    "\n",
    "- 输入: [2,3,2]\n",
    "- 输出: 3\n",
    "- : 你不能先偷窃 1 号房屋（金额 = 2），然后偷窃 3 号房屋（金额 = 2）, 因为他们是相邻的。\n",
    "- 示例2\n",
    "\n",
    "- : [1,2,3,1]\n",
    "- : 4\n",
    "- : 你可以先偷窃 1 号房屋（金额 = 1），然后偷窃 3 号房屋（金额 = 3）。偷窃到的最高金额 = 1 + 3 = 4 。"
   ]
  },
  {
   "cell_type": "markdown",
   "metadata": {},
   "source": [
    "## 思路\n",
    "- 此题是 198. 打家劫舍 的拓展版： 唯一的区别是此题中的房间是环状排列的（即首尾相接），而 198. 题中的房间是单排排列的；而这也是此题的难点。\n",
    "- 环状排列意味着第一个房子和最后一个房子中只能选择一个偷窃，因此可以把此环状排列房间问题约化为两个单排排列房间子问题：\n",
    "\n",
    "- 在不偷窃第一个房子的情况下（即 ¥nums[1:]¥），最大金额是 $p_1$ \n",
    "    - 1 在不偷窃最后一个房子的情况下（即 ¥nums[:n-1]¥），最大金额是 $p_2$ \n",
    "    - 2 综合偷窃最大金额： 为以上两种情况的较大值，即 $max(p1,p2)$ 。"
   ]
  },
  {
   "cell_type": "code",
   "execution_count": 2,
   "metadata": {},
   "outputs": [],
   "source": [
    "from typing import List"
   ]
  },
  {
   "cell_type": "code",
   "execution_count": 3,
   "metadata": {},
   "outputs": [],
   "source": [
    "class Solution:\n",
    "    def rob(self, nums: List[int]) -> int:\n",
    "        def helper(nums):\n",
    "            if not nums:\n",
    "                return 0\n",
    "            n = len(nums)\n",
    "            if n == 1:\n",
    "                return nums[0]\n",
    "            dp = [0] * n\n",
    "            dp[0] = nums[0]\n",
    "            dp[1] = max(nums[0], nums[1])\n",
    "            for i in range(2, n):\n",
    "                dp[i] = max(dp[i-1], dp[i-2] + nums[i])\n",
    "            return max(dp)\n",
    "        return max(helper(nums[1:]), helper(nums[:-1])) if len(nums) != 1 else nums[0]"
   ]
  },
  {
   "cell_type": "code",
   "execution_count": 4,
   "metadata": {},
   "outputs": [],
   "source": [
    "nums = [1,2,3,1]"
   ]
  },
  {
   "cell_type": "code",
   "execution_count": 5,
   "metadata": {},
   "outputs": [
    {
     "data": {
      "text/plain": [
       "4"
      ]
     },
     "execution_count": 5,
     "metadata": {},
     "output_type": "execute_result"
    }
   ],
   "source": [
    "Solution().rob(nums)"
   ]
  },
  {
   "cell_type": "code",
   "execution_count": null,
   "metadata": {},
   "outputs": [],
   "source": []
  }
 ],
 "metadata": {
  "kernelspec": {
   "display_name": "Python 3",
   "language": "python",
   "name": "python3"
  },
  "language_info": {
   "codemirror_mode": {
    "name": "ipython",
    "version": 3
   },
   "file_extension": ".py",
   "mimetype": "text/x-python",
   "name": "python",
   "nbconvert_exporter": "python",
   "pygments_lexer": "ipython3",
   "version": "3.6.10"
  }
 },
 "nbformat": 4,
 "nbformat_minor": 4
}
