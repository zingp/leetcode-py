{
 "cells": [
  {
   "cell_type": "markdown",
   "metadata": {},
   "source": [
    "## TrappingRainWater(接雨水)\n",
    "- 给定 n 个非负整数表示每个宽度为 1 的柱子的高度图，计算按此排列的柱子，下雨之后能接多少雨水。\n",
    "\n",
    "- ![image](../images/P042TrappingRainWater.jpg)\n",
    "- 上面是由数组 [0,1,0,2,1,0,1,3,2,1,2,1] 表示的高度图，在这种情况下，可以接 6 个单位的雨水（蓝色部分表示雨水）。\n",
    "\n",
    "- 示例:\n",
    "\n",
    "    - 输入: [0,1,0,2,1,0,1,3,2,1,2,1]\n",
    "    - 输出: 6"
   ]
  },
  {
   "cell_type": "markdown",
   "metadata": {},
   "source": [
    "## 解法\n",
    "### 按列求\n",
    "- 时间复杂度\n",
    "- 空间复杂度\n",
    "- 思路\n",
    "--------\n",
    "求每一列的水，我们只需要关注当前列，以及左边最高的墙，右边最高的墙就够了。\n",
    "\n",
    "装水的多少，当然根据木桶效应，我们只需要看左边最高的墙和右边最高的墙中较矮的一个就够了。\n",
    "\n",
    "只有较矮的墙的高度大于当前列的墙的高度，当前列才能盛水。当前列的盛水多少就是较矮的墙的高度减去当前列的墙的高度。\n",
    "\n",
    "### 动态规划\n",
    "### 双指针\n",
    "### 使用栈"
   ]
  },
  {
   "cell_type": "code",
   "execution_count": 6,
   "metadata": {},
   "outputs": [],
   "source": [
    "class Solution:\n",
    "    def trap(self, height):\n",
    "        \"\"\"\n",
    "        height:list\n",
    "        \"\"\"\n",
    "        length = len(height)\n",
    "        erea = 0\n",
    "        for i in range(1, length-1):\n",
    "            maxLeft = max(height[:i]) \n",
    "            maxRight = max(height[i+1: ])\n",
    "            minH = min(maxLeft, maxRight)\n",
    "            if minH > height[i]:\n",
    "                erea += (minH-height[i])\n",
    "        return erea     "
   ]
  },
  {
   "cell_type": "code",
   "execution_count": 7,
   "metadata": {},
   "outputs": [
    {
     "data": {
      "text/plain": [
       "6"
      ]
     },
     "execution_count": 7,
     "metadata": {},
     "output_type": "execute_result"
    }
   ],
   "source": [
    "h = [0,1,0,2,1,0,1,3,2,1,2,1]\n",
    "Solution().trap(h)"
   ]
  },
  {
   "cell_type": "code",
   "execution_count": 15,
   "metadata": {},
   "outputs": [],
   "source": [
    "# 时间复杂度O(n),空间复杂度O(n)\n",
    "class Solution:\n",
    "    def trap1(self, height):\n",
    "        length = len(height)\n",
    "        erea = 0 \n",
    "        max_left = 0\n",
    "        max_right = [0]*length\n",
    "        for i in range(length-2, -1, -1):\n",
    "            max_right[i] = max(max_right[i+1], height[i+1])\n",
    "        for i in range(1, length-1):\n",
    "            max_left = max(max_left, height[i-1])\n",
    "            min_len = min(max_left, max_right[i])\n",
    "            if min_len > height[i]:\n",
    "                erea += (min_len-height[i])\n",
    "        return erea\n",
    "# 现在max_left可以不用列表，如果能去掉max_right这个列表，那么空间复杂度就可以下降为O(1)"
   ]
  },
  {
   "cell_type": "code",
   "execution_count": 16,
   "metadata": {},
   "outputs": [
    {
     "data": {
      "text/plain": [
       "6"
      ]
     },
     "execution_count": 16,
     "metadata": {},
     "output_type": "execute_result"
    }
   ],
   "source": [
    "h = [0,1,0,2,1,0,1,3,2,1,2,1]\n",
    "Solution().trap1(h)"
   ]
  },
  {
   "cell_type": "code",
   "execution_count": 28,
   "metadata": {},
   "outputs": [],
   "source": [
    "# O(n),O(1)\n",
    "# 这个问题怎么解释？\n",
    "class Solution:\n",
    "    def trap2(self, height):\n",
    "        length = len(height)\n",
    "        erea = 0\n",
    "        max_left = 0\n",
    "        max_right = 0\n",
    "        left = 1\n",
    "        right = length - 2\n",
    "        for i in range(1, length-1):\n",
    "            if height[left-1] < height[right+1]:\n",
    "                max_left = max(max_left, height[left-1])\n",
    "                if max_left > height[left]:\n",
    "                    erea += (max_left-height[left])\n",
    "                left += 1\n",
    "            else:\n",
    "                max_right = max(max_right, height[right+1])\n",
    "                if max_right > height[right]:\n",
    "                    erea += (max_right-height[right])\n",
    "                right -= 1\n",
    "        return erea\n",
    "                "
   ]
  },
  {
   "cell_type": "code",
   "execution_count": 29,
   "metadata": {},
   "outputs": [
    {
     "data": {
      "text/plain": [
       "6"
      ]
     },
     "execution_count": 29,
     "metadata": {},
     "output_type": "execute_result"
    }
   ],
   "source": [
    "h = [0,1,0,2,1,0,1,3,2,1,2,1]\n",
    "Solution().trap2(h)"
   ]
  },
  {
   "cell_type": "code",
   "execution_count": null,
   "metadata": {},
   "outputs": [],
   "source": []
  }
 ],
 "metadata": {
  "kernelspec": {
   "display_name": "Python 3",
   "language": "python",
   "name": "python3"
  },
  "language_info": {
   "codemirror_mode": {
    "name": "ipython",
    "version": 3
   },
   "file_extension": ".py",
   "mimetype": "text/x-python",
   "name": "python",
   "nbconvert_exporter": "python",
   "pygments_lexer": "ipython3",
   "version": "3.6.8"
  }
 },
 "nbformat": 4,
 "nbformat_minor": 2
}
