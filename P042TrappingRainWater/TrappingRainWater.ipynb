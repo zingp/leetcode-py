{
 "cells": [
  {
   "cell_type": "markdown",
   "metadata": {},
   "source": [
    "## TrappingRainWater(接雨水)\n",
    "- 给定 n 个非负整数表示每个宽度为 1 的柱子的高度图，计算按此排列的柱子，下雨之后能接多少雨水。\n",
    "\n",
    "- ![image](../images/P042TrappingRainWater.jpg)\n",
    "- 上面是由数组 [0,1,0,2,1,0,1,3,2,1,2,1] 表示的高度图，在这种情况下，可以接 6 个单位的雨水（蓝色部分表示雨水）。\n",
    "\n",
    "- 示例:\n",
    "\n",
    "    - 输入: [0,1,0,2,1,0,1,3,2,1,2,1]\n",
    "    - 输出: 6"
   ]
  },
  {
   "cell_type": "markdown",
   "metadata": {},
   "source": [
    "## 暴力枚举列\n",
    "- 时间复杂度$O(n^2)$\n",
    "- 空间复杂度$O(1)$\n",
    "- 思路:\n",
    "--------\n",
    "    - 求每一列的水，我们只需要关注当前列，以及左边最高的墙，右边最高的墙就够了。\n",
    "    - 装水的多少，当然根据木桶效应，我们只需要看左边最高的墙和右边最高的墙中较矮的一个就够了。\n",
    "    - 只有较矮的墙的高度大于当前列的墙的高度，当前列才能盛水。当前列的盛水多少就是较矮的墙的高度减去当前列的墙的高度。"
   ]
  },
  {
   "cell_type": "code",
   "execution_count": 1,
   "metadata": {},
   "outputs": [],
   "source": [
    "class Solution:\n",
    "    def trap(self, height):\n",
    "        \"\"\"\n",
    "        height:list\n",
    "        \"\"\"\n",
    "        n = len(height)\n",
    "        ans = 0\n",
    "        for i in range(n):\n",
    "            max_left = height[i]\n",
    "            max_right = height[i]\n",
    "            for j in range(i, -1, -1):\n",
    "                max_left = max(max_left, height[j])\n",
    "            for k in range(i+1, n):\n",
    "                max_right = max(max_right, height[k])\n",
    "            if min(max_left, max_right) - height[i] > 0:\n",
    "                ans += (min(max_left, max_right) - height[i])\n",
    "    \n",
    "        return ans     "
   ]
  },
  {
   "cell_type": "code",
   "execution_count": 2,
   "metadata": {},
   "outputs": [
    {
     "data": {
      "text/plain": [
       "6"
      ]
     },
     "execution_count": 2,
     "metadata": {},
     "output_type": "execute_result"
    }
   ],
   "source": [
    "h = [0,1,0,2,1,0,1,3,2,1,2,1]\n",
    "Solution().trap(h)"
   ]
  },
  {
   "cell_type": "markdown",
   "metadata": {},
   "source": [
    "## 动态规划\n",
    "- 可以把max_right和max_left先计算出来存到列表里\n",
    "- 时间复杂度O(n),空间复杂度O(n)"
   ]
  },
  {
   "cell_type": "code",
   "execution_count": 3,
   "metadata": {},
   "outputs": [],
   "source": [
    "class Solution:\n",
    "    def trap(self, height):\n",
    "        n = len(height)\n",
    "        max_left = 0\n",
    "        max_right = [0] * n\n",
    "        ans = 0\n",
    "        for i in range(n-2, -1, -1):\n",
    "            max_right[i] = max(max_right[i+1], height[i+1])\n",
    "        for i in range(n):\n",
    "            max_left = max(max_left, height[i])\n",
    "            min_h = min(max_right[i], max_left) - height[i]\n",
    "            if min_h > 0:\n",
    "                ans += min_h\n",
    "        return ans"
   ]
  },
  {
   "cell_type": "code",
   "execution_count": 4,
   "metadata": {},
   "outputs": [
    {
     "data": {
      "text/plain": [
       "6"
      ]
     },
     "execution_count": 4,
     "metadata": {},
     "output_type": "execute_result"
    }
   ],
   "source": [
    "h = [0,1,0,2,1,0,1,3,2,1,2,1]\n",
    "Solution().trap(h)"
   ]
  },
  {
   "cell_type": "markdown",
   "metadata": {},
   "source": [
    "## 双指针\n",
    "- 上面max_left可以不用列表，如果能去掉max_right这个列表，那么空间复杂度就可以下降为O(1)\n",
    "- $O(n),O(1)$"
   ]
  },
  {
   "cell_type": "code",
   "execution_count": 5,
   "metadata": {},
   "outputs": [],
   "source": [
    "class Solution:\n",
    "    def trap(self, height):\n",
    "        n = len(height)\n",
    "        ans = 0\n",
    "        left = 0\n",
    "        right = n - 1\n",
    "        max_left = 0\n",
    "        max_right = 0\n",
    "        while left < right:\n",
    "            if height[left] < height[right]:\n",
    "                max_left = max(max_left, height[left])\n",
    "                if max_left > height[left]:\n",
    "                    ans += (max_left - height[left])\n",
    "                left += 1\n",
    "            else:\n",
    "                max_right = max(max_right, height[right])\n",
    "                if max_right > height[right]:\n",
    "                    ans += (max_right - height[right])\n",
    "                right -= 1\n",
    "        return ans"
   ]
  },
  {
   "cell_type": "code",
   "execution_count": 6,
   "metadata": {},
   "outputs": [
    {
     "data": {
      "text/plain": [
       "6"
      ]
     },
     "execution_count": 6,
     "metadata": {},
     "output_type": "execute_result"
    }
   ],
   "source": [
    "h = [0,1,0,2,1,0,1,3,2,1,2,1]\n",
    "Solution().trap(h)"
   ]
  }
 ],
 "metadata": {
  "kernelspec": {
   "display_name": "Python 3",
   "language": "python",
   "name": "python3"
  },
  "language_info": {
   "codemirror_mode": {
    "name": "ipython",
    "version": 3
   },
   "file_extension": ".py",
   "mimetype": "text/x-python",
   "name": "python",
   "nbconvert_exporter": "python",
   "pygments_lexer": "ipython3",
   "version": "3.6.9"
  }
 },
 "nbformat": 4,
 "nbformat_minor": 2
}
