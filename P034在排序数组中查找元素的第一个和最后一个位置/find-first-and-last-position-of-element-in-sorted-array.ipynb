{
 "cells": [
  {
   "cell_type": "markdown",
   "metadata": {},
   "source": [
    "## 34. 在排序数组中查找元素的第一个和最后一个位置\n",
    "```\n",
    "给定一个按照升序排列的整数数组 nums，和一个目标值 target。找出给定目标值在数组中的开始位置和结束位置。\n",
    "\n",
    "如果数组中不存在目标值 target，返回 [-1, -1]。\n",
    "\n",
    "进阶：\n",
    "\n",
    "你可以设计并实现时间复杂度为 O(log n) 的算法解决此问题吗？\n",
    " \n",
    "\n",
    "示例 1：\n",
    "\n",
    "输入：nums = [5,7,7,8,8,10], target = 8\n",
    "输出：[3,4]\n",
    "示例 2：\n",
    "\n",
    "输入：nums = [5,7,7,8,8,10], target = 6\n",
    "输出：[-1,-1]\n",
    "示例 3：\n",
    "\n",
    "输入：nums = [], target = 0\n",
    "输出：[-1,-1]\n",
    " \n",
    "\n",
    "提示：\n",
    "\n",
    "0 <= nums.length <= 105\n",
    "-109 <= nums[i] <= 109\n",
    "nums 是一个非递减数组\n",
    "-109 <= target <= 109\n",
    "```"
   ]
  },
  {
   "cell_type": "code",
   "execution_count": 1,
   "metadata": {},
   "outputs": [],
   "source": [
    "from typing import List"
   ]
  },
  {
   "cell_type": "code",
   "execution_count": 2,
   "metadata": {},
   "outputs": [],
   "source": [
    "class Solution:\n",
    "    def searchRange(self, nums: List[int], target: int) -> List[int]:\n",
    "        left = 0\n",
    "        right = len(nums) - 1\n",
    "        while left <= right:\n",
    "            mid = (left + right) // 2\n",
    "            if nums[mid] == target:\n",
    "                start = mid\n",
    "                end = mid\n",
    "                while start >= 0 and nums[start] == target:\n",
    "                    start -= 1\n",
    "                while end <= len(nums) - 1 and nums[end] == target:\n",
    "                    end += 1\n",
    "                return [start + 1, end - 1]\n",
    "            elif nums[mid] < target:\n",
    "                left= mid + 1\n",
    "            else:\n",
    "                right = mid - 1\n",
    "        return [-1, -1]"
   ]
  },
  {
   "cell_type": "code",
   "execution_count": 3,
   "metadata": {},
   "outputs": [],
   "source": [
    "nums = [5,7,7,8,8,10]\n",
    "target = 8"
   ]
  },
  {
   "cell_type": "code",
   "execution_count": 4,
   "metadata": {},
   "outputs": [
    {
     "data": {
      "text/plain": [
       "[3, 4]"
      ]
     },
     "execution_count": 4,
     "metadata": {},
     "output_type": "execute_result"
    }
   ],
   "source": [
    "Solution().searchRange(nums, target)"
   ]
  },
  {
   "cell_type": "code",
   "execution_count": null,
   "metadata": {},
   "outputs": [],
   "source": []
  }
 ],
 "metadata": {
  "kernelspec": {
   "display_name": "Python 3",
   "language": "python",
   "name": "python3"
  },
  "language_info": {
   "codemirror_mode": {
    "name": "ipython",
    "version": 3
   },
   "file_extension": ".py",
   "mimetype": "text/x-python",
   "name": "python",
   "nbconvert_exporter": "python",
   "pygments_lexer": "ipython3",
   "version": "3.6.9"
  }
 },
 "nbformat": 4,
 "nbformat_minor": 2
}
