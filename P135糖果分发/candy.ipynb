{
 "cells": [
  {
   "cell_type": "markdown",
   "metadata": {},
   "source": [
    "## 135. 分发糖果\n",
    "- 老师想给孩子们分发糖果，有 N 个孩子站成了一条直线，老师会根据每个孩子的表现，预先给他们评分。\n",
    "- 你需要按照以下要求，帮助老师给这些孩子分发糖果：\n",
    "- 每个孩子至少分配到 1 个糖果。\n",
    "- 相邻的孩子中，评分高的孩子必须获得更多的糖果。\n",
    "- 那么这样下来，老师至少需要准备多少颗糖果呢？\n",
    "\n",
    "```\n",
    "示例 1:\n",
    "输入: [1,0,2]\n",
    "输出: 5\n",
    "解释: 你可以分别给这三个孩子分发 2、1、2 颗糖果。\n",
    "\n",
    "示例 2:\n",
    "输入: [1,2,2]\n",
    "输出: 4\n",
    "解释: 你可以分别给这三个孩子分发 1、2、1 颗糖果。\n",
    "     第三个孩子只得到 1 颗糖果，这已满足上述两个条件。\n",
    "```"
   ]
  },
  {
   "cell_type": "markdown",
   "metadata": {},
   "source": [
    "```\n",
    "看了官方题解，在右规则那块不太好理解，需要自己用测试案例走一遍\n",
    "稍微改麻烦了点，但是应该好理解了\n",
    "左规则 ：left[i] > left[i-1]时, left[i] = left[i-1] + 1;\n",
    "右规则 ：right[i] > right[i+1]时, right[i] = right[i+1] + 1;\n",
    "最后取 Math.max(left[i], right[i])，即两者规则都满足\n",
    "```\n",
    "\n",
    "复杂度分析\n",
    "\n",
    "时间复杂度：O(n)，其中 n 是孩子的数量。我们需要遍历两次数组以分别计算满足左规则或右规则的最少糖果数量。\n",
    "\n",
    "空间复杂度：O(n)，其中 n 是孩子的数量。我们需要保存所有的左规则对应的糖果数量。\n"
   ]
  },
  {
   "cell_type": "code",
   "execution_count": 1,
   "metadata": {},
   "outputs": [],
   "source": [
    "from typing import List"
   ]
  },
  {
   "cell_type": "code",
   "execution_count": 2,
   "metadata": {},
   "outputs": [],
   "source": [
    "class Solution:\n",
    "    def candy(self, ratings: List[int]) -> int:\n",
    "        n = len(ratings)\n",
    "        left = [0] * n\n",
    "        for i in range(n):\n",
    "            if i > 0 and ratings[i] > ratings[i-1]:\n",
    "                left[i] = left[i-1] + 1\n",
    "            else:\n",
    "                left[i] = 1\n",
    "        right = res = 0\n",
    "        for i in range(n-1, -1, -1):\n",
    "            if i < n - 1 and ratings[i] > ratings[i+1]:\n",
    "                right += 1\n",
    "            else:\n",
    "                right = 1\n",
    "            res += max(right, left[i])\n",
    "        return res"
   ]
  },
  {
   "cell_type": "markdown",
   "metadata": {},
   "source": [
    "## 空间复杂度优化成O(1)\n"
   ]
  },
  {
   "cell_type": "code",
   "execution_count": 3,
   "metadata": {},
   "outputs": [],
   "source": [
    "class Solution:\n",
    "    def candy(self, ratings: List[int]) -> int:\n",
    "        n = len(ratings)\n",
    "        ret = 1\n",
    "        inc, dec, pre = 1, 0, 1\n",
    "\n",
    "        for i in range(1, n):\n",
    "            if ratings[i] >= ratings[i - 1]:\n",
    "                dec = 0\n",
    "                pre = (1 if ratings[i] == ratings[i - 1] else pre + 1)\n",
    "                ret += pre\n",
    "                inc = pre\n",
    "            else:\n",
    "                dec += 1\n",
    "                if dec == inc:\n",
    "                    dec += 1\n",
    "                ret += dec\n",
    "                pre = 1\n",
    "        \n",
    "        return ret"
   ]
  },
  {
   "cell_type": "code",
   "execution_count": null,
   "metadata": {},
   "outputs": [],
   "source": []
  }
 ],
 "metadata": {
  "kernelspec": {
   "display_name": "Python 3",
   "language": "python",
   "name": "python3"
  },
  "language_info": {
   "codemirror_mode": {
    "name": "ipython",
    "version": 3
   },
   "file_extension": ".py",
   "mimetype": "text/x-python",
   "name": "python",
   "nbconvert_exporter": "python",
   "pygments_lexer": "ipython3",
   "version": "3.6.10"
  }
 },
 "nbformat": 4,
 "nbformat_minor": 4
}
