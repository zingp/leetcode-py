{
 "cells": [
  {
   "cell_type": "markdown",
   "metadata": {},
   "source": [
    "## 199 二叉树右视图\n",
    "```\n",
    "给定一棵二叉树，想象自己站在它的右侧，按照从顶部到底部的顺序，返回从右侧所能看到的节点值。\n",
    "\n",
    "示例:\n",
    "\n",
    "输入: [1,2,3,null,5,null,4]\n",
    "输出: [1, 3, 4]\n",
    "解释:\n",
    "\n",
    "   1            <---\n",
    " /   \\\n",
    "2     3         <---\n",
    " \\     \\\n",
    "  5     4       <---\n",
    "\n",
    "来源：力扣（LeetCode）\n",
    "链接：https://leetcode-cn.com/problems/binary-tree-right-side-view\n",
    "```"
   ]
  },
  {
   "cell_type": "code",
   "execution_count": 1,
   "metadata": {},
   "outputs": [],
   "source": [
    "# Definition for a binary tree node.\n",
    "class TreeNode:\n",
    "    def __init__(self, x):\n",
    "        self.val = x\n",
    "        self.left = None\n",
    "        self.right = None\n",
    "\n",
    "class Solution:\n",
    "    def rightSideView(self, root: TreeNode):\n",
    "        pass"
   ]
  },
  {
   "cell_type": "code",
   "execution_count": 2,
   "metadata": {},
   "outputs": [],
   "source": [
    "# 两种解法\n",
    "# 深度优先O(n),空间复杂度O(n)\n",
    "def rightSideView(root):\n",
    "    DepthValDic = dict()  # 定义一个字典，key是最大深度，value是该深度下最右边节点的值\n",
    "    maxDepth = -1\n",
    "    stack = [(root, 0)]\n",
    "    while stack:\n",
    "        node, depth = stack.pop()\n",
    "        if node is not None:\n",
    "            maxDepth = max(maxDepth, depth)\n",
    "            if maxDepth not in DepthValDic:\n",
    "                DepthValDic[maxDepth] = node.val\n",
    "            stack.append((node.left, depth+1))\n",
    "            stack.append((node.right, depth+1))\n",
    "    return [DepthValDic[i] for i in range(maxDepth+1)]"
   ]
  },
  {
   "cell_type": "code",
   "execution_count": 3,
   "metadata": {},
   "outputs": [],
   "source": [
    "# 广度优先O(n),空间复杂度O(n)\n",
    "from collections import deque"
   ]
  },
  {
   "cell_type": "code",
   "execution_count": 4,
   "metadata": {},
   "outputs": [],
   "source": [
    "def rightSideView(root):\n",
    "    DepthValDic = dict()\n",
    "    maxDepth = -1\n",
    "    queue = deque([(root, 0)])\n",
    "    while queue:\n",
    "        node, depth = queue.popleft()\n",
    "        if node is not None:\n",
    "            maxDepth = max(maxDepth, depth)\n",
    "            DepthValDic[maxDepth] = node.val\n",
    "\n",
    "            queue.append((node.left, depth+1))\n",
    "            queue.append((node.right, depth+1))\n",
    "    return [DepthValDic[i] for i in range(maxDepth+1)]"
   ]
  },
  {
   "cell_type": "code",
   "execution_count": null,
   "metadata": {},
   "outputs": [],
   "source": []
  }
 ],
 "metadata": {
  "kernelspec": {
   "display_name": "Python 3",
   "language": "python",
   "name": "python3"
  },
  "language_info": {
   "codemirror_mode": {
    "name": "ipython",
    "version": 3
   },
   "file_extension": ".py",
   "mimetype": "text/x-python",
   "name": "python",
   "nbconvert_exporter": "python",
   "pygments_lexer": "ipython3",
   "version": "3.6.8"
  }
 },
 "nbformat": 4,
 "nbformat_minor": 2
}
