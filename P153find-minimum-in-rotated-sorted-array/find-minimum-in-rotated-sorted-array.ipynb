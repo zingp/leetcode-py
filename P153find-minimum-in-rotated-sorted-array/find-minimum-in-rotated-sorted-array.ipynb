{
 "cells": [
  {
   "cell_type": "markdown",
   "metadata": {},
   "source": [
    "## 153. 寻找旋转排序数组中的最小值\n",
    "- 假设按照升序排序的数组在预先未知的某个点上进行了旋转。\n",
    "- ( 例如，数组 [0,1,2,4,5,6,7] 可能变为 [4,5,6,7,0,1,2] )。\n",
    "- 请找出其中最小的元素。\n",
    "- 你可以假设数组中不存在重复元素。\n",
    "\n",
    "- 示例 1:\n",
    "- 输入: [3,4,5,1,2]\n",
    "- 输出: 1\n",
    "    \n",
    "- 示例 2:\n",
    "- 输入: [4,5,6,7,0,1,2]\n",
    "- 输出: 0"
   ]
  },
  {
   "cell_type": "code",
   "execution_count": 1,
   "metadata": {},
   "outputs": [],
   "source": [
    "from typing import List"
   ]
  },
  {
   "cell_type": "code",
   "execution_count": 2,
   "metadata": {},
   "outputs": [],
   "source": [
    "class Solution:\n",
    "    def findMin(self, nums: List[int]) -> int:\n",
    "        if len(nums) == 1:\n",
    "            return nums[0]\n",
    "        right = len(nums) - 1\n",
    "        left = 0\n",
    "        if nums[right] > nums[0]:\n",
    "            return nums[0]\n",
    "        while left <= right:\n",
    "            mid = left + (right - left) // 2\n",
    "            if nums[mid] > nums[mid+1]:\n",
    "                return nums[mid+1]\n",
    "            if nums[mid] < nums[mid-1]:\n",
    "                return nums[mid]\n",
    "            if nums[left] < nums[mid]:\n",
    "                left = mid + 1\n",
    "            else:\n",
    "                right = mid -1"
   ]
  },
  {
   "cell_type": "code",
   "execution_count": 3,
   "metadata": {},
   "outputs": [],
   "source": [
    "nums = [3,4,5,1,2]"
   ]
  },
  {
   "cell_type": "code",
   "execution_count": 4,
   "metadata": {},
   "outputs": [
    {
     "data": {
      "text/plain": [
       "1"
      ]
     },
     "execution_count": 4,
     "metadata": {},
     "output_type": "execute_result"
    }
   ],
   "source": [
    "Solution().findMin(nums)"
   ]
  },
  {
   "cell_type": "code",
   "execution_count": null,
   "metadata": {},
   "outputs": [],
   "source": []
  }
 ],
 "metadata": {
  "kernelspec": {
   "display_name": "Python 3",
   "language": "python",
   "name": "python3"
  },
  "language_info": {
   "codemirror_mode": {
    "name": "ipython",
    "version": 3
   },
   "file_extension": ".py",
   "mimetype": "text/x-python",
   "name": "python",
   "nbconvert_exporter": "python",
   "pygments_lexer": "ipython3",
   "version": "3.6.10"
  }
 },
 "nbformat": 4,
 "nbformat_minor": 4
}
