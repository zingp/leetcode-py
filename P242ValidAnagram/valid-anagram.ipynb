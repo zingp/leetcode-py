{
 "cells": [
  {
   "cell_type": "markdown",
   "metadata": {},
   "source": [
    "## 242. 有效的字母异位词\n",
    "- 给定两个字符串 s 和 t ，编写一个函数来判断 t 是否是 s 的字母异位词。\n",
    "\n",
    "- 示例 1:\n",
    "\n",
    "- 输入: s = \"anagram\", t = \"nagaram\"\n",
    "- 输出: true\n",
    "- 示例 2:\n",
    "\n",
    "- 输入: s = \"rat\", t = \"car\"\n",
    "- 输出: false\n",
    "- 说明:\n",
    "- 你可以假设字符串只包含小写字母。\n",
    "\n",
    "- 进阶:\n",
    "- 如果输入字符串包含 unicode 字符怎么办？你能否调整你的解法来应对这种情况？\n",
    "\n",
    "- 来源：力扣（LeetCode）\n",
    "- 链接：https://leetcode-cn.com/problems/valid-anagram"
   ]
  },
  {
   "cell_type": "code",
   "execution_count": 1,
   "metadata": {},
   "outputs": [],
   "source": [
    "class Solution:\n",
    "    def isAnagram(self, s, t):\n",
    "        dic1, dic2 = {}, {}\n",
    "        for i in s:\n",
    "            dic1[i] = dic1.get(i, 0) + 1\n",
    "        for i in t:\n",
    "            dic2[i] = dic2.get(i, 0) + 1\n",
    "        return dic1 == dic2"
   ]
  },
  {
   "cell_type": "code",
   "execution_count": 2,
   "metadata": {},
   "outputs": [],
   "source": [
    "s = \"anagram\"\n",
    "t = \"nagaram\""
   ]
  },
  {
   "cell_type": "code",
   "execution_count": 3,
   "metadata": {},
   "outputs": [
    {
     "data": {
      "text/plain": [
       "True"
      ]
     },
     "execution_count": 3,
     "metadata": {},
     "output_type": "execute_result"
    }
   ],
   "source": [
    "Solution().isAnagram(s, t)"
   ]
  },
  {
   "cell_type": "code",
   "execution_count": 5,
   "metadata": {},
   "outputs": [],
   "source": [
    "class Solution:\n",
    "    def isAnagram(self, s, t):\n",
    "        set1 = set(s)\n",
    "        set2 = set(t)\n",
    "        if set1 == set2:\n",
    "            for i in set1:\n",
    "                if s.count(i) != t.count(i):\n",
    "                    return False\n",
    "            return True\n",
    "        return False"
   ]
  },
  {
   "cell_type": "code",
   "execution_count": 6,
   "metadata": {},
   "outputs": [
    {
     "data": {
      "text/plain": [
       "True"
      ]
     },
     "execution_count": 6,
     "metadata": {},
     "output_type": "execute_result"
    }
   ],
   "source": [
    "Solution().isAnagram(s, t)"
   ]
  },
  {
   "cell_type": "code",
   "execution_count": 7,
   "metadata": {},
   "outputs": [],
   "source": [
    "s = \"rat\"\n",
    "t = \"car\""
   ]
  },
  {
   "cell_type": "code",
   "execution_count": 8,
   "metadata": {},
   "outputs": [
    {
     "data": {
      "text/plain": [
       "False"
      ]
     },
     "execution_count": 8,
     "metadata": {},
     "output_type": "execute_result"
    }
   ],
   "source": [
    "Solution().isAnagram(s, t)"
   ]
  },
  {
   "cell_type": "code",
   "execution_count": null,
   "metadata": {},
   "outputs": [],
   "source": []
  }
 ],
 "metadata": {
  "kernelspec": {
   "display_name": "Python 3",
   "language": "python",
   "name": "python3"
  },
  "language_info": {
   "codemirror_mode": {
    "name": "ipython",
    "version": 3
   },
   "file_extension": ".py",
   "mimetype": "text/x-python",
   "name": "python",
   "nbconvert_exporter": "python",
   "pygments_lexer": "ipython3",
   "version": "3.6.9"
  }
 },
 "nbformat": 4,
 "nbformat_minor": 2
}
