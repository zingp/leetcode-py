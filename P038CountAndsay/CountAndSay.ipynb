{
 "cells": [
  {
   "cell_type": "markdown",
   "metadata": {},
   "source": [
    "## 报数\n",
    "```\n",
    "报数序列是一个整数序列，按照其中的整数的顺序进行报数，得到下一个数。其前五项如下：\n",
    "\n",
    "1.     1\n",
    "2.     11\n",
    "3.     21\n",
    "4.     1211\n",
    "5.     111221\n",
    "1 被读作  \"one 1\"  (\"一个一\") , 即 11。\n",
    "11 被读作 \"two 1s\" (\"两个一\"）, 即 21。\n",
    "21 被读作 \"one 2\",  \"one 1\" （\"一个二\" ,  \"一个一\") , 即 1211。\n",
    "\n",
    "给定一个正整数 n（1 ≤ n ≤ 30），输出报数序列的第 n 项。\n",
    "\n",
    "注意：整数顺序将表示为一个字符串。\n",
    "\n",
    " \n",
    "\n",
    "示例 1:\n",
    "\n",
    "输入: 1\n",
    "输出: \"1\"\n",
    "示例 2:\n",
    "\n",
    "输入: 4\n",
    "输出: \"1211\"\n",
    "\n",
    "来源：力扣（LeetCode）\n",
    "链接：https://leetcode-cn.com/problems/count-and-say\n",
    "著作权归领扣网络所有。商业转载请联系官方授权，非商业转载请注明出处。\n",
    "```"
   ]
  },
  {
   "cell_type": "code",
   "execution_count": 1,
   "metadata": {},
   "outputs": [],
   "source": [
    "class Solution:\n",
    "    def countAndSay(self, n: int) -> str:\n",
    "        pass"
   ]
  },
  {
   "cell_type": "code",
   "execution_count": 14,
   "metadata": {},
   "outputs": [],
   "source": [
    "def countAndSay(n):\n",
    "    if n <= 0:\n",
    "        return \"\"\n",
    "    if n == 1:\n",
    "        return \"11\"\n",
    "    cur_n = 1\n",
    "    cur_str = \"11\"\n",
    "    ret_str = \"\"\n",
    "    while cur_n <= n:\n",
    "        count = 0\n",
    "        number = \"\"\n",
    "        for i in cur_str:\n",
    "            print(i)\n",
    "            if len(number) == 0:\n",
    "                number = i\n",
    "                count += 1\n",
    "                # 如果这里就结束的话\n",
    "            elif i == number:\n",
    "                count += 1\n",
    "            else:\n",
    "                ret_str += \"{}{}\".format(count, number)\n",
    "                print(ret_str)\n",
    "                count = 0\n",
    "                number = \"\"\n",
    "        if count > 0:\n",
    "            ret_str += \"{}{}\".format(count, number)\n",
    "        cur_str = ret_str\n",
    "        cur_n += 1\n",
    "    return cur_str"
   ]
  },
  {
   "cell_type": "code",
   "execution_count": 15,
   "metadata": {},
   "outputs": [
    {
     "name": "stdout",
     "output_type": "stream",
     "text": [
      "1\n",
      "1\n",
      "2\n",
      "1\n",
      "2112\n",
      "2\n",
      "1\n",
      "211212\n",
      "1\n",
      "2\n",
      "21121211\n",
      "2\n",
      "1\n",
      "2112121112\n",
      "1\n",
      "2\n",
      "211212111211\n",
      "1\n",
      "2\n",
      "21121211121111\n",
      "1\n",
      "1\n"
     ]
    },
    {
     "data": {
      "text/plain": [
       "'2112121112111121'"
      ]
     },
     "execution_count": 15,
     "metadata": {},
     "output_type": "execute_result"
    }
   ],
   "source": [
    "countAndSay(4)"
   ]
  },
  {
   "cell_type": "code",
   "execution_count": null,
   "metadata": {},
   "outputs": [],
   "source": []
  }
 ],
 "metadata": {
  "kernelspec": {
   "display_name": "Python 3",
   "language": "python",
   "name": "python3"
  },
  "language_info": {
   "codemirror_mode": {
    "name": "ipython",
    "version": 3
   },
   "file_extension": ".py",
   "mimetype": "text/x-python",
   "name": "python",
   "nbconvert_exporter": "python",
   "pygments_lexer": "ipython3",
   "version": "3.6.8"
  }
 },
 "nbformat": 4,
 "nbformat_minor": 2
}
