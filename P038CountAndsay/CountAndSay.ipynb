{
 "cells": [
  {
   "cell_type": "markdown",
   "metadata": {},
   "source": [
    "## 报数\n",
    "```\n",
    "报数序列是一个整数序列，按照其中的整数的顺序进行报数，得到下一个数。其前五项如下：\n",
    "\n",
    "1.     1\n",
    "2.     11\n",
    "3.     21\n",
    "4.     1211\n",
    "5.     111221\n",
    "1 被读作  \"one 1\"  (\"一个一\") , 即 11。\n",
    "11 被读作 \"two 1s\" (\"两个一\"）, 即 21。\n",
    "21 被读作 \"one 2\",  \"one 1\" （\"一个二\" ,  \"一个一\") , 即 1211。\n",
    "\n",
    "给定一个正整数 n（1 ≤ n ≤ 30），输出报数序列的第 n 项。\n",
    "\n",
    "注意：整数顺序将表示为一个字符串。\n",
    "\n",
    " \n",
    "\n",
    "示例 1:\n",
    "\n",
    "输入: 1\n",
    "输出: \"1\"\n",
    "示例 2:\n",
    "\n",
    "输入: 4\n",
    "输出: \"1211\"\n",
    "\n",
    "来源：力扣（LeetCode）\n",
    "链接：https://leetcode-cn.com/problems/count-and-say\n",
    "著作权归领扣网络所有。商业转载请联系官方授权，非商业转载请注明出处。\n",
    "```"
   ]
  },
  {
   "cell_type": "code",
   "execution_count": 1,
   "metadata": {},
   "outputs": [],
   "source": [
    "class Solution:\n",
    "    def countAndSay(self, n: int) -> str:\n",
    "        pass"
   ]
  },
  {
   "cell_type": "code",
   "execution_count": 2,
   "metadata": {},
   "outputs": [],
   "source": [
    "def countAndSay(n):\n",
    "    if n <= 0:\n",
    "        return \"\"\n",
    "    if n == 1:\n",
    "        return \"1\"\n",
    "    step = 1\n",
    "    pre_out = \"1\"\n",
    "    for i in range(2, n+1):\n",
    "        cur_out = \"\"\n",
    "        st = \"\"\n",
    "        st_num = 0\n",
    "        for s in pre_out:\n",
    "            if st == \"\":\n",
    "                st_num += 1\n",
    "                st = s\n",
    "            elif s == st:\n",
    "                st_num += 1\n",
    "            else:\n",
    "                cur_out += (str(st_num)+st)\n",
    "                st_num = 1\n",
    "                st = s\n",
    "        else:\n",
    "            cur_out += (str(st_num)+st)\n",
    "            st_num = 0\n",
    "        pre_out = cur_out\n",
    "        print(\"return\", cur_out)\n",
    "    return pre_out\n",
    "            "
   ]
  },
  {
   "cell_type": "code",
   "execution_count": 3,
   "metadata": {},
   "outputs": [
    {
     "name": "stdout",
     "output_type": "stream",
     "text": [
      "return 11\n",
      "return 21\n",
      "return 1211\n"
     ]
    },
    {
     "data": {
      "text/plain": [
       "'1211'"
      ]
     },
     "execution_count": 3,
     "metadata": {},
     "output_type": "execute_result"
    }
   ],
   "source": [
    "countAndSay(4)"
   ]
  },
  {
   "cell_type": "markdown",
   "metadata": {},
   "source": [
    "## 提交结果\n",
    "- 执行用时 :64 ms, 在所有 python3 提交中击败了30.35%的用户\n",
    "- 内存消耗 :13.8 MB, 在所有 python3 提交中击败了5.00%的用户"
   ]
  },
  {
   "cell_type": "code",
   "execution_count": 4,
   "metadata": {},
   "outputs": [],
   "source": [
    "# 优化 44ms\n",
    "def countAndSay(n):\n",
    "    if n == 1:\n",
    "        return \"1\"\n",
    "    pre_out = \"1\"\n",
    "    for i in range(2, n+1):\n",
    "        cur_out = \"\"   \n",
    "        st = \"\"\n",
    "        st_num = 0\n",
    "        for s in pre_out:   \n",
    "            if st == \"\":\n",
    "                st_num += 1\n",
    "                st = s\n",
    "            elif s == st:\n",
    "                st_num += 1\n",
    "            else:\n",
    "                cur_out += str(st_num)+st\n",
    "                st_num = 1\n",
    "                st = s\n",
    "        cur_out += str(st_num)+st\n",
    "        st_num = 0\n",
    "        pre_out = cur_out\n",
    "    return pre_out"
   ]
  },
  {
   "cell_type": "code",
   "execution_count": 6,
   "metadata": {},
   "outputs": [
    {
     "data": {
      "text/plain": [
       "True"
      ]
     },
     "execution_count": 6,
     "metadata": {},
     "output_type": "execute_result"
    }
   ],
   "source": [
    "countAndSay(4) == \"1211\""
   ]
  },
  {
   "cell_type": "code",
   "execution_count": null,
   "metadata": {},
   "outputs": [],
   "source": []
  }
 ],
 "metadata": {
  "kernelspec": {
   "display_name": "Python 3",
   "language": "python",
   "name": "python3"
  },
  "language_info": {
   "codemirror_mode": {
    "name": "ipython",
    "version": 3
   },
   "file_extension": ".py",
   "mimetype": "text/x-python",
   "name": "python",
   "nbconvert_exporter": "python",
   "pygments_lexer": "ipython3",
   "version": "3.6.8"
  }
 },
 "nbformat": 4,
 "nbformat_minor": 2
}
