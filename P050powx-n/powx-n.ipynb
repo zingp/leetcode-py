{
 "cells": [
  {
   "cell_type": "markdown",
   "metadata": {},
   "source": [
    "## 50. Pow(x, n)\n",
    "- 实现 pow(x, n) ，即计算 x 的 n 次幂函数。\n",
    "- 示例 1:\n",
    "    - 输入: 2.00000, 10\n",
    "    - 输出: 1024.00000\n",
    "    \n",
    "- 示例 2:\n",
    "    - 输入: 2.10000, 3\n",
    "    - 输出: 9.26100\n",
    "    \n",
    "- 示例 3:\n",
    "    - 输入: 2.00000, -2\n",
    "    - 输出: 0.25000\n",
    "    - 解释: 2-2 = 1/22 = 1/4 = 0.25\n",
    "\n",
    "- 说明:\n",
    "    - -100.0 < x < 100.0\n",
    "    - n 是 32 位有符号整数，其数值范围是 [−231, 231 − 1] 。"
   ]
  },
  {
   "cell_type": "code",
   "execution_count": 1,
   "metadata": {},
   "outputs": [],
   "source": [
    "class Solution:\n",
    "    def myPow(self, x: float, n: int) -> float:\n",
    "        def helper(n):\n",
    "            if n == 0:\n",
    "                return 1.0\n",
    "            ans = 1.0\n",
    "            x_ = x\n",
    "            while n > 0:\n",
    "                if n % 2 == 1:\n",
    "                    ans *= x_\n",
    "                x_ *= x_\n",
    "                n //= 2\n",
    "            return ans\n",
    "        return helper(n) if n >=0 else 1.0 / helper(-1*n)"
   ]
  },
  {
   "cell_type": "code",
   "execution_count": 2,
   "metadata": {},
   "outputs": [],
   "source": [
    "x = 2.0\n",
    "n = 10"
   ]
  },
  {
   "cell_type": "code",
   "execution_count": 3,
   "metadata": {},
   "outputs": [
    {
     "data": {
      "text/plain": [
       "1024.0"
      ]
     },
     "execution_count": 3,
     "metadata": {},
     "output_type": "execute_result"
    }
   ],
   "source": [
    "Solution().myPow(x, n)"
   ]
  },
  {
   "cell_type": "code",
   "execution_count": null,
   "metadata": {},
   "outputs": [],
   "source": []
  }
 ],
 "metadata": {
  "kernelspec": {
   "display_name": "Python 3",
   "language": "python",
   "name": "python3"
  },
  "language_info": {
   "codemirror_mode": {
    "name": "ipython",
    "version": 3
   },
   "file_extension": ".py",
   "mimetype": "text/x-python",
   "name": "python",
   "nbconvert_exporter": "python",
   "pygments_lexer": "ipython3",
   "version": "3.6.10"
  }
 },
 "nbformat": 4,
 "nbformat_minor": 4
}
