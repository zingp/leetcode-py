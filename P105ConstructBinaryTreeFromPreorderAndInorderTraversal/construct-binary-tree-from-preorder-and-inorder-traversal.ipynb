{
 "cells": [
  {
   "cell_type": "markdown",
   "metadata": {},
   "source": [
    "## 105. 从前序与中序遍历序列构造二叉树\n",
    "- 根据一棵树的前序遍历与中序遍历构造二叉树。\n",
    "- 注意:\n",
    "    - 你可以假设树中没有重复的元素。\n",
    "    - 例如，给出\n",
    "\n",
    "- 前序遍历 preorder = [3,9,20,15,7]\n",
    "- 中序遍历 inorder = [9,3,15,20,7]\n",
    "- 返回如下的二叉树：\n",
    "```\n",
    "    3\n",
    "   / \\\n",
    "  9  20\n",
    "    /  \\\n",
    "   15   7\n",
    "```\n",
    "\n",
    "## 解题思路：\n",
    "- 对于任意一颗树而言，前序遍历的形式总是\n",
    "- [ 根节点, [左子树的前序遍历结果], [右子树的前序遍历结果] ]\n",
    "- 即根节点总是前序遍历中的第一个节点。而中序遍历的形式总是\n",
    "- [ [左子树的中序遍历结果], 根节点, [右子树的中序遍历结果] ]\n",
    "\n",
    "## 解法一：递归"
   ]
  },
  {
   "cell_type": "code",
   "execution_count": 1,
   "metadata": {},
   "outputs": [],
   "source": [
    "class Solution:\n",
    "    def buildTree(self, preorder, inorder):\n",
    "        # 构造哈希映射，帮助我们在中序遍历中快速定位根节点\n",
    "        for idx, node in enumerate(inorder):\n",
    "            hashdic[node] = idx\n",
    "        def helper(pre_left, pre_right, inor_left, inor_right):\n",
    "            if pre_left > pre_right:\n",
    "                return None\n",
    "            # 前序遍历中的第一个节点就是根节点,  \n",
    "            root_idx = pre_left\n",
    "            # 实例化根节点\n",
    "            root = TreeNode(preorder[root_idx])\n",
    "            # 在中序遍历中定位根节点（找到中序遍历中的根节点的索引）\n",
    "            inor_root_idx = hashdic[preorder[root_idx]]\n",
    "            # 计算得到左子树的节点数目\n",
    "            left_tree_len = inor_root_idx - inor_left\n",
    "            \n",
    "            # 递归地构造左子树，并连接到根节点\n",
    "            # 先序遍历中「从 左边界+1 开始的 size_left_subtree」个元素就对应了中序遍历中「从 左边界 开始到 根节点定位-1」的元素\n",
    "            root.left = helper(pre_left + 1 , pre_left + left_tree_len, inor_left, inor_root_idx - 1)\n",
    "            # 递归地构造右子树，并连接到根节点\n",
    "            # 先序遍历中「从 左边界+1+左子树节点数目 开始到 右边界」的元素就对应了中序遍历中「从 根节点定位+1 到 右边界」的元素\n",
    "            root.right = helper(pre_left + left_tree_len + 1, pre_right, inor_root_idx + 1, inor_right)\n",
    "            return root\n",
    "        n = len(preorder)\n",
    "        return helper(0, n-1, 0, n-1)"
   ]
  },
  {
   "cell_type": "code",
   "execution_count": 2,
   "metadata": {},
   "outputs": [],
   "source": [
    "class Solution:\n",
    "    def buildTree(self, preorder, inorder):\n",
    "        if not preorder:\n",
    "            return None\n",
    "        root = TreeNode(preorder[0])\n",
    "        stack = [root]\n",
    "        inorder_idx = 0\n",
    "        for i in range(1, len(preorder)):\n",
    "            preorder_val = preorder[i]\n",
    "            node = stack[-1]\n",
    "            if node.val != inorder[inorder_idx]:\n",
    "                node.left = TreeNode(preorder_val)\n",
    "                stack.append(node.left)\n",
    "            else:\n",
    "                while stack and stack[-1].val == inorder[inorder_idx]:\n",
    "                    node = stack.pop()\n",
    "                    inorder_idx += 1\n",
    "                node.right = TreeNode(preorder_val)\n",
    "                stack.append(node.right)\n",
    "        return root"
   ]
  },
  {
   "cell_type": "code",
   "execution_count": null,
   "metadata": {},
   "outputs": [],
   "source": []
  }
 ],
 "metadata": {
  "kernelspec": {
   "display_name": "Python 3",
   "language": "python",
   "name": "python3"
  },
  "language_info": {
   "codemirror_mode": {
    "name": "ipython",
    "version": 3
   },
   "file_extension": ".py",
   "mimetype": "text/x-python",
   "name": "python",
   "nbconvert_exporter": "python",
   "pygments_lexer": "ipython3",
   "version": "3.6.9"
  }
 },
 "nbformat": 4,
 "nbformat_minor": 2
}
