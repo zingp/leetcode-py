{
 "cells": [
  {
   "cell_type": "markdown",
   "metadata": {},
   "source": [
    "## 105. 从前序与中序遍历序列构造二叉树\n",
    "- 根据一棵树的前序遍历与中序遍历构造二叉树。\n",
    "- 注意:\n",
    "    - 你可以假设树中没有重复的元素。\n",
    "    - 例如，给出\n",
    "\n",
    "- 前序遍历 preorder = [3,9,20,15,7]\n",
    "- 中序遍历 inorder = [9,3,15,20,7]\n",
    "- 返回如下的二叉树：\n",
    "```\n",
    "    3\n",
    "   / \\\n",
    "  9  20\n",
    "    /  \\\n",
    "   15   7\n",
    "```"
   ]
  },
  {
   "cell_type": "code",
   "execution_count": 2,
   "metadata": {},
   "outputs": [],
   "source": [
    "# Definition for a binary tree node.\n",
    "# class TreeNode:\n",
    "#     def __init__(self, x):\n",
    "#         self.val = x\n",
    "#         self.left = None\n",
    "#         self.right = None\n",
    "\n",
    "class Solution:\n",
    "    def buildTree(self, preorder, inorder):\n",
    "        def myBuildTree(preorder_left: int, preorder_right: int, inorder_left: int, inorder_right: int):\n",
    "            if preorder_left > preorder_right:\n",
    "                return None\n",
    "\n",
    "            # 前序遍历中的第一个节点就是根节点\n",
    "            preorder_root = preorder_left\n",
    "            # 在中序遍历中定位根节点\n",
    "            inorder_root = index[preorder[preorder_root]]\n",
    "\n",
    "            # 先把根节点建立出来\n",
    "            root = TreeNode(preorder[preorder_root])\n",
    "            # 得到左子树中的节点数目\n",
    "            size_left_subtree = inorder_root - inorder_left\n",
    "            # 递归地构造左子树，并连接到根节点\n",
    "            # 先序遍历中「从 左边界+1 开始的 size_left_subtree」个元素就对应了中序遍历中「从 左边界 开始到 根节点定位-1」的元素\n",
    "            root.left = myBuildTree(preorder_left + 1, preorder_left + size_left_subtree, inorder_left, inorder_root - 1)\n",
    "            # 递归地构造右子树，并连接到根节点\n",
    "            # 先序遍历中「从 左边界+1+左子树节点数目 开始到 右边界」的元素就对应了中序遍历中「从 根节点定位+1 到 右边界」的元素\n",
    "            root.right = myBuildTree(preorder_left + size_left_subtree + 1, preorder_right, inorder_root + 1, inorder_right)\n",
    "            return root\n",
    "\n",
    "            n = len(preorder)\n",
    "            # 构造哈希映射，帮助我们快速定位根节点\n",
    "            index = {element: i for i, element in enumerate(inorder)}\n",
    "            return myBuildTree(0, n - 1, 0, n - 1)\n",
    "            "
   ]
  },
  {
   "cell_type": "code",
   "execution_count": null,
   "metadata": {},
   "outputs": [],
   "source": []
  }
 ],
 "metadata": {
  "kernelspec": {
   "display_name": "Python 3",
   "language": "python",
   "name": "python3"
  },
  "language_info": {
   "codemirror_mode": {
    "name": "ipython",
    "version": 3
   },
   "file_extension": ".py",
   "mimetype": "text/x-python",
   "name": "python",
   "nbconvert_exporter": "python",
   "pygments_lexer": "ipython3",
   "version": "3.6.9"
  }
 },
 "nbformat": 4,
 "nbformat_minor": 2
}
