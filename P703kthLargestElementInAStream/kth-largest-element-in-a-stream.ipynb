{
 "cells": [
  {
   "cell_type": "markdown",
   "metadata": {},
   "source": [
    "## 703. 数据流中的第K大元素\n",
    "- 设计一个找到数据流中第K大元素的类（class）。注意是排序后的第K大元素，不是第K个不同的元素。\n",
    "\n",
    "- 你的 KthLargest 类需要一个同时接收整数 k 和整数数组nums 的构造器，它包含数据流中的初始元素。每次调用 KthLargest.add，返回当前数据流中第K大的元素。\n",
    "\n",
    "- 示例:\n",
    "    - int k = 3;\n",
    "    - int[] arr = [4,5,8,2];\n",
    "    - KthLargest kthLargest = new KthLargest(3, arr);\n",
    "    - kthLargest.add(3);   // returns 4\n",
    "    - kthLargest.add(5);   // returns 5\n",
    "    - kthLargest.add(10);  // returns 5\n",
    "    - kthLargest.add(9);   // returns 8\n",
    "    - kthLargest.add(4);   // returns 8"
   ]
  },
  {
   "cell_type": "markdown",
   "metadata": {},
   "source": [
    "## 思路\n",
    "- 排序\n",
    "- 优先队列\n",
    "- 自己实现优先队列"
   ]
  },
  {
   "cell_type": "code",
   "execution_count": 1,
   "metadata": {},
   "outputs": [],
   "source": [
    "import heapq"
   ]
  },
  {
   "cell_type": "code",
   "execution_count": 2,
   "metadata": {},
   "outputs": [],
   "source": [
    "class KthLargest:\n",
    "\n",
    "    def __init__(self, k, nums):\n",
    "        self.pool = heapq.nlargest(k, nums)\n",
    "        heapq.heapify(self.pool)\n",
    "        self.k = k\n",
    "\n",
    "    def add(self, val):\n",
    "        if len(self.pool) < self.k:\n",
    "            heapq.heappush(self.pool, val)\n",
    "        else:\n",
    "            heapq.heappushpop(self.pool, val)\n",
    "        return self.pool[0]"
   ]
  },
  {
   "cell_type": "code",
   "execution_count": 3,
   "metadata": {},
   "outputs": [],
   "source": [
    "obj = KthLargest(3, [4,5,8,2])"
   ]
  },
  {
   "cell_type": "code",
   "execution_count": 4,
   "metadata": {},
   "outputs": [
    {
     "data": {
      "text/plain": [
       "4"
      ]
     },
     "execution_count": 4,
     "metadata": {},
     "output_type": "execute_result"
    }
   ],
   "source": [
    "obj.add(3)"
   ]
  },
  {
   "cell_type": "code",
   "execution_count": 5,
   "metadata": {},
   "outputs": [
    {
     "data": {
      "text/plain": [
       "5"
      ]
     },
     "execution_count": 5,
     "metadata": {},
     "output_type": "execute_result"
    }
   ],
   "source": [
    "obj.add(5)"
   ]
  },
  {
   "cell_type": "code",
   "execution_count": 6,
   "metadata": {},
   "outputs": [
    {
     "data": {
      "text/plain": [
       "5"
      ]
     },
     "execution_count": 6,
     "metadata": {},
     "output_type": "execute_result"
    }
   ],
   "source": [
    "obj.add(10)"
   ]
  },
  {
   "cell_type": "code",
   "execution_count": 7,
   "metadata": {},
   "outputs": [
    {
     "data": {
      "text/plain": [
       "8"
      ]
     },
     "execution_count": 7,
     "metadata": {},
     "output_type": "execute_result"
    }
   ],
   "source": [
    "obj.add(9)"
   ]
  },
  {
   "cell_type": "code",
   "execution_count": null,
   "metadata": {},
   "outputs": [],
   "source": []
  },
  {
   "cell_type": "markdown",
   "metadata": {},
   "source": [
    "## 测试优先队列"
   ]
  },
  {
   "cell_type": "code",
   "execution_count": 8,
   "metadata": {},
   "outputs": [],
   "source": [
    "from queue import PriorityQueue"
   ]
  },
  {
   "cell_type": "code",
   "execution_count": 9,
   "metadata": {},
   "outputs": [],
   "source": [
    "q = PriorityQueue()"
   ]
  },
  {
   "cell_type": "code",
   "execution_count": 10,
   "metadata": {},
   "outputs": [],
   "source": [
    "q.put(1)"
   ]
  },
  {
   "cell_type": "code",
   "execution_count": 11,
   "metadata": {},
   "outputs": [],
   "source": [
    "q.put(0)\n",
    "q.put(8)\n",
    "q.put(6)\n",
    "q.put(3)"
   ]
  },
  {
   "cell_type": "code",
   "execution_count": 12,
   "metadata": {},
   "outputs": [
    {
     "name": "stdout",
     "output_type": "stream",
     "text": [
      "0\n",
      "1\n",
      "3\n",
      "6\n",
      "8\n"
     ]
    }
   ],
   "source": [
    "for i in range(5):\n",
    "    print(q.get())"
   ]
  },
  {
   "cell_type": "code",
   "execution_count": 13,
   "metadata": {},
   "outputs": [],
   "source": [
    "class KthLargest:\n",
    "    \"\"\"\n",
    "    返回数据流中的第K大元素\n",
    "    通过小顶堆解决\n",
    "    \"\"\"\n",
    "    def __init__(self, k, nums):\n",
    "        # 定义k个元素的堆\n",
    "        self.k = k\n",
    "        self.minheap = []\n",
    "        \n",
    "        # 建堆, 分为两种情况：\n",
    "        #    一是nums长度小于 堆的大小， 从堆低添加元素，进行上浮调整。\n",
    "        #    二是nums长度大于堆的大小，小于堆大小的部分，上浮调整；大于部分从堆顶添加(淘汰小于堆顶的元素，或者堆顶元素)\n",
    "        for i in range(min(k, len(nums))):\n",
    "            self.minheap.append(nums[i])\n",
    "            self.sift_up(i)\n",
    "            \n",
    "        for i in nums[k:]:\n",
    "            if self.minheap[0] < i:\n",
    "                self.minheap[0] = i\n",
    "                # 下沉，维护小顶堆\n",
    "                self.sift_down(0, k-1)\n",
    "    \n",
    "    \n",
    "    def sift_up(self, idx):\n",
    "        val = self.minheap[idx]\n",
    "        while idx > 0 and self.minheap[(idx - 1) // 2] > val:\n",
    "            self.minheap[idx] = self.minheap[(idx - 1) // 2]\n",
    "            idx = (idx - 1) // 2\n",
    "        self.minheap[idx] = val\n",
    "        \n",
    "    def sift_down(self, start, end):\n",
    "        tmp = self.minheap[start]\n",
    "        while (2 * start + 1) <= end:\n",
    "            child = 2 * start + 1\n",
    "            if child + 1 <= end and self.minheap[child] > self.minheap[child + 1]:\n",
    "                child += 1\n",
    "            if tmp > self.minheap[child]:\n",
    "                self.minheap[start] = self.minheap[child]\n",
    "                start = child\n",
    "            else:\n",
    "                break\n",
    "        self.minheap[start] = tmp\n",
    "        \n",
    "    def add(self, val):\n",
    "        if len(self.minheap) < self.k:\n",
    "            self.minheap.append(val)\n",
    "            self.sift_up(len(self.minheap) - 1)\n",
    "        else:\n",
    "            if self.minheap[0] < val:\n",
    "                self.minheap[0] = val\n",
    "                self.sift_down(0, self.k - 1)\n",
    "        return self.minheap[0]\n",
    "                "
   ]
  },
  {
   "cell_type": "code",
   "execution_count": 14,
   "metadata": {},
   "outputs": [],
   "source": [
    "obj = KthLargest(3, [4,5,8,2])"
   ]
  },
  {
   "cell_type": "code",
   "execution_count": 15,
   "metadata": {},
   "outputs": [
    {
     "data": {
      "text/plain": [
       "4"
      ]
     },
     "execution_count": 15,
     "metadata": {},
     "output_type": "execute_result"
    }
   ],
   "source": [
    "obj.add(3)"
   ]
  },
  {
   "cell_type": "code",
   "execution_count": 16,
   "metadata": {},
   "outputs": [
    {
     "data": {
      "text/plain": [
       "5"
      ]
     },
     "execution_count": 16,
     "metadata": {},
     "output_type": "execute_result"
    }
   ],
   "source": [
    "obj.add(5)"
   ]
  },
  {
   "cell_type": "code",
   "execution_count": null,
   "metadata": {},
   "outputs": [],
   "source": []
  }
 ],
 "metadata": {
  "kernelspec": {
   "display_name": "Python 3",
   "language": "python",
   "name": "python3"
  },
  "language_info": {
   "codemirror_mode": {
    "name": "ipython",
    "version": 3
   },
   "file_extension": ".py",
   "mimetype": "text/x-python",
   "name": "python",
   "nbconvert_exporter": "python",
   "pygments_lexer": "ipython3",
   "version": "3.6.9"
  }
 },
 "nbformat": 4,
 "nbformat_minor": 2
}
