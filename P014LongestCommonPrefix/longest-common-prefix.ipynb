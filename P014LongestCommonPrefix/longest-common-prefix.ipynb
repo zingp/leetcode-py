{
 "cells": [
  {
   "cell_type": "markdown",
   "metadata": {},
   "source": [
    "## 14 最长公共前缀\n",
    "```\n",
    "编写一个函数来查找字符串数组中的最长公共前缀。\n",
    "\n",
    "如果不存在公共前缀，返回空字符串 \"\"。\n",
    "\n",
    "示例 1:\n",
    "\n",
    "输入: [\"flower\",\"flow\",\"flight\"]\n",
    "输出: \"fl\"\n",
    "示例 2:\n",
    "\n",
    "输入: [\"dog\",\"racecar\",\"car\"]\n",
    "输出: \"\"\n",
    "解释: 输入不存在公共前缀。\n",
    "说明:\n",
    "\n",
    "所有输入只包含小写字母 a-z 。\n",
    "\n",
    "来源：力扣（LeetCode）\n",
    "链接：https://leetcode-cn.com/problems/longest-common-prefix\n",
    "```"
   ]
  },
  {
   "cell_type": "markdown",
   "metadata": {},
   "source": [
    "## 方法一\n",
    "---\n",
    "- 水平扫描\n",
    "```\n",
    "思路：\n",
    "1 如果数组为空，则最长公共前缀为\"\"；\n",
    "2 如果数组不为空：\n",
    "（1）找出字符串数组中长度最短的字符串min，其长度为min_len; 因为最长的公共前缀长度不会超过min_len；\n",
    "（2）遍历数组，将min位置为[i] 的字符 和 数组中其他字符串位置为[i]的字符 比较；\n",
    "        如果不相等，则最长公共前缀为 min的前i个字符；\n",
    "        如果都相等，则最长公共前缀为 min。\n",
    "```"
   ]
  },
  {
   "cell_type": "code",
   "execution_count": 1,
   "metadata": {},
   "outputs": [],
   "source": [
    "class Solution:\n",
    "    def longestCommonPrefix(self, strs):\n",
    "        \"\"\"\n",
    "        :type strs: List[str]\n",
    "        :rtype: str\n",
    "        \"\"\"\n",
    "        if not strs:\n",
    "            return \"\"\n",
    "        shortstr = min(strs, key=len)\n",
    "        for i, cha in enumerate(shortstr):\n",
    "            for other in strs:\n",
    "                if other[i] != cha:\n",
    "                    return shortstr[:i]\n",
    "        return shortstr"
   ]
  },
  {
   "cell_type": "code",
   "execution_count": null,
   "metadata": {},
   "outputs": [],
   "source": []
  }
 ],
 "metadata": {
  "kernelspec": {
   "display_name": "Python 3",
   "language": "python",
   "name": "python3"
  },
  "language_info": {
   "codemirror_mode": {
    "name": "ipython",
    "version": 3
   },
   "file_extension": ".py",
   "mimetype": "text/x-python",
   "name": "python",
   "nbconvert_exporter": "python",
   "pygments_lexer": "ipython3",
   "version": "3.6.8"
  }
 },
 "nbformat": 4,
 "nbformat_minor": 2
}
