{
 "cells": [
  {
   "cell_type": "markdown",
   "metadata": {},
   "source": [
    "## 39. 组合总和\n",
    "- 给定一个无重复元素的数组 candidates 和一个目标数 target ，找出 candidates 中所有可以使数字和为 target 的组合。\n",
    "- candidates 中的数字可以无限制重复被选取。\n",
    "\n",
    "- 说明：\n",
    "- 所有数字（包括 target）都是正整数。\n",
    "- 解集不能包含重复的组合。 \n",
    "\n",
    "```\n",
    "示例 1：\n",
    "输入：candidates = [2,3,6,7], target = 7,\n",
    "所求解集为：\n",
    "[\n",
    "  [7],\n",
    "  [2,2,3]\n",
    "]\n",
    "示例 2：\n",
    "\n",
    "输入：candidates = [2,3,5], target = 8,\n",
    "所求解集为：\n",
    "[\n",
    "  [2,2,2,2],\n",
    "  [2,3,3],\n",
    "  [3,5]\n",
    "]\n",
    " \n",
    "\n",
    "提示：\n",
    "\n",
    "1 <= candidates.length <= 30\n",
    "1 <= candidates[i] <= 200\n",
    "candidate 中的每个元素都是独一无二的。\n",
    "1 <= target <= 500\n",
    "```"
   ]
  },
  {
   "cell_type": "code",
   "execution_count": 1,
   "metadata": {},
   "outputs": [],
   "source": [
    "from typing import List"
   ]
  },
  {
   "cell_type": "code",
   "execution_count": 2,
   "metadata": {},
   "outputs": [],
   "source": [
    "class Solution:\n",
    "    def combinationSum(self, candidates: List[int], target: int) -> List[List[int]]:\n",
    "        res = []\n",
    "        #candidates.sort()\n",
    "        def traceback(level, start, target):\n",
    "            if target == 0:\n",
    "                res.append(level[:])\n",
    "                return\n",
    "            if target > 0:\n",
    "                for i in range(start, len(candidates)):\n",
    "                    level.append(candidates[i])\n",
    "                    traceback(level, i, target - candidates[i])\n",
    "                    level.pop()\n",
    "        traceback([], 0, target)\n",
    "        return  res"
   ]
  },
  {
   "cell_type": "code",
   "execution_count": 3,
   "metadata": {},
   "outputs": [],
   "source": [
    "candidates = [1, 2]\n",
    "target = 4"
   ]
  },
  {
   "cell_type": "code",
   "execution_count": 4,
   "metadata": {},
   "outputs": [
    {
     "data": {
      "text/plain": [
       "[[1, 1, 1, 1], [1, 1, 2], [2, 2]]"
      ]
     },
     "execution_count": 4,
     "metadata": {},
     "output_type": "execute_result"
    }
   ],
   "source": [
    "Solution().combinationSum(candidates, target)"
   ]
  },
  {
   "cell_type": "code",
   "execution_count": null,
   "metadata": {},
   "outputs": [],
   "source": []
  }
 ],
 "metadata": {
  "kernelspec": {
   "display_name": "Python 3",
   "language": "python",
   "name": "python3"
  },
  "language_info": {
   "codemirror_mode": {
    "name": "ipython",
    "version": 3
   },
   "file_extension": ".py",
   "mimetype": "text/x-python",
   "name": "python",
   "nbconvert_exporter": "python",
   "pygments_lexer": "ipython3",
   "version": "3.6.9"
  }
 },
 "nbformat": 4,
 "nbformat_minor": 2
}
