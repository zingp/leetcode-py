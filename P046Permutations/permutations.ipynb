{
 "cells": [
  {
   "cell_type": "markdown",
   "metadata": {},
   "source": [
    "## 46. 全排列\n",
    "- 给定一个 没有重复 数字的序列，返回其所有可能的全排列。\n",
    "- 示例:\n",
    "- 输入: [1,2,3]\n",
    "- 输出:\n",
    "```python \n",
    "[\n",
    "  [1,2,3],\n",
    "  [1,3,2],\n",
    "  [2,1,3],\n",
    "  [2,3,1],\n",
    "  [3,1,2],\n",
    "  [3,2,1]\n",
    "]\n",
    "```\n",
    "\n",
    "\n",
    "## 解法\n",
    "- 回溯https://labuladong.gitbook.io/algo/suan-fa-si-wei-xi-lie/hui-su-suan-fa-xiang-jie-xiu-ding-ban\n",
    "- 框架\n",
    "```python\n",
    "result = []\n",
    "def backtrack(路径, 选择列表):\n",
    "    if 满足结束条件:\n",
    "        result.add(路径)\n",
    "        return\n",
    "\n",
    "    for 选择 in 选择列表:\n",
    "        做选择\n",
    "        backtrack(路径, 选择列表)\n",
    "        撤销选择\n",
    "```"
   ]
  },
  {
   "cell_type": "code",
   "execution_count": 1,
   "metadata": {},
   "outputs": [],
   "source": [
    "class Solution:\n",
    "    def permute(self, nums):\n",
    "        result = []\n",
    "        path = set()\n",
    "        def dfs(li, nums):\n",
    "            if len(li) == len(nums):\n",
    "                result.append(li)\n",
    "                return \n",
    "            for i in nums:\n",
    "                if i not in path:\n",
    "                    path.add(i)\n",
    "                    dfs(li+[i], nums)\n",
    "                    path.remove(i)\n",
    "        dfs([], nums)\n",
    "        return result"
   ]
  },
  {
   "cell_type": "code",
   "execution_count": 2,
   "metadata": {},
   "outputs": [
    {
     "data": {
      "text/plain": [
       "[[1, 2, 3], [1, 3, 2], [2, 1, 3], [2, 3, 1], [3, 1, 2], [3, 2, 1]]"
      ]
     },
     "execution_count": 2,
     "metadata": {},
     "output_type": "execute_result"
    }
   ],
   "source": [
    "Solution().permute([1,2,3])"
   ]
  },
  {
   "cell_type": "code",
   "execution_count": 3,
   "metadata": {},
   "outputs": [],
   "source": [
    "class Solution:\n",
    "    def permute(self, nums):\n",
    "        result = []\n",
    "        def dfs(li, nums, path):\n",
    "            if len(li) == len(nums):\n",
    "                result.append(li)\n",
    "                return \n",
    "            for i in nums:\n",
    "                if i not in path:\n",
    "                    path.add(i)\n",
    "                    dfs(li+[i], nums, path)\n",
    "                    path.remove(i)\n",
    "        dfs([], nums, set())\n",
    "        return result"
   ]
  },
  {
   "cell_type": "code",
   "execution_count": 4,
   "metadata": {},
   "outputs": [
    {
     "data": {
      "text/plain": [
       "[[1, 2, 3], [1, 3, 2], [2, 1, 3], [2, 3, 1], [3, 1, 2], [3, 2, 1]]"
      ]
     },
     "execution_count": 4,
     "metadata": {},
     "output_type": "execute_result"
    }
   ],
   "source": [
    "Solution().permute([1,2,3])"
   ]
  },
  {
   "cell_type": "code",
   "execution_count": 5,
   "metadata": {},
   "outputs": [],
   "source": [
    "from typing import List\n",
    "\n",
    "class Solution:\n",
    "    def permute(self, nums: List[int]) -> List[List[int]]:\n",
    "        def dfs(nums, size, depth, path, state, res):\n",
    "            if depth == size:\n",
    "                res.append(path)\n",
    "                return\n",
    "\n",
    "            for i in range(size):\n",
    "                if ((state >> i) & 1) == 0:\n",
    "                    dfs(nums, size, depth + 1, path + [nums[i]], state ^ (1 << i), res)\n",
    "\n",
    "        size = len(nums)\n",
    "        if size == 0:\n",
    "            return []\n",
    "\n",
    "        state = 0\n",
    "        res = []\n",
    "        dfs(nums, size, 0, [], state, res)\n",
    "        return res\n"
   ]
  },
  {
   "cell_type": "code",
   "execution_count": 6,
   "metadata": {},
   "outputs": [
    {
     "data": {
      "text/plain": [
       "[[1, 2, 3], [1, 3, 2], [2, 1, 3], [2, 3, 1], [3, 1, 2], [3, 2, 1]]"
      ]
     },
     "execution_count": 6,
     "metadata": {},
     "output_type": "execute_result"
    }
   ],
   "source": [
    "Solution().permute([1,2,3])"
   ]
  },
  {
   "cell_type": "code",
   "execution_count": null,
   "metadata": {},
   "outputs": [],
   "source": []
  }
 ],
 "metadata": {
  "kernelspec": {
   "display_name": "Python 3",
   "language": "python",
   "name": "python3"
  },
  "language_info": {
   "codemirror_mode": {
    "name": "ipython",
    "version": 3
   },
   "file_extension": ".py",
   "mimetype": "text/x-python",
   "name": "python",
   "nbconvert_exporter": "python",
   "pygments_lexer": "ipython3",
   "version": "3.6.10"
  }
 },
 "nbformat": 4,
 "nbformat_minor": 2
}
