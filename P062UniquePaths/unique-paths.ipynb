{
 "cells": [
  {
   "attachments": {},
   "cell_type": "markdown",
   "metadata": {},
   "source": [
    "## 62 不同路径\n",
    "\n",
    "- 一个机器人位于一个 m x n 网格的左上角 （起始点在下图中标记为“Start” ）。\n",
    "- 机器人每次只能向下或者向右移动一步。机器人试图达到网格的右下角（在下图中标记为“Finish”）。\n",
    "- 问总共有多少条不同的路径？\n",
    "\n",
    "- 例如，上图是一个7 x 3 的网格。有多少可能的路径？\n",
    "- ![images](../images/p062.jpg)\n",
    "- 说明：m 和 n 的值均不超过 100。\n",
    "----\n",
    "```\n",
    "示例 1:\n",
    "\n",
    "输入: m = 3, n = 2\n",
    "输出: 3\n",
    "解释:\n",
    "从左上角开始，总共有 3 条路径可以到达右下角。\n",
    "1. 向右 -> 向右 -> 向下\n",
    "2. 向右 -> 向下 -> 向右\n",
    "3. 向下 -> 向右 -> 向右\n",
    "示例 2:\n",
    "\n",
    "输入: m = 7, n = 3\n",
    "输出: 28\n",
    "\n",
    "来源：力扣（LeetCode）\n",
    "链接：https://leetcode-cn.com/problems/unique-paths\n",
    "```"
   ]
  },
  {
   "cell_type": "code",
   "execution_count": 1,
   "metadata": {},
   "outputs": [],
   "source": [
    "# 递归总是要超出时间限制\n",
    "class Solution:\n",
    "    def uniquePaths(self, m: int, n: int) -> int:\n",
    "        if m < 1 or n < 1:\n",
    "            return 0\n",
    "        if m == 1 and n == 1:\n",
    "            return 1\n",
    "        if m == 1 and n > 1:\n",
    "            return self.uniquePaths(m, n-1)\n",
    "        if m > 1 and  n == 1:\n",
    "            return self.uniquePaths(m-1, n)\n",
    "        if m > 1 and n > 1:\n",
    "            return self.uniquePaths(m-1, n) + self.uniquePaths(m, n-1)"
   ]
  },
  {
   "cell_type": "code",
   "execution_count": 7,
   "metadata": {},
   "outputs": [],
   "source": [
    "## 动态规划递推公式"
   ]
  },
  {
   "cell_type": "code",
   "execution_count": 2,
   "metadata": {},
   "outputs": [],
   "source": [
    "class Solution:\n",
    "    def uniquePaths(self, m: int, n: int) -> int:\n",
    "        lis = [[0 for j in range(n)] for i in range(m)] \n",
    "        for x in range(m):\n",
    "            for y in range(n):\n",
    "                if x == 0 and y == 0:\n",
    "                    lis[x][y] = 1\n",
    "                if x == 0 and y > 0:\n",
    "                    lis[x][y] = lis[x][y-1]\n",
    "                if x > 0 and y == 0:\n",
    "                    lis[x][y] = lis[x-1][y]\n",
    "                if x > 0 and y > 0:\n",
    "                    lis[x][y] = lis[x][y-1] + lis[x-1][y]\n",
    "        return lis[x][y]\n",
    "                    "
   ]
  },
  {
   "cell_type": "code",
   "execution_count": 3,
   "metadata": {},
   "outputs": [
    {
     "data": {
      "text/plain": [
       "28"
      ]
     },
     "execution_count": 3,
     "metadata": {},
     "output_type": "execute_result"
    }
   ],
   "source": [
    "Solution().uniquePaths(7,3)"
   ]
  },
  {
   "cell_type": "code",
   "execution_count": 4,
   "metadata": {},
   "outputs": [],
   "source": [
    "def uniquePaths(m: int, n: int) -> int:\n",
    "        lis = [[0]*n]*m \n",
    "        for x in range(m):\n",
    "            for y in range(n):\n",
    "                if x == 0 or y == 0:\n",
    "                    lis[x][y] = 1\n",
    "                if x > 0 and y > 0:\n",
    "                    lis[x][y] = lis[x][y-1] + lis[x-1][y]\n",
    "        return lis[x][y]"
   ]
  },
  {
   "cell_type": "code",
   "execution_count": 5,
   "metadata": {},
   "outputs": [
    {
     "data": {
      "text/plain": [
       "28"
      ]
     },
     "execution_count": 5,
     "metadata": {},
     "output_type": "execute_result"
    }
   ],
   "source": [
    "uniquePaths(7,3)"
   ]
  },
  {
   "cell_type": "code",
   "execution_count": 6,
   "metadata": {},
   "outputs": [],
   "source": [
    "def uniquePaths(m: int, n: int) -> int:\n",
    "        lis = [[0]*n]*m \n",
    "        for x in range(m):\n",
    "            for y in range(n):\n",
    "                if x == 0 or y == 0:\n",
    "                    lis[x][y] = 1\n",
    "                else:\n",
    "                    lis[x][y] = lis[x][y-1] + lis[x-1][y]\n",
    "        return lis[m-1][n-1]"
   ]
  },
  {
   "cell_type": "code",
   "execution_count": 32,
   "metadata": {},
   "outputs": [
    {
     "data": {
      "text/plain": [
       "28"
      ]
     },
     "execution_count": 32,
     "metadata": {},
     "output_type": "execute_result"
    }
   ],
   "source": [
    "uniquePaths(7,3)"
   ]
  },
  {
   "cell_type": "code",
   "execution_count": null,
   "metadata": {},
   "outputs": [],
   "source": []
  }
 ],
 "metadata": {
  "kernelspec": {
   "display_name": "Python 3",
   "language": "python",
   "name": "python3"
  },
  "language_info": {
   "codemirror_mode": {
    "name": "ipython",
    "version": 3
   },
   "file_extension": ".py",
   "mimetype": "text/x-python",
   "name": "python",
   "nbconvert_exporter": "python",
   "pygments_lexer": "ipython3",
   "version": "3.6.8"
  }
 },
 "nbformat": 4,
 "nbformat_minor": 2
}
