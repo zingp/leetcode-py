{
 "cells": [
  {
   "cell_type": "markdown",
   "metadata": {},
   "source": [
    "## 124 二叉树中的最大路径和\n",
    "- 给定一个非空二叉树，返回其最大路径和。\n",
    "- 本题中，路径被定义为一条从树中任意节点出发，沿父节点-子节点连接，达到任意节点的序列。该路径至少包含一个节点，且不一定经过根节点。\n",
    "- 示例 1：\n",
    "- 输入：[1,2,3]\n",
    "```\n",
    "       1\n",
    "      / \\\n",
    "     2   3\n",
    "```\n",
    "- 输出：6\n",
    "\n",
    "\n",
    "- 示例 2：\n",
    "- 输入：[-10,9,20,null,null,15,7]\n",
    "```\n",
    "-10\n",
    "/ \\\n",
    "9  20\n",
    "   /  \\\n",
    "  15   7\n",
    "```\n",
    "- 输出：42\n",
    "\n",
    "- 来源：力扣（LeetCode）\n",
    "- 链接：https://leetcode-cn.com/problems/binary-tree-maximum-path-sum"
   ]
  },
  {
   "cell_type": "markdown",
   "metadata": {},
   "source": [
    "## 递归\n",
    "- 首先，考虑实现一个简化的函数 maxGain(node)，该函数计算二叉树中的一个节点的最大贡献值，具体而言，就是在以该节点为根节点的子树中寻找以该节点为起点的一条路径，使得该路径上的节点值之和最大。\n",
    "- 具体而言，该函数的计算如下。\n",
    "- 空节点的最大贡献值等于 0。\n",
    "- 非空节点的最大贡献值等于节点值与其子节点中的最大贡献值之和（对于叶节点而言，最大贡献值等于节点值）。\n"
   ]
  },
  {
   "cell_type": "code",
   "execution_count": 2,
   "metadata": {},
   "outputs": [],
   "source": [
    "class TreeNode:\n",
    "    def __init__(self, x):\n",
    "        self.val = x\n",
    "        self.left = None\n",
    "        self.right = None"
   ]
  },
  {
   "cell_type": "code",
   "execution_count": 4,
   "metadata": {},
   "outputs": [],
   "source": [
    "class Solution:\n",
    "    def maxPathSum(self, root: TreeNode) -> int:\n",
    "        # 返回的结果\n",
    "        self.maxSum = float(\"-inf\")\n",
    "        self.helper(root)\n",
    "        return self.maxSum\n",
    "\n",
    "    def helper(self, root):\n",
    "        if not root:\n",
    "            return 0\n",
    "        # 递归计算左右子节点的最大贡献值\n",
    "        # 只有在最大贡献值大于 0 时，才会选取对应子节点\n",
    "        left = max(self.helper(root.left), 0)\n",
    "        right = max(self.helper(root.right), 0)\n",
    "        # 节点的最大路径和取决于该节点的值与该节点的左右子节点的最大贡献值\n",
    "        # 更新maxSum\n",
    "        self.maxSum = max(root.val + left + right, self.maxSum)\n",
    "        # 返回节点的最大贡献值\n",
    "        tmp = max(root.val + left, root.val + right)\n",
    "        return tmp if tmp > 0 else 0"
   ]
  },
  {
   "cell_type": "code",
   "execution_count": null,
   "metadata": {},
   "outputs": [],
   "source": []
  }
 ],
 "metadata": {
  "kernelspec": {
   "display_name": "Python 3",
   "language": "python",
   "name": "python3"
  },
  "language_info": {
   "codemirror_mode": {
    "name": "ipython",
    "version": 3
   },
   "file_extension": ".py",
   "mimetype": "text/x-python",
   "name": "python",
   "nbconvert_exporter": "python",
   "pygments_lexer": "ipython3",
   "version": "3.6.10"
  }
 },
 "nbformat": 4,
 "nbformat_minor": 2
}
