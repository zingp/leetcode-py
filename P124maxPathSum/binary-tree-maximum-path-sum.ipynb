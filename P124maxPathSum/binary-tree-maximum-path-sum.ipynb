{
 "cells": [
  {
   "cell_type": "markdown",
   "metadata": {},
   "source": [
    "## 124 二叉树中的最大路径和\n",
    "```\n",
    "给定一个非空二叉树，返回其最大路径和。\n",
    "\n",
    "本题中，路径被定义为一条从树中任意节点出发，达到任意节点的序列。该路径至少包含一个节点，且不一定经过根节点。\n",
    "```"
   ]
  },
  {
   "cell_type": "code",
   "execution_count": 3,
   "metadata": {},
   "outputs": [],
   "source": [
    "class TreeNode:\n",
    "    def __init__(self, x):\n",
    "        self.val = x\n",
    "        self.left = None\n",
    "        self.right = None"
   ]
  },
  {
   "cell_type": "code",
   "execution_count": 4,
   "metadata": {},
   "outputs": [],
   "source": [
    "class Solution:\n",
    "    def maxPathSum(self, root: TreeNode) -> int:\n",
    "        self.maxSum = float(\"-inf\")\n",
    "        self.helper(root)\n",
    "        return self.maxSum\n",
    "\n",
    "    def helper(self, root):\n",
    "        if not root:\n",
    "            return 0\n",
    "        left = self.helper(root.left)\n",
    "        right = self.helper(root.right)\n",
    "        self.maxSum = max(root.val + left +right, self.maxSum)\n",
    "        tmp = max(root.val + left, root.val + right)\n",
    "        return tmp if tmp>0 else 0"
   ]
  },
  {
   "cell_type": "code",
   "execution_count": null,
   "metadata": {},
   "outputs": [],
   "source": []
  }
 ],
 "metadata": {
  "kernelspec": {
   "display_name": "Python 3",
   "language": "python",
   "name": "python3"
  },
  "language_info": {
   "codemirror_mode": {
    "name": "ipython",
    "version": 3
   },
   "file_extension": ".py",
   "mimetype": "text/x-python",
   "name": "python",
   "nbconvert_exporter": "python",
   "pygments_lexer": "ipython3",
   "version": "3.6.8"
  }
 },
 "nbformat": 4,
 "nbformat_minor": 2
}
