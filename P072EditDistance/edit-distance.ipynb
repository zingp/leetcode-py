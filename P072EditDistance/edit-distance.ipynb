{
 "cells": [
  {
   "cell_type": "markdown",
   "metadata": {},
   "source": [
    "# 72 编辑距离\n",
    "----\n",
    "- 给你两个单词 word1 和 word2，请你计算出将 word1 转换成 word2 所使用的最少操作数 。\n",
    "- 你可以对一个单词进行如下三种操作：\n",
    "    - 插入一个字符\n",
    "    - 删除一个字符\n",
    "    - 替换一个字符\n",
    "\n",
    "- 示例 1：\n",
    "- 输入：word1 = \"horse\", word2 = \"ros\"\n",
    "- 输出：3\n",
    "- 解释：\n",
    "    - horse -> rorse (将 'h' 替换为 'r')\n",
    "    - rorse -> rose (删除 'r')\n",
    "    - rose -> ros (删除 'e')\n",
    "\n",
    "- 示例 2：\n",
    "- 输入：word1 = \"intention\", word2 = \"execution\"\n",
    "- 输出：5\n",
    "- 解释：\n",
    "    - intention -> inention (删除 't')\n",
    "    - inention -> enention (将 'i' 替换为 'e')\n",
    "    - enention -> exention (将 'n' 替换为 'x')\n",
    "    - exention -> exection (将 'n' 替换为 'c')\n",
    "    - exection -> execution (插入 'u')\n",
    "\n",
    "- 来源：力扣（LeetCode）\n",
    "- 链接：https://leetcode-cn.com/problems/edit-distance\n"
   ]
  },
  {
   "cell_type": "code",
   "execution_count": 1,
   "metadata": {},
   "outputs": [],
   "source": [
    "# 千万不要这样初始化dp  dp = [[0]*(n+1)]*(m+1)  坑死了，里面的列表地址都一样。"
   ]
  },
  {
   "cell_type": "code",
   "execution_count": 5,
   "metadata": {},
   "outputs": [],
   "source": [
    "class Solution:\n",
    "    def minDistance(self, word1, word2):\n",
    "        m = len(word1)\n",
    "        n = len(word2)\n",
    "        dp = [[0 for _ in range(n+1)] for _ in range(m+1)]\n",
    "        for j in range(1, n+1):\n",
    "            dp[0][j] = j\n",
    "        # dp的第一列就是word2为空字符串时，word1第i个字符变过去的需要的次数。(删除次数)\n",
    "        for i in range(1, m+1):\n",
    "            dp[i][0] = i\n",
    "        for i in range(1, m+1):\n",
    "            for j in range(1, n+1):\n",
    "                if word1[i-1] == word2[j-1]:\n",
    "                    dp[i][j] = dp[i-1][j-1]\n",
    "                else:\n",
    "                    dp[i][j] = 1 + min(dp[i-1][j], dp[i][j-1], dp[i-1][j-1])\n",
    "        return dp[m][n]"
   ]
  },
  {
   "cell_type": "code",
   "execution_count": 6,
   "metadata": {},
   "outputs": [],
   "source": [
    "word1 = \"horse\"\n",
    "word2 = \"ros\""
   ]
  },
  {
   "cell_type": "code",
   "execution_count": 7,
   "metadata": {},
   "outputs": [
    {
     "data": {
      "text/plain": [
       "3"
      ]
     },
     "execution_count": 7,
     "metadata": {},
     "output_type": "execute_result"
    }
   ],
   "source": [
    "Solution().minDistance(word1, word2)"
   ]
  },
  {
   "cell_type": "markdown",
   "metadata": {},
   "source": [
    "## 牛客编辑距离NC35\n",
    "- 给定两个字符串str1和str2，再给定三个整数ic，dc和rc，分别代表插入、删除和替换一个字符的代价，请输出将str1编辑成str2的最小代价。"
   ]
  },
  {
   "cell_type": "code",
   "execution_count": 1,
   "metadata": {},
   "outputs": [],
   "source": [
    "# min edit cost\n",
    "# @param str1 string字符串 the string\n",
    "# @param str2 string字符串 the string\n",
    "# @param ic int整型 insert cost\n",
    "# @param dc int整型 delete cost\n",
    "# @param rc int整型 replace cost\n",
    "# @return int整型\n",
    "#\n",
    "class Solution:\n",
    "    def minEditCost(self , str1 , str2 , ic , dc , rc ):\n",
    "        # write code here\n",
    "        m = len(str1)\n",
    "        n = len(str2)\n",
    "        if m * n == 0:\n",
    "            return m + n\n",
    "        dp = [ [0]*(n+1) for _ in range(m+1)]\n",
    "        for i in range(m+1):\n",
    "            dp[i][0] = dc * i\n",
    "        for j in range(n+1):\n",
    "            dp[0][j] = ic * j\n",
    "            \n",
    "        for i in range(1, m+1):\n",
    "            for j in range(1, n+1):\n",
    "                if str1[i-1] == str2[j-1]:\n",
    "                    dp[i][j] = min(dp[i-1][j-1], dp[i-1][j] + dc, dp[i][j-1] + ic)\n",
    "                else:\n",
    "                    dp[i][j] = min(dp[i-1][j-1] + rc, dp[i-1][j] + dc, dp[i][j-1] + ic)\n",
    "        return dp[-1][-1]"
   ]
  },
  {
   "cell_type": "code",
   "execution_count": 2,
   "metadata": {},
   "outputs": [],
   "source": [
    "# 注意只能操作字符串str1"
   ]
  },
  {
   "cell_type": "code",
   "execution_count": null,
   "metadata": {},
   "outputs": [],
   "source": []
  }
 ],
 "metadata": {
  "kernelspec": {
   "display_name": "Python 3",
   "language": "python",
   "name": "python3"
  },
  "language_info": {
   "codemirror_mode": {
    "name": "ipython",
    "version": 3
   },
   "file_extension": ".py",
   "mimetype": "text/x-python",
   "name": "python",
   "nbconvert_exporter": "python",
   "pygments_lexer": "ipython3",
   "version": "3.6.9"
  }
 },
 "nbformat": 4,
 "nbformat_minor": 2
}
