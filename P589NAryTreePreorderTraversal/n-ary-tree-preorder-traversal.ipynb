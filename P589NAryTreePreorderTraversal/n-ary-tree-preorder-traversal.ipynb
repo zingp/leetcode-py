{
 "cells": [
  {
   "cell_type": "markdown",
   "metadata": {},
   "source": [
    "## 589. N叉树的前序遍历\n",
    "- 给定一个 N 叉树，返回其节点值的前序遍历。\n",
    "- 例如，给定一个 3叉树 :\n",
    "- ![image.png](../images/P589narytreeexample.png)\n",
    "\n",
    "- 返回其前序遍历: [1,3,5,6,2,4]。\n",
    "- 说明: 递归法很简单，你可以使用迭代法完成此题吗?"
   ]
  },
  {
   "cell_type": "code",
   "execution_count": 1,
   "metadata": {},
   "outputs": [],
   "source": [
    "class Node:\n",
    "    def __init__(self, val=None, children=None):\n",
    "        self.val = val\n",
    "        self.chidren = children"
   ]
  },
  {
   "cell_type": "code",
   "execution_count": 2,
   "metadata": {},
   "outputs": [],
   "source": [
    "class Solution:\n",
    "    def preorder(self, root):\n",
    "        if not root:\n",
    "            return []\n",
    "        stack, ans = [root], []\n",
    "        while stack:\n",
    "            node = stack.pop()\n",
    "            ans.append(node.val)\n",
    "            for i in range(len(node.children)-1, -1, -1):\n",
    "                stack.append(node.children[i])\n",
    "        return ans\n",
    "            "
   ]
  },
  {
   "cell_type": "code",
   "execution_count": null,
   "metadata": {},
   "outputs": [],
   "source": []
  }
 ],
 "metadata": {
  "kernelspec": {
   "display_name": "Python 3",
   "language": "python",
   "name": "python3"
  },
  "language_info": {
   "codemirror_mode": {
    "name": "ipython",
    "version": 3
   },
   "file_extension": ".py",
   "mimetype": "text/x-python",
   "name": "python",
   "nbconvert_exporter": "python",
   "pygments_lexer": "ipython3",
   "version": "3.6.9"
  }
 },
 "nbformat": 4,
 "nbformat_minor": 2
}
