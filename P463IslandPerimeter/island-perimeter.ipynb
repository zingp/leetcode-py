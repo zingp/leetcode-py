{
 "cells": [
  {
   "cell_type": "markdown",
   "metadata": {},
   "source": [
    "## 463. 岛屿的周长\n",
    "- 给定一个 row x col 的二维网格地图 grid ，其中：grid[i][j] = 1 表示陆地， grid[i][j] = 0 表示水域。网格中的格子 水平和垂直 方向相连（对角线方向不相连）。整个网格被水完全包围，但其中恰好有一个岛屿（或者说，一个或多个表示陆地的格子相连组成的岛屿）。岛屿中没有“湖”（“湖” 指水域在岛屿内部且不和岛屿周围的水相连）。格子是边长为 1 的正方形。网格为长方形，且宽度和高度均不超过 100 。计算这个岛屿的周长。\n",
    "\n",
    "```\n",
    "输入：grid = [\n",
    "        [0,1,0,0],\n",
    "        [1,1,1,0],\n",
    "        [0,1,0,0],\n",
    "        [1,1,0,0]]\n",
    "输出：16\n",
    "解释：它的周长是上面图片中的 16 个黄色的边\n",
    "```\n",
    "\n",
    "来源：力扣（LeetCode）\n",
    "链接：https://leetcode-cn.com/problems/island-perimeter\n",
    "著作权归领扣网络所有。商业转载请联系官方授权，非商业转载请注明出处。"
   ]
  },
  {
   "cell_type": "code",
   "execution_count": 1,
   "metadata": {},
   "outputs": [],
   "source": [
    "from typing import List"
   ]
  },
  {
   "cell_type": "code",
   "execution_count": 2,
   "metadata": {},
   "outputs": [],
   "source": [
    "class Solution():\n",
    "    def islandPerimeter(self, grid: List[List[int]]) -> int:\n",
    "        if not grid:\n",
    "            return 0\n",
    "        r = len(grid)\n",
    "        c = len(grid[0])\n",
    "        perim = 0\n",
    "        for i in range(r):\n",
    "            for j in range(c):\n",
    "                if grid[i][j] == 1:\n",
    "                    perim = self.dfs(grid, i, j)\n",
    "        return perim\n",
    "    \n",
    "    def dfs(self, grid, r, c):\n",
    "        if not self.inArea(grid, r, c):\n",
    "            return 1\n",
    "        if grid[r][c] == 0:\n",
    "            return 1\n",
    "        if grid[r][c] != 1:\n",
    "            return 0\n",
    "        grid[r][c] = 2\n",
    "        return self.dfs(grid, r-1, c) \\\n",
    "             + self.dfs(grid, r+1, c) \\\n",
    "             + self.dfs(grid, r, c-1) \\\n",
    "             + self.dfs(grid, r, c+1)\n",
    "    \n",
    "    def inArea(self, grid, r, c):\n",
    "        return r >= 0 and r < len(grid) \\\n",
    "               and c >= 0 and c < len(grid[0])\n",
    "            "
   ]
  },
  {
   "cell_type": "code",
   "execution_count": 3,
   "metadata": {},
   "outputs": [],
   "source": [
    "grid = [[0,1,0,0],\n",
    "        [1,1,1,0],\n",
    "        [0,1,0,0],\n",
    "        [1,1,0,0]]"
   ]
  },
  {
   "cell_type": "code",
   "execution_count": 4,
   "metadata": {},
   "outputs": [
    {
     "data": {
      "text/plain": [
       "16"
      ]
     },
     "execution_count": 4,
     "metadata": {},
     "output_type": "execute_result"
    }
   ],
   "source": [
    "Solution().islandPerimeter(grid)"
   ]
  },
  {
   "cell_type": "code",
   "execution_count": null,
   "metadata": {},
   "outputs": [],
   "source": []
  }
 ],
 "metadata": {
  "kernelspec": {
   "display_name": "Python 3",
   "language": "python",
   "name": "python3"
  },
  "language_info": {
   "codemirror_mode": {
    "name": "ipython",
    "version": 3
   },
   "file_extension": ".py",
   "mimetype": "text/x-python",
   "name": "python",
   "nbconvert_exporter": "python",
   "pygments_lexer": "ipython3",
   "version": "3.6.10"
  }
 },
 "nbformat": 4,
 "nbformat_minor": 4
}
