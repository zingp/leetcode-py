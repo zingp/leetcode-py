{
 "cells": [
  {
   "cell_type": "markdown",
   "metadata": {},
   "source": [
    "## 给定一个 N 叉树，返回其节点值的层序遍历。 (即从左到右，逐层遍历)。\n",
    "\n",
    "- 例如，给定一个 3叉树 :\n",
    "    - ![image](../images/P589narytreeexample.png)\n",
    "- 返回其层序遍历:\n",
    "\n",
    "```\n",
    "[\n",
    "     [1],\n",
    "     [3,2,4],\n",
    "     [5,6]\n",
    "]\n",
    "```\n",
    "\n",
    "- 说明:\n",
    "    - 树的深度不会超过 1000。\n",
    "    -树的节点总数不会超过 5000。\n",
    "\n",
    "- 来源：力扣（LeetCode）\n",
    "- 链接：https://leetcode-cn.com/problems/n-ary-tree-level-order-traversal"
   ]
  },
  {
   "cell_type": "code",
   "execution_count": 1,
   "metadata": {},
   "outputs": [],
   "source": [
    "from queue import Queue"
   ]
  },
  {
   "cell_type": "code",
   "execution_count": 2,
   "metadata": {},
   "outputs": [],
   "source": [
    "\"\"\"\n",
    "# Definition for a Node.\n",
    "class Node:\n",
    "    def __init__(self, val=None, children=None):\n",
    "        self.val = val\n",
    "        self.children = children\n",
    "\"\"\"\n",
    "\n",
    "class Solution:\n",
    "    def levelOrder(self, root):\n",
    "        if not root:\n",
    "            return []\n",
    "        ans = []\n",
    "        q = Queue()\n",
    "        q.put([root])\n",
    "        while not q.empty():\n",
    "            nodelist = q.get()\n",
    "            level_val = []\n",
    "            level_node = []\n",
    "            for node in nodelist:\n",
    "                level_val.append(node.val)\n",
    "                if node.children:\n",
    "                    level_node.extend(node.children)\n",
    "            if level_val:\n",
    "                ans.append(level_val)\n",
    "            if level_node:\n",
    "                q.put(level_node)\n",
    "        return ans"
   ]
  },
  {
   "cell_type": "markdown",
   "metadata": {},
   "source": [
    "## 简化版本广度优先"
   ]
  },
  {
   "cell_type": "code",
   "execution_count": 3,
   "metadata": {},
   "outputs": [],
   "source": [
    "def levelOrder(self, root):\n",
    "    if root is None:\n",
    "        return []        \n",
    "\n",
    "    result = []\n",
    "    previous_layer = [root]\n",
    "\n",
    "    while previous_layer:\n",
    "        current_layer = []\n",
    "        result.append([])\n",
    "        for node in previous_layer:\n",
    "            result[-1].append(node.val)\n",
    "            current_layer.extend(node.children)\n",
    "        previous_layer = current_layer\n",
    "    return result\n"
   ]
  },
  {
   "cell_type": "code",
   "execution_count": null,
   "metadata": {},
   "outputs": [],
   "source": []
  }
 ],
 "metadata": {
  "kernelspec": {
   "display_name": "Python 3",
   "language": "python",
   "name": "python3"
  },
  "language_info": {
   "codemirror_mode": {
    "name": "ipython",
    "version": 3
   },
   "file_extension": ".py",
   "mimetype": "text/x-python",
   "name": "python",
   "nbconvert_exporter": "python",
   "pygments_lexer": "ipython3",
   "version": "3.6.9"
  }
 },
 "nbformat": 4,
 "nbformat_minor": 2
}
