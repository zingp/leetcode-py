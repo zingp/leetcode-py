{
 "cells": [
  {
   "cell_type": "markdown",
   "metadata": {},
   "source": [
    "## 433. 最小基因变化\n",
    "- 一条基因序列由一个带有8个字符的字符串表示，其中每个字符都属于 \"A\", \"C\", \"G\", \"T\"中的任意一个。\n",
    "- 假设我们要调查一个基因序列的变化。一次基因变化意味着这个基因序列中的一个字符发生了变化。\n",
    "- 例如，基因序列由\"AACCGGTT\" 变化至 \"AACCGGTA\" 即发生了一次基因变化。\n",
    "- 与此同时，每一次基因变化的结果，都需要是一个合法的基因串，即该结果属于一个基因库。\n",
    "- 现在给定3个参数 — start, end, bank，分别代表起始基因序列，目标基因序列及基因库，请找出能够使起始基因序列变化为目标基因序列所需的最少变化次数。如果无法实现目标变化，请返回 -1。\n",
    "- 注意:\n",
    "- 起始基因序列默认是合法的，但是它并不一定会出现在基因库中。\n",
    "- 所有的目标基因序列必须是合法的。\n",
    "- 假定起始基因序列与目标基因序列是不一样的。\n",
    "- 示例 1:\n",
    "    - start: \"AACCGGTT\"\n",
    "    - end:   \"AACCGGTA\"\n",
    "    - bank: [\"AACCGGTA\"]\n",
    "    - 返回值: 1\n",
    "\n",
    "- 示例 2:\n",
    "    - start: \"AACCGGTT\"\n",
    "    - end:   \"AAACGGTA\"\n",
    "    - bank: [\"AACCGGTA\", \"AACCGCTA\", \"AAACGGTA\"]\n",
    "    - 返回值: 2\n",
    "\n",
    "- 示例 3:\n",
    "    - start: \"AAAAACCC\"\n",
    "    - end:   \"AACCCCCC\"\n",
    "    - bank: [\"AAAACCCC\", \"AAACCCCC\", \"AACCCCCC\"]\n",
    "    - 返回值: 3"
   ]
  },
  {
   "cell_type": "code",
   "execution_count": 2,
   "metadata": {},
   "outputs": [],
   "source": [
    "from typing import List"
   ]
  },
  {
   "cell_type": "code",
   "execution_count": 9,
   "metadata": {},
   "outputs": [],
   "source": [
    "class Solution:\n",
    "    def minMutation(self, start: str, end: str, bank: List[str]) -> int:\n",
    "        alpha = [\"A\", \"C\", \"G\", \"T\"]\n",
    "        hash_bank = set(bank)\n",
    "        queue = [(start, 0)]\n",
    "        while queue:\n",
    "            word, step = queue.pop(0)\n",
    "            if word == end:\n",
    "                return step\n",
    "            for i in range(len(word)):\n",
    "                for p in alpha:\n",
    "                    temp = word[:i] + p + word[i+1:]\n",
    "                    if temp in hash_bank:\n",
    "                        queue.append((temp, step+1))\n",
    "                        hash_bank.remove(temp)\n",
    "        return -1"
   ]
  },
  {
   "cell_type": "code",
   "execution_count": 10,
   "metadata": {},
   "outputs": [],
   "source": [
    "start = \"AACCGGTT\"\n",
    "end = \"AACCGGTA\"\n",
    "bank = [\"AACCGGTA\"]"
   ]
  },
  {
   "cell_type": "code",
   "execution_count": 11,
   "metadata": {},
   "outputs": [
    {
     "data": {
      "text/plain": [
       "1"
      ]
     },
     "execution_count": 11,
     "metadata": {},
     "output_type": "execute_result"
    }
   ],
   "source": [
    "Solution().minMutation(start, end, bank)"
   ]
  },
  {
   "cell_type": "code",
   "execution_count": 12,
   "metadata": {},
   "outputs": [],
   "source": [
    "start = \"AACCGGTT\"\n",
    "end = \"AAACGGTA\"\n",
    "bank = [\"AACCGGTA\", \"AACCGCTA\", \"AAACGGTA\"]"
   ]
  },
  {
   "cell_type": "code",
   "execution_count": 13,
   "metadata": {},
   "outputs": [
    {
     "data": {
      "text/plain": [
       "2"
      ]
     },
     "execution_count": 13,
     "metadata": {},
     "output_type": "execute_result"
    }
   ],
   "source": [
    "Solution().minMutation(start, end, bank)"
   ]
  },
  {
   "cell_type": "code",
   "execution_count": null,
   "metadata": {},
   "outputs": [],
   "source": []
  }
 ],
 "metadata": {
  "kernelspec": {
   "display_name": "Python 3",
   "language": "python",
   "name": "python3"
  },
  "language_info": {
   "codemirror_mode": {
    "name": "ipython",
    "version": 3
   },
   "file_extension": ".py",
   "mimetype": "text/x-python",
   "name": "python",
   "nbconvert_exporter": "python",
   "pygments_lexer": "ipython3",
   "version": "3.6.10"
  }
 },
 "nbformat": 4,
 "nbformat_minor": 4
}
