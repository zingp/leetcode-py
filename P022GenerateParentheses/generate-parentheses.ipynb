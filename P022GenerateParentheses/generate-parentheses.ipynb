{
 "cells": [
  {
   "cell_type": "markdown",
   "metadata": {},
   "source": [
    "## 22. 括号生成\n",
    "- 数字 n 代表生成括号的对数，请你设计一个函数，用于能够生成所有可能的并且 有效的 括号组合。\n",
    "- 示例：\n",
    "\n",
    "- 输入：n = 3\n",
    "- 输出：\n",
    "```\n",
    "[\n",
    "   \"((()))\",\n",
    "   \"(()())\",\n",
    "   \"(())()\",\n",
    "   \"()(())\",\n",
    "   \"()()()\"\n",
    "]\n",
    "```\n",
    "\n",
    "## 思路\n",
    "- 暴力\n",
    "- 递归+剪枝  pop()--- 很重要很重要"
   ]
  },
  {
   "cell_type": "code",
   "execution_count": 1,
   "metadata": {},
   "outputs": [],
   "source": [
    "class Solution:\n",
    "    def generateParenthesis(self, n):\n",
    "        \"\"\"暴力法\"\"\"\n",
    "        results = []\n",
    "        def isvalid(li):\n",
    "            bal = 0\n",
    "            for c in li:\n",
    "                if c == \"(\":\n",
    "                    bal += 1\n",
    "                else:\n",
    "                    bal -= 1\n",
    "                if bal < 0:  # 如果\")\"多于\"(\"直接返回False\n",
    "                    return False\n",
    "            return bal == 0\n",
    "        \n",
    "        def gen(li):\n",
    "            if len(li) == 2*n:\n",
    "                if isvalid(li):\n",
    "                    results.append(\"\".join(li))    \n",
    "            else:\n",
    "                li.append(\"(\")\n",
    "                gen(li)\n",
    "                li.pop()\n",
    "                li.append(\")\")\n",
    "                gen(li)\n",
    "                li.pop()\n",
    "        gen([])\n",
    "        return results"
   ]
  },
  {
   "cell_type": "code",
   "execution_count": 2,
   "metadata": {},
   "outputs": [
    {
     "data": {
      "text/plain": [
       "['((()))', '(()())', '(())()', '()(())', '()()()']"
      ]
     },
     "execution_count": 2,
     "metadata": {},
     "output_type": "execute_result"
    }
   ],
   "source": [
    "Solution().generateParenthesis(3)"
   ]
  },
  {
   "cell_type": "code",
   "execution_count": 3,
   "metadata": {},
   "outputs": [],
   "source": [
    "class Solution:\n",
    "    def generateParenthesis(self, n):\n",
    "        results = []\n",
    "        def gen(li, left, right):\n",
    "            if len(li) == 2*n:\n",
    "                results.append(\"\".join(li)) \n",
    "            if left < n:\n",
    "                li.append(\"(\")\n",
    "                gen(li, left+1, right)\n",
    "                li.pop()\n",
    "            if left > right:\n",
    "                li.append(\")\")\n",
    "                gen(li, left, right+1)\n",
    "                li.pop()\n",
    "        gen([], 0, 0)\n",
    "        return results"
   ]
  },
  {
   "cell_type": "code",
   "execution_count": 4,
   "metadata": {},
   "outputs": [
    {
     "data": {
      "text/plain": [
       "['((()))', '(()())', '(())()', '()(())', '()()()']"
      ]
     },
     "execution_count": 4,
     "metadata": {},
     "output_type": "execute_result"
    }
   ],
   "source": [
    "Solution().generateParenthesis(3)"
   ]
  },
  {
   "cell_type": "code",
   "execution_count": null,
   "metadata": {},
   "outputs": [],
   "source": []
  }
 ],
 "metadata": {
  "kernelspec": {
   "display_name": "Python 3",
   "language": "python",
   "name": "python3"
  },
  "language_info": {
   "codemirror_mode": {
    "name": "ipython",
    "version": 3
   },
   "file_extension": ".py",
   "mimetype": "text/x-python",
   "name": "python",
   "nbconvert_exporter": "python",
   "pygments_lexer": "ipython3",
   "version": "3.6.9"
  }
 },
 "nbformat": 4,
 "nbformat_minor": 2
}
