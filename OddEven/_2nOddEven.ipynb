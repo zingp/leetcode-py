{
 "cells": [
  {
   "cell_type": "markdown",
   "metadata": {},
   "source": [
    "# 2n 长度数组，n个奇数，n个偶数，把奇数放在奇数位，偶数放在偶数位\n",
    "- 1. 先将偶数放在前面，奇数放在后面，然后在交换 a[i] <--> a[2n - i]  for i=left+1 ~ n  共  2n + n/2\n",
    "- 2. 找出奇数在偶数位 与 偶数在奇数位，然后交换 4*n"
   ]
  },
  {
   "cell_type": "code",
   "execution_count": 6,
   "metadata": {},
   "outputs": [],
   "source": [
    "def odd_even1(array):\n",
    "    left, right = 0, len(array)-1\n",
    "    while left < right:\n",
    "        while left<right and array[left] % 2 == 1:\n",
    "            left += 1\n",
    "        while left<right and array[right] % 2 == 0:\n",
    "            right -= 1\n",
    "        if left < right:\n",
    "            array[left], array[right] = array[right], array[left]\n",
    "            left += 1\n",
    "            right += 1\n",
    "    return array"
   ]
  },
  {
   "cell_type": "code",
   "execution_count": 7,
   "metadata": {},
   "outputs": [],
   "source": [
    "import random"
   ]
  },
  {
   "cell_type": "code",
   "execution_count": 8,
   "metadata": {},
   "outputs": [
    {
     "name": "stdout",
     "output_type": "stream",
     "text": [
      "[17, 43, 2, 26, 20, 28, 37, 7, 5, 1, 18, 25, 45, 33, 19, 44, 15, 48, 4, 6, 30, 41, 34, 22, 39, 0, 35, 36, 24, 13, 29, 42, 23, 10, 46, 16, 11, 8, 3, 40, 12, 31, 9, 27, 38, 21, 32, 49, 47, 14]\n"
     ]
    }
   ],
   "source": [
    "li = list(range(50))\n",
    "random.shuffle(li)\n",
    "print(li)"
   ]
  },
  {
   "cell_type": "code",
   "execution_count": 10,
   "metadata": {},
   "outputs": [],
   "source": [
    "li2 = odd_even1(li)"
   ]
  },
  {
   "cell_type": "code",
   "execution_count": 11,
   "metadata": {},
   "outputs": [
    {
     "name": "stdout",
     "output_type": "stream",
     "text": [
      "[17, 43, 47, 49, 21, 27, 37, 7, 5, 1, 9, 25, 45, 33, 19, 31, 15, 3, 11, 23, 29, 41, 13, 35, 39, 0, 22, 36, 24, 34, 30, 42, 6, 10, 46, 16, 4, 8, 48, 40, 12, 44, 18, 28, 38, 20, 32, 26, 2, 14]\n"
     ]
    }
   ],
   "source": [
    "print(li2)"
   ]
  },
  {
   "cell_type": "code",
   "execution_count": 12,
   "metadata": {},
   "outputs": [],
   "source": [
    "def odd_even2(array):\n",
    "    if len(array) <= 2:\n",
    "        return array\n",
    "    left, right = 1, len(array)-2\n",
    "    while left < right:\n",
    "        array[left], array[right] = array[right], array[left]\n",
    "        left += 2\n",
    "        right -= 2\n",
    "    return array "
   ]
  },
  {
   "cell_type": "code",
   "execution_count": 13,
   "metadata": {},
   "outputs": [
    {
     "name": "stdout",
     "output_type": "stream",
     "text": [
      "[17, 2, 47, 32, 21, 38, 37, 18, 5, 12, 9, 48, 45, 4, 19, 46, 15, 6, 11, 30, 29, 24, 13, 22, 39, 0, 35, 36, 41, 34, 23, 42, 3, 10, 31, 16, 33, 8, 25, 40, 1, 44, 7, 28, 27, 20, 49, 26, 43, 14]\n"
     ]
    }
   ],
   "source": [
    "print(odd_even2(li2))"
   ]
  },
  {
   "cell_type": "code",
   "execution_count": null,
   "metadata": {},
   "outputs": [],
   "source": []
  }
 ],
 "metadata": {
  "kernelspec": {
   "display_name": "Python 3",
   "language": "python",
   "name": "python3"
  },
  "language_info": {
   "codemirror_mode": {
    "name": "ipython",
    "version": 3
   },
   "file_extension": ".py",
   "mimetype": "text/x-python",
   "name": "python",
   "nbconvert_exporter": "python",
   "pygments_lexer": "ipython3",
   "version": "3.6.8"
  }
 },
 "nbformat": 4,
 "nbformat_minor": 2
}
