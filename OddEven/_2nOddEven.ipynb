{
 "cells": [
  {
   "cell_type": "markdown",
   "metadata": {},
   "source": [
    "# 2n 长度数组，n个奇数，n个偶数，把奇数放在奇数位，偶数放在偶数位\n",
    "- 1. 先将偶数放在前面，奇数放在后面，然后在交换 a[i] <--> a[2n - i]  for i=left+1 ~ n  共  2n + n/2\n",
    "- 2. 找出奇数在偶数位 与 偶数在奇数位，然后交换 4*n"
   ]
  },
  {
   "cell_type": "code",
   "execution_count": 1,
   "metadata": {},
   "outputs": [],
   "source": [
    "def odd_even1(array):\n",
    "    left, right = 0, len(array)-1\n",
    "    while left < right:\n",
    "        while left<right and array[left] % 2 == 1:\n",
    "            left += 1\n",
    "        while left<right and array[right] % 2 == 0:\n",
    "            right -= 1\n",
    "        if left < right:\n",
    "            array[left], array[right] = array[right], array[left]\n",
    "            left += 1\n",
    "            right += 1\n",
    "    return array"
   ]
  },
  {
   "cell_type": "code",
   "execution_count": 2,
   "metadata": {},
   "outputs": [],
   "source": [
    "import random"
   ]
  },
  {
   "cell_type": "code",
   "execution_count": 3,
   "metadata": {},
   "outputs": [
    {
     "name": "stdout",
     "output_type": "stream",
     "text": [
      "[16, 6, 39, 45, 29, 42, 3, 46, 31, 33, 26, 35, 30, 5, 49, 10, 1, 41, 22, 27, 38, 19, 44, 4, 0, 40, 18, 36, 37, 24, 25, 21, 20, 48, 43, 13, 32, 17, 15, 34, 28, 23, 47, 11, 9, 2, 7, 8, 14, 12]\n"
     ]
    }
   ],
   "source": [
    "li = list(range(50))\n",
    "random.shuffle(li)\n",
    "print(li)"
   ]
  },
  {
   "cell_type": "code",
   "execution_count": 4,
   "metadata": {},
   "outputs": [],
   "source": [
    "li2 = odd_even1(li)"
   ]
  },
  {
   "cell_type": "code",
   "execution_count": 5,
   "metadata": {},
   "outputs": [
    {
     "name": "stdout",
     "output_type": "stream",
     "text": [
      "[7, 9, 39, 45, 29, 11, 3, 47, 31, 33, 23, 35, 15, 5, 49, 17, 1, 41, 13, 27, 43, 19, 21, 25, 37, 40, 18, 36, 0, 24, 4, 44, 20, 48, 38, 22, 32, 10, 30, 34, 28, 26, 46, 42, 6, 2, 16, 8, 14, 12]\n"
     ]
    }
   ],
   "source": [
    "print(li2)"
   ]
  },
  {
   "cell_type": "code",
   "execution_count": 6,
   "metadata": {},
   "outputs": [],
   "source": [
    "def odd_even2(array):\n",
    "    if len(array) <= 2:\n",
    "        return array\n",
    "    left, right = 1, len(array)-2\n",
    "    while left < right:\n",
    "        array[left], array[right] = array[right], array[left]\n",
    "        left += 2\n",
    "        right -= 2\n",
    "    return array "
   ]
  },
  {
   "cell_type": "code",
   "execution_count": 7,
   "metadata": {},
   "outputs": [
    {
     "name": "stdout",
     "output_type": "stream",
     "text": [
      "[7, 14, 39, 16, 29, 6, 3, 46, 31, 28, 23, 30, 15, 32, 49, 38, 1, 20, 13, 4, 43, 0, 21, 18, 37, 40, 25, 36, 19, 24, 27, 44, 41, 48, 17, 22, 5, 10, 35, 34, 33, 26, 47, 42, 11, 2, 45, 8, 9, 12]\n"
     ]
    }
   ],
   "source": [
    "print(odd_even2(li2))"
   ]
  },
  {
   "cell_type": "markdown",
   "metadata": {},
   "source": [
    "## 下面这段代码是不是更简单些啊"
   ]
  },
  {
   "cell_type": "code",
   "execution_count": 8,
   "metadata": {},
   "outputs": [],
   "source": [
    "def split_odd_even(array):\n",
    "    left = 0\n",
    "    length = len(array)\n",
    "    right = length - 1\n",
    "    while left < right:\n",
    "        if array[left] % 2 == 1:\n",
    "            left += 1\n",
    "        else:\n",
    "            array[left], array[right] = array[right], array[left]\n",
    "            right -= 1\n",
    "    for i in range(1, length//2, 2):\n",
    "        array[i], array[length-i-1] = array[length-i-1], array[i]\n",
    "        "
   ]
  },
  {
   "cell_type": "code",
   "execution_count": 9,
   "metadata": {},
   "outputs": [
    {
     "name": "stdout",
     "output_type": "stream",
     "text": [
      "[27, 24, 31, 34, 35, 46, 3, 18, 43, 12, 45, 8, 23, 14, 29, 40, 13, 22, 41, 44, 17, 2, 9, 36, 49, 10, 7, 16, 1, 28, 19, 48, 5, 0, 21, 26, 11, 4, 33, 42, 37, 20, 39, 38, 25, 30, 15, 32, 47, 6]\n"
     ]
    }
   ],
   "source": [
    "a = list(range(50))\n",
    "random.shuffle(a)\n",
    "split_odd_even(a)\n",
    "print(a)"
   ]
  },
  {
   "cell_type": "code",
   "execution_count": null,
   "metadata": {},
   "outputs": [],
   "source": []
  }
 ],
 "metadata": {
  "kernelspec": {
   "display_name": "Python 3",
   "language": "python",
   "name": "python3"
  },
  "language_info": {
   "codemirror_mode": {
    "name": "ipython",
    "version": 3
   },
   "file_extension": ".py",
   "mimetype": "text/x-python",
   "name": "python",
   "nbconvert_exporter": "python",
   "pygments_lexer": "ipython3",
   "version": "3.6.9"
  }
 },
 "nbformat": 4,
 "nbformat_minor": 2
}
