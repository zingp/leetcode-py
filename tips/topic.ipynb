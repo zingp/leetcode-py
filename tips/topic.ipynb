{
 "cells": [
  {
   "cell_type": "markdown",
   "metadata": {},
   "source": [
    "## 重点代码题目"
   ]
  },
  {
   "cell_type": "markdown",
   "metadata": {},
   "source": [
    "## 数据结构设计\n",
    "- 设计一个数据结构，完成set(key,value),get(key),set_all_value(value)，其中最后一个函数时间复杂度小于O（n）【O（1）】\n",
    "\n",
    "```\n",
    "考虑到普通set和set_all_value 需要比较先后顺序。\n",
    "方法1，基于更新时间戳（版本）\n",
    "    两类值，k上的值和 global的值，每个index和glabal值都维护更新时间戳\n",
    "    get(index)的时候，如果global值的时间大于index上的时间，取global的值，否则取index上的值\n",
    "\n",
    "\n",
    "方法2 exclude list (hash set) \n",
    "    setAll的时候 对global赋值，同时清空exclude list\n",
    "    之后如果有set(index) 加到exclude list\n",
    "    get(index)的时候\n",
    "    如果全局值为null，没啥好说的，取index上的值\n",
    "    否则，看index是否在exclude list里 如果在，取index上的，否则取global值\n",
    "```"
   ]
  },
  {
   "cell_type": "code",
   "execution_count": 3,
   "metadata": {},
   "outputs": [],
   "source": [
    "class KV(object):\n",
    "    def __init__(self):\n",
    "        self.count = 0\n",
    "        self.all_count = -1\n",
    "        self.all_value = None\n",
    "        self.map = dict()\n",
    "    \n",
    "    def set(self, k, v):\n",
    "        self.map[k] = (v, self.count)\n",
    "        self.count += 1\n",
    "    \n",
    "    def get(self, k):\n",
    "        if k in self.map:\n",
    "            if self.map[k][-1] > self.all_count:\n",
    "                return self.map[k][0]\n",
    "            else:\n",
    "                return self.all_value\n",
    "        return \n",
    "    \n",
    "    def set_all_value(self, v):\n",
    "        self.all_value = v\n",
    "        self.all_count = self.count\n",
    "        self.count += 1 "
   ]
  },
  {
   "cell_type": "code",
   "execution_count": 7,
   "metadata": {},
   "outputs": [],
   "source": [
    "class timerMap(object):\n",
    "    def __init__(self):\n",
    "        self.time = 0\n",
    "        self.all_value = None\n",
    "        self.all_value_time = -1\n",
    "        self.map = {}\n",
    "    \n",
    "    def set_value(self, k, v):\n",
    "        self.map[k] = (v, self.time)\n",
    "        self.time += 1\n",
    "    \n",
    "    def set_all_value(self, v):\n",
    "        self.all_value = v\n",
    "        self.all_value_time = self.time\n",
    "        self.time += 1\n",
    "    \n",
    "    def get(self, k):\n",
    "        if k in self.map:\n",
    "            if not self.all_value or self.map[k][-1] > self.all_value_time:\n",
    "                return self.map[k][0]\n",
    "            else:\n",
    "                return self.all_value"
   ]
  },
  {
   "cell_type": "code",
   "execution_count": 8,
   "metadata": {},
   "outputs": [],
   "source": [
    "mp = timerMap()"
   ]
  },
  {
   "cell_type": "code",
   "execution_count": 10,
   "metadata": {},
   "outputs": [
    {
     "name": "stdout",
     "output_type": "stream",
     "text": [
      "0 6\n",
      "1 6\n",
      "2 6\n",
      "3 9999\n",
      "4 6\n"
     ]
    }
   ],
   "source": [
    "for i in range(5):\n",
    "    mp.set_value(i, str(i))\n",
    "mp.set_all_value(6)\n",
    "mp.set_value(3, 9999)\n",
    "\n",
    "for i in range(5):\n",
    "    print(i, mp.get(i))"
   ]
  },
  {
   "cell_type": "markdown",
   "metadata": {},
   "source": [
    "## 261. 以图判树 - 锁\n",
    "- 给定从 0 到 n-1 标号的 n 个结点，和一个无向边列表（每条边以结点对来表示），请编写一个函数用来判断这些边是否能够形成一个合法有效的树结构。\n",
    "\n",
    "```\n",
    "示例 1：\n",
    "输入: n = 5, 边列表 edges = [[0,1], [0,2], [0,3], [1,4]]\n",
    "输出: true\n",
    "    \n",
    "示例 2:\n",
    "输入: n = 5, 边列表 edges = [[0,1], [1,2], [2,3], [1,3], [1,4]]\n",
    "输出: false\n",
    "    \n",
    "注意：你可以假定边列表 edges 中不会出现重复的边。由于所有的边是无向边，边 [0,1] 和边 [1,0] 是相同的，因此不会同时出现在边列表 edges 中。\n",
    "```\n"
   ]
  },
  {
   "cell_type": "code",
   "execution_count": 8,
   "metadata": {},
   "outputs": [],
   "source": [
    "class unionFindSet(object):\n",
    "    def __init__(self, n):\n",
    "        self.parent = [i for i in range(n)]\n",
    "        self.count = n\n",
    "        \n",
    "    def find(self, p):\n",
    "        root = p\n",
    "        while root != self.parent[root]:\n",
    "            root = self.parent[root]\n",
    "        while p != self.parent[p]:\n",
    "            x = p\n",
    "            self.parent[x] = root\n",
    "            p = self.parent[p]\n",
    "        return root\n",
    "    \n",
    "    def union(self, p, q):\n",
    "        p1 = self.find(p)\n",
    "        p2 = self.find(q)\n",
    "        if p1 == p2:\n",
    "            return False\n",
    "        self.parent[p] = q\n",
    "        self.count -= 1\n",
    "        return True"
   ]
  },
  {
   "cell_type": "code",
   "execution_count": 9,
   "metadata": {},
   "outputs": [],
   "source": [
    "def isValidTree(n, edges):\n",
    "    if n < 2:\n",
    "        return True\n",
    "    ufset = unionFindSet(n)\n",
    "    \n",
    "    for x, y in edges:\n",
    "        if not ufset.union(x, y):\n",
    "            return False\n",
    "    return True\n",
    "    "
   ]
  },
  {
   "cell_type": "code",
   "execution_count": 10,
   "metadata": {},
   "outputs": [
    {
     "data": {
      "text/plain": [
       "True"
      ]
     },
     "execution_count": 10,
     "metadata": {},
     "output_type": "execute_result"
    }
   ],
   "source": [
    "n = 5\n",
    "edges = [[0,1], [0,2], [0,3], [1,4]]\n",
    "isValidTree(n, edges)"
   ]
  },
  {
   "cell_type": "code",
   "execution_count": 11,
   "metadata": {},
   "outputs": [
    {
     "data": {
      "text/plain": [
       "False"
      ]
     },
     "execution_count": 11,
     "metadata": {},
     "output_type": "execute_result"
    }
   ],
   "source": [
    "edges = [[0,1], [1,2], [2,3], [1,3], [1,4]]\n",
    "isValidTree(n, edges)"
   ]
  },
  {
   "cell_type": "markdown",
   "metadata": {},
   "source": [
    "130 被围绕的区域"
   ]
  },
  {
   "cell_type": "code",
   "execution_count": 2,
   "metadata": {},
   "outputs": [],
   "source": [
    "from typing import List"
   ]
  },
  {
   "cell_type": "code",
   "execution_count": 30,
   "metadata": {},
   "outputs": [],
   "source": [
    "class Solution:\n",
    "    def solve(self, board: List[List[str]]) -> None:\n",
    "        \"\"\"\n",
    "        Do not return anything, modify board in-place instead.\n",
    "        \"\"\"\n",
    "        class unionFind(object):\n",
    "            def __init__(self, n):\n",
    "                self.parent = [_ for _ in range(n)]\n",
    "                self.count = n\n",
    "            \n",
    "            def find(self, p):\n",
    "                root = p\n",
    "                while root != self.parent[root]:\n",
    "                    root = self.parent[root] \n",
    "                while p != self.parent[p]:\n",
    "                    x = p\n",
    "                    self.parent[x] = root\n",
    "                    p = self.parent[p]\n",
    "                return root\n",
    "            \n",
    "            def union(self, p, q):\n",
    "                p1 = self.find(p)\n",
    "                p2 = self.find(q)\n",
    "                if p1 == p2:\n",
    "                    return\n",
    "                self.parent[p1] = p2\n",
    "                self.count -= 1\n",
    "        \n",
    "        if not board or not board[0]:\n",
    "            return board\n",
    "        drec = [(1, 0), (0, 1), (0, -1), (-1, 0)]\n",
    "        r = len(board)\n",
    "        c = len(board[0])\n",
    "        uf = unionFind(r*c + 1)\n",
    "\n",
    "        for i in range(r):\n",
    "            for j in range(c):\n",
    "                if board[i][j] == \"O\":\n",
    "                    if i == 0 or j == 0 or i == r-1 or j == c-1:\n",
    "                        uf.union(i*c + j, r*c)\n",
    "                    for x in drec:\n",
    "                        i_x = i + x[0]\n",
    "                        j_x = j + x[1]\n",
    "                        if 0 <= i_x < r and 0 <= j_x < c and board[i_x][j_x] == \"O\":\n",
    "                            uf.union(i_x*c + j_x, i*c + j)\n",
    "        for i in range(r):\n",
    "            for j in range(c):\n",
    "                if uf.find(i*c + j) == uf.find(r*c):\n",
    "                    board[i][j] = \"O\"\n",
    "                else:\n",
    "                    board[i][j] = \"X\"\n",
    "        return board"
   ]
  },
  {
   "cell_type": "code",
   "execution_count": 31,
   "metadata": {},
   "outputs": [],
   "source": [
    "board = [[\"X\",\"O\",\"X\",\"X\"],\n",
    " [\"O\",\"X\",\"O\",\"X\"],\n",
    " [\"X\",\"O\",\"X\",\"O\"],\n",
    " [\"O\",\"X\",\"O\",\"X\"]]\n",
    "\n",
    "# [[\"X\",\"O\",\"X\",\"X\"],\n",
    "#  [\"O\",\"X\",\"O\",\"X\"],\n",
    "#  [\"X\",\"O\",\"X\",\"O\"],\n",
    "#  [\"O\",\"X\",\"O\",\"X\"]]\n",
    "\n",
    "# 预期：\n",
    "# [[\"X\",\"O\",\"X\",\"X\"],\n",
    "#  [\"O\",\"X\",\"X\",\"X\"],\n",
    "#  [\"X\",\"X\",\"X\",\"O\"],\n",
    "#  [\"O\",\"X\",\"O\",\"X\"]]"
   ]
  },
  {
   "cell_type": "code",
   "execution_count": 32,
   "metadata": {},
   "outputs": [
    {
     "data": {
      "text/plain": [
       "[['X', 'O', 'X', 'X'],\n",
       " ['O', 'X', 'X', 'X'],\n",
       " ['X', 'X', 'X', 'O'],\n",
       " ['O', 'X', 'O', 'X']]"
      ]
     },
     "execution_count": 32,
     "metadata": {},
     "output_type": "execute_result"
    }
   ],
   "source": [
    "Solution().solve(board)"
   ]
  },
  {
   "cell_type": "code",
   "execution_count": 33,
   "metadata": {},
   "outputs": [],
   "source": [
    "board = [[\"X\",\"O\",\"X\",\"O\",\"X\",\"O\",\"O\",\"O\",\"X\",\"O\"],\n",
    "         [\"X\",\"O\",\"O\",\"X\",\"X\",\"X\",\"O\",\"O\",\"O\",\"X\"],\n",
    "         [\"O\",\"O\",\"O\",\"O\",\"O\",\"O\",\"O\",\"O\",\"X\",\"X\"],\n",
    "         [\"O\",\"O\",\"O\",\"O\",\"O\",\"O\",\"X\",\"O\",\"O\",\"X\"],\n",
    "         [\"O\",\"O\",\"X\",\"X\",\"O\",\"X\",\"X\",\"O\",\"O\",\"O\"],\n",
    "         [\"X\",\"O\",\"O\",\"X\",\"X\",\"X\",\"O\",\"X\",\"X\",\"O\"],\n",
    "         [\"X\",\"O\",\"X\",\"O\",\"O\",\"X\",\"X\",\"O\",\"X\",\"O\"],\n",
    "         [\"X\",\"X\",\"O\",\"X\",\"X\",\"O\",\"X\",\"O\",\"O\",\"X\"],\n",
    "         [\"O\",\"O\",\"O\",\"O\",\"X\",\"O\",\"X\",\"O\",\"X\",\"O\"],\n",
    "         [\"X\",\"X\",\"O\",\"X\",\"X\",\"X\",\"X\",\"O\",\"O\",\"O\"]]"
   ]
  },
  {
   "cell_type": "code",
   "execution_count": 34,
   "metadata": {},
   "outputs": [
    {
     "data": {
      "text/plain": [
       "[['X', 'O', 'X', 'O', 'X', 'O', 'O', 'O', 'X', 'O'],\n",
       " ['X', 'O', 'X', 'X', 'X', 'X', 'O', 'O', 'O', 'X'],\n",
       " ['O', 'O', 'X', 'X', 'X', 'X', 'O', 'O', 'X', 'X'],\n",
       " ['O', 'O', 'X', 'X', 'X', 'X', 'X', 'O', 'O', 'X'],\n",
       " ['O', 'O', 'X', 'X', 'X', 'X', 'X', 'O', 'O', 'O'],\n",
       " ['X', 'O', 'O', 'X', 'X', 'X', 'X', 'X', 'X', 'O'],\n",
       " ['X', 'O', 'X', 'X', 'X', 'X', 'X', 'O', 'X', 'O'],\n",
       " ['X', 'X', 'O', 'X', 'X', 'X', 'X', 'O', 'O', 'X'],\n",
       " ['O', 'O', 'O', 'O', 'X', 'X', 'X', 'O', 'X', 'O'],\n",
       " ['X', 'X', 'O', 'X', 'X', 'X', 'X', 'O', 'O', 'O']]"
      ]
     },
     "execution_count": 34,
     "metadata": {},
     "output_type": "execute_result"
    }
   ],
   "source": [
    "Solution().solve(board)"
   ]
  },
  {
   "cell_type": "code",
   "execution_count": 12,
   "metadata": {},
   "outputs": [],
   "source": [
    "def quick_sort(array, left, right):\n",
    "    if left < right:\n",
    "        mid = partition(array, left, right)\n",
    "        quick_sort(array, left, mid-1)\n",
    "        quick_sort(array, mid+1, right)\n",
    "\n",
    "def partition(array, left, right):\n",
    "    tmp = array[left]\n",
    "    while left < right:\n",
    "        while left < right and array[right] >= tmp:\n",
    "            right -= 1\n",
    "        array[left] = array[right]\n",
    "        while left < right and array[left] <= tmp:\n",
    "            left += 1\n",
    "        array[right] = array[left]\n",
    "    array[left] = tmp\n",
    "    return left"
   ]
  },
  {
   "cell_type": "code",
   "execution_count": 13,
   "metadata": {},
   "outputs": [],
   "source": [
    "import random"
   ]
  },
  {
   "cell_type": "code",
   "execution_count": 15,
   "metadata": {},
   "outputs": [
    {
     "name": "stdout",
     "output_type": "stream",
     "text": [
      "[45, 5, 38, 1, 7, 47, 19, 35, 46, 34, 48, 24, 22, 44, 12, 39, 29, 36, 32, 27, 10, 37, 26, 43, 15, 8, 49, 2, 31, 33, 13, 41, 3, 6, 21, 40, 0, 17, 30, 25, 28, 20, 42, 9, 18, 16, 14, 11, 4, 23]\n"
     ]
    }
   ],
   "source": [
    "li = list(range(50))\n",
    "random.shuffle(li)\n",
    "print(li)"
   ]
  },
  {
   "cell_type": "code",
   "execution_count": 16,
   "metadata": {},
   "outputs": [],
   "source": [
    "quick_sort(li, 0, len(li)-1)"
   ]
  },
  {
   "cell_type": "code",
   "execution_count": 18,
   "metadata": {},
   "outputs": [
    {
     "name": "stdout",
     "output_type": "stream",
     "text": [
      "[0, 1, 2, 3, 4, 5, 6, 7, 8, 9, 10, 11, 12, 13, 14, 15, 16, 17, 18, 19, 20, 21, 22, 23, 24, 25, 26, 27, 28, 29, 30, 31, 32, 33, 34, 35, 36, 37, 38, 39, 40, 41, 42, 43, 44, 45, 46, 47, 48, 49]\n"
     ]
    }
   ],
   "source": [
    "print(li)"
   ]
  },
  {
   "cell_type": "code",
   "execution_count": 26,
   "metadata": {},
   "outputs": [],
   "source": [
    "def merge_sort(array, left, right):\n",
    "    if left < right:\n",
    "        mid = left + (right-left)//2\n",
    "        merge_sort(array, left, mid)\n",
    "        merge_sort(array, mid+1, right)\n",
    "        merge(array, left, mid, right)\n",
    "\n",
    "def merge(array, left, mid, right):\n",
    "    i = left\n",
    "    j = mid + 1\n",
    "    tmp = []\n",
    "    while i <= mid and j <= right:\n",
    "        if array[i] < array[j]:\n",
    "            tmp.append(array[i])\n",
    "            i += 1\n",
    "        else:\n",
    "            tmp.append(array[j])\n",
    "            j += 1\n",
    "    while i <= mid:\n",
    "        tmp.append(array[i])\n",
    "        i += 1\n",
    "    while j <= right:\n",
    "        tmp.append(array[j])\n",
    "        j += 1\n",
    "    array[left: right+1] = tmp"
   ]
  },
  {
   "cell_type": "code",
   "execution_count": 27,
   "metadata": {},
   "outputs": [
    {
     "name": "stdout",
     "output_type": "stream",
     "text": [
      "[47, 7, 20, 36, 49, 8, 21, 43, 28, 33, 2, 48, 5, 23, 27, 34, 45, 18, 17, 12, 35, 3, 26, 46, 4, 14, 6, 13, 16, 41, 19, 31, 32, 15, 40, 25, 1, 22, 9, 38, 29, 24, 42, 10, 37, 11, 39, 30, 0, 44]\n"
     ]
    }
   ],
   "source": [
    "random.shuffle(li)\n",
    "print(li)"
   ]
  },
  {
   "cell_type": "code",
   "execution_count": 28,
   "metadata": {},
   "outputs": [
    {
     "name": "stdout",
     "output_type": "stream",
     "text": [
      "[0, 1, 2, 3, 4, 5, 6, 7, 8, 9, 10, 11, 12, 13, 14, 15, 16, 17, 18, 19, 20, 21, 22, 23, 24, 25, 26, 27, 28, 29, 30, 31, 32, 33, 34, 35, 36, 37, 38, 39, 40, 41, 42, 43, 44, 45, 46, 47, 48, 49]\n"
     ]
    }
   ],
   "source": [
    "merge_sort(li, 0, len(li)-1)\n",
    "print(li)"
   ]
  },
  {
   "cell_type": "code",
   "execution_count": 29,
   "metadata": {},
   "outputs": [],
   "source": [
    "def sift(array, left, right):\n",
    "    i = left # 根节点\n",
    "    j = 2*i + 1 # 根的左孩子\n",
    "    tmp = array[i]\n",
    "    while j <= right:\n",
    "        if j < right and array[j] < array[j+1]:\n",
    "            j = j + 1\n",
    "        if tmp < array[j]:\n",
    "            array[i] = array[j]\n",
    "            i = j\n",
    "            j = 2*i + 1\n",
    "        else:\n",
    "            break\n",
    "    array[i] = tmp\n",
    "    \n",
    "def heap_sort(array):\n",
    "    n = len(array)\n",
    "    for i in range(n//2 -1, -1, -1):\n",
    "        sift(array, i, n-1)\n",
    "    for i in range(n-1, -1, -1):\n",
    "        array[0], array[i] = array[i], array[0]\n",
    "        sift(array, 0, i-1)"
   ]
  },
  {
   "cell_type": "code",
   "execution_count": 30,
   "metadata": {},
   "outputs": [
    {
     "name": "stdout",
     "output_type": "stream",
     "text": [
      "[40, 26, 2, 22, 29, 48, 1, 21, 11, 39, 43, 41, 31, 0, 15, 35, 49, 9, 14, 20, 3, 38, 10, 45, 18, 19, 24, 27, 28, 7, 36, 47, 16, 46, 34, 6, 4, 23, 8, 32, 37, 12, 42, 13, 30, 5, 44, 17, 33, 25]\n"
     ]
    }
   ],
   "source": [
    "random.shuffle(li)\n",
    "print(li)"
   ]
  },
  {
   "cell_type": "code",
   "execution_count": 31,
   "metadata": {},
   "outputs": [
    {
     "name": "stdout",
     "output_type": "stream",
     "text": [
      "[0, 1, 2, 3, 4, 5, 6, 7, 8, 9, 10, 11, 12, 13, 14, 15, 16, 17, 18, 19, 20, 21, 22, 23, 24, 25, 26, 27, 28, 29, 30, 31, 32, 33, 34, 35, 36, 37, 38, 39, 40, 41, 42, 43, 44, 45, 46, 47, 48, 49]\n"
     ]
    }
   ],
   "source": [
    "heap_sort(li)\n",
    "print(li)"
   ]
  },
  {
   "cell_type": "code",
   "execution_count": null,
   "metadata": {},
   "outputs": [],
   "source": []
  }
 ],
 "metadata": {
  "kernelspec": {
   "display_name": "Python 3",
   "language": "python",
   "name": "python3"
  },
  "language_info": {
   "codemirror_mode": {
    "name": "ipython",
    "version": 3
   },
   "file_extension": ".py",
   "mimetype": "text/x-python",
   "name": "python",
   "nbconvert_exporter": "python",
   "pygments_lexer": "ipython3",
   "version": "3.6.9"
  }
 },
 "nbformat": 4,
 "nbformat_minor": 2
}
