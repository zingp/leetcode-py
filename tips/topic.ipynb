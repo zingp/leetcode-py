{
 "cells": [
  {
   "cell_type": "markdown",
   "metadata": {},
   "source": [
    "## 重点代码题目"
   ]
  },
  {
   "cell_type": "markdown",
   "metadata": {},
   "source": [
    "## 数据结构设计\n",
    "- 设计一个数据结构，完成set(key,value),get(key),set_all_value(value)，其中最后一个函数时间复杂度小于O（n）【O（1）】\n",
    "\n",
    "```\n",
    "考虑到普通set和set_all_value 需要比较先后顺序。\n",
    "方法1，基于更新时间戳（版本）\n",
    "    两类值，k上的值和 global的值，每个index和glabal值都维护更新时间戳\n",
    "    get(index)的时候，如果global值的时间大于index上的时间，取global的值，否则取index上的值\n",
    "\n",
    "\n",
    "方法2 exclude list (hash set) \n",
    "    setAll的时候 对global赋值，同时清空exclude list\n",
    "    之后如果有set(index) 加到exclude list\n",
    "    get(index)的时候\n",
    "    如果全局值为null，没啥好说的，取index上的值\n",
    "    否则，看index是否在exclude list里 如果在，取index上的，否则取global值\n",
    "```"
   ]
  },
  {
   "cell_type": "code",
   "execution_count": 3,
   "metadata": {},
   "outputs": [],
   "source": [
    "class KV(object):\n",
    "    def __init__(self):\n",
    "        self.count = 0\n",
    "        self.all_count = -1\n",
    "        self.all_value = None\n",
    "        self.map = dict()\n",
    "    \n",
    "    def set(self, k, v):\n",
    "        self.map[k] = (v, self.count)\n",
    "        self.count += 1\n",
    "    \n",
    "    def get(self, k):\n",
    "        if k in self.map:\n",
    "            if self.map[k][-1] > self.all_count:\n",
    "                return self.map[k][0]\n",
    "            else:\n",
    "                return self.all_value\n",
    "        return \n",
    "    \n",
    "    def set_all_value(self, v):\n",
    "        self.all_value = v\n",
    "        self.all_count = self.count\n",
    "        self.count += 1 "
   ]
  },
  {
   "cell_type": "code",
   "execution_count": 7,
   "metadata": {},
   "outputs": [],
   "source": [
    "class timerMap(object):\n",
    "    def __init__(self):\n",
    "        self.time = 0\n",
    "        self.all_value = None\n",
    "        self.all_value_time = -1\n",
    "        self.map = {}\n",
    "    \n",
    "    def set_value(self, k, v):\n",
    "        self.map[k] = (v, self.time)\n",
    "        self.time += 1\n",
    "    \n",
    "    def set_all_value(self, v):\n",
    "        self.all_value = v\n",
    "        self.all_value_time = self.time\n",
    "        self.time += 1\n",
    "    \n",
    "    def get(self, k):\n",
    "        if k in self.map:\n",
    "            if not self.all_value or self.map[k][-1] > self.all_value_time:\n",
    "                return self.map[k][0]\n",
    "            else:\n",
    "                return self.all_value"
   ]
  },
  {
   "cell_type": "code",
   "execution_count": 8,
   "metadata": {},
   "outputs": [],
   "source": [
    "mp = timerMap()"
   ]
  },
  {
   "cell_type": "code",
   "execution_count": 10,
   "metadata": {},
   "outputs": [
    {
     "name": "stdout",
     "output_type": "stream",
     "text": [
      "0 6\n",
      "1 6\n",
      "2 6\n",
      "3 9999\n",
      "4 6\n"
     ]
    }
   ],
   "source": [
    "for i in range(5):\n",
    "    mp.set_value(i, str(i))\n",
    "mp.set_all_value(6)\n",
    "mp.set_value(3, 9999)\n",
    "\n",
    "for i in range(5):\n",
    "    print(i, mp.get(i))"
   ]
  },
  {
   "cell_type": "markdown",
   "metadata": {},
   "source": [
    "## 261. 以图判树 - 锁\n",
    "- 给定从 0 到 n-1 标号的 n 个结点，和一个无向边列表（每条边以结点对来表示），请编写一个函数用来判断这些边是否能够形成一个合法有效的树结构。\n",
    "\n",
    "```\n",
    "示例 1：\n",
    "输入: n = 5, 边列表 edges = [[0,1], [0,2], [0,3], [1,4]]\n",
    "输出: true\n",
    "    \n",
    "示例 2:\n",
    "输入: n = 5, 边列表 edges = [[0,1], [1,2], [2,3], [1,3], [1,4]]\n",
    "输出: false\n",
    "    \n",
    "注意：你可以假定边列表 edges 中不会出现重复的边。由于所有的边是无向边，边 [0,1] 和边 [1,0] 是相同的，因此不会同时出现在边列表 edges 中。\n",
    "```\n"
   ]
  },
  {
   "cell_type": "code",
   "execution_count": 8,
   "metadata": {},
   "outputs": [],
   "source": [
    "class unionFindSet(object):\n",
    "    def __init__(self, n):\n",
    "        self.parent = [i for i in range(n)]\n",
    "        self.count = n\n",
    "        \n",
    "    def find(self, p):\n",
    "        root = p\n",
    "        while root != self.parent[root]:\n",
    "            root = self.parent[root]\n",
    "        while p != self.parent[p]:\n",
    "            x = p\n",
    "            self.parent[x] = root\n",
    "            p = self.parent[p]\n",
    "        return root\n",
    "    \n",
    "    def union(self, p, q):\n",
    "        p1 = self.find(p)\n",
    "        p2 = self.find(q)\n",
    "        if p1 == p2:\n",
    "            return False\n",
    "        self.parent[p] = q\n",
    "        self.count -= 1\n",
    "        return True"
   ]
  },
  {
   "cell_type": "code",
   "execution_count": 9,
   "metadata": {},
   "outputs": [],
   "source": [
    "def isValidTree(n, edges):\n",
    "    if n < 2:\n",
    "        return True\n",
    "    ufset = unionFindSet(n)\n",
    "    \n",
    "    for x, y in edges:\n",
    "        if not ufset.union(x, y):\n",
    "            return False\n",
    "    return True\n",
    "    "
   ]
  },
  {
   "cell_type": "code",
   "execution_count": 10,
   "metadata": {},
   "outputs": [
    {
     "data": {
      "text/plain": [
       "True"
      ]
     },
     "execution_count": 10,
     "metadata": {},
     "output_type": "execute_result"
    }
   ],
   "source": [
    "n = 5\n",
    "edges = [[0,1], [0,2], [0,3], [1,4]]\n",
    "isValidTree(n, edges)"
   ]
  },
  {
   "cell_type": "code",
   "execution_count": 11,
   "metadata": {},
   "outputs": [
    {
     "data": {
      "text/plain": [
       "False"
      ]
     },
     "execution_count": 11,
     "metadata": {},
     "output_type": "execute_result"
    }
   ],
   "source": [
    "edges = [[0,1], [1,2], [2,3], [1,3], [1,4]]\n",
    "isValidTree(n, edges)"
   ]
  },
  {
   "cell_type": "markdown",
   "metadata": {},
   "source": [
    "## 130 被围绕的区域"
   ]
  },
  {
   "cell_type": "code",
   "execution_count": 2,
   "metadata": {},
   "outputs": [],
   "source": [
    "from typing import List"
   ]
  },
  {
   "cell_type": "code",
   "execution_count": 30,
   "metadata": {},
   "outputs": [],
   "source": [
    "class Solution:\n",
    "    def solve(self, board: List[List[str]]) -> None:\n",
    "        \"\"\"\n",
    "        Do not return anything, modify board in-place instead.\n",
    "        \"\"\"\n",
    "        class unionFind(object):\n",
    "            def __init__(self, n):\n",
    "                self.parent = [_ for _ in range(n)]\n",
    "                self.count = n\n",
    "            \n",
    "            def find(self, p):\n",
    "                root = p\n",
    "                while root != self.parent[root]:\n",
    "                    root = self.parent[root] \n",
    "                while p != self.parent[p]:\n",
    "                    x = p\n",
    "                    self.parent[x] = root\n",
    "                    p = self.parent[p]\n",
    "                return root\n",
    "            \n",
    "            def union(self, p, q):\n",
    "                p1 = self.find(p)\n",
    "                p2 = self.find(q)\n",
    "                if p1 == p2:\n",
    "                    return\n",
    "                self.parent[p1] = p2\n",
    "                self.count -= 1\n",
    "        \n",
    "        if not board or not board[0]:\n",
    "            return board\n",
    "        drec = [(1, 0), (0, 1), (0, -1), (-1, 0)]\n",
    "        r = len(board)\n",
    "        c = len(board[0])\n",
    "        uf = unionFind(r*c + 1)\n",
    "\n",
    "        for i in range(r):\n",
    "            for j in range(c):\n",
    "                if board[i][j] == \"O\":\n",
    "                    if i == 0 or j == 0 or i == r-1 or j == c-1:\n",
    "                        uf.union(i*c + j, r*c)\n",
    "                    for x in drec:\n",
    "                        i_x = i + x[0]\n",
    "                        j_x = j + x[1]\n",
    "                        if 0 <= i_x < r and 0 <= j_x < c and board[i_x][j_x] == \"O\":\n",
    "                            uf.union(i_x*c + j_x, i*c + j)\n",
    "        for i in range(r):\n",
    "            for j in range(c):\n",
    "                if uf.find(i*c + j) == uf.find(r*c):\n",
    "                    board[i][j] = \"O\"\n",
    "                else:\n",
    "                    board[i][j] = \"X\"\n",
    "        return board"
   ]
  },
  {
   "cell_type": "code",
   "execution_count": 31,
   "metadata": {},
   "outputs": [],
   "source": [
    "board = [[\"X\",\"O\",\"X\",\"X\"],\n",
    " [\"O\",\"X\",\"O\",\"X\"],\n",
    " [\"X\",\"O\",\"X\",\"O\"],\n",
    " [\"O\",\"X\",\"O\",\"X\"]]\n",
    "\n",
    "# [[\"X\",\"O\",\"X\",\"X\"],\n",
    "#  [\"O\",\"X\",\"O\",\"X\"],\n",
    "#  [\"X\",\"O\",\"X\",\"O\"],\n",
    "#  [\"O\",\"X\",\"O\",\"X\"]]\n",
    "\n",
    "# 预期：\n",
    "# [[\"X\",\"O\",\"X\",\"X\"],\n",
    "#  [\"O\",\"X\",\"X\",\"X\"],\n",
    "#  [\"X\",\"X\",\"X\",\"O\"],\n",
    "#  [\"O\",\"X\",\"O\",\"X\"]]"
   ]
  },
  {
   "cell_type": "code",
   "execution_count": 32,
   "metadata": {},
   "outputs": [
    {
     "data": {
      "text/plain": [
       "[['X', 'O', 'X', 'X'],\n",
       " ['O', 'X', 'X', 'X'],\n",
       " ['X', 'X', 'X', 'O'],\n",
       " ['O', 'X', 'O', 'X']]"
      ]
     },
     "execution_count": 32,
     "metadata": {},
     "output_type": "execute_result"
    }
   ],
   "source": [
    "Solution().solve(board)"
   ]
  },
  {
   "cell_type": "code",
   "execution_count": 33,
   "metadata": {},
   "outputs": [],
   "source": [
    "board = [[\"X\",\"O\",\"X\",\"O\",\"X\",\"O\",\"O\",\"O\",\"X\",\"O\"],\n",
    "         [\"X\",\"O\",\"O\",\"X\",\"X\",\"X\",\"O\",\"O\",\"O\",\"X\"],\n",
    "         [\"O\",\"O\",\"O\",\"O\",\"O\",\"O\",\"O\",\"O\",\"X\",\"X\"],\n",
    "         [\"O\",\"O\",\"O\",\"O\",\"O\",\"O\",\"X\",\"O\",\"O\",\"X\"],\n",
    "         [\"O\",\"O\",\"X\",\"X\",\"O\",\"X\",\"X\",\"O\",\"O\",\"O\"],\n",
    "         [\"X\",\"O\",\"O\",\"X\",\"X\",\"X\",\"O\",\"X\",\"X\",\"O\"],\n",
    "         [\"X\",\"O\",\"X\",\"O\",\"O\",\"X\",\"X\",\"O\",\"X\",\"O\"],\n",
    "         [\"X\",\"X\",\"O\",\"X\",\"X\",\"O\",\"X\",\"O\",\"O\",\"X\"],\n",
    "         [\"O\",\"O\",\"O\",\"O\",\"X\",\"O\",\"X\",\"O\",\"X\",\"O\"],\n",
    "         [\"X\",\"X\",\"O\",\"X\",\"X\",\"X\",\"X\",\"O\",\"O\",\"O\"]]"
   ]
  },
  {
   "cell_type": "code",
   "execution_count": 34,
   "metadata": {},
   "outputs": [
    {
     "data": {
      "text/plain": [
       "[['X', 'O', 'X', 'O', 'X', 'O', 'O', 'O', 'X', 'O'],\n",
       " ['X', 'O', 'X', 'X', 'X', 'X', 'O', 'O', 'O', 'X'],\n",
       " ['O', 'O', 'X', 'X', 'X', 'X', 'O', 'O', 'X', 'X'],\n",
       " ['O', 'O', 'X', 'X', 'X', 'X', 'X', 'O', 'O', 'X'],\n",
       " ['O', 'O', 'X', 'X', 'X', 'X', 'X', 'O', 'O', 'O'],\n",
       " ['X', 'O', 'O', 'X', 'X', 'X', 'X', 'X', 'X', 'O'],\n",
       " ['X', 'O', 'X', 'X', 'X', 'X', 'X', 'O', 'X', 'O'],\n",
       " ['X', 'X', 'O', 'X', 'X', 'X', 'X', 'O', 'O', 'X'],\n",
       " ['O', 'O', 'O', 'O', 'X', 'X', 'X', 'O', 'X', 'O'],\n",
       " ['X', 'X', 'O', 'X', 'X', 'X', 'X', 'O', 'O', 'O']]"
      ]
     },
     "execution_count": 34,
     "metadata": {},
     "output_type": "execute_result"
    }
   ],
   "source": [
    "Solution().solve(board)"
   ]
  },
  {
   "cell_type": "markdown",
   "metadata": {},
   "source": [
    "## 数组排序"
   ]
  },
  {
   "cell_type": "code",
   "execution_count": 12,
   "metadata": {},
   "outputs": [],
   "source": [
    "def quick_sort(array, left, right):\n",
    "    if left < right:\n",
    "        mid = partition(array, left, right)\n",
    "        quick_sort(array, left, mid-1)\n",
    "        quick_sort(array, mid+1, right)\n",
    "\n",
    "def partition(array, left, right):\n",
    "    tmp = array[left]\n",
    "    while left < right:\n",
    "        while left < right and array[right] >= tmp:\n",
    "            right -= 1\n",
    "        array[left] = array[right]\n",
    "        while left < right and array[left] <= tmp:\n",
    "            left += 1\n",
    "        array[right] = array[left]\n",
    "    array[left] = tmp\n",
    "    return left"
   ]
  },
  {
   "cell_type": "code",
   "execution_count": 62,
   "metadata": {},
   "outputs": [],
   "source": [
    "import random"
   ]
  },
  {
   "cell_type": "code",
   "execution_count": 64,
   "metadata": {},
   "outputs": [
    {
     "name": "stdout",
     "output_type": "stream",
     "text": [
      "[6, 0, 45, 36, 24, 19, 32, 28, 9, 22, 48, 43, 17, 27, 1, 38, 5, 44, 40, 37, 26, 15, 42, 23, 29, 20, 30, 31, 10, 33, 16, 14, 25, 3, 7, 39, 12, 41, 21, 4, 35, 13, 11, 46, 47, 18, 8, 2, 34, 49]\n"
     ]
    }
   ],
   "source": [
    "li = list(range(50))\n",
    "random.shuffle(li)\n",
    "print(li)"
   ]
  },
  {
   "cell_type": "code",
   "execution_count": 16,
   "metadata": {},
   "outputs": [],
   "source": [
    "quick_sort(li, 0, len(li)-1)"
   ]
  },
  {
   "cell_type": "code",
   "execution_count": 18,
   "metadata": {},
   "outputs": [
    {
     "name": "stdout",
     "output_type": "stream",
     "text": [
      "[0, 1, 2, 3, 4, 5, 6, 7, 8, 9, 10, 11, 12, 13, 14, 15, 16, 17, 18, 19, 20, 21, 22, 23, 24, 25, 26, 27, 28, 29, 30, 31, 32, 33, 34, 35, 36, 37, 38, 39, 40, 41, 42, 43, 44, 45, 46, 47, 48, 49]\n"
     ]
    }
   ],
   "source": [
    "print(li)"
   ]
  },
  {
   "cell_type": "markdown",
   "metadata": {},
   "source": [
    "##  归并排序"
   ]
  },
  {
   "cell_type": "code",
   "execution_count": 60,
   "metadata": {},
   "outputs": [],
   "source": [
    "def merge(array, left, mid, right):\n",
    "    i = left\n",
    "    j = mid + 1\n",
    "    tmp = []\n",
    "    while i <= mid and j <= right:\n",
    "        if array[i] <= array[j]:\n",
    "            tmp.append(array[i])\n",
    "            i += 1\n",
    "        else:\n",
    "            tmp.append(array[j])\n",
    "            j += 1\n",
    "    while i <= mid:\n",
    "        tmp.append(array[i])\n",
    "        i += 1\n",
    "    while j <= right:\n",
    "        tmp.append(array[j])\n",
    "        j += 1\n",
    "    array[left: right+1] = tmp\n",
    "\n",
    "def merge_sort(array, left, right):\n",
    "    if left < right:\n",
    "        mid = (left + right) // 2\n",
    "        merge_sort(array, left, mid)\n",
    "        merge_sort(array, mid+1, right)\n",
    "        merge(array, left, mid, right)"
   ]
  },
  {
   "cell_type": "code",
   "execution_count": 65,
   "metadata": {},
   "outputs": [
    {
     "name": "stdout",
     "output_type": "stream",
     "text": [
      "[2, 17, 31, 49, 10, 11, 36, 44, 35, 14, 15, 30, 46, 9, 33, 47, 26, 0, 38, 6, 25, 19, 22, 34, 21, 16, 12, 42, 48, 20, 37, 13, 40, 24, 32, 43, 5, 3, 18, 28, 27, 8, 23, 39, 4, 29, 41, 45, 1, 7]\n"
     ]
    }
   ],
   "source": [
    "random.shuffle(li)\n",
    "print(li)"
   ]
  },
  {
   "cell_type": "code",
   "execution_count": 66,
   "metadata": {},
   "outputs": [
    {
     "name": "stdout",
     "output_type": "stream",
     "text": [
      "[0, 1, 2, 3, 4, 5, 6, 7, 8, 9, 10, 11, 12, 13, 14, 15, 16, 17, 18, 19, 20, 21, 22, 23, 24, 25, 26, 27, 28, 29, 30, 31, 32, 33, 34, 35, 36, 37, 38, 39, 40, 41, 42, 43, 44, 45, 46, 47, 48, 49]\n"
     ]
    }
   ],
   "source": [
    "merge_sort(li, 0, len(li)-1)\n",
    "print(li)"
   ]
  },
  {
   "cell_type": "code",
   "execution_count": 67,
   "metadata": {},
   "outputs": [],
   "source": [
    "def sift(array, left, right):\n",
    "    i = left \n",
    "    j = 2 * i + 1 \n",
    "    tmp = array[i]\n",
    "    while j <= right:\n",
    "        while j < right and array[j+1] > array[j]:\n",
    "            j = j + 1\n",
    "        if array[j] > tmp:\n",
    "            array[i] = array[j]\n",
    "            i = j\n",
    "            j = 2*i + 1\n",
    "        else:\n",
    "            break\n",
    "    array[i] = tmp\n",
    "\n",
    "def heap_sort(array):\n",
    "    # 建堆\n",
    "    n = len(array)\n",
    "    for i in range(n//2-1, -1, -1):\n",
    "        sift(array, i, n-1)\n",
    "    \n",
    "    for i in range(n-1, -1, -1):\n",
    "        array[0], array[i] = array[i], array[0]\n",
    "        sift(array, 0, i-1)"
   ]
  },
  {
   "cell_type": "code",
   "execution_count": 69,
   "metadata": {},
   "outputs": [
    {
     "name": "stdout",
     "output_type": "stream",
     "text": [
      "[10, 2, 26, 21, 27, 33, 43, 34, 48, 44, 6, 49, 20, 12, 38, 5, 3, 24, 19, 41, 7, 35, 14, 32, 40, 0, 11, 31, 18, 36, 4, 37, 17, 30, 15, 46, 22, 47, 13, 25, 29, 23, 8, 1, 16, 42, 28, 39, 9, 45]\n"
     ]
    }
   ],
   "source": [
    "random.shuffle(li)\n",
    "print(li)"
   ]
  },
  {
   "cell_type": "code",
   "execution_count": 70,
   "metadata": {},
   "outputs": [
    {
     "name": "stdout",
     "output_type": "stream",
     "text": [
      "[0, 1, 2, 3, 4, 5, 6, 7, 8, 9, 10, 11, 12, 13, 14, 15, 16, 17, 18, 19, 20, 21, 22, 23, 24, 25, 26, 27, 28, 29, 30, 31, 32, 33, 34, 35, 36, 37, 38, 39, 40, 41, 42, 43, 44, 45, 46, 47, 48, 49]\n"
     ]
    }
   ],
   "source": [
    "heap_sort(li)\n",
    "print(li)"
   ]
  },
  {
   "cell_type": "code",
   "execution_count": null,
   "metadata": {},
   "outputs": [],
   "source": []
  },
  {
   "cell_type": "code",
   "execution_count": null,
   "metadata": {},
   "outputs": [],
   "source": []
  },
  {
   "cell_type": "code",
   "execution_count": 29,
   "metadata": {},
   "outputs": [],
   "source": [
    "def sift(array, left, right):\n",
    "    i = left # 根节点\n",
    "    j = 2*i + 1 # 根的左孩子\n",
    "    tmp = array[i]\n",
    "    while j <= right:\n",
    "        if j < right and array[j] < array[j+1]:\n",
    "            j = j + 1\n",
    "        if tmp < array[j]:\n",
    "            array[i] = array[j]\n",
    "            i = j\n",
    "            j = 2*i + 1\n",
    "        else:\n",
    "            break\n",
    "    array[i] = tmp\n",
    "    \n",
    "def heap_sort(array):\n",
    "    n = len(array)\n",
    "    for i in range(n//2 -1, -1, -1):\n",
    "        sift(array, i, n-1)\n",
    "    for i in range(n-1, -1, -1):\n",
    "        array[0], array[i] = array[i], array[0]\n",
    "        sift(array, 0, i-1)"
   ]
  },
  {
   "cell_type": "code",
   "execution_count": 30,
   "metadata": {},
   "outputs": [
    {
     "name": "stdout",
     "output_type": "stream",
     "text": [
      "[40, 26, 2, 22, 29, 48, 1, 21, 11, 39, 43, 41, 31, 0, 15, 35, 49, 9, 14, 20, 3, 38, 10, 45, 18, 19, 24, 27, 28, 7, 36, 47, 16, 46, 34, 6, 4, 23, 8, 32, 37, 12, 42, 13, 30, 5, 44, 17, 33, 25]\n"
     ]
    }
   ],
   "source": [
    "random.shuffle(li)\n",
    "print(li)"
   ]
  },
  {
   "cell_type": "code",
   "execution_count": 31,
   "metadata": {},
   "outputs": [
    {
     "name": "stdout",
     "output_type": "stream",
     "text": [
      "[0, 1, 2, 3, 4, 5, 6, 7, 8, 9, 10, 11, 12, 13, 14, 15, 16, 17, 18, 19, 20, 21, 22, 23, 24, 25, 26, 27, 28, 29, 30, 31, 32, 33, 34, 35, 36, 37, 38, 39, 40, 41, 42, 43, 44, 45, 46, 47, 48, 49]\n"
     ]
    }
   ],
   "source": [
    "heap_sort(li)\n",
    "print(li)"
   ]
  },
  {
   "cell_type": "markdown",
   "metadata": {},
   "source": [
    "## 链表"
   ]
  },
  {
   "cell_type": "code",
   "execution_count": 1,
   "metadata": {},
   "outputs": [],
   "source": [
    "class LinkNode(object):\n",
    "    def __init__(self, v=None):\n",
    "        self.value = v\n",
    "        self.next = None\n",
    "    \n",
    "    def __repr__(self):\n",
    "        r = []\n",
    "        cur = self\n",
    "        while cur:\n",
    "            r.append(cur.value)\n",
    "            cur = cur.next\n",
    "        return \"<Link: [{}]>\".format(\", \".join([str(s) for s in r]))"
   ]
  },
  {
   "cell_type": "code",
   "execution_count": 2,
   "metadata": {},
   "outputs": [],
   "source": [
    "def p(root):\n",
    "    cur = root\n",
    "    r = []\n",
    "    while cur:\n",
    "        print(\"cur:\", cur, cur.value)\n",
    "        r.append(cur.value)\n",
    "        cur = cur.next\n",
    "    return r"
   ]
  },
  {
   "cell_type": "code",
   "execution_count": 3,
   "metadata": {},
   "outputs": [],
   "source": [
    "def reverse(head):\n",
    "    #pre = LinkNode() # 这种写法是错误的，会造成死循环\n",
    "    pre = None\n",
    "    cur = head\n",
    "    while cur:\n",
    "        next_ = cur.next\n",
    "        cur.next = pre\n",
    "        pre = cur\n",
    "        cur = next_\n",
    "    return pre"
   ]
  },
  {
   "cell_type": "code",
   "execution_count": 4,
   "metadata": {},
   "outputs": [],
   "source": [
    "def buildLink(li):\n",
    "    pre = cur = LinkNode()\n",
    "    for i in li:\n",
    "        cur.next = LinkNode(i)\n",
    "        cur = cur.next\n",
    "    return pre.next"
   ]
  },
  {
   "cell_type": "code",
   "execution_count": 5,
   "metadata": {},
   "outputs": [],
   "source": [
    "head = buildLink(list(range(10)))"
   ]
  },
  {
   "cell_type": "code",
   "execution_count": 6,
   "metadata": {},
   "outputs": [
    {
     "data": {
      "text/plain": [
       "<Link: [0, 1, 2, 3, 4, 5, 6, 7, 8, 9]>"
      ]
     },
     "execution_count": 6,
     "metadata": {},
     "output_type": "execute_result"
    }
   ],
   "source": [
    "head"
   ]
  },
  {
   "cell_type": "code",
   "execution_count": 7,
   "metadata": {},
   "outputs": [],
   "source": [
    "newhead = reverse(head)"
   ]
  },
  {
   "cell_type": "code",
   "execution_count": 8,
   "metadata": {},
   "outputs": [
    {
     "data": {
      "text/plain": [
       "<Link: [9, 8, 7, 6, 5, 4, 3, 2, 1, 0]>"
      ]
     },
     "execution_count": 8,
     "metadata": {},
     "output_type": "execute_result"
    }
   ],
   "source": [
    "newhead"
   ]
  },
  {
   "cell_type": "code",
   "execution_count": 17,
   "metadata": {},
   "outputs": [],
   "source": [
    "class Solution:\n",
    "    def reorderList(self , head ):\n",
    "        # write code here\n",
    "        def reverse(head):\n",
    "            pre = None\n",
    "            cur = head\n",
    "            while cur:\n",
    "                nxt = cur.next\n",
    "                cur.next = pre\n",
    "                pre = cur\n",
    "                cur = nxt\n",
    "            return pre\n",
    "        if not head or not head.next:\n",
    "            return head\n",
    "        slow = head\n",
    "        fast = head\n",
    "        while fast and fast.next:\n",
    "            slow = slow.next\n",
    "            fast = fast.next.next\n",
    "        p1 = head\n",
    "        p = slow.next\n",
    "        slow.next = None\n",
    "        p2 = reverse(p)\n",
    "        pre = LinkNode(-1)\n",
    "        new_head = pre\n",
    "        count = 1\n",
    "        while p1 and p2:\n",
    "            if count % 2 == 1:\n",
    "                pre.next = p1\n",
    "                p1 = p1.next\n",
    "            else:\n",
    "                pre.next = p2\n",
    "                p2 = p2.next\n",
    "            count += 1\n",
    "            pre = pre.next\n",
    "        if p1:\n",
    "            pre.next = p1\n",
    "        else:\n",
    "            pre.next = p2\n",
    "        return new_head.next"
   ]
  },
  {
   "cell_type": "code",
   "execution_count": 18,
   "metadata": {},
   "outputs": [],
   "source": [
    "head = buildLink([])"
   ]
  },
  {
   "cell_type": "code",
   "execution_count": 19,
   "metadata": {},
   "outputs": [],
   "source": [
    "x = Solution().reorderList(head)"
   ]
  },
  {
   "cell_type": "code",
   "execution_count": 20,
   "metadata": {},
   "outputs": [
    {
     "data": {
      "text/plain": [
       "[]"
      ]
     },
     "execution_count": 20,
     "metadata": {},
     "output_type": "execute_result"
    }
   ],
   "source": [
    "p(x)"
   ]
  },
  {
   "cell_type": "markdown",
   "metadata": {},
   "source": [
    "## K个一组反转\n",
    "-给定一个单链表的头节点 head,实现一个调整单链表的函数，使得每K个节点之间为一组进行逆序，并且从链表的尾部开始组起，头部剩余节点数量不够一组的不需要逆序。（不能使用队列或者栈作为辅助）\n",
    "- [0, 1, 2, 3, 4, 5, 6, 7, 8, 9]\n",
    "- [0, 3, 2, 1, 6, 5, 4, 9, 8, 7]"
   ]
  },
  {
   "cell_type": "code",
   "execution_count": 13,
   "metadata": {},
   "outputs": [],
   "source": [
    "def reverseLinkByKGroup(head, k):\n",
    "    def reverseKnode(head, k):\n",
    "        pre = None\n",
    "        cur = head\n",
    "        for i in range(k):\n",
    "            next_ = cur.next\n",
    "            cur.next = pre\n",
    "            pre = cur\n",
    "            cur = next_\n",
    "        head.next = cur\n",
    "        return pre \n",
    "    \n",
    "    if not head or not head.next or k==1:\n",
    "        return head\n",
    "    n = 0\n",
    "    cur = head\n",
    "    while cur:\n",
    "        n += 1\n",
    "        cur = cur.next\n",
    "    \n",
    "    start = n % k\n",
    "    \n",
    "    new_head = pre = LinkNode()\n",
    "    pre.next = head\n",
    "    for _ in range(start):\n",
    "        pre = pre.next\n",
    "    for i in range(n):\n",
    "        if (i-start) % k == 0 and n-i >= k:\n",
    "#             print(pre.value)\n",
    "            rhead = reverseKnode(pre.next, k)\n",
    "            pre.next = rhead\n",
    "            for _ in range(k):\n",
    "                if pre:\n",
    "                    pre = pre.next\n",
    "    return new_head.next"
   ]
  },
  {
   "cell_type": "code",
   "execution_count": 10,
   "metadata": {},
   "outputs": [],
   "source": [
    "head = buildLink(list(range(10)))"
   ]
  },
  {
   "cell_type": "code",
   "execution_count": 11,
   "metadata": {},
   "outputs": [
    {
     "data": {
      "text/plain": [
       "<Link: [0, 1, 2, 3, 4, 5, 6, 7, 8, 9]>"
      ]
     },
     "execution_count": 11,
     "metadata": {},
     "output_type": "execute_result"
    }
   ],
   "source": [
    "head"
   ]
  },
  {
   "cell_type": "code",
   "execution_count": 15,
   "metadata": {},
   "outputs": [
    {
     "data": {
      "text/plain": [
       "<Link: [0, 3, 2, 1, 6, 5, 4, 9, 8, 7]>"
      ]
     },
     "execution_count": 15,
     "metadata": {},
     "output_type": "execute_result"
    }
   ],
   "source": [
    "nhead = reverseLinkByKGroup(head, 3)\n",
    "nhead"
   ]
  },
  {
   "cell_type": "markdown",
   "metadata": {},
   "source": [
    "## topK"
   ]
  },
  {
   "cell_type": "code",
   "execution_count": 26,
   "metadata": {},
   "outputs": [],
   "source": [
    "class Solution:\n",
    "    def GetLeastNumbers_Solution(self, tinput, k):\n",
    "        # write code here\n",
    "        def sift(array, left, right):\n",
    "            i = left\n",
    "            j = 2 * i + 1\n",
    "            tmp = array[i]\n",
    "            while j <= right:\n",
    "                if j < right and array[j+1] > array[j]:\n",
    "                    j = j + 1\n",
    "                if tmp <= array[j]:\n",
    "                    array[i] = array[j]\n",
    "                    i = j\n",
    "                    j = 2*i + 1\n",
    "                else:\n",
    "                    break\n",
    "            array[i] = tmp\n",
    "        n = len(tinput)\n",
    "        if k > n :\n",
    "            return []\n",
    "        for i in range(n//2 - 1, -1, -1):\n",
    "            sift(tinput, i, n-1)\n",
    "        res = []\n",
    "        for i in range(n-1, n-k-1, -1):\n",
    "            tinput[0], tinput[i] = tinput[i], tinput[0]\n",
    "            sift(tinput, 0, i-1)\n",
    "            if i == k:\n",
    "                break\n",
    "        return tinput[-k :]"
   ]
  },
  {
   "cell_type": "code",
   "execution_count": 27,
   "metadata": {},
   "outputs": [],
   "source": [
    "tinput = [4,5,1,6,2,7,3,8]\n",
    "k = 4"
   ]
  },
  {
   "cell_type": "code",
   "execution_count": 28,
   "metadata": {},
   "outputs": [
    {
     "data": {
      "text/plain": [
       "[5, 6, 7, 8]"
      ]
     },
     "execution_count": 28,
     "metadata": {},
     "output_type": "execute_result"
    }
   ],
   "source": [
    "Solution().GetLeastNumbers_Solution(tinput, k)"
   ]
  },
  {
   "cell_type": "markdown",
   "metadata": {},
   "source": [
    "## topK\n",
    "- 有一个整数数组，请你根据快速排序的思路，找出数组中第K大的数。\n",
    "- 给定一个整数数组a,同时给定它的大小n和要找的K(K在1到n之间)，请返回第K大的数，保证答案存在。"
   ]
  },
  {
   "cell_type": "code",
   "execution_count": 88,
   "metadata": {},
   "outputs": [],
   "source": [
    "def partition(arr, left, right):\n",
    "    tmp = arr[left]\n",
    "    while left < right:\n",
    "        while left < right and tmp >= arr[right]:\n",
    "            right -= 1\n",
    "        arr[left] = arr[right]\n",
    "        while left < right and tmp <= arr[left]:\n",
    "            left += 1\n",
    "        arr[right] = arr[left]\n",
    "    arr[left] = tmp\n",
    "    return left\n",
    "\n",
    "def quickSortTopK(arr, left, right, K):\n",
    "    if left < right:\n",
    "        p = partition(arr, left, right)\n",
    "        if p - left == K-1 :\n",
    "            return arr[p]\n",
    "        elif p - left > K-1:\n",
    "            return quickSortTopK(arr, left, p-1, K)\n",
    "        else:\n",
    "            return quickSortTopK(arr, p+1, right, K-p+left-1)\n",
    "    # 这个很重要，没有的话会有bug\n",
    "    return arr[left]\n",
    "        \n",
    "class Solution:\n",
    "    def findKth(self, a, n, K):\n",
    "        return quickSortTopK(a, 0, n-1, K)    "
   ]
  },
  {
   "cell_type": "code",
   "execution_count": 83,
   "metadata": {},
   "outputs": [],
   "source": [
    "import random\n",
    "li = list(range(10))\n",
    "random.shuffle(li)\n",
    "#li = [5, 0, 6, 9, 1, 3, 3, 6, 6, 7, 8, 2, 4]"
   ]
  },
  {
   "cell_type": "code",
   "execution_count": 84,
   "metadata": {},
   "outputs": [
    {
     "name": "stdout",
     "output_type": "stream",
     "text": [
      "5\n"
     ]
    }
   ],
   "source": [
    "print(Solution().findKth(li, len(li), 5))"
   ]
  },
  {
   "cell_type": "code",
   "execution_count": 86,
   "metadata": {},
   "outputs": [
    {
     "name": "stdout",
     "output_type": "stream",
     "text": [
      "1889955\n"
     ]
    }
   ],
   "source": [
    "li = [363047,1010880,240149,1625009,542307,665705,911808,103856,671544,1300643,1827344,206529,42217,147976,723290,1676726,202900,1364904,638833,797085,1084935,1106701,1339778,641359,268339,1017918,593852,676409,835688,1395103,1435452,63760,902767,938570,442508,1089571,1473932,1672481,288602,1639230,156813,956865,1089083,992310,859686,1004628,1600048,746937,1735047,275727,825630,31172,988291,1740072,1134157,1216362,1691491,554450,993240,1901642,1172064,1724047,699223,3161,1912328,714022,403013,72430,1525111,1088068,1177389,1736044,1421768,43836,1184729,277374,996841,1281388,1445175,1384054,825431,977343,1729999,400418,38737,1175873,1457130,1092726,1364365,1310499,236180,1587696,750808,31565,1568177,996525,817324,511336,307148,56320,1107335,1924246,1364690,307094,324230,915035,1864387,384519,972099,999028,758538,1670952,172914,1014396,1366371,1959283,900176,1213143,388700,1151204,218501,445072,1709306,1266039,991212,9441,733159,996599,1171969,152662,1112686,1755388,1887551,1159458,1880156,807129,1557891,1972221,1034665,156875,1087871,1271922,1717867,1200348,366801,329393,1252011,346961,1612325,778115,1407158,702431,1617464,1055209,679412,255619,501946,1410973,71527,1710248,126647,1494957,247713,88526,373805,1150784,1480820,751880,651477,1364717,1151604,1716583,1244500,1889955,652461,37459,1147266,1201053,198729,1502190,440221,1351202,843466,1514168,1805252,327425,32987,984933,343091,1977846,1856431,1275202,1833003,908675,1147499,54008,294476,49576,1592145,398356,290027,1693781,558998,521352,683953,1304541,417371,1678170,978472,304582,1512909,1841018,474880,1889261,1524851,132764,309932,240652,554940,436798,1579545,965640,1701467,334550,1228603,1460006,1038115,105902,1378983,865756,7147,1180824,676308,99008,1838219,275660,697131,480522,1527571,834530,1355644,574705,413105,35089,659492,512092,1766582,1733740,18889,1070932,1842956,1639344,173217,1775589,1876655,649476,1463287,948251,908713,1738329,82584,646982,1673832,111318,1735799,536460,564199,1027478,777187,371077,1298811,4550,1583634,242715,592559,693205,1894703,659227,904193,1899867,360288,91702,362330,811805,1784400,1509147,1369390,388925,612914,285889,475507,583348,1935562,654035,161934,452682,1551928,431910,289619,352471,879056,1840927,597824,1338566,584757,1178338,30389,122828,1083493,1352813,1443072,420662,195350,483018,860056,1205099,1761118,304240,1227346,1680536,143142,304695,1507819,1591712,157207,1826156,1981284,45207,9410,62955,253932,1135768,1491713,24986,1104017,332532,1210242,668321,666193,756488,1324741,717765,804484,1084670,497411,1042499,1727443,1100728,1024005,900253,815804,1222189,1324316,551277,1758153]\n",
    "K = 11\n",
    "print(Solution().findKth(li, len(li), K))"
   ]
  },
  {
   "cell_type": "markdown",
   "metadata": {},
   "source": [
    "## 数组数字连续的最长序列（难）\n",
    "\n",
    "```\n",
    "给定一个未排序的整数数组 nums ，找出数字连续的最长序列（不要求序列元素在原数组中连续）的长度。\n",
    "进阶：你可以设计并实现时间复杂度为 O(n) 的解决方案吗？\n",
    "示例 1：\n",
    "\n",
    "输入：nums = [100,4,200,1,3,2]\n",
    "输出：4\n",
    "解释：最长数字连续序列是 [1, 2, 3, 4]。它的长度为 4。\n",
    "示例 2：\n",
    "\n",
    "输入：nums = [0,3,7,2,5,8,4,6,0,1]\n",
    "输出：9\n",
    "```"
   ]
  },
  {
   "cell_type": "code",
   "execution_count": 91,
   "metadata": {},
   "outputs": [],
   "source": [
    "from typing import List"
   ]
  },
  {
   "cell_type": "code",
   "execution_count": 92,
   "metadata": {},
   "outputs": [],
   "source": [
    "class Solution:\n",
    "    def longestConsecutive(self, nums: List[int]) -> int:\n",
    "        dic = dict()\n",
    "        max_len = 0\n",
    "        for i in nums:\n",
    "            if i not in dic:\n",
    "                left = dic.get(i-1, 0)\n",
    "                right = dic.get(i+1, 0)\n",
    "                cur_len = 1 + left + right\n",
    "                max_len = max(max_len, cur_len)\n",
    "                dic[i] = cur_len\n",
    "                dic[i-left] = cur_len\n",
    "                dic[i+right] = cur_len\n",
    "        return max_len"
   ]
  },
  {
   "cell_type": "markdown",
   "metadata": {},
   "source": [
    "## LRU"
   ]
  },
  {
   "cell_type": "code",
   "execution_count": 93,
   "metadata": {},
   "outputs": [],
   "source": [
    "class DLinkNode(object):\n",
    "    def __init__(self, k=0, v=0):\n",
    "        self.key = k\n",
    "        self.value = v\n",
    "        self.prev = None\n",
    "        self.next = None\n",
    "\n",
    "class MyLRU(object):\n",
    "    # hash表+双链表\n",
    "    def __init__(self, capacity):\n",
    "        self.cache = dict()\n",
    "        self.head = DLinkNode()\n",
    "        self.tail = DLinkNode()\n",
    "        self.head.next = self.tail\n",
    "        self.tail.prev = self.head\n",
    "        self.capacity = capacity\n",
    "        self.size = 0\n",
    "        \n",
    "    def get(self, k):\n",
    "        if k not in self.cache:\n",
    "            return -1\n",
    "        node = self.cache[k]\n",
    "        self.moveToHead(node)\n",
    "        return node.value\n",
    "    \n",
    "    def set(self, k, v):\n",
    "        if k not in self.cache:\n",
    "            node = DLinkNode(k, v)\n",
    "            self.cache[k] = node\n",
    "            self.addToHead(node)\n",
    "            self.size += 1\n",
    "            if self.size > self.capacity:\n",
    "                # 删除链表尾结点\n",
    "                node = self.removeTail()\n",
    "                # 删除映射关系\n",
    "                self.cache.pop(node.key)\n",
    "                self.size -= 1\n",
    "        else:\n",
    "            node = self.cache[k]\n",
    "            node.value = v\n",
    "            self.moveToHead(node)\n",
    "    \n",
    "    def addToHead(self, node):\n",
    "        node.next = self.head.next\n",
    "        self.head.next.prev = node\n",
    "        node.prev = self.head\n",
    "        self.head.next = node\n",
    "    \n",
    "    def removeNode(self, node):\n",
    "        node.prev.next = node.next\n",
    "        node.next.prev = node.prev\n",
    "        node.prev = None\n",
    "        node.next = None\n",
    "    \n",
    "    def moveToHead(self, node):\n",
    "        self.removeNode(node)\n",
    "        self.addToHead(node)\n",
    "\n",
    "    def removeTail(self):\n",
    "        node = self.tail.prev\n",
    "        self.removeNode(node)\n",
    "        return node\n",
    "        \n",
    "class Solution:\n",
    "    def LRU(self , operators , k ):\n",
    "        # write code here\n",
    "        kv = MyLRU(k)\n",
    "        res = []\n",
    "        for li in operators:\n",
    "            if len(li) == 3:\n",
    "                kv.set(li[1], li[2])\n",
    "            elif len(li) == 2:\n",
    "                res.append(kv.get(li[-1]))\n",
    "        return res"
   ]
  },
  {
   "cell_type": "code",
   "execution_count": 96,
   "metadata": {},
   "outputs": [],
   "source": [
    "from collections import OrderedDict"
   ]
  },
  {
   "cell_type": "code",
   "execution_count": 122,
   "metadata": {},
   "outputs": [],
   "source": [
    "from collections import OrderedDict\n",
    "\n",
    "class MyLRU(object):\n",
    "    def __init__(self, capacity):\n",
    "        self.cache = OrderedDict()\n",
    "        self.capacity = capacity\n",
    "        \n",
    "    def get(self, k):\n",
    "        if k not in self.cache:\n",
    "            return -1\n",
    "        self.cache.move_to_end(k)\n",
    "        return self.cache[k]\n",
    "    \n",
    "    def push(self, k, v):\n",
    "        self.cache[k] = v\n",
    "        self.cache.move_to_end(k)\n",
    "        if len(self.cache) > self.capacity:\n",
    "            self.cache.popitem(last=False)\n",
    "        \n",
    "class Solution:\n",
    "    def LRU(self , operators , k ):\n",
    "        # write code here\n",
    "        kv = MyLRU(k)\n",
    "        res = []\n",
    "        for li in operators:\n",
    "            if len(li) == 3:\n",
    "                kv.push(li[1], li[2])\n",
    "            elif len(li) == 2:\n",
    "                res.append(kv.get(li[-1]))\n",
    "        return res"
   ]
  },
  {
   "cell_type": "code",
   "execution_count": 123,
   "metadata": {},
   "outputs": [],
   "source": [
    "operators = [[1,1,1],[1,2,2],[1,3,2],[2,1],[1,4,4],[2,2]]\n",
    "k = 3"
   ]
  },
  {
   "cell_type": "code",
   "execution_count": 124,
   "metadata": {},
   "outputs": [
    {
     "data": {
      "text/plain": [
       "[1, -1]"
      ]
     },
     "execution_count": 124,
     "metadata": {},
     "output_type": "execute_result"
    }
   ],
   "source": [
    "Solution().LRU(operators, k)"
   ]
  },
  {
   "cell_type": "code",
   "execution_count": 114,
   "metadata": {},
   "outputs": [],
   "source": [
    "d[\"1\"] = 2"
   ]
  },
  {
   "cell_type": "code",
   "execution_count": 115,
   "metadata": {},
   "outputs": [],
   "source": [
    "d[\"2\"] = 3"
   ]
  },
  {
   "cell_type": "code",
   "execution_count": 116,
   "metadata": {},
   "outputs": [
    {
     "data": {
      "text/plain": [
       "OrderedDict([('1', 2), ('2', 3)])"
      ]
     },
     "execution_count": 116,
     "metadata": {},
     "output_type": "execute_result"
    }
   ],
   "source": [
    "d"
   ]
  },
  {
   "cell_type": "code",
   "execution_count": 117,
   "metadata": {},
   "outputs": [
    {
     "data": {
      "text/plain": [
       "('1', 2)"
      ]
     },
     "execution_count": 117,
     "metadata": {},
     "output_type": "execute_result"
    }
   ],
   "source": [
    "d.popitem(last=False)"
   ]
  },
  {
   "cell_type": "code",
   "execution_count": 118,
   "metadata": {},
   "outputs": [
    {
     "data": {
      "text/plain": [
       "OrderedDict([('2', 3)])"
      ]
     },
     "execution_count": 118,
     "metadata": {},
     "output_type": "execute_result"
    }
   ],
   "source": [
    "d"
   ]
  },
  {
   "cell_type": "code",
   "execution_count": 109,
   "metadata": {},
   "outputs": [
    {
     "data": {
      "text/plain": [
       "OrderedDict([('3', None)])"
      ]
     },
     "execution_count": 109,
     "metadata": {},
     "output_type": "execute_result"
    }
   ],
   "source": [
    "d"
   ]
  },
  {
   "cell_type": "code",
   "execution_count": 5,
   "metadata": {},
   "outputs": [
    {
     "name": "stdout",
     "output_type": "stream",
     "text": [
      "0\n",
      "2\n",
      "4\n"
     ]
    }
   ],
   "source": [
    "for i in range(0, 5, 2):\n",
    "    print(i)"
   ]
  },
  {
   "cell_type": "code",
   "execution_count": 53,
   "metadata": {},
   "outputs": [],
   "source": [
    "import heapq\n",
    "\n",
    "class medianFinder(object):\n",
    "    def __init__(self):\n",
    "        self.count = 0\n",
    "        self.max_heap = []\n",
    "        self.min_heap = []\n",
    "    \n",
    "    def push(self, x):\n",
    "        self.count += 1\n",
    "        heapq.heappush(self.max_heap, (-x, x))\n",
    "        _, max_n = heapq.heappop(self.max_heap)\n",
    "        heapq.heappush(self.min_heap, max_n)\n",
    "        if self.count & 1:\n",
    "            min_n =  heapq.heappop(self.min_heap)\n",
    "            heapq.heappush(self.max_heap, (-min_n, min_n))\n",
    "    \n",
    "    def getmedian(self):\n",
    "        if self.count == 0:\n",
    "            return -1\n",
    "        if self.count & 1:\n",
    "            return self.max_heap[0][1]\n",
    "        else:\n",
    "            return (self.max_heap[0][1] + self.min_heap[0]) / 2\n",
    "\n",
    "class Solution:\n",
    "    def flowmedian(self , operations ):\n",
    "        # write code here\n",
    "        res = []\n",
    "        medianFlow = medianFinder()\n",
    "        for x in operations:\n",
    "            if x[0] == 1:\n",
    "                medianFlow.push(x[-1])\n",
    "            else:\n",
    "                m = medianFlow.getmedian()\n",
    "                res.append(m)\n",
    "        #print(res)\n",
    "        return res"
   ]
  },
  {
   "cell_type": "code",
   "execution_count": 54,
   "metadata": {},
   "outputs": [],
   "source": [
    "op = [[1,5],[2],[1,3],[2],[1,6],[2],[1,7],[2]]\n",
    "op = [[2]]"
   ]
  },
  {
   "cell_type": "code",
   "execution_count": 55,
   "metadata": {},
   "outputs": [
    {
     "data": {
      "text/plain": [
       "[-1]"
      ]
     },
     "execution_count": 55,
     "metadata": {},
     "output_type": "execute_result"
    }
   ],
   "source": [
    "Solution().flowmedian(op)"
   ]
  },
  {
   "cell_type": "code",
   "execution_count": 56,
   "metadata": {},
   "outputs": [
    {
     "data": {
      "text/plain": [
       "[5, 4, 5, 5.5]"
      ]
     },
     "execution_count": 56,
     "metadata": {},
     "output_type": "execute_result"
    }
   ],
   "source": [
    "[5,4,5,5.5]"
   ]
  },
  {
   "cell_type": "code",
   "execution_count": 58,
   "metadata": {},
   "outputs": [],
   "source": [
    "#heapq.heapify(q) # 是将 list q 变成一个优先队列；比如滑动窗口中的最大值，首先初始化窗口大小的数据，需要将其变成优先队列"
   ]
  },
  {
   "cell_type": "code",
   "execution_count": 59,
   "metadata": {},
   "outputs": [],
   "source": [
    "#如果初始列表是空，可以通过 heapq.heappush(q, num) 添加，这样q也是一个优先队列。"
   ]
  },
  {
   "cell_type": "code",
   "execution_count": null,
   "metadata": {},
   "outputs": [],
   "source": []
  }
 ],
 "metadata": {
  "kernelspec": {
   "display_name": "Python 3",
   "language": "python",
   "name": "python3"
  },
  "language_info": {
   "codemirror_mode": {
    "name": "ipython",
    "version": 3
   },
   "file_extension": ".py",
   "mimetype": "text/x-python",
   "name": "python",
   "nbconvert_exporter": "python",
   "pygments_lexer": "ipython3",
   "version": "3.6.9"
  }
 },
 "nbformat": 4,
 "nbformat_minor": 2
}
