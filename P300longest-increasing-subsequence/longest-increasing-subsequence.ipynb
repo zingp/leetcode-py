{
 "cells": [
  {
   "cell_type": "markdown",
   "metadata": {},
   "source": [
    "## 300. 最长上升子序列\n",
    "- 给定一个无序的整数数组，找到其中最长上升子序列的长度。\n",
    "\n",
    "- 示例:\n",
    "    - 输入: [10,9,2,5,3,7,101,18]\n",
    "    - 输出: 4 \n",
    "    - 解释: 最长的上升子序列是 [2,3,7,101]，它的长度是 4。\n",
    "\n",
    "- 说明:\n",
    "    - 可能会有多种最长上升子序列的组合，你只需要输出对应的长度即可。\n",
    "    - 你算法的时间复杂度应该为 O(n2) 。\n",
    "\n",
    "- 进阶: 你能将算法的时间复杂度降低到 O(n log n) 吗?"
   ]
  },
  {
   "cell_type": "code",
   "execution_count": 1,
   "metadata": {},
   "outputs": [],
   "source": [
    "from typing import List\n",
    "nums = [10,9,2,5,3,7,101,18]"
   ]
  },
  {
   "cell_type": "code",
   "execution_count": 2,
   "metadata": {},
   "outputs": [],
   "source": [
    "class Solution:\n",
    "    def lengthOfLIS(self, nums: List[int]) -> int:\n",
    "        if not nums:\n",
    "            return 0\n",
    "        n = len(nums)\n",
    "        dp = []\n",
    "        for i in range(n):\n",
    "            dp.append(1)\n",
    "            for j in range(i):\n",
    "                if nums[i] > nums[j]:\n",
    "                    dp[i] = max(dp[i], dp[j] + 1)\n",
    "        return max(dp)\n",
    "        "
   ]
  },
  {
   "cell_type": "code",
   "execution_count": 3,
   "metadata": {},
   "outputs": [
    {
     "data": {
      "text/plain": [
       "4"
      ]
     },
     "execution_count": 3,
     "metadata": {},
     "output_type": "execute_result"
    }
   ],
   "source": [
    "Solution().lengthOfLIS(nums)"
   ]
  },
  {
   "cell_type": "markdown",
   "metadata": {},
   "source": [
    "## 贪心+ 二分查找\n",
    "- dp[i] 表示长度为 i + 1 的所有上升子序列的结尾的最小值。"
   ]
  },
  {
   "cell_type": "code",
   "execution_count": 4,
   "metadata": {},
   "outputs": [],
   "source": [
    "class Solution:\n",
    "    def lengthOfLIS(self, nums: List[int]) -> int:\n",
    "        dp = []\n",
    "        for n in nums:\n",
    "            if not dp or dp[-1] < n:\n",
    "                dp.append(n)\n",
    "            else:\n",
    "                left, right = 0, len(dp) - 1\n",
    "                while left < right:\n",
    "                    mid = (right + left) >> 1\n",
    "                    if dp[mid] >= n:\n",
    "                        right = mid \n",
    "                    else:\n",
    "                        left = mid + 1\n",
    "                dp[left] = n\n",
    "        return len(dp)"
   ]
  },
  {
   "cell_type": "code",
   "execution_count": 5,
   "metadata": {},
   "outputs": [
    {
     "data": {
      "text/plain": [
       "4"
      ]
     },
     "execution_count": 5,
     "metadata": {},
     "output_type": "execute_result"
    }
   ],
   "source": [
    "Solution().lengthOfLIS(nums)"
   ]
  },
  {
   "cell_type": "code",
   "execution_count": null,
   "metadata": {},
   "outputs": [],
   "source": []
  }
 ],
 "metadata": {
  "kernelspec": {
   "display_name": "Python 3",
   "language": "python",
   "name": "python3"
  },
  "language_info": {
   "codemirror_mode": {
    "name": "ipython",
    "version": 3
   },
   "file_extension": ".py",
   "mimetype": "text/x-python",
   "name": "python",
   "nbconvert_exporter": "python",
   "pygments_lexer": "ipython3",
   "version": "3.6.10"
  }
 },
 "nbformat": 4,
 "nbformat_minor": 4
}
