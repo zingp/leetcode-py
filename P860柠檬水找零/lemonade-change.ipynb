{
 "cells": [
  {
   "cell_type": "markdown",
   "metadata": {},
   "source": [
    "## 860. 柠檬水找零\n",
    "- 在柠檬水摊上，每一杯柠檬水的售价为 5 美元。\n",
    "- 顾客排队购买你的产品，（按账单 bills 支付的顺序）一次购买一杯。\n",
    "- 每位顾客只买一杯柠檬水，然后向你付 5 美元、10 美元或 20 美元。你必须给每个顾客正确找零，也就是说净交易是每位顾客向你支付 5 美元。\n",
    "- 注意，一开始你手头没有任何零钱。\n",
    "- 如果你能给每位顾客正确找零，返回 true ，否则返回 false 。\n",
    "\n",
    "- 示例 1：\n",
    "```\n",
    "输入：[5,5,5,10,20]\n",
    "输出：true\n",
    "解释：\n",
    "前 3 位顾客那里，我们按顺序收取 3 张 5 美元的钞票。\n",
    "第 4 位顾客那里，我们收取一张 10 美元的钞票，并返还 5 美元。\n",
    "第 5 位顾客那里，我们找还一张 10 美元的钞票和一张 5 美元的钞票。\n",
    "由于所有客户都得到了正确的找零，所以我们输出 true。\n",
    "```\n",
    "```\n",
    "示例 2：\n",
    "输入：[5,5,10]\n",
    "输出：true\n",
    "```\n",
    "```\n",
    "示例 3：\n",
    "输入：[10,10]\n",
    "输出：false\n",
    "```\n",
    "```\n",
    "示例 4：\n",
    "输入：[5,5,10,10,20]\n",
    "输出：false\n",
    "解释：\n",
    "前 2 位顾客那里，我们按顺序收取 2 张 5 美元的钞票。\n",
    "对于接下来的 2 位顾客，我们收取一张 10 美元的钞票，然后返还 5 美元。\n",
    "对于最后一位顾客，我们无法退回 15 美元，因为我们现在只有两张 10 美元的钞票。\n",
    "由于不是每位顾客都得到了正确的找零，所以答案是 false。\n",
    "``` \n",
    "\n",
    "- 提示：\n",
    "- 0 <= bills.length <= 10000\n",
    "- bills[i] 不是 5 就是 10 或是 20 "
   ]
  },
  {
   "cell_type": "code",
   "execution_count": 1,
   "metadata": {},
   "outputs": [],
   "source": [
    "from typing import List"
   ]
  },
  {
   "cell_type": "code",
   "execution_count": 2,
   "metadata": {},
   "outputs": [],
   "source": [
    "class Solution:\n",
    "    def lemonadeChange(self, bills: List[int]) -> bool:\n",
    "        count5 = 0\n",
    "        count10 = 0\n",
    "        flag = True\n",
    "        for i in bills:\n",
    "            if i == 5:\n",
    "                count5 += 1\n",
    "            elif i == 10:\n",
    "                if count5 > 0:\n",
    "                    count5 -= 1\n",
    "                    count10 += 1\n",
    "                else:\n",
    "                    flag = False\n",
    "                    break\n",
    "            elif i == 20:\n",
    "                if count10 > 0 and count5 > 0:\n",
    "                    count5 -= 1\n",
    "                    count10 -= 1\n",
    "                elif count10 <= 0 and count5 >= 3:\n",
    "                    count5 -= 3\n",
    "                else:\n",
    "                    flag = False\n",
    "                    break\n",
    "        return flag"
   ]
  },
  {
   "cell_type": "code",
   "execution_count": 3,
   "metadata": {},
   "outputs": [],
   "source": [
    "bills = [5,5,10,10,20]"
   ]
  },
  {
   "cell_type": "code",
   "execution_count": 4,
   "metadata": {},
   "outputs": [
    {
     "data": {
      "text/plain": [
       "True"
      ]
     },
     "execution_count": 4,
     "metadata": {},
     "output_type": "execute_result"
    }
   ],
   "source": [
    "Solution().lemonadeChange(bills) == False"
   ]
  },
  {
   "cell_type": "code",
   "execution_count": null,
   "metadata": {},
   "outputs": [],
   "source": []
  }
 ],
 "metadata": {
  "kernelspec": {
   "display_name": "Python 3",
   "language": "python",
   "name": "python3"
  },
  "language_info": {
   "codemirror_mode": {
    "name": "ipython",
    "version": 3
   },
   "file_extension": ".py",
   "mimetype": "text/x-python",
   "name": "python",
   "nbconvert_exporter": "python",
   "pygments_lexer": "ipython3",
   "version": "3.6.10"
  }
 },
 "nbformat": 4,
 "nbformat_minor": 4
}
