{
 "cells": [
  {
   "cell_type": "code",
   "execution_count": null,
   "metadata": {},
   "outputs": [],
   "source": [
    "## "
   ]
  },
  {
   "cell_type": "markdown",
   "metadata": {},
   "source": [
    "## \n",
    "- 设计一个数据结构，完成set(key,value),get(key),set_all_value(value)，其中最后一个函数时间复杂度小于O（n）【O（1）】\n",
    "```\n",
    "方法1，基于更新时间戳（版本）\n",
    "    两类值，k上的值和 global的值，每个index和glabal值都维护更新时间戳\n",
    "    get(index)的时候，如果global值的时间大于index上的时间，取global的值，否则取index上的值\n",
    "\n",
    "\n",
    "方法2 exclude list (hash set) \n",
    "    setAll的时候 对global赋值，同时清空exclude list\n",
    "    之后如果有set(index) 加到exclude list\n",
    "    get(index)的时候\n",
    "    如果全局值为null，没啥好说的，取index上的值\n",
    "    否则，看index是否在exclude list里 如果在，取index上的，否则取global值\n",
    "```"
   ]
  },
  {
   "cell_type": "code",
   "execution_count": 7,
   "metadata": {},
   "outputs": [],
   "source": [
    "class timerMap(object):\n",
    "    def __init__(self):\n",
    "        self.time = 0\n",
    "        self.all_value = None\n",
    "        self.all_value_time = -1\n",
    "        self.map = {}\n",
    "    \n",
    "    def set_value(self, k, v):\n",
    "        self.map[k] = (v, self.time)\n",
    "        self.time += 1\n",
    "    \n",
    "    def set_all_value(self, v):\n",
    "        self.all_value = v\n",
    "        self.all_value_time = self.time\n",
    "        self.time += 1\n",
    "    \n",
    "    def get(self, k):\n",
    "        if k in self.map:\n",
    "            if not self.all_value or self.map[k][-1] > self.all_value_time:\n",
    "                return self.map[k][0]\n",
    "            else:\n",
    "                return self.all_value"
   ]
  },
  {
   "cell_type": "code",
   "execution_count": 8,
   "metadata": {},
   "outputs": [],
   "source": [
    "mp = timerMap()"
   ]
  },
  {
   "cell_type": "code",
   "execution_count": 10,
   "metadata": {},
   "outputs": [
    {
     "name": "stdout",
     "output_type": "stream",
     "text": [
      "0 6\n",
      "1 6\n",
      "2 6\n",
      "3 9999\n",
      "4 6\n"
     ]
    }
   ],
   "source": [
    "for i in range(5):\n",
    "    mp.set_value(i, str(i))\n",
    "mp.set_all_value(6)\n",
    "mp.set_value(3, 9999)\n",
    "\n",
    "for i in range(5):\n",
    "    print(i, mp.get(i))"
   ]
  },
  {
   "cell_type": "code",
   "execution_count": null,
   "metadata": {},
   "outputs": [],
   "source": []
  }
 ],
 "metadata": {
  "kernelspec": {
   "display_name": "Python 3",
   "language": "python",
   "name": "python3"
  },
  "language_info": {
   "codemirror_mode": {
    "name": "ipython",
    "version": 3
   },
   "file_extension": ".py",
   "mimetype": "text/x-python",
   "name": "python",
   "nbconvert_exporter": "python",
   "pygments_lexer": "ipython3",
   "version": "3.6.9"
  }
 },
 "nbformat": 4,
 "nbformat_minor": 2
}
