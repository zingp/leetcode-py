{
 "cells": [
  {
   "cell_type": "markdown",
   "metadata": {},
   "source": [
    "## 330. 按要求补齐数组\n",
    "```\n",
    "给定一个已排序的正整数数组 nums，和一个正整数 n 。从 [1, n] 区间内选取任意个数字补充到 nums 中，使得 [1, n] 区间内的任何数字都可以用 nums 中某几个数字的和来表示。请输出满足上述要求的最少需要补充的数字个数。\n",
    "\n",
    "示例 1:\n",
    "输入: nums = [1,3], n = 6\n",
    "输出: 1 \n",
    "解释:\n",
    "根据 nums 里现有的组合 [1], [3], [1,3]，可以得出 1, 3, 4。\n",
    "现在如果我们将 2 添加到 nums 中， 组合变为: [1], [2], [3], [1,3], [2,3], [1,2,3]。\n",
    "其和可以表示数字 1, 2, 3, 4, 5, 6，能够覆盖 [1, 6] 区间里所有的数。\n",
    "所以我们最少需要添加一个数字。\n",
    "\n",
    "示例 2:\n",
    "输入: nums = [1,5,10], n = 20\n",
    "输出: 2\n",
    "解释: 我们需要添加 [2, 4]。\n",
    "\n",
    "示例 3:\n",
    "输入: nums = [1,2,2], n = 5\n",
    "输出: 0\n",
    "```"
   ]
  },
  {
   "cell_type": "code",
   "execution_count": 1,
   "metadata": {},
   "outputs": [],
   "source": [
    "from typing import List"
   ]
  },
  {
   "cell_type": "code",
   "execution_count": 2,
   "metadata": {},
   "outputs": [],
   "source": [
    "class Solution:\n",
    "    def minPatches(self, nums: List[int], n: int) -> int:\n",
    "        add = 1  # 枚举是否可以覆盖的边间[1, add)\n",
    "        i = 0    # nums数组下标\n",
    "        count = 0   # 记录需要添加的数字个数\n",
    "        while add <= n:  # 当前边界小于n时\n",
    "            if i < len(nums) and nums[i] <= add:  # 如果nums[i]小于add，则边界扩充至[1, nums[i]+add)\n",
    "                add += nums[i]\n",
    "                i += 1\n",
    "            else:  # 否则 边界扩充至[1, 2 * add)， 且需要将加入一个数字nums[i-1]+1\n",
    "                add <<= 1\n",
    "                count += 1\n",
    "        return count"
   ]
  },
  {
   "cell_type": "code",
   "execution_count": 3,
   "metadata": {},
   "outputs": [],
   "source": [
    "nums = [1,5,10]\n",
    "n = 20"
   ]
  },
  {
   "cell_type": "code",
   "execution_count": 4,
   "metadata": {},
   "outputs": [
    {
     "data": {
      "text/plain": [
       "True"
      ]
     },
     "execution_count": 4,
     "metadata": {},
     "output_type": "execute_result"
    }
   ],
   "source": [
    "Solution().minPatches(nums, n) == 2"
   ]
  },
  {
   "cell_type": "code",
   "execution_count": null,
   "metadata": {},
   "outputs": [],
   "source": []
  }
 ],
 "metadata": {
  "kernelspec": {
   "display_name": "Python 3",
   "language": "python",
   "name": "python3"
  },
  "language_info": {
   "codemirror_mode": {
    "name": "ipython",
    "version": 3
   },
   "file_extension": ".py",
   "mimetype": "text/x-python",
   "name": "python",
   "nbconvert_exporter": "python",
   "pygments_lexer": "ipython3",
   "version": "3.6.10"
  }
 },
 "nbformat": 4,
 "nbformat_minor": 4
}
