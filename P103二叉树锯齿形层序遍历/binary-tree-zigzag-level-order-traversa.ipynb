{
 "cells": [
  {
   "cell_type": "markdown",
   "metadata": {},
   "source": [
    "## 103. 二叉树的锯齿形层序遍历\n",
    "```\n",
    "给定一个二叉树，返回其节点值的锯齿形层序遍历。（即先从左往右，再从右往左进行下一层遍历，以此类推，层与层之间交替进行）。\n",
    "\n",
    "例如：\n",
    "给定二叉树 [3,9,20,null,null,15,7],\n",
    "\n",
    "    3\n",
    "   / \\\n",
    "  9  20\n",
    "    /  \\\n",
    "   15   7\n",
    "返回锯齿形层序遍历如下：\n",
    "\n",
    "[\n",
    "  [3],\n",
    "  [20,9],\n",
    "  [15,7]\n",
    "]\n",
    "```"
   ]
  },
  {
   "cell_type": "code",
   "execution_count": 1,
   "metadata": {},
   "outputs": [],
   "source": [
    "from typing import List"
   ]
  },
  {
   "cell_type": "code",
   "execution_count": 2,
   "metadata": {},
   "outputs": [],
   "source": [
    "class TreeNode(object):\n",
    "    def __init__(self, val, left, right):\n",
    "        self.val = val\n",
    "        self.left = left\n",
    "        self.right = right"
   ]
  },
  {
   "cell_type": "code",
   "execution_count": 3,
   "metadata": {},
   "outputs": [],
   "source": [
    "class Solution:\n",
    "    def zigzagLevelOrder(self, root: TreeNode) -> List[List[int]]:\n",
    "        if not root:\n",
    "            return []\n",
    "        res = []\n",
    "        stack = [[root]]\n",
    "        flag = 1\n",
    "        while stack:\n",
    "            nodes = stack.pop()\n",
    "            level = []\n",
    "            next_nodes = []\n",
    "            for node in nodes: \n",
    "                level.append(node.val)\n",
    "                if node.left:\n",
    "                    next_nodes.append(node.left)\n",
    "                if node.right:\n",
    "                    next_nodes.append(node.right)\n",
    "            if next_nodes:\n",
    "                stack.append(next_nodes)\n",
    "            if level:\n",
    "                if flag == 1:\n",
    "                    res.append(level)\n",
    "                else:\n",
    "                    res.append(level[::-1])\n",
    "                flag *= -1\n",
    "        return res"
   ]
  },
  {
   "cell_type": "code",
   "execution_count": 4,
   "metadata": {},
   "outputs": [],
   "source": [
    "class Solution:\n",
    "    def zigzagLevelOrder(self, root: TreeNode) -> List[List[int]]:\n",
    "        if not root:\n",
    "            return []\n",
    "        res = []\n",
    "        stack = [[root]]\n",
    "        flag = 1\n",
    "        while stack:\n",
    "            nodes = stack.pop()\n",
    "            level = []\n",
    "            next_nodes = []\n",
    "            for i in range(len(nodes)-1, -1, -1): \n",
    "                level.append(node.val)\n",
    "                if flag == 1:\n",
    "                    if node.left:\n",
    "                        next_nodes.append(node.left)\n",
    "                    if node.right:\n",
    "                        next_nodes.append(node.right)\n",
    "                else:\n",
    "                    if node.right:\n",
    "                        next_nodes.append(node.right)\n",
    "                    if node.left:\n",
    "                        next_nodes.append(node.left)\n",
    "            if next_nodes:\n",
    "                stack.append(next_nodes)\n",
    "            if level:\n",
    "                res.append(level)\n",
    "            flag *= -1\n",
    "        return res"
   ]
  },
  {
   "cell_type": "code",
   "execution_count": null,
   "metadata": {},
   "outputs": [],
   "source": []
  }
 ],
 "metadata": {
  "kernelspec": {
   "display_name": "Python 3",
   "language": "python",
   "name": "python3"
  },
  "language_info": {
   "codemirror_mode": {
    "name": "ipython",
    "version": 3
   },
   "file_extension": ".py",
   "mimetype": "text/x-python",
   "name": "python",
   "nbconvert_exporter": "python",
   "pygments_lexer": "ipython3",
   "version": "3.6.10"
  }
 },
 "nbformat": 4,
 "nbformat_minor": 4
}
