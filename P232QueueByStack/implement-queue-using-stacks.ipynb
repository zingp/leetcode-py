{
 "cells": [
  {
   "cell_type": "markdown",
   "metadata": {},
   "source": [
    "## 232 用栈实现队列\n",
    "- 使用栈实现队列的下列操作：\n",
    "    - push(x) -- 将一个元素放入队列的尾部。\n",
    "    - pop() -- 从队列首部移除元素。\n",
    "    - peek() -- 返回队列首部的元素。\n",
    "    - empty() -- 返回队列是否为空。\n",
    "- 示例:\n",
    "    - MyQueue queue = new MyQueue();\n",
    "    - queue.push(1);\n",
    "    - queue.push(2);  \n",
    "    - queue.peek();  // 返回 1\n",
    "    - queue.pop();   // 返回 1\n",
    "    - queue.empty(); // 返回 false\n",
    "- 说明:\n",
    "    - 你只能使用标准的栈操作 -- 也就是只有 push to top, peek/pop from top, size, 和 is empty 操作是合法的。\n",
    "    - 你所使用的语言也许不支持栈。你可以使用 list 或者 deque（双端队列）来模拟一个栈，只要是标准的栈操作即可。\n",
    "    - 假设所有操作都是有效的 （例如，一个空的队列不会调用 pop 或者 peek 操作）。"
   ]
  },
  {
   "cell_type": "code",
   "execution_count": 1,
   "metadata": {},
   "outputs": [],
   "source": [
    "class MyQueue(object):\n",
    "    def __init__(self):\n",
    "        self.input = []\n",
    "        self.output = []\n",
    "    \n",
    "    def push(self, x):\n",
    "        self.input.append(x)\n",
    "    \n",
    "    def peek(self):\n",
    "        if not self.input:\n",
    "            return\n",
    "        while self.input:\n",
    "            ele = self.input.pop()\n",
    "            self.output.append(ele)\n",
    "        first = self.output[-1]\n",
    "        while self.output:\n",
    "            ele = self.output.pop()\n",
    "            self.input.append(ele)\n",
    "        return first\n",
    "    \n",
    "    def pop(self):\n",
    "        if not self.input:\n",
    "            return\n",
    "        while self.input:\n",
    "            ele = self.input.pop()\n",
    "            self.output.append(ele)\n",
    "        first = self.output.pop()\n",
    "        while self.output:\n",
    "            ele = self.output.pop()\n",
    "            self.input.append(ele)\n",
    "        return first\n",
    "    \n",
    "    def empty(self):\n",
    "        return len(self.input) == 0"
   ]
  },
  {
   "cell_type": "code",
   "execution_count": 2,
   "metadata": {},
   "outputs": [],
   "source": [
    "q = MyQueue()"
   ]
  },
  {
   "cell_type": "code",
   "execution_count": 3,
   "metadata": {},
   "outputs": [],
   "source": [
    "q.push(1)\n",
    "q.push(2)"
   ]
  },
  {
   "cell_type": "code",
   "execution_count": 4,
   "metadata": {},
   "outputs": [
    {
     "data": {
      "text/plain": [
       "1"
      ]
     },
     "execution_count": 4,
     "metadata": {},
     "output_type": "execute_result"
    }
   ],
   "source": [
    "q.peek()"
   ]
  },
  {
   "cell_type": "code",
   "execution_count": 5,
   "metadata": {},
   "outputs": [
    {
     "data": {
      "text/plain": [
       "1"
      ]
     },
     "execution_count": 5,
     "metadata": {},
     "output_type": "execute_result"
    }
   ],
   "source": [
    "q.pop()"
   ]
  },
  {
   "cell_type": "code",
   "execution_count": 6,
   "metadata": {},
   "outputs": [
    {
     "data": {
      "text/plain": [
       "False"
      ]
     },
     "execution_count": 6,
     "metadata": {},
     "output_type": "execute_result"
    }
   ],
   "source": [
    "q.empty()"
   ]
  },
  {
   "cell_type": "code",
   "execution_count": null,
   "metadata": {},
   "outputs": [],
   "source": []
  }
 ],
 "metadata": {
  "kernelspec": {
   "display_name": "Python 3",
   "language": "python",
   "name": "python3"
  },
  "language_info": {
   "codemirror_mode": {
    "name": "ipython",
    "version": 3
   },
   "file_extension": ".py",
   "mimetype": "text/x-python",
   "name": "python",
   "nbconvert_exporter": "python",
   "pygments_lexer": "ipython3",
   "version": "3.6.9"
  }
 },
 "nbformat": 4,
 "nbformat_minor": 2
}
