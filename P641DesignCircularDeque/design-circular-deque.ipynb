{
 "cells": [
  {
   "cell_type": "markdown",
   "metadata": {},
   "source": [
    "## 641. 设计循环双端队列\n",
    "- 设计实现双端队列。\n",
    "- 你的实现需要支持以下操作：\n",
    "\n",
    "- MyCircularDeque(k)：构造函数,双端队列的大小为k。\n",
    "- insertFront()：将一个元素添加到双端队列头部。 如果操作成功返回 true。\n",
    "- insertLast()：将一个元素添加到双端队列尾部。如果操作成功返回 true。\n",
    "- deleteFront()：从双端队列头部删除一个元素。 如果操作成功返回 true。\n",
    "- deleteLast()：从双端队列尾部删除一个元素。如果操作成功返回 true。\n",
    "- getFront()：从双端队列头部获得一个元素。如果双端队列为空，返回 -1。\n",
    "- getRear()：获得双端队列的最后一个元素。 如果双端队列为空，返回 -1。\n",
    "- isEmpty()：检查双端队列是否为空。\n",
    "- isFull()：检查双端队列是否满了。\n",
    "----\n",
    "- 示例：\n",
    "```\n",
    "MyCircularDeque circularDeque = new MycircularDeque(3); // 设置容量大小为3\n",
    "circularDeque.insertLast(1);\t\t\t        // 返回 true\n",
    "circularDeque.insertLast(2);\t\t\t        // 返回 true\n",
    "circularDeque.insertFront(3);\t\t\t        // 返回 true\n",
    "circularDeque.insertFront(4);\t\t\t        // 已经满了，返回 false\n",
    "circularDeque.getRear();  \t\t\t\t// 返回 2\n",
    "circularDeque.isFull();\t\t\t\t        // 返回 true\n",
    "circularDeque.deleteLast();\t\t\t        // 返回 true\n",
    "circularDeque.insertFront(4);\t\t\t        // 返回 true\n",
    "circularDeque.getFront();\t\t\t\t// 返回 4\n",
    "```\n",
    " \n",
    "\n",
    "- 提示：\n",
    "- 所有值的范围为 [1, 1000]\n",
    "- 操作次数的范围为 [1, 1000]\n",
    "- 请不要使用内置的双端队列库。"
   ]
  },
  {
   "cell_type": "code",
   "execution_count": 1,
   "metadata": {},
   "outputs": [],
   "source": [
    "class MyCircularDeque:\n",
    "\n",
    "    def __init__(self, k: int):\n",
    "        \"\"\"\n",
    "        Initialize your data structure here. Set the size of the deque to be k.\n",
    "        \"\"\"\n",
    "        self.len = k\n",
    "        self.tailstack = []\n",
    "        self.headstack = []\n",
    "        self.curLen = 0\n",
    "        \n",
    "\n",
    "    def insertFront(self, value: int) -> bool:\n",
    "        \"\"\"\n",
    "        Adds an item at the front of Deque. Return true if the operation is successful.\n",
    "        \"\"\"\n",
    "        if self.curLen >= self.len:\n",
    "            return False\n",
    "        else:\n",
    "            self.headstack.append(value)\n",
    "            self.curLen += 1\n",
    "            return True\n",
    "        \n",
    "\n",
    "    def insertLast(self, value: int) -> bool:\n",
    "        \"\"\"\n",
    "        Adds an item at the rear of Deque. Return true if the operation is successful.\n",
    "        \"\"\"\n",
    "        if self.curLen >= self.len:\n",
    "            return False\n",
    "        else:\n",
    "            self.tailstack.append(value)\n",
    "            self.curLen += 1\n",
    "            return True\n",
    "        \n",
    "\n",
    "    def deleteFront(self) -> bool:\n",
    "        \"\"\"\n",
    "        Deletes an item from the front of Deque. Return true if the operation is successful.\n",
    "        \"\"\"\n",
    "        if self.curLen == 0:\n",
    "            return False\n",
    "        else:\n",
    "            if self.headstack:\n",
    "                self.headstack.pop()\n",
    "                self.curLen -= 1\n",
    "                return True\n",
    "            else:\n",
    "                self.tailstack = self.tailstack[1:]\n",
    "                self.curLen -= 1\n",
    "                return True\n",
    "        \n",
    "\n",
    "    def deleteLast(self) -> bool:\n",
    "        \"\"\"\n",
    "        Deletes an item from the rear of Deque. Return true if the operation is successful.\n",
    "        \"\"\"\n",
    "        if self.curLen == 0:\n",
    "            return False\n",
    "        else:\n",
    "            if self.tailstack:\n",
    "                self.tailstack.pop()\n",
    "                self.curLen -= 1\n",
    "                return True\n",
    "            else:\n",
    "                self.headstack = self.headstack[1:]\n",
    "                self.curLen -= 1\n",
    "                return True\n",
    "        \n",
    "\n",
    "    def getFront(self) -> int:\n",
    "        \"\"\"\n",
    "        Get the front item from the deque.\n",
    "        \"\"\"\n",
    "        if self.curLen == 0:\n",
    "            return -1\n",
    "        else:\n",
    "            if self.headstack:\n",
    "                return self.headstack[-1]\n",
    "            else:\n",
    "                return self.tailstack[0]\n",
    "        \n",
    "\n",
    "    def getRear(self) -> int:\n",
    "        \"\"\"\n",
    "        Get the last item from the deque.\n",
    "        \"\"\"\n",
    "        if self.curLen == 0:\n",
    "            return -1\n",
    "        else:\n",
    "            if self.tailstack:\n",
    "                return self.tailstack[-1]\n",
    "            else:\n",
    "                return self.headstack[0]\n",
    "        \n",
    "\n",
    "    def isEmpty(self) -> bool:\n",
    "        \"\"\"\n",
    "        Checks whether the circular deque is empty or not.\n",
    "        \"\"\"\n",
    "        return self.curLen == 0\n",
    "        \n",
    "\n",
    "    def isFull(self) -> bool:\n",
    "        \"\"\"\n",
    "        Checks whether the circular deque is full or not.\n",
    "        \"\"\"\n",
    "        return self.curLen == self.len\n",
    "        \n",
    "\n",
    "\n",
    "# Your MyCircularDeque object will be instantiated and called as such:\n"
   ]
  },
  {
   "cell_type": "code",
   "execution_count": 2,
   "metadata": {},
   "outputs": [],
   "source": [
    "obj = MyCircularDeque(k=6)"
   ]
  },
  {
   "cell_type": "code",
   "execution_count": 3,
   "metadata": {},
   "outputs": [
    {
     "data": {
      "text/plain": [
       "True"
      ]
     },
     "execution_count": 3,
     "metadata": {},
     "output_type": "execute_result"
    }
   ],
   "source": [
    "obj.insertFront(0)"
   ]
  },
  {
   "cell_type": "code",
   "execution_count": 4,
   "metadata": {},
   "outputs": [
    {
     "data": {
      "text/plain": [
       "True"
      ]
     },
     "execution_count": 4,
     "metadata": {},
     "output_type": "execute_result"
    }
   ],
   "source": [
    "obj.insertLast(10)\n",
    "obj.insertLast(100)"
   ]
  },
  {
   "cell_type": "code",
   "execution_count": 5,
   "metadata": {},
   "outputs": [
    {
     "data": {
      "text/plain": [
       "True"
      ]
     },
     "execution_count": 5,
     "metadata": {},
     "output_type": "execute_result"
    }
   ],
   "source": [
    "obj.deleteFront()"
   ]
  },
  {
   "cell_type": "code",
   "execution_count": 6,
   "metadata": {},
   "outputs": [
    {
     "data": {
      "text/plain": [
       "True"
      ]
     },
     "execution_count": 6,
     "metadata": {},
     "output_type": "execute_result"
    }
   ],
   "source": [
    "obj.deleteLast()"
   ]
  },
  {
   "cell_type": "code",
   "execution_count": 7,
   "metadata": {},
   "outputs": [
    {
     "data": {
      "text/plain": [
       "10"
      ]
     },
     "execution_count": 7,
     "metadata": {},
     "output_type": "execute_result"
    }
   ],
   "source": [
    "obj.getFront()"
   ]
  },
  {
   "cell_type": "code",
   "execution_count": 8,
   "metadata": {},
   "outputs": [
    {
     "data": {
      "text/plain": [
       "10"
      ]
     },
     "execution_count": 8,
     "metadata": {},
     "output_type": "execute_result"
    }
   ],
   "source": [
    "obj.getRear()"
   ]
  },
  {
   "cell_type": "code",
   "execution_count": 9,
   "metadata": {},
   "outputs": [
    {
     "data": {
      "text/plain": [
       "False"
      ]
     },
     "execution_count": 9,
     "metadata": {},
     "output_type": "execute_result"
    }
   ],
   "source": [
    "obj.isEmpty()"
   ]
  },
  {
   "cell_type": "code",
   "execution_count": 10,
   "metadata": {},
   "outputs": [
    {
     "data": {
      "text/plain": [
       "False"
      ]
     },
     "execution_count": 10,
     "metadata": {},
     "output_type": "execute_result"
    }
   ],
   "source": [
    "obj.isFull()"
   ]
  },
  {
   "cell_type": "code",
   "execution_count": null,
   "metadata": {},
   "outputs": [],
   "source": []
  }
 ],
 "metadata": {
  "kernelspec": {
   "display_name": "Python 3",
   "language": "python",
   "name": "python3"
  },
  "language_info": {
   "codemirror_mode": {
    "name": "ipython",
    "version": 3
   },
   "file_extension": ".py",
   "mimetype": "text/x-python",
   "name": "python",
   "nbconvert_exporter": "python",
   "pygments_lexer": "ipython3",
   "version": "3.6.9"
  }
 },
 "nbformat": 4,
 "nbformat_minor": 2
}
