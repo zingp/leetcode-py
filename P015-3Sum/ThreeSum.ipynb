{
 "cells": [
  {
   "cell_type": "markdown",
   "metadata": {},
   "source": [
    "## 14 三数之和\n",
    "### 题目\n",
    "```\n",
    "给定一个包含 n 个整数的数组 nums，判断 nums 中是否存在三个元素 a，b，c ，使得 a + b + c = 0 ？找出所有满足条件且不重复的三元组。\n",
    "\n",
    "注意：答案中不可以包含重复的三元组。\n",
    "\n",
    "例如, 给定数组 nums = [-1, 0, 1, 2, -1, -4]，\n",
    "\n",
    "满足要求的三元组集合为：\n",
    "[\n",
    "  [-1, 0, 1],\n",
    "  [-1, -1, 2]\n",
    "]\n",
    "\n",
    "链接：https://leetcode-cn.com/problems/3sum\n",
    "```\n",
    "\n",
    "### 三种解法\n",
    "- ![image.png](../images/lc_15_threesum.jpg)"
   ]
  },
  {
   "cell_type": "code",
   "execution_count": 1,
   "metadata": {},
   "outputs": [],
   "source": [
    "nums = [-1, 0, 1, 2, -1, -4]"
   ]
  },
  {
   "cell_type": "code",
   "execution_count": 2,
   "metadata": {},
   "outputs": [],
   "source": [
    "## 解法一, 暴力法，时间复杂度o(n^3), 空间复杂度o(1)\n",
    "class Solution:\n",
    "    def threeSum(self, nums):\n",
    "        n = len(nums)\n",
    "        ans = set()\n",
    "        for i in range(n-2):\n",
    "            for j in range(i+1, n-1):\n",
    "                for k in range(j+1, n):\n",
    "                    if nums[i] + nums[j] + nums[k] == 0:\n",
    "                        ans.add((nums[i], nums[j], nums[k]))\n",
    "        return [list(x) for x in ans]"
   ]
  },
  {
   "cell_type": "code",
   "execution_count": 3,
   "metadata": {},
   "outputs": [
    {
     "data": {
      "text/plain": [
       "[[-1, 2, -1], [-1, 0, 1], [0, 1, -1]]"
      ]
     },
     "execution_count": 3,
     "metadata": {},
     "output_type": "execute_result"
    }
   ],
   "source": [
    "Solution().threeSum(nums)"
   ]
  },
  {
   "cell_type": "code",
   "execution_count": 4,
   "metadata": {},
   "outputs": [],
   "source": [
    "## 解法二：枚举a,b；在set里寻找c = -(a+b)。时间复杂度o(n^2), 空间复杂度o(n)\n",
    "def threeSum(nums):\n",
    "    n = len(nums)\n",
    "    if n < 3:\n",
    "        return []\n",
    "    nums.sort()\n",
    "    res = set()\n",
    "    for i, a in enumerate(nums[:-2]):\n",
    "        if i >= 1 and a == nums[i-1]:\n",
    "            continue\n",
    "        dic = {}\n",
    "        for b in nums[i+1 :]:\n",
    "            # 这个地方很巧妙\n",
    "            if b not in dic:\n",
    "                dic[-a-b] = 1\n",
    "            else:\n",
    "                res.add((a, -a-b, b))\n",
    "    return [list(x) for x in res]"
   ]
  },
  {
   "cell_type": "code",
   "execution_count": 5,
   "metadata": {},
   "outputs": [
    {
     "data": {
      "text/plain": [
       "[[-1, -1, 2], [-1, 0, 1]]"
      ]
     },
     "execution_count": 5,
     "metadata": {},
     "output_type": "execute_result"
    }
   ],
   "source": [
    "threeSum(nums)"
   ]
  },
  {
   "cell_type": "code",
   "execution_count": 6,
   "metadata": {},
   "outputs": [],
   "source": [
    "# 解法三 排序，然后用双指针往中间找, O(n^2), 空间复杂度o(1)\n",
    "def threeSum(nums):\n",
    "    res = []\n",
    "    nums.sort()\n",
    "    for i in range(len(nums)-2):\n",
    "        # 剪枝1\n",
    "        if nums[i] > 0:\n",
    "            return res\n",
    "        # 剪枝2，去重\n",
    "        if i >= 1 and nums[i] == nums[i-1]:\n",
    "            continue\n",
    "        left = i+1\n",
    "        right = len(nums)-1\n",
    "        while left < right:\n",
    "            r = nums[left] + nums[i] + nums[right]\n",
    "            if r > 0:\n",
    "                right -= 1\n",
    "            elif r < 0:\n",
    "                left += 1\n",
    "            else:\n",
    "                res.append([nums[left], nums[i], nums[right]])\n",
    "                # 这里去重好过在外循环去重\n",
    "                while left < right and nums[left] == nums[left+1]:\n",
    "                    left += 1\n",
    "                while left < right  and nums[right] == nums[right-1]:\n",
    "                    right -= 1\n",
    "                left += 1\n",
    "                right -= 1\n",
    "    return res"
   ]
  },
  {
   "cell_type": "code",
   "execution_count": 7,
   "metadata": {},
   "outputs": [
    {
     "data": {
      "text/plain": [
       "[[-1, -1, 2], [0, -1, 1]]"
      ]
     },
     "execution_count": 7,
     "metadata": {},
     "output_type": "execute_result"
    }
   ],
   "source": [
    "threeSum(nums)"
   ]
  },
  {
   "cell_type": "code",
   "execution_count": null,
   "metadata": {},
   "outputs": [],
   "source": []
  }
 ],
 "metadata": {
  "kernelspec": {
   "display_name": "Python 3",
   "language": "python",
   "name": "python3"
  },
  "language_info": {
   "codemirror_mode": {
    "name": "ipython",
    "version": 3
   },
   "file_extension": ".py",
   "mimetype": "text/x-python",
   "name": "python",
   "nbconvert_exporter": "python",
   "pygments_lexer": "ipython3",
   "version": "3.6.9"
  }
 },
 "nbformat": 4,
 "nbformat_minor": 2
}
