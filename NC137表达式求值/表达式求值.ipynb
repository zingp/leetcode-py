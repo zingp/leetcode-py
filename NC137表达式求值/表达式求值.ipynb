{
 "cells": [
  {
   "cell_type": "markdown",
   "metadata": {},
   "source": [
    "## 表达式求值\n",
    "\n",
    "```\n",
    "请写一个整数计算器，支持加减乘三种运算和括号。\n",
    "示例1\n",
    "输入\n",
    "复制\n",
    "\"1+2\"\n",
    "返回值\n",
    "复制\n",
    "3\n",
    "示例2\n",
    "输入\n",
    "复制\n",
    "\"(2*(3-4))*5\"\n",
    "返回值\n",
    "复制\n",
    "-10\n",
    "示例3\n",
    "输入\n",
    "复制\n",
    "\"3+2*3*4-1\"\n",
    "```"
   ]
  },
  {
   "cell_type": "code",
   "execution_count": 14,
   "metadata": {},
   "outputs": [],
   "source": [
    "class Solution:\n",
    "    def solve(self , s ):\n",
    "        # write code here\n",
    "        def calc(sym, a, b):\n",
    "            if sym == \"*\":\n",
    "                return a * b\n",
    "            if sym == \"-\":\n",
    "                return a - b\n",
    "            if sym == \"+\":\n",
    "                return a + b\n",
    "        numbers = []\n",
    "        symbol = []\n",
    "        for c in s:\n",
    "            print(numbers, symbol)\n",
    "            if not c.isdigit():\n",
    "                if c == \")\"and symbol and symbol[-1] == \"(\":\n",
    "                    symbol.pop()\n",
    "                    continue\n",
    "                symbol.append(c)\n",
    "            else:\n",
    "                if not numbers:\n",
    "                    numbers.append(int(c))\n",
    "                    continue\n",
    "                if symbol and symbol[-1] == '(':\n",
    "                    numbers.append(int(c))\n",
    "                else:\n",
    "                    while symbol and symbol[-1] == '*' and numbers:\n",
    "                        a = numbers.pop()\n",
    "                        sym = symbol.pop()\n",
    "                        n = calc(sym, a, int(c))\n",
    "                        numbers.append(n)\n",
    "        while symbol and numbers:\n",
    "            b = numbers.pop()\n",
    "            a = numbers.pop()\n",
    "            sym = symbol.pop()\n",
    "            n = calc(sym, a, b)\n",
    "            numbers.append(n)\n",
    "        print(symbol, numbers)\n",
    "        return numbers[0]"
   ]
  },
  {
   "cell_type": "code",
   "execution_count": 15,
   "metadata": {},
   "outputs": [],
   "source": [
    "s = \"(2*(3-4))*5\""
   ]
  },
  {
   "cell_type": "code",
   "execution_count": 16,
   "metadata": {},
   "outputs": [
    {
     "name": "stdout",
     "output_type": "stream",
     "text": [
      "[] []\n",
      "[] ['(']\n",
      "[2] ['(']\n",
      "[2] ['(', '*']\n",
      "[2] ['(', '*', '(']\n",
      "[2, 3] ['(', '*', '(']\n",
      "[2, 3] ['(', '*', '(', '-']\n",
      "[2, 3] ['(', '*', '(', '-']\n",
      "[2, 3] ['(', '*', '(', '-', ')']\n",
      "[2, 3] ['(', '*', '(', '-', ')', ')']\n",
      "[2, 3] ['(', '*', '(', '-', ')', ')', '*']\n"
     ]
    },
    {
     "ename": "IndexError",
     "evalue": "pop from empty list",
     "output_type": "error",
     "traceback": [
      "\u001b[0;31m---------------------------------------------------------------------------\u001b[0m",
      "\u001b[0;31mIndexError\u001b[0m                                Traceback (most recent call last)",
      "\u001b[0;32m<ipython-input-16-bc58a6dbd318>\u001b[0m in \u001b[0;36m<module>\u001b[0;34m\u001b[0m\n\u001b[0;32m----> 1\u001b[0;31m \u001b[0mSolution\u001b[0m\u001b[0;34m(\u001b[0m\u001b[0;34m)\u001b[0m\u001b[0;34m.\u001b[0m\u001b[0msolve\u001b[0m\u001b[0;34m(\u001b[0m\u001b[0ms\u001b[0m\u001b[0;34m)\u001b[0m\u001b[0;34m\u001b[0m\u001b[0;34m\u001b[0m\u001b[0m\n\u001b[0m",
      "\u001b[0;32m<ipython-input-14-e41fc5fb1b78>\u001b[0m in \u001b[0;36msolve\u001b[0;34m(self, s)\u001b[0m\n\u001b[1;32m     32\u001b[0m         \u001b[0;32mwhile\u001b[0m \u001b[0msymbol\u001b[0m \u001b[0;32mand\u001b[0m \u001b[0mnumbers\u001b[0m\u001b[0;34m:\u001b[0m\u001b[0;34m\u001b[0m\u001b[0;34m\u001b[0m\u001b[0m\n\u001b[1;32m     33\u001b[0m             \u001b[0mb\u001b[0m \u001b[0;34m=\u001b[0m \u001b[0mnumbers\u001b[0m\u001b[0;34m.\u001b[0m\u001b[0mpop\u001b[0m\u001b[0;34m(\u001b[0m\u001b[0;34m)\u001b[0m\u001b[0;34m\u001b[0m\u001b[0;34m\u001b[0m\u001b[0m\n\u001b[0;32m---> 34\u001b[0;31m             \u001b[0ma\u001b[0m \u001b[0;34m=\u001b[0m \u001b[0mnumbers\u001b[0m\u001b[0;34m.\u001b[0m\u001b[0mpop\u001b[0m\u001b[0;34m(\u001b[0m\u001b[0;34m)\u001b[0m\u001b[0;34m\u001b[0m\u001b[0;34m\u001b[0m\u001b[0m\n\u001b[0m\u001b[1;32m     35\u001b[0m             \u001b[0msym\u001b[0m \u001b[0;34m=\u001b[0m \u001b[0msymbol\u001b[0m\u001b[0;34m.\u001b[0m\u001b[0mpop\u001b[0m\u001b[0;34m(\u001b[0m\u001b[0;34m)\u001b[0m\u001b[0;34m\u001b[0m\u001b[0;34m\u001b[0m\u001b[0m\n\u001b[1;32m     36\u001b[0m             \u001b[0mn\u001b[0m \u001b[0;34m=\u001b[0m \u001b[0mcalc\u001b[0m\u001b[0;34m(\u001b[0m\u001b[0msym\u001b[0m\u001b[0;34m,\u001b[0m \u001b[0ma\u001b[0m\u001b[0;34m,\u001b[0m \u001b[0mb\u001b[0m\u001b[0;34m)\u001b[0m\u001b[0;34m\u001b[0m\u001b[0;34m\u001b[0m\u001b[0m\n",
      "\u001b[0;31mIndexError\u001b[0m: pop from empty list"
     ]
    }
   ],
   "source": [
    "Solution().solve(s)"
   ]
  },
  {
   "cell_type": "code",
   "execution_count": 26,
   "metadata": {},
   "outputs": [],
   "source": [
    "class Solution:\n",
    "    def solve(self , s ):\n",
    "        # write code here\n",
    "        n = len(s)\n",
    "        print(n)\n",
    "        def calculate(index):\n",
    "            stack = []\n",
    "            pre_op = '+'\n",
    "            num = 0\n",
    "            while True:\n",
    "                if s[index] == '(':\n",
    "                    num, index = calculate(index+1)\n",
    "#                     print(num, index)\n",
    "                if s[index].isdigit():\n",
    "                    print(\"---\", s[index], num)\n",
    "                    num = int(s[index])\n",
    "                if s[index] == ')' or index == n - 1 or s[index] in '+-*/':\n",
    "                    if pre_op == '+':\n",
    "                        stack.append(num)\n",
    "                    elif pre_op == '-':\n",
    "                        stack.append(-num)\n",
    "                    elif pre_op == '*':\n",
    "                        stack.append(stack.pop() * num)\n",
    "                    pre_op = s[index]\n",
    "                    num = 0\n",
    "                if index == n - 1:\n",
    "#                     print(sum(stack))\n",
    "                    return sum(stack), index\n",
    "                if s[index] == ')':\n",
    "                    return sum(stack), index + 1\n",
    "                index = index + 1\n",
    "            \n",
    "        res, _ = calculate(0)\n",
    "        return res"
   ]
  },
  {
   "cell_type": "code",
   "execution_count": 27,
   "metadata": {},
   "outputs": [
    {
     "name": "stdout",
     "output_type": "stream",
     "text": [
      "11\n",
      "--- 2 0\n",
      "--- 3 0\n",
      "--- 4 0\n",
      "--- 5 0\n"
     ]
    },
    {
     "data": {
      "text/plain": [
       "-10"
      ]
     },
     "execution_count": 27,
     "metadata": {},
     "output_type": "execute_result"
    }
   ],
   "source": [
    "Solution().solve(s)"
   ]
  },
  {
   "cell_type": "code",
   "execution_count": null,
   "metadata": {},
   "outputs": [],
   "source": [
    "class Solution:\n",
    "    def solve(self , s ):\n",
    "        # write code here\n",
    "        s = s.strip()\n",
    "        stack = []\n",
    "        res = 0\n",
    "        number = 0\n",
    "        sign = '+'\n",
    "          \n",
    "        index = 0\n",
    "        while index < len(s):\n",
    "            if s[index] == ' ':\n",
    "                index += 1\n",
    "                continue\n",
    "            if s[index] == '(':\n",
    "                end = index + 1\n",
    "                lens = 1\n",
    "                while lens > 0:\n",
    "                    if s[end] == '(':\n",
    "                        lens += 1\n",
    "                    if s[end] == ')':\n",
    "                        lens -= 1\n",
    "                    end += 1\n",
    "                number = self.solve(s[index + 1: end - 1])\n",
    "                index = end - 1\n",
    "                continue\n",
    "            if '0' <= s[index] <= '9':\n",
    "                number = number * 10 + int(s[index])\n",
    "            if not '0' <= s[index] <= '9' or index == len(s) - 1:\n",
    "                if sign == '+':\n",
    "                    stack.append(number)\n",
    "                elif sign == '-':\n",
    "                    stack.append(-1 * number)\n",
    "                elif sign == '*':\n",
    "                    stack.append(stack.pop() * number)\n",
    "                elif sign == '/':\n",
    "                    stack.append(stack.pop() / number)\n",
    "                number = 0\n",
    "                sign = s[index]\n",
    "            index += 1\n",
    "          \n",
    "        while stack:\n",
    "            res += stack.pop()\n",
    "        return res"
   ]
  }
 ],
 "metadata": {
  "kernelspec": {
   "display_name": "Python 3",
   "language": "python",
   "name": "python3"
  },
  "language_info": {
   "codemirror_mode": {
    "name": "ipython",
    "version": 3
   },
   "file_extension": ".py",
   "mimetype": "text/x-python",
   "name": "python",
   "nbconvert_exporter": "python",
   "pygments_lexer": "ipython3",
   "version": "3.6.9"
  }
 },
 "nbformat": 4,
 "nbformat_minor": 2
}
