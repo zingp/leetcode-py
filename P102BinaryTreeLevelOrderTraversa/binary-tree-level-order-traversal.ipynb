{
 "cells": [
  {
   "cell_type": "markdown",
   "metadata": {},
   "source": [
    "## 102 二叉树的层序遍历"
   ]
  },
  {
   "cell_type": "code",
   "execution_count": 1,
   "metadata": {},
   "outputs": [],
   "source": [
    "import collections"
   ]
  },
  {
   "cell_type": "code",
   "execution_count": 2,
   "metadata": {},
   "outputs": [],
   "source": [
    "class TreeNode(object):\n",
    "    def __init__(self, x):\n",
    "        self.val = x\n",
    "        self.left = None\n",
    "        self.right = None\n",
    "\n",
    "\n",
    "def create_tree(li):\n",
    "    \"\"\"二叉树层序构建\"\"\"\n",
    "    if not li:\n",
    "        return None\n",
    "    if li[0] == None:\n",
    "        return None\n",
    "    head = TreeNode(li[0])\n",
    "    stack = [head]\n",
    "    i = 1\n",
    "    for node in stack:\n",
    "        if node != None:\n",
    "            node.left = (TreeNode(li[i]) if li[i] != None else None)\n",
    "            stack.append(node.left)\n",
    "            i += 1\n",
    "            if i == len(li):\n",
    "                return head\n",
    "            node.right = (TreeNode(li[i])if li[i] != None else None)\n",
    "            i += 1\n",
    "            stack.append(node.right)\n",
    "            if i == len(li):\n",
    "                return head"
   ]
  },
  {
   "cell_type": "markdown",
   "metadata": {},
   "source": [
    "## BFS"
   ]
  },
  {
   "cell_type": "code",
   "execution_count": 3,
   "metadata": {},
   "outputs": [],
   "source": [
    "class Solution:\n",
    "    def levelOrder(self, root):\n",
    "        \"\"\"广度优先\"\"\"\n",
    "        if not root:\n",
    "            return []\n",
    "        queue = collections.deque()\n",
    "        queue.append(root)\n",
    "        ret = []\n",
    "        while queue:\n",
    "            size = len(queue)\n",
    "            level = []\n",
    "            for _ in range(size):\n",
    "                node = queue.popleft()\n",
    "                if node:\n",
    "                    level.append(node.val)\n",
    "                if node.left:\n",
    "                    queue.append(node.left)\n",
    "                if node.right:\n",
    "                    queue.append(node.right)\n",
    "            if level:\n",
    "                ret.append(level)\n",
    "        return ret"
   ]
  },
  {
   "cell_type": "code",
   "execution_count": 4,
   "metadata": {},
   "outputs": [],
   "source": [
    "root = create_tree(list(range(15)))"
   ]
  },
  {
   "cell_type": "code",
   "execution_count": 5,
   "metadata": {},
   "outputs": [
    {
     "data": {
      "text/plain": [
       "[[0], [1, 2], [3, 4, 5, 6], [7, 8, 9, 10, 11, 12, 13, 14]]"
      ]
     },
     "execution_count": 5,
     "metadata": {},
     "output_type": "execute_result"
    }
   ],
   "source": [
    "Solution().levelOrder(root)"
   ]
  },
  {
   "cell_type": "code",
   "execution_count": 6,
   "metadata": {},
   "outputs": [],
   "source": [
    "root = create_tree([])"
   ]
  },
  {
   "cell_type": "code",
   "execution_count": 7,
   "metadata": {},
   "outputs": [
    {
     "data": {
      "text/plain": [
       "[]"
      ]
     },
     "execution_count": 7,
     "metadata": {},
     "output_type": "execute_result"
    }
   ],
   "source": [
    "Solution().levelOrder(root)"
   ]
  },
  {
   "cell_type": "markdown",
   "metadata": {},
   "source": [
    "## DFS"
   ]
  },
  {
   "cell_type": "code",
   "execution_count": 8,
   "metadata": {},
   "outputs": [],
   "source": [
    "class Solution:\n",
    "    def levelOrder(self, root):\n",
    "        \"\"\"递归\"\"\"\n",
    "        def dfs(root, level, ret):\n",
    "            if not root:\n",
    "                return \n",
    "            if len(ret) == level:\n",
    "                ret.append([])\n",
    "            ret[level].append(root.val)\n",
    "            if root.left:\n",
    "                dfs(root.left, level+1, ret)\n",
    "            if root.right:\n",
    "                dfs(root.right, level+1, ret)\n",
    "        ret = []\n",
    "        dfs(root, 0, ret)\n",
    "        return ret\n",
    "    \n",
    "    def levelOrder2(self, root):\n",
    "        \"\"\"非递归\"\"\"\n",
    "        if not root:\n",
    "            return []\n",
    "        ret = []\n",
    "        stack = [(root, 0)]\n",
    "        while stack:\n",
    "            node, level = stack.pop()\n",
    "            if len(ret) < level+1:\n",
    "                ret.append([])\n",
    "            ret[level].append(node.val)\n",
    "            print(ret)\n",
    "            if node.right:\n",
    "                stack.append((node.right, level+1))\n",
    "            if node.left:\n",
    "                stack.append((node.left, level+1))\n",
    "        return ret\n",
    "            "
   ]
  },
  {
   "cell_type": "code",
   "execution_count": 9,
   "metadata": {},
   "outputs": [
    {
     "data": {
      "text/plain": [
       "[]"
      ]
     },
     "execution_count": 9,
     "metadata": {},
     "output_type": "execute_result"
    }
   ],
   "source": [
    "Solution().levelOrder(root)"
   ]
  },
  {
   "cell_type": "code",
   "execution_count": 10,
   "metadata": {},
   "outputs": [],
   "source": [
    "root = create_tree(list(range(15)))"
   ]
  },
  {
   "cell_type": "code",
   "execution_count": 11,
   "metadata": {},
   "outputs": [
    {
     "data": {
      "text/plain": [
       "[[0], [1, 2], [3, 4, 5, 6], [7, 8, 9, 10, 11, 12, 13, 14]]"
      ]
     },
     "execution_count": 11,
     "metadata": {},
     "output_type": "execute_result"
    }
   ],
   "source": [
    "Solution().levelOrder(root)"
   ]
  },
  {
   "cell_type": "code",
   "execution_count": 12,
   "metadata": {},
   "outputs": [
    {
     "name": "stdout",
     "output_type": "stream",
     "text": [
      "[[0]]\n",
      "[[0], [1]]\n",
      "[[0], [1], [3]]\n",
      "[[0], [1], [3], [7]]\n",
      "[[0], [1], [3], [7, 8]]\n",
      "[[0], [1], [3, 4], [7, 8]]\n",
      "[[0], [1], [3, 4], [7, 8, 9]]\n",
      "[[0], [1], [3, 4], [7, 8, 9, 10]]\n",
      "[[0], [1, 2], [3, 4], [7, 8, 9, 10]]\n",
      "[[0], [1, 2], [3, 4, 5], [7, 8, 9, 10]]\n",
      "[[0], [1, 2], [3, 4, 5], [7, 8, 9, 10, 11]]\n",
      "[[0], [1, 2], [3, 4, 5], [7, 8, 9, 10, 11, 12]]\n",
      "[[0], [1, 2], [3, 4, 5, 6], [7, 8, 9, 10, 11, 12]]\n",
      "[[0], [1, 2], [3, 4, 5, 6], [7, 8, 9, 10, 11, 12, 13]]\n",
      "[[0], [1, 2], [3, 4, 5, 6], [7, 8, 9, 10, 11, 12, 13, 14]]\n"
     ]
    },
    {
     "data": {
      "text/plain": [
       "[[0], [1, 2], [3, 4, 5, 6], [7, 8, 9, 10, 11, 12, 13, 14]]"
      ]
     },
     "execution_count": 12,
     "metadata": {},
     "output_type": "execute_result"
    }
   ],
   "source": [
    "Solution().levelOrder2(root)"
   ]
  },
  {
   "cell_type": "code",
   "execution_count": null,
   "metadata": {},
   "outputs": [],
   "source": []
  }
 ],
 "metadata": {
  "kernelspec": {
   "display_name": "Python 3",
   "language": "python",
   "name": "python3"
  },
  "language_info": {
   "codemirror_mode": {
    "name": "ipython",
    "version": 3
   },
   "file_extension": ".py",
   "mimetype": "text/x-python",
   "name": "python",
   "nbconvert_exporter": "python",
   "pygments_lexer": "ipython3",
   "version": "3.6.9"
  }
 },
 "nbformat": 4,
 "nbformat_minor": 2
}
