{
 "cells": [
  {
   "cell_type": "markdown",
   "metadata": {},
   "source": [
    "## 152. 乘积最大子数组\n",
    "- 给你一个整数数组 nums ，请你找出数组中乘积最大的连续子数组（该子数组中至少包含一个数字），并返回该子数组所对应的乘积。\n",
    "- 示例 1:\n",
    "- 输入: [2,3,-2,4]\n",
    "- 输出: 6\n",
    "- 解释: 子数组 [2,3] 有最大乘积 6。\n",
    "    \n",
    "- 示例 2:\n",
    "- 输入: [-2,0,-1]\n",
    "- 输出: 0\n",
    "- 解释: 结果不能为 2, 因为 [-2,-1] 不是子数组。"
   ]
  },
  {
   "cell_type": "code",
   "execution_count": 1,
   "metadata": {},
   "outputs": [],
   "source": [
    "from typing import List"
   ]
  },
  {
   "cell_type": "code",
   "execution_count": 2,
   "metadata": {},
   "outputs": [],
   "source": [
    "class Solution:\n",
    "    def maxProduct(self, nums: List[int]) -> int:\n",
    "        if not nums:\n",
    "            return 0\n",
    "        n = len(nums)\n",
    "        dp_min = [0] * n\n",
    "        dp_max = [0] * n\n",
    "        dp_min[0] = nums[0]\n",
    "        dp_max[0] = nums[0]\n",
    "        for i in range(1, n):\n",
    "            dp_max[i] = max([dp_max[i-1] * nums[i], nums[i], dp_min[i-1] * nums[i]])\n",
    "            dp_min[i] = min([dp_min[i-1] * nums[i], nums[i], dp_max[i-1] * nums[i]])\n",
    "        return max(dp_max)"
   ]
  },
  {
   "cell_type": "code",
   "execution_count": 3,
   "metadata": {},
   "outputs": [],
   "source": [
    "nums = [-2,0,-1]"
   ]
  },
  {
   "cell_type": "code",
   "execution_count": 4,
   "metadata": {},
   "outputs": [
    {
     "data": {
      "text/plain": [
       "0"
      ]
     },
     "execution_count": 4,
     "metadata": {},
     "output_type": "execute_result"
    }
   ],
   "source": [
    "Solution().maxProduct(nums)"
   ]
  },
  {
   "cell_type": "code",
   "execution_count": 5,
   "metadata": {},
   "outputs": [],
   "source": [
    "nums = [2,3,-2,4]"
   ]
  },
  {
   "cell_type": "code",
   "execution_count": 6,
   "metadata": {},
   "outputs": [
    {
     "data": {
      "text/plain": [
       "6"
      ]
     },
     "execution_count": 6,
     "metadata": {},
     "output_type": "execute_result"
    }
   ],
   "source": [
    "Solution().maxProduct(nums)"
   ]
  },
  {
   "cell_type": "markdown",
   "metadata": {},
   "source": [
    "## 优化空间复杂度"
   ]
  },
  {
   "cell_type": "code",
   "execution_count": 7,
   "metadata": {},
   "outputs": [],
   "source": [
    "class Solution:\n",
    "    def maxProduct(self, nums: List[int]) -> int:\n",
    "        if not nums:\n",
    "            return 0\n",
    "        n = len(nums)\n",
    "        ans = nums[0]\n",
    "        dp_min = nums[0]\n",
    "        dp_max = nums[0]\n",
    "        for i in range(1, n):\n",
    "            cur_max = max(dp_max * nums[i], nums[i], dp_min * nums[i])\n",
    "            cur_min = min(dp_min * nums[i], nums[i], dp_max * nums[i])\n",
    "            if cur_max > ans:\n",
    "                ans = cur_max \n",
    "            dp_max = cur_max\n",
    "            dp_min = cur_min\n",
    "        return ans"
   ]
  },
  {
   "cell_type": "code",
   "execution_count": 8,
   "metadata": {},
   "outputs": [
    {
     "data": {
      "text/plain": [
       "6"
      ]
     },
     "execution_count": 8,
     "metadata": {},
     "output_type": "execute_result"
    }
   ],
   "source": [
    "nums = [2,3,-2,4]\n",
    "Solution().maxProduct(nums)"
   ]
  },
  {
   "cell_type": "code",
   "execution_count": 9,
   "metadata": {},
   "outputs": [
    {
     "data": {
      "text/plain": [
       "0"
      ]
     },
     "execution_count": 9,
     "metadata": {},
     "output_type": "execute_result"
    }
   ],
   "source": [
    "nums = [-2,0,-1]\n",
    "Solution().maxProduct(nums)"
   ]
  },
  {
   "cell_type": "code",
   "execution_count": 10,
   "metadata": {},
   "outputs": [],
   "source": [
    "nums = [-2]"
   ]
  },
  {
   "cell_type": "code",
   "execution_count": 11,
   "metadata": {},
   "outputs": [
    {
     "data": {
      "text/plain": [
       "-2"
      ]
     },
     "execution_count": 11,
     "metadata": {},
     "output_type": "execute_result"
    }
   ],
   "source": [
    "Solution().maxProduct(nums)"
   ]
  },
  {
   "cell_type": "code",
   "execution_count": 12,
   "metadata": {},
   "outputs": [],
   "source": [
    "nums = [-4,-3,-2]"
   ]
  },
  {
   "cell_type": "code",
   "execution_count": 13,
   "metadata": {},
   "outputs": [
    {
     "data": {
      "text/plain": [
       "12"
      ]
     },
     "execution_count": 13,
     "metadata": {},
     "output_type": "execute_result"
    }
   ],
   "source": [
    "Solution().maxProduct(nums)"
   ]
  },
  {
   "cell_type": "markdown",
   "metadata": {},
   "source": [
    "## 思路三：根据符号的个数 [^2]\n",
    "- 当负数个数为偶数时候，全部相乘一定最大\n",
    "- 当负数个数为奇数时候，它的左右两边的负数个数一定为偶数，只需求两边最大值\n",
    "- 当有 0 情况，重置就可以了"
   ]
  },
  {
   "cell_type": "code",
   "execution_count": 14,
   "metadata": {},
   "outputs": [],
   "source": [
    "class Solution:\n",
    "    def maxProduct(self, nums: List[int]) -> int:\n",
    "        reverse_nums = nums[::-1]\n",
    "        for i in range(1, len(nums)):\n",
    "            nums[i] *= nums[i - 1] or 1\n",
    "            reverse_nums[i] *= reverse_nums[i - 1] or 1\n",
    "        return max(nums + reverse_nums)"
   ]
  },
  {
   "cell_type": "code",
   "execution_count": 15,
   "metadata": {},
   "outputs": [
    {
     "data": {
      "text/plain": [
       "12"
      ]
     },
     "execution_count": 15,
     "metadata": {},
     "output_type": "execute_result"
    }
   ],
   "source": [
    "nums = [-4,-3]\n",
    "Solution().maxProduct(nums)"
   ]
  },
  {
   "cell_type": "code",
   "execution_count": 16,
   "metadata": {},
   "outputs": [],
   "source": [
    "class Solution:\n",
    "    def maxProduct(self, nums: List[int]) -> int:\n",
    "        n = len(nums)\n",
    "        imax, imin = 1, 1\n",
    "        maxval  = float(\"-inf\")\n",
    "\n",
    "        for i in range(n):\n",
    "            if nums[i] < 0:\n",
    "                imax, imin = imin, imax\n",
    "            imax = max(imax * nums[i], nums[i])\n",
    "            imin = min(imin * nums[i], nums[i])\n",
    "            maxval = max(maxval, imax)\n",
    "\n",
    "        return maxval"
   ]
  },
  {
   "cell_type": "code",
   "execution_count": 17,
   "metadata": {},
   "outputs": [
    {
     "data": {
      "text/plain": [
       "12"
      ]
     },
     "execution_count": 17,
     "metadata": {},
     "output_type": "execute_result"
    }
   ],
   "source": [
    "nums = [-4,-3]\n",
    "Solution().maxProduct(nums)"
   ]
  },
  {
   "cell_type": "code",
   "execution_count": null,
   "metadata": {},
   "outputs": [],
   "source": []
  }
 ],
 "metadata": {
  "kernelspec": {
   "display_name": "Python 3",
   "language": "python",
   "name": "python3"
  },
  "language_info": {
   "codemirror_mode": {
    "name": "ipython",
    "version": 3
   },
   "file_extension": ".py",
   "mimetype": "text/x-python",
   "name": "python",
   "nbconvert_exporter": "python",
   "pygments_lexer": "ipython3",
   "version": "3.6.9"
  }
 },
 "nbformat": 4,
 "nbformat_minor": 4
}
